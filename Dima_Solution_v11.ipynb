{
 "cells": [
  {
   "cell_type": "markdown",
   "metadata": {},
   "source": [
    "## 0. Предварительные действия"
   ]
  },
  {
   "cell_type": "code",
   "execution_count": 37,
   "metadata": {
    "_cell_guid": "b1076dfc-b9ad-4769-8c92-a6c4dae69d19",
    "_uuid": "8f2839f25d086af736a60e9eeb907d3b93b6e0e5",
    "execution": {
     "iopub.execute_input": "2022-02-08T18:44:26.624192Z",
     "iopub.status.busy": "2022-02-08T18:44:26.623896Z",
     "iopub.status.idle": "2022-02-08T18:44:26.639365Z",
     "shell.execute_reply": "2022-02-08T18:44:26.638515Z",
     "shell.execute_reply.started": "2022-02-08T18:44:26.624161Z"
    },
    "trusted": true
   },
   "outputs": [],
   "source": [
    "# This Python 3 environment comes with many helpful analytics libraries installed\n",
    "# It is defined by the kaggle/python Docker image: https://github.com/kaggle/docker-python\n",
    "# For example, here's several helpful packages to load\n",
    "\n",
    "import numpy as np # linear algebra\n",
    "import pandas as pd # data processing, CSV file I/O (e.g. pd.read_csv)\n",
    "\n",
    "# импортируем библиотеки для визуализации\n",
    "import matplotlib.pyplot as plt\n",
    "import seaborn as sns \n",
    "%matplotlib inline\n",
    "\n",
    "# Загружаем специальный удобный инструмент для разделения датасета:\n",
    "from sklearn.model_selection import train_test_split\n",
    "\n",
    "# Input data files are available in the read-only \"../input/\" directory\n",
    "# For example, running this (by clicking run or pressing Shift+Enter) will list all files under the input directory\n",
    "\n",
    "#import os\n",
    "#for dirname, _, filenames in os.walk('/kaggle/input'):\n",
    "    #for filename in filenames:\n",
    "        #print(os.path.join(dirname, filename))\n",
    "\n",
    "# You can write up to 20GB to the current directory (/kaggle/working/) that gets preserved as output when you create a version using \"Save & Run All\" \n",
    "# You can also write temporary files to /kaggle/temp/, but they won't be saved outside of the current session"
   ]
  },
  {
   "cell_type": "code",
   "execution_count": 38,
   "metadata": {},
   "outputs": [
    {
     "name": "stdout",
     "output_type": "stream",
     "text": [
      "Requirement already satisfied: pycountry in c:\\users\\dmytr\\appdata\\local\\programs\\python\\python312\\lib\\site-packages (24.6.1)\n"
     ]
    }
   ],
   "source": [
    "!pip install pycountry"
   ]
  },
  {
   "cell_type": "code",
   "execution_count": 39,
   "metadata": {
    "execution": {
     "iopub.execute_input": "2022-02-08T18:44:26.641479Z",
     "iopub.status.busy": "2022-02-08T18:44:26.640957Z",
     "iopub.status.idle": "2022-02-08T18:44:26.647428Z",
     "shell.execute_reply": "2022-02-08T18:44:26.646685Z",
     "shell.execute_reply.started": "2022-02-08T18:44:26.641433Z"
    },
    "trusted": true
   },
   "outputs": [],
   "source": [
    "# всегда фиксируйте RANDOM_SEED, чтобы ваши эксперименты были воспроизводимы!\n",
    "RANDOM_SEED = 42"
   ]
  },
  {
   "cell_type": "code",
   "execution_count": 40,
   "metadata": {
    "execution": {
     "iopub.execute_input": "2022-02-08T18:44:26.648893Z",
     "iopub.status.busy": "2022-02-08T18:44:26.648317Z",
     "iopub.status.idle": "2022-02-08T18:44:29.65578Z",
     "shell.execute_reply": "2022-02-08T18:44:29.654612Z",
     "shell.execute_reply.started": "2022-02-08T18:44:26.648843Z"
    },
    "trusted": true
   },
   "outputs": [],
   "source": [
    "# зафиксируем версию пакетов, чтобы эксперименты были воспроизводимы:\n",
    "!pip freeze > requirements.txt"
   ]
  },
  {
   "cell_type": "code",
   "execution_count": 41,
   "metadata": {},
   "outputs": [],
   "source": [
    "DATA_DIR = 'D:/Python/IDE/project_3/data'\n",
    "df_train = pd.read_csv(DATA_DIR+'/hotels_train.csv') # датасет для обучения\n",
    "df_test = pd.read_csv(DATA_DIR+'/hotels_test.csv') # датасет для предсказания\n",
    "sample_submission = pd.read_csv(DATA_DIR+'/submission.csv') # самбмишн"
   ]
  },
  {
   "cell_type": "code",
   "execution_count": 42,
   "metadata": {
    "execution": {
     "iopub.execute_input": "2022-02-08T18:44:29.657675Z",
     "iopub.status.busy": "2022-02-08T18:44:29.657411Z",
     "iopub.status.idle": "2022-02-08T18:44:32.947103Z",
     "shell.execute_reply": "2022-02-08T18:44:32.946305Z",
     "shell.execute_reply.started": "2022-02-08T18:44:29.657645Z"
    },
    "trusted": true
   },
   "outputs": [],
   "source": [
    "# Подгрузим наши данные из соревнования\n",
    "\n",
    "#DATA_DIR = '/kaggle/input/sf-booking/'\n",
    "#df_train = pd.read_csv(DATA_DIR+'/hotels_train.csv') # датасет для обучения\n",
    "#df_test = pd.read_csv(DATA_DIR+'hotels_test.csv') # датасет для предсказания\n",
    "#sample_submission = pd.read_csv(DATA_DIR+'/submission.csv') # самбмишн"
   ]
  },
  {
   "cell_type": "code",
   "execution_count": 43,
   "metadata": {
    "execution": {
     "iopub.execute_input": "2022-02-08T18:44:32.949468Z",
     "iopub.status.busy": "2022-02-08T18:44:32.949243Z",
     "iopub.status.idle": "2022-02-08T18:44:33.2946Z",
     "shell.execute_reply": "2022-02-08T18:44:33.293891Z",
     "shell.execute_reply.started": "2022-02-08T18:44:32.949435Z"
    },
    "trusted": true
   },
   "outputs": [
    {
     "name": "stdout",
     "output_type": "stream",
     "text": [
      "<class 'pandas.core.frame.DataFrame'>\n",
      "RangeIndex: 386803 entries, 0 to 386802\n",
      "Data columns (total 17 columns):\n",
      " #   Column                                      Non-Null Count   Dtype  \n",
      "---  ------                                      --------------   -----  \n",
      " 0   hotel_address                               386803 non-null  object \n",
      " 1   additional_number_of_scoring                386803 non-null  int64  \n",
      " 2   review_date                                 386803 non-null  object \n",
      " 3   average_score                               386803 non-null  float64\n",
      " 4   hotel_name                                  386803 non-null  object \n",
      " 5   reviewer_nationality                        386803 non-null  object \n",
      " 6   negative_review                             386803 non-null  object \n",
      " 7   review_total_negative_word_counts           386803 non-null  int64  \n",
      " 8   total_number_of_reviews                     386803 non-null  int64  \n",
      " 9   positive_review                             386803 non-null  object \n",
      " 10  review_total_positive_word_counts           386803 non-null  int64  \n",
      " 11  total_number_of_reviews_reviewer_has_given  386803 non-null  int64  \n",
      " 12  reviewer_score                              386803 non-null  float64\n",
      " 13  tags                                        386803 non-null  object \n",
      " 14  days_since_review                           386803 non-null  object \n",
      " 15  lat                                         384355 non-null  float64\n",
      " 16  lng                                         384355 non-null  float64\n",
      "dtypes: float64(4), int64(5), object(8)\n",
      "memory usage: 50.2+ MB\n"
     ]
    }
   ],
   "source": [
    "df_train.info()"
   ]
  },
  {
   "cell_type": "code",
   "execution_count": 44,
   "metadata": {
    "execution": {
     "iopub.execute_input": "2022-02-08T18:44:33.295877Z",
     "iopub.status.busy": "2022-02-08T18:44:33.295635Z",
     "iopub.status.idle": "2022-02-08T18:44:33.314168Z",
     "shell.execute_reply": "2022-02-08T18:44:33.31346Z",
     "shell.execute_reply.started": "2022-02-08T18:44:33.295852Z"
    },
    "trusted": true
   },
   "outputs": [
    {
     "data": {
      "text/html": [
       "<div>\n",
       "<style scoped>\n",
       "    .dataframe tbody tr th:only-of-type {\n",
       "        vertical-align: middle;\n",
       "    }\n",
       "\n",
       "    .dataframe tbody tr th {\n",
       "        vertical-align: top;\n",
       "    }\n",
       "\n",
       "    .dataframe thead th {\n",
       "        text-align: right;\n",
       "    }\n",
       "</style>\n",
       "<table border=\"1\" class=\"dataframe\">\n",
       "  <thead>\n",
       "    <tr style=\"text-align: right;\">\n",
       "      <th></th>\n",
       "      <th>hotel_address</th>\n",
       "      <th>additional_number_of_scoring</th>\n",
       "      <th>review_date</th>\n",
       "      <th>average_score</th>\n",
       "      <th>hotel_name</th>\n",
       "      <th>reviewer_nationality</th>\n",
       "      <th>negative_review</th>\n",
       "      <th>review_total_negative_word_counts</th>\n",
       "      <th>total_number_of_reviews</th>\n",
       "      <th>positive_review</th>\n",
       "      <th>review_total_positive_word_counts</th>\n",
       "      <th>total_number_of_reviews_reviewer_has_given</th>\n",
       "      <th>reviewer_score</th>\n",
       "      <th>tags</th>\n",
       "      <th>days_since_review</th>\n",
       "      <th>lat</th>\n",
       "      <th>lng</th>\n",
       "    </tr>\n",
       "  </thead>\n",
       "  <tbody>\n",
       "    <tr>\n",
       "      <th>0</th>\n",
       "      <td>Stratton Street Mayfair Westminster Borough Lo...</td>\n",
       "      <td>581</td>\n",
       "      <td>2/19/2016</td>\n",
       "      <td>8.4</td>\n",
       "      <td>The May Fair Hotel</td>\n",
       "      <td>United Kingdom</td>\n",
       "      <td>Leaving</td>\n",
       "      <td>3</td>\n",
       "      <td>1994</td>\n",
       "      <td>Staff were amazing</td>\n",
       "      <td>4</td>\n",
       "      <td>7</td>\n",
       "      <td>10.0</td>\n",
       "      <td>[' Leisure trip ', ' Couple ', ' Studio Suite ...</td>\n",
       "      <td>531 day</td>\n",
       "      <td>51.507894</td>\n",
       "      <td>-0.143671</td>\n",
       "    </tr>\n",
       "    <tr>\n",
       "      <th>1</th>\n",
       "      <td>130 134 Southampton Row Camden London WC1B 5AF...</td>\n",
       "      <td>299</td>\n",
       "      <td>1/12/2017</td>\n",
       "      <td>8.3</td>\n",
       "      <td>Mercure London Bloomsbury Hotel</td>\n",
       "      <td>United Kingdom</td>\n",
       "      <td>poor breakfast</td>\n",
       "      <td>3</td>\n",
       "      <td>1361</td>\n",
       "      <td>location</td>\n",
       "      <td>2</td>\n",
       "      <td>14</td>\n",
       "      <td>6.3</td>\n",
       "      <td>[' Business trip ', ' Couple ', ' Standard Dou...</td>\n",
       "      <td>203 day</td>\n",
       "      <td>51.521009</td>\n",
       "      <td>-0.123097</td>\n",
       "    </tr>\n",
       "  </tbody>\n",
       "</table>\n",
       "</div>"
      ],
      "text/plain": [
       "                                       hotel_address  \\\n",
       "0  Stratton Street Mayfair Westminster Borough Lo...   \n",
       "1  130 134 Southampton Row Camden London WC1B 5AF...   \n",
       "\n",
       "   additional_number_of_scoring review_date  average_score  \\\n",
       "0                           581   2/19/2016            8.4   \n",
       "1                           299   1/12/2017            8.3   \n",
       "\n",
       "                        hotel_name reviewer_nationality  negative_review  \\\n",
       "0               The May Fair Hotel      United Kingdom          Leaving    \n",
       "1  Mercure London Bloomsbury Hotel      United Kingdom    poor breakfast   \n",
       "\n",
       "   review_total_negative_word_counts  total_number_of_reviews  \\\n",
       "0                                  3                     1994   \n",
       "1                                  3                     1361   \n",
       "\n",
       "       positive_review  review_total_positive_word_counts  \\\n",
       "0   Staff were amazing                                  4   \n",
       "1             location                                  2   \n",
       "\n",
       "   total_number_of_reviews_reviewer_has_given  reviewer_score  \\\n",
       "0                                           7            10.0   \n",
       "1                                          14             6.3   \n",
       "\n",
       "                                                tags days_since_review  \\\n",
       "0  [' Leisure trip ', ' Couple ', ' Studio Suite ...           531 day   \n",
       "1  [' Business trip ', ' Couple ', ' Standard Dou...           203 day   \n",
       "\n",
       "         lat       lng  \n",
       "0  51.507894 -0.143671  \n",
       "1  51.521009 -0.123097  "
      ]
     },
     "execution_count": 44,
     "metadata": {},
     "output_type": "execute_result"
    }
   ],
   "source": [
    "df_train.head(2)"
   ]
  },
  {
   "cell_type": "code",
   "execution_count": 45,
   "metadata": {
    "execution": {
     "iopub.execute_input": "2022-02-08T18:44:33.315353Z",
     "iopub.status.busy": "2022-02-08T18:44:33.315169Z",
     "iopub.status.idle": "2022-02-08T18:44:33.437812Z",
     "shell.execute_reply": "2022-02-08T18:44:33.437031Z",
     "shell.execute_reply.started": "2022-02-08T18:44:33.315329Z"
    },
    "trusted": true
   },
   "outputs": [
    {
     "name": "stdout",
     "output_type": "stream",
     "text": [
      "<class 'pandas.core.frame.DataFrame'>\n",
      "RangeIndex: 128935 entries, 0 to 128934\n",
      "Data columns (total 16 columns):\n",
      " #   Column                                      Non-Null Count   Dtype  \n",
      "---  ------                                      --------------   -----  \n",
      " 0   hotel_address                               128935 non-null  object \n",
      " 1   additional_number_of_scoring                128935 non-null  int64  \n",
      " 2   review_date                                 128935 non-null  object \n",
      " 3   average_score                               128935 non-null  float64\n",
      " 4   hotel_name                                  128935 non-null  object \n",
      " 5   reviewer_nationality                        128935 non-null  object \n",
      " 6   negative_review                             128935 non-null  object \n",
      " 7   review_total_negative_word_counts           128935 non-null  int64  \n",
      " 8   total_number_of_reviews                     128935 non-null  int64  \n",
      " 9   positive_review                             128935 non-null  object \n",
      " 10  review_total_positive_word_counts           128935 non-null  int64  \n",
      " 11  total_number_of_reviews_reviewer_has_given  128935 non-null  int64  \n",
      " 12  tags                                        128935 non-null  object \n",
      " 13  days_since_review                           128935 non-null  object \n",
      " 14  lat                                         128115 non-null  float64\n",
      " 15  lng                                         128115 non-null  float64\n",
      "dtypes: float64(3), int64(5), object(8)\n",
      "memory usage: 15.7+ MB\n"
     ]
    }
   ],
   "source": [
    "df_test.info()"
   ]
  },
  {
   "cell_type": "code",
   "execution_count": 46,
   "metadata": {
    "execution": {
     "iopub.execute_input": "2022-02-08T18:44:33.439079Z",
     "iopub.status.busy": "2022-02-08T18:44:33.438878Z",
     "iopub.status.idle": "2022-02-08T18:44:33.455288Z",
     "shell.execute_reply": "2022-02-08T18:44:33.454782Z",
     "shell.execute_reply.started": "2022-02-08T18:44:33.439055Z"
    },
    "trusted": true
   },
   "outputs": [
    {
     "data": {
      "text/html": [
       "<div>\n",
       "<style scoped>\n",
       "    .dataframe tbody tr th:only-of-type {\n",
       "        vertical-align: middle;\n",
       "    }\n",
       "\n",
       "    .dataframe tbody tr th {\n",
       "        vertical-align: top;\n",
       "    }\n",
       "\n",
       "    .dataframe thead th {\n",
       "        text-align: right;\n",
       "    }\n",
       "</style>\n",
       "<table border=\"1\" class=\"dataframe\">\n",
       "  <thead>\n",
       "    <tr style=\"text-align: right;\">\n",
       "      <th></th>\n",
       "      <th>hotel_address</th>\n",
       "      <th>additional_number_of_scoring</th>\n",
       "      <th>review_date</th>\n",
       "      <th>average_score</th>\n",
       "      <th>hotel_name</th>\n",
       "      <th>reviewer_nationality</th>\n",
       "      <th>negative_review</th>\n",
       "      <th>review_total_negative_word_counts</th>\n",
       "      <th>total_number_of_reviews</th>\n",
       "      <th>positive_review</th>\n",
       "      <th>review_total_positive_word_counts</th>\n",
       "      <th>total_number_of_reviews_reviewer_has_given</th>\n",
       "      <th>tags</th>\n",
       "      <th>days_since_review</th>\n",
       "      <th>lat</th>\n",
       "      <th>lng</th>\n",
       "    </tr>\n",
       "  </thead>\n",
       "  <tbody>\n",
       "    <tr>\n",
       "      <th>0</th>\n",
       "      <td>Via Senigallia 6 20161 Milan Italy</td>\n",
       "      <td>904</td>\n",
       "      <td>7/21/2017</td>\n",
       "      <td>8.1</td>\n",
       "      <td>Hotel Da Vinci</td>\n",
       "      <td>United Kingdom</td>\n",
       "      <td>Would have appreciated a shop in the hotel th...</td>\n",
       "      <td>52</td>\n",
       "      <td>16670</td>\n",
       "      <td>Hotel was great clean friendly staff free bre...</td>\n",
       "      <td>62</td>\n",
       "      <td>1</td>\n",
       "      <td>[' Leisure trip ', ' Couple ', ' Double Room '...</td>\n",
       "      <td>13 days</td>\n",
       "      <td>45.533137</td>\n",
       "      <td>9.171102</td>\n",
       "    </tr>\n",
       "    <tr>\n",
       "      <th>1</th>\n",
       "      <td>Arlandaweg 10 Westpoort 1043 EW Amsterdam Neth...</td>\n",
       "      <td>612</td>\n",
       "      <td>12/12/2016</td>\n",
       "      <td>8.6</td>\n",
       "      <td>Urban Lodge Hotel</td>\n",
       "      <td>Belgium</td>\n",
       "      <td>No tissue paper box was present at the room</td>\n",
       "      <td>10</td>\n",
       "      <td>5018</td>\n",
       "      <td>No Positive</td>\n",
       "      <td>0</td>\n",
       "      <td>7</td>\n",
       "      <td>[' Leisure trip ', ' Group ', ' Triple Room ',...</td>\n",
       "      <td>234 day</td>\n",
       "      <td>52.385649</td>\n",
       "      <td>4.834443</td>\n",
       "    </tr>\n",
       "  </tbody>\n",
       "</table>\n",
       "</div>"
      ],
      "text/plain": [
       "                                       hotel_address  \\\n",
       "0                 Via Senigallia 6 20161 Milan Italy   \n",
       "1  Arlandaweg 10 Westpoort 1043 EW Amsterdam Neth...   \n",
       "\n",
       "   additional_number_of_scoring review_date  average_score         hotel_name  \\\n",
       "0                           904   7/21/2017            8.1     Hotel Da Vinci   \n",
       "1                           612  12/12/2016            8.6  Urban Lodge Hotel   \n",
       "\n",
       "  reviewer_nationality                                    negative_review  \\\n",
       "0      United Kingdom    Would have appreciated a shop in the hotel th...   \n",
       "1             Belgium         No tissue paper box was present at the room   \n",
       "\n",
       "   review_total_negative_word_counts  total_number_of_reviews  \\\n",
       "0                                 52                    16670   \n",
       "1                                 10                     5018   \n",
       "\n",
       "                                     positive_review  \\\n",
       "0   Hotel was great clean friendly staff free bre...   \n",
       "1                                        No Positive   \n",
       "\n",
       "   review_total_positive_word_counts  \\\n",
       "0                                 62   \n",
       "1                                  0   \n",
       "\n",
       "   total_number_of_reviews_reviewer_has_given  \\\n",
       "0                                           1   \n",
       "1                                           7   \n",
       "\n",
       "                                                tags days_since_review  \\\n",
       "0  [' Leisure trip ', ' Couple ', ' Double Room '...           13 days   \n",
       "1  [' Leisure trip ', ' Group ', ' Triple Room ',...           234 day   \n",
       "\n",
       "         lat       lng  \n",
       "0  45.533137  9.171102  \n",
       "1  52.385649  4.834443  "
      ]
     },
     "execution_count": 46,
     "metadata": {},
     "output_type": "execute_result"
    }
   ],
   "source": [
    "df_test.head(2)"
   ]
  },
  {
   "cell_type": "code",
   "execution_count": 47,
   "metadata": {
    "execution": {
     "iopub.execute_input": "2022-02-08T18:44:33.456588Z",
     "iopub.status.busy": "2022-02-08T18:44:33.456129Z",
     "iopub.status.idle": "2022-02-08T18:44:33.463126Z",
     "shell.execute_reply": "2022-02-08T18:44:33.462542Z",
     "shell.execute_reply.started": "2022-02-08T18:44:33.456558Z"
    },
    "trusted": true
   },
   "outputs": [
    {
     "data": {
      "text/html": [
       "<div>\n",
       "<style scoped>\n",
       "    .dataframe tbody tr th:only-of-type {\n",
       "        vertical-align: middle;\n",
       "    }\n",
       "\n",
       "    .dataframe tbody tr th {\n",
       "        vertical-align: top;\n",
       "    }\n",
       "\n",
       "    .dataframe thead th {\n",
       "        text-align: right;\n",
       "    }\n",
       "</style>\n",
       "<table border=\"1\" class=\"dataframe\">\n",
       "  <thead>\n",
       "    <tr style=\"text-align: right;\">\n",
       "      <th></th>\n",
       "      <th>reviewer_score</th>\n",
       "      <th>id</th>\n",
       "    </tr>\n",
       "  </thead>\n",
       "  <tbody>\n",
       "    <tr>\n",
       "      <th>0</th>\n",
       "      <td>1</td>\n",
       "      <td>488440</td>\n",
       "    </tr>\n",
       "    <tr>\n",
       "      <th>1</th>\n",
       "      <td>10</td>\n",
       "      <td>274649</td>\n",
       "    </tr>\n",
       "  </tbody>\n",
       "</table>\n",
       "</div>"
      ],
      "text/plain": [
       "   reviewer_score      id\n",
       "0               1  488440\n",
       "1              10  274649"
      ]
     },
     "execution_count": 47,
     "metadata": {},
     "output_type": "execute_result"
    }
   ],
   "source": [
    "sample_submission.head(2)"
   ]
  },
  {
   "cell_type": "code",
   "execution_count": 48,
   "metadata": {
    "execution": {
     "iopub.execute_input": "2022-02-08T18:44:33.464494Z",
     "iopub.status.busy": "2022-02-08T18:44:33.463971Z",
     "iopub.status.idle": "2022-02-08T18:44:33.478817Z",
     "shell.execute_reply": "2022-02-08T18:44:33.478038Z",
     "shell.execute_reply.started": "2022-02-08T18:44:33.464464Z"
    },
    "trusted": true
   },
   "outputs": [
    {
     "name": "stdout",
     "output_type": "stream",
     "text": [
      "<class 'pandas.core.frame.DataFrame'>\n",
      "RangeIndex: 128935 entries, 0 to 128934\n",
      "Data columns (total 2 columns):\n",
      " #   Column          Non-Null Count   Dtype\n",
      "---  ------          --------------   -----\n",
      " 0   reviewer_score  128935 non-null  int64\n",
      " 1   id              128935 non-null  int64\n",
      "dtypes: int64(2)\n",
      "memory usage: 2.0 MB\n"
     ]
    }
   ],
   "source": [
    "sample_submission.info()"
   ]
  },
  {
   "cell_type": "code",
   "execution_count": 49,
   "metadata": {
    "execution": {
     "iopub.execute_input": "2022-02-08T18:44:33.480175Z",
     "iopub.status.busy": "2022-02-08T18:44:33.479691Z",
     "iopub.status.idle": "2022-02-08T18:44:34.013921Z",
     "shell.execute_reply": "2022-02-08T18:44:34.012987Z",
     "shell.execute_reply.started": "2022-02-08T18:44:33.480147Z"
    },
    "trusted": true
   },
   "outputs": [],
   "source": [
    "# ВАЖНО! дря корректной обработки признаков объединяем трейн и тест в один датасет\n",
    "df_train['sample'] = 1 # помечаем где у нас трейн\n",
    "df_test['sample'] = 0 # помечаем где у нас тест\n",
    "df_test['reviewer_score'] = 0 # в тесте у нас нет значения reviewer_score, мы его должны предсказать, по этому пока просто заполняем нулями\n",
    "\n",
    "hotels = pd.concat([df_test, df_train], sort=False).reset_index(drop=True) # объединяем"
   ]
  },
  {
   "cell_type": "code",
   "execution_count": 50,
   "metadata": {
    "execution": {
     "iopub.execute_input": "2022-02-08T18:44:34.015483Z",
     "iopub.status.busy": "2022-02-08T18:44:34.015238Z",
     "iopub.status.idle": "2022-02-08T18:44:34.477711Z",
     "shell.execute_reply": "2022-02-08T18:44:34.476864Z",
     "shell.execute_reply.started": "2022-02-08T18:44:34.015455Z"
    },
    "trusted": true
   },
   "outputs": [
    {
     "name": "stdout",
     "output_type": "stream",
     "text": [
      "<class 'pandas.core.frame.DataFrame'>\n",
      "RangeIndex: 515738 entries, 0 to 515737\n",
      "Data columns (total 18 columns):\n",
      " #   Column                                      Non-Null Count   Dtype  \n",
      "---  ------                                      --------------   -----  \n",
      " 0   hotel_address                               515738 non-null  object \n",
      " 1   additional_number_of_scoring                515738 non-null  int64  \n",
      " 2   review_date                                 515738 non-null  object \n",
      " 3   average_score                               515738 non-null  float64\n",
      " 4   hotel_name                                  515738 non-null  object \n",
      " 5   reviewer_nationality                        515738 non-null  object \n",
      " 6   negative_review                             515738 non-null  object \n",
      " 7   review_total_negative_word_counts           515738 non-null  int64  \n",
      " 8   total_number_of_reviews                     515738 non-null  int64  \n",
      " 9   positive_review                             515738 non-null  object \n",
      " 10  review_total_positive_word_counts           515738 non-null  int64  \n",
      " 11  total_number_of_reviews_reviewer_has_given  515738 non-null  int64  \n",
      " 12  tags                                        515738 non-null  object \n",
      " 13  days_since_review                           515738 non-null  object \n",
      " 14  lat                                         512470 non-null  float64\n",
      " 15  lng                                         512470 non-null  float64\n",
      " 16  sample                                      515738 non-null  int64  \n",
      " 17  reviewer_score                              515738 non-null  float64\n",
      "dtypes: float64(4), int64(6), object(8)\n",
      "memory usage: 70.8+ MB\n"
     ]
    }
   ],
   "source": [
    "hotels.info()"
   ]
  },
  {
   "cell_type": "markdown",
   "metadata": {},
   "source": [
    "## 1. Базовая проверка качества датасета"
   ]
  },
  {
   "cell_type": "code",
   "execution_count": 51,
   "metadata": {},
   "outputs": [
    {
     "name": "stdout",
     "output_type": "stream",
     "text": [
      "lat    0.633655\n",
      "lng    0.633655\n",
      "dtype: float64\n"
     ]
    }
   ],
   "source": [
    "# Ищем выводим колонки с пропуском\n",
    "cols_null_percent = hotels.isnull().mean()*100\n",
    "cols_with_null = cols_null_percent[cols_null_percent > 0].sort_values(ascending=False)\n",
    "print(cols_with_null)"
   ]
  },
  {
   "cell_type": "code",
   "execution_count": 52,
   "metadata": {
    "execution": {
     "iopub.execute_input": "2022-02-08T18:44:34.47925Z",
     "iopub.status.busy": "2022-02-08T18:44:34.47896Z",
     "iopub.status.idle": "2022-02-08T18:44:34.497358Z",
     "shell.execute_reply": "2022-02-08T18:44:34.496728Z",
     "shell.execute_reply.started": "2022-02-08T18:44:34.479202Z"
    },
    "trusted": true
   },
   "outputs": [],
   "source": [
    "# Временно заполняем нулями, но мы ещё вернёмся к этому\n",
    "#hotels['lat'] = hotels['lat'].fillna(0)\n",
    "#hotels['lng'] = hotels['lng'].fillna(0)"
   ]
  },
  {
   "cell_type": "code",
   "execution_count": 53,
   "metadata": {},
   "outputs": [
    {
     "data": {
      "text/plain": [
       "hotel_address\n",
       "Josefst dter Stra e 10 12 08 Josefstadt 1080 Vienna Austria    658\n",
       "Taborstra e 8 A 02 Leopoldstadt 1020 Vienna Austria            563\n",
       "W hringer Stra e 33 35 09 Alsergrund 1090 Vienna Austria       389\n",
       "4 rue de la P pini re 8th arr 75008 Paris France               290\n",
       "Landstra er G rtel 5 03 Landstra e 1030 Vienna Austria         245\n",
       "W hringer Stra e 12 09 Alsergrund 1090 Vienna Austria          223\n",
       "Savoyenstra e 2 16 Ottakring 1160 Vienna Austria               194\n",
       "Sieveringer Stra e 4 19 D bling 1190 Vienna Austria            147\n",
       "Bail n 4 6 Eixample 08010 Barcelona Spain                      146\n",
       "Gr nentorgasse 30 09 Alsergrund 1090 Vienna Austria             93\n",
       "Hasenauerstra e 12 19 D bling 1190 Vienna Austria               61\n",
       "Josefst dter Stra e 22 08 Josefstadt 1080 Vienna Austria        57\n",
       "23 Rue Damr mont 18th arr 75018 Paris France                    55\n",
       "Paragonstra e 1 11 Simmering 1110 Vienna Austria                49\n",
       "20 Rue De La Ga t 14th arr 75014 Paris France                   37\n",
       "Pau Clar s 122 Eixample 08009 Barcelona Spain                   33\n",
       "Sep lveda 180 Eixample 08011 Barcelona Spain                    28\n",
       "Name: count, dtype: int64"
      ]
     },
     "execution_count": 53,
     "metadata": {},
     "output_type": "execute_result"
    }
   ],
   "source": [
    "# Проверим, какие отели имеют пропуски в координатах - отелей мало, можем заполнить вручную погуглив адреса и координаты\n",
    "hotels[hotels['lat'].isnull()]['hotel_address'].value_counts()"
   ]
  },
  {
   "cell_type": "code",
   "execution_count": 54,
   "metadata": {},
   "outputs": [
    {
     "data": {
      "text/plain": [
       "hotel_address\n",
       "Josefst dter Stra e 10 12 08 Josefstadt 1080 Vienna Austria    658\n",
       "Taborstra e 8 A 02 Leopoldstadt 1020 Vienna Austria            563\n",
       "W hringer Stra e 33 35 09 Alsergrund 1090 Vienna Austria       389\n",
       "4 rue de la P pini re 8th arr 75008 Paris France               290\n",
       "Landstra er G rtel 5 03 Landstra e 1030 Vienna Austria         245\n",
       "W hringer Stra e 12 09 Alsergrund 1090 Vienna Austria          223\n",
       "Savoyenstra e 2 16 Ottakring 1160 Vienna Austria               194\n",
       "Sieveringer Stra e 4 19 D bling 1190 Vienna Austria            147\n",
       "Bail n 4 6 Eixample 08010 Barcelona Spain                      146\n",
       "Gr nentorgasse 30 09 Alsergrund 1090 Vienna Austria             93\n",
       "Hasenauerstra e 12 19 D bling 1190 Vienna Austria               61\n",
       "Josefst dter Stra e 22 08 Josefstadt 1080 Vienna Austria        57\n",
       "23 Rue Damr mont 18th arr 75018 Paris France                    55\n",
       "Paragonstra e 1 11 Simmering 1110 Vienna Austria                49\n",
       "20 Rue De La Ga t 14th arr 75014 Paris France                   37\n",
       "Pau Clar s 122 Eixample 08009 Barcelona Spain                   33\n",
       "Sep lveda 180 Eixample 08011 Barcelona Spain                    28\n",
       "Name: count, dtype: int64"
      ]
     },
     "execution_count": 54,
     "metadata": {},
     "output_type": "execute_result"
    }
   ],
   "source": [
    "hotels[hotels['lng'].isnull()]['hotel_address'].value_counts()\n",
    "# Убедились, что пропуски по тем же адресам"
   ]
  },
  {
   "cell_type": "code",
   "execution_count": 55,
   "metadata": {},
   "outputs": [
    {
     "data": {
      "text/html": [
       "<div>\n",
       "<style scoped>\n",
       "    .dataframe tbody tr th:only-of-type {\n",
       "        vertical-align: middle;\n",
       "    }\n",
       "\n",
       "    .dataframe tbody tr th {\n",
       "        vertical-align: top;\n",
       "    }\n",
       "\n",
       "    .dataframe thead th {\n",
       "        text-align: right;\n",
       "    }\n",
       "</style>\n",
       "<table border=\"1\" class=\"dataframe\">\n",
       "  <thead>\n",
       "    <tr style=\"text-align: right;\">\n",
       "      <th></th>\n",
       "      <th></th>\n",
       "      <th>lat</th>\n",
       "      <th>lng</th>\n",
       "    </tr>\n",
       "    <tr>\n",
       "      <th>hotel_address</th>\n",
       "      <th>hotel_name</th>\n",
       "      <th></th>\n",
       "      <th></th>\n",
       "    </tr>\n",
       "  </thead>\n",
       "  <tbody>\n",
       "    <tr>\n",
       "      <th>20 Rue De La Ga t 14th arr 75014 Paris France</th>\n",
       "      <th>Mercure Paris Gare Montparnasse</th>\n",
       "      <td>0</td>\n",
       "      <td>0</td>\n",
       "    </tr>\n",
       "    <tr>\n",
       "      <th>23 Rue Damr mont 18th arr 75018 Paris France</th>\n",
       "      <th>Holiday Inn Paris Montmartre</th>\n",
       "      <td>0</td>\n",
       "      <td>0</td>\n",
       "    </tr>\n",
       "    <tr>\n",
       "      <th>4 rue de la P pini re 8th arr 75008 Paris France</th>\n",
       "      <th>Maison Albar Hotel Paris Op ra Diamond</th>\n",
       "      <td>0</td>\n",
       "      <td>0</td>\n",
       "    </tr>\n",
       "    <tr>\n",
       "      <th>Bail n 4 6 Eixample 08010 Barcelona Spain</th>\n",
       "      <th>NH Collection Barcelona Podium</th>\n",
       "      <td>0</td>\n",
       "      <td>0</td>\n",
       "    </tr>\n",
       "    <tr>\n",
       "      <th>Gr nentorgasse 30 09 Alsergrund 1090 Vienna Austria</th>\n",
       "      <th>City Hotel Deutschmeister</th>\n",
       "      <td>0</td>\n",
       "      <td>0</td>\n",
       "    </tr>\n",
       "    <tr>\n",
       "      <th>Hasenauerstra e 12 19 D bling 1190 Vienna Austria</th>\n",
       "      <th>Hotel Park Villa</th>\n",
       "      <td>0</td>\n",
       "      <td>0</td>\n",
       "    </tr>\n",
       "    <tr>\n",
       "      <th>Josefst dter Stra e 10 12 08 Josefstadt 1080 Vienna Austria</th>\n",
       "      <th>Fleming s Selection Hotel Wien City</th>\n",
       "      <td>0</td>\n",
       "      <td>0</td>\n",
       "    </tr>\n",
       "    <tr>\n",
       "      <th>Josefst dter Stra e 22 08 Josefstadt 1080 Vienna Austria</th>\n",
       "      <th>Cordial Theaterhotel Wien</th>\n",
       "      <td>0</td>\n",
       "      <td>0</td>\n",
       "    </tr>\n",
       "    <tr>\n",
       "      <th>Landstra er G rtel 5 03 Landstra e 1030 Vienna Austria</th>\n",
       "      <th>Hotel Daniel Vienna</th>\n",
       "      <td>0</td>\n",
       "      <td>0</td>\n",
       "    </tr>\n",
       "    <tr>\n",
       "      <th>Paragonstra e 1 11 Simmering 1110 Vienna Austria</th>\n",
       "      <th>Roomz Vienna</th>\n",
       "      <td>0</td>\n",
       "      <td>0</td>\n",
       "    </tr>\n",
       "    <tr>\n",
       "      <th>Pau Clar s 122 Eixample 08009 Barcelona Spain</th>\n",
       "      <th>Renaissance Barcelona Hotel</th>\n",
       "      <td>0</td>\n",
       "      <td>0</td>\n",
       "    </tr>\n",
       "    <tr>\n",
       "      <th>Savoyenstra e 2 16 Ottakring 1160 Vienna Austria</th>\n",
       "      <th>Austria Trend Hotel Schloss Wilhelminenberg Wien</th>\n",
       "      <td>0</td>\n",
       "      <td>0</td>\n",
       "    </tr>\n",
       "    <tr>\n",
       "      <th>Sep lveda 180 Eixample 08011 Barcelona Spain</th>\n",
       "      <th>Hotel Advance</th>\n",
       "      <td>0</td>\n",
       "      <td>0</td>\n",
       "    </tr>\n",
       "    <tr>\n",
       "      <th>Sieveringer Stra e 4 19 D bling 1190 Vienna Austria</th>\n",
       "      <th>Derag Livinghotel Kaiser Franz Joseph Vienna</th>\n",
       "      <td>0</td>\n",
       "      <td>0</td>\n",
       "    </tr>\n",
       "    <tr>\n",
       "      <th>Taborstra e 8 A 02 Leopoldstadt 1020 Vienna Austria</th>\n",
       "      <th>Hotel City Central</th>\n",
       "      <td>0</td>\n",
       "      <td>0</td>\n",
       "    </tr>\n",
       "    <tr>\n",
       "      <th>W hringer Stra e 12 09 Alsergrund 1090 Vienna Austria</th>\n",
       "      <th>Hotel Pension Baron am Schottentor</th>\n",
       "      <td>0</td>\n",
       "      <td>0</td>\n",
       "    </tr>\n",
       "    <tr>\n",
       "      <th>W hringer Stra e 33 35 09 Alsergrund 1090 Vienna Austria</th>\n",
       "      <th>Hotel Atlanta</th>\n",
       "      <td>0</td>\n",
       "      <td>0</td>\n",
       "    </tr>\n",
       "  </tbody>\n",
       "</table>\n",
       "</div>"
      ],
      "text/plain": [
       "                                                                                                     lat  \\\n",
       "hotel_address                                      hotel_name                                              \n",
       "20 Rue De La Ga t 14th arr 75014 Paris France      Mercure Paris Gare Montparnasse                     0   \n",
       "23 Rue Damr mont 18th arr 75018 Paris France       Holiday Inn Paris Montmartre                        0   \n",
       "4 rue de la P pini re 8th arr 75008 Paris France   Maison Albar Hotel Paris Op ra Diamond              0   \n",
       "Bail n 4 6 Eixample 08010 Barcelona Spain          NH Collection Barcelona Podium                      0   \n",
       "Gr nentorgasse 30 09 Alsergrund 1090 Vienna Aus... City Hotel Deutschmeister                           0   \n",
       "Hasenauerstra e 12 19 D bling 1190 Vienna Austria  Hotel Park Villa                                    0   \n",
       "Josefst dter Stra e 10 12 08 Josefstadt 1080 Vi... Fleming s Selection Hotel Wien City                 0   \n",
       "Josefst dter Stra e 22 08 Josefstadt 1080 Vienn... Cordial Theaterhotel Wien                           0   \n",
       "Landstra er G rtel 5 03 Landstra e 1030 Vienna ... Hotel Daniel Vienna                                 0   \n",
       "Paragonstra e 1 11 Simmering 1110 Vienna Austria   Roomz Vienna                                        0   \n",
       "Pau Clar s 122 Eixample 08009 Barcelona Spain      Renaissance Barcelona Hotel                         0   \n",
       "Savoyenstra e 2 16 Ottakring 1160 Vienna Austria   Austria Trend Hotel Schloss Wilhelminenberg Wien    0   \n",
       "Sep lveda 180 Eixample 08011 Barcelona Spain       Hotel Advance                                       0   \n",
       "Sieveringer Stra e 4 19 D bling 1190 Vienna Aus... Derag Livinghotel Kaiser Franz Joseph Vienna        0   \n",
       "Taborstra e 8 A 02 Leopoldstadt 1020 Vienna Aus... Hotel City Central                                  0   \n",
       "W hringer Stra e 12 09 Alsergrund 1090 Vienna A... Hotel Pension Baron am Schottentor                  0   \n",
       "W hringer Stra e 33 35 09 Alsergrund 1090 Vienn... Hotel Atlanta                                       0   \n",
       "\n",
       "                                                                                                     lng  \n",
       "hotel_address                                      hotel_name                                             \n",
       "20 Rue De La Ga t 14th arr 75014 Paris France      Mercure Paris Gare Montparnasse                     0  \n",
       "23 Rue Damr mont 18th arr 75018 Paris France       Holiday Inn Paris Montmartre                        0  \n",
       "4 rue de la P pini re 8th arr 75008 Paris France   Maison Albar Hotel Paris Op ra Diamond              0  \n",
       "Bail n 4 6 Eixample 08010 Barcelona Spain          NH Collection Barcelona Podium                      0  \n",
       "Gr nentorgasse 30 09 Alsergrund 1090 Vienna Aus... City Hotel Deutschmeister                           0  \n",
       "Hasenauerstra e 12 19 D bling 1190 Vienna Austria  Hotel Park Villa                                    0  \n",
       "Josefst dter Stra e 10 12 08 Josefstadt 1080 Vi... Fleming s Selection Hotel Wien City                 0  \n",
       "Josefst dter Stra e 22 08 Josefstadt 1080 Vienn... Cordial Theaterhotel Wien                           0  \n",
       "Landstra er G rtel 5 03 Landstra e 1030 Vienna ... Hotel Daniel Vienna                                 0  \n",
       "Paragonstra e 1 11 Simmering 1110 Vienna Austria   Roomz Vienna                                        0  \n",
       "Pau Clar s 122 Eixample 08009 Barcelona Spain      Renaissance Barcelona Hotel                         0  \n",
       "Savoyenstra e 2 16 Ottakring 1160 Vienna Austria   Austria Trend Hotel Schloss Wilhelminenberg Wien    0  \n",
       "Sep lveda 180 Eixample 08011 Barcelona Spain       Hotel Advance                                       0  \n",
       "Sieveringer Stra e 4 19 D bling 1190 Vienna Aus... Derag Livinghotel Kaiser Franz Joseph Vienna        0  \n",
       "Taborstra e 8 A 02 Leopoldstadt 1020 Vienna Aus... Hotel City Central                                  0  \n",
       "W hringer Stra e 12 09 Alsergrund 1090 Vienna A... Hotel Pension Baron am Schottentor                  0  \n",
       "W hringer Stra e 33 35 09 Alsergrund 1090 Vienn... Hotel Atlanta                                       0  "
      ]
     },
     "execution_count": 55,
     "metadata": {},
     "output_type": "execute_result"
    }
   ],
   "source": [
    "# Формируем таблицу и гуглим координаты\n",
    "name_and_address = hotels[hotels['lat'].isnull()].groupby(['hotel_address', 'hotel_name']).count()[['lat', 'lng']]\n",
    "name_and_address"
   ]
  },
  {
   "cell_type": "code",
   "execution_count": 56,
   "metadata": {},
   "outputs": [
    {
     "data": {
      "text/html": [
       "<div>\n",
       "<style scoped>\n",
       "    .dataframe tbody tr th:only-of-type {\n",
       "        vertical-align: middle;\n",
       "    }\n",
       "\n",
       "    .dataframe tbody tr th {\n",
       "        vertical-align: top;\n",
       "    }\n",
       "\n",
       "    .dataframe thead th {\n",
       "        text-align: right;\n",
       "    }\n",
       "</style>\n",
       "<table border=\"1\" class=\"dataframe\">\n",
       "  <thead>\n",
       "    <tr style=\"text-align: right;\">\n",
       "      <th></th>\n",
       "      <th>lat</th>\n",
       "      <th>lng</th>\n",
       "    </tr>\n",
       "    <tr>\n",
       "      <th>hotel_address</th>\n",
       "      <th></th>\n",
       "      <th></th>\n",
       "    </tr>\n",
       "  </thead>\n",
       "  <tbody>\n",
       "    <tr>\n",
       "      <th>20 Rue De La Ga t 14th arr 75014 Paris France</th>\n",
       "      <td>0</td>\n",
       "      <td>0</td>\n",
       "    </tr>\n",
       "    <tr>\n",
       "      <th>23 Rue Damr mont 18th arr 75018 Paris France</th>\n",
       "      <td>0</td>\n",
       "      <td>0</td>\n",
       "    </tr>\n",
       "    <tr>\n",
       "      <th>4 rue de la P pini re 8th arr 75008 Paris France</th>\n",
       "      <td>0</td>\n",
       "      <td>0</td>\n",
       "    </tr>\n",
       "    <tr>\n",
       "      <th>Bail n 4 6 Eixample 08010 Barcelona Spain</th>\n",
       "      <td>0</td>\n",
       "      <td>0</td>\n",
       "    </tr>\n",
       "    <tr>\n",
       "      <th>Gr nentorgasse 30 09 Alsergrund 1090 Vienna Austria</th>\n",
       "      <td>0</td>\n",
       "      <td>0</td>\n",
       "    </tr>\n",
       "    <tr>\n",
       "      <th>Hasenauerstra e 12 19 D bling 1190 Vienna Austria</th>\n",
       "      <td>0</td>\n",
       "      <td>0</td>\n",
       "    </tr>\n",
       "    <tr>\n",
       "      <th>Josefst dter Stra e 10 12 08 Josefstadt 1080 Vienna Austria</th>\n",
       "      <td>0</td>\n",
       "      <td>0</td>\n",
       "    </tr>\n",
       "    <tr>\n",
       "      <th>Josefst dter Stra e 22 08 Josefstadt 1080 Vienna Austria</th>\n",
       "      <td>0</td>\n",
       "      <td>0</td>\n",
       "    </tr>\n",
       "    <tr>\n",
       "      <th>Landstra er G rtel 5 03 Landstra e 1030 Vienna Austria</th>\n",
       "      <td>0</td>\n",
       "      <td>0</td>\n",
       "    </tr>\n",
       "    <tr>\n",
       "      <th>Paragonstra e 1 11 Simmering 1110 Vienna Austria</th>\n",
       "      <td>0</td>\n",
       "      <td>0</td>\n",
       "    </tr>\n",
       "    <tr>\n",
       "      <th>Pau Clar s 122 Eixample 08009 Barcelona Spain</th>\n",
       "      <td>0</td>\n",
       "      <td>0</td>\n",
       "    </tr>\n",
       "    <tr>\n",
       "      <th>Savoyenstra e 2 16 Ottakring 1160 Vienna Austria</th>\n",
       "      <td>0</td>\n",
       "      <td>0</td>\n",
       "    </tr>\n",
       "    <tr>\n",
       "      <th>Sep lveda 180 Eixample 08011 Barcelona Spain</th>\n",
       "      <td>0</td>\n",
       "      <td>0</td>\n",
       "    </tr>\n",
       "    <tr>\n",
       "      <th>Sieveringer Stra e 4 19 D bling 1190 Vienna Austria</th>\n",
       "      <td>0</td>\n",
       "      <td>0</td>\n",
       "    </tr>\n",
       "    <tr>\n",
       "      <th>Taborstra e 8 A 02 Leopoldstadt 1020 Vienna Austria</th>\n",
       "      <td>0</td>\n",
       "      <td>0</td>\n",
       "    </tr>\n",
       "    <tr>\n",
       "      <th>W hringer Stra e 12 09 Alsergrund 1090 Vienna Austria</th>\n",
       "      <td>0</td>\n",
       "      <td>0</td>\n",
       "    </tr>\n",
       "    <tr>\n",
       "      <th>W hringer Stra e 33 35 09 Alsergrund 1090 Vienna Austria</th>\n",
       "      <td>0</td>\n",
       "      <td>0</td>\n",
       "    </tr>\n",
       "  </tbody>\n",
       "</table>\n",
       "</div>"
      ],
      "text/plain": [
       "                                                    lat  lng\n",
       "hotel_address                                               \n",
       "20 Rue De La Ga t 14th arr 75014 Paris France         0    0\n",
       "23 Rue Damr mont 18th arr 75018 Paris France          0    0\n",
       "4 rue de la P pini re 8th arr 75008 Paris France      0    0\n",
       "Bail n 4 6 Eixample 08010 Barcelona Spain             0    0\n",
       "Gr nentorgasse 30 09 Alsergrund 1090 Vienna Aus...    0    0\n",
       "Hasenauerstra e 12 19 D bling 1190 Vienna Austria     0    0\n",
       "Josefst dter Stra e 10 12 08 Josefstadt 1080 Vi...    0    0\n",
       "Josefst dter Stra e 22 08 Josefstadt 1080 Vienn...    0    0\n",
       "Landstra er G rtel 5 03 Landstra e 1030 Vienna ...    0    0\n",
       "Paragonstra e 1 11 Simmering 1110 Vienna Austria      0    0\n",
       "Pau Clar s 122 Eixample 08009 Barcelona Spain         0    0\n",
       "Savoyenstra e 2 16 Ottakring 1160 Vienna Austria      0    0\n",
       "Sep lveda 180 Eixample 08011 Barcelona Spain          0    0\n",
       "Sieveringer Stra e 4 19 D bling 1190 Vienna Aus...    0    0\n",
       "Taborstra e 8 A 02 Leopoldstadt 1020 Vienna Aus...    0    0\n",
       "W hringer Stra e 12 09 Alsergrund 1090 Vienna A...    0    0\n",
       "W hringer Stra e 33 35 09 Alsergrund 1090 Vienn...    0    0"
      ]
     },
     "execution_count": 56,
     "metadata": {},
     "output_type": "execute_result"
    }
   ],
   "source": [
    "# Будем делать индекс по адресам что бы потом им обновить основной датасет\n",
    "hotels_null_coords = hotels[hotels['lat'].isnull()].groupby(['hotel_address']).count()[['lat', 'lng']]\n",
    "hotels_null_coords"
   ]
  },
  {
   "cell_type": "code",
   "execution_count": 57,
   "metadata": {},
   "outputs": [],
   "source": [
    "hotels_coords = [[48.8399957, 2.3070823], \n",
    "           [48.8889127, 2.3309643], \n",
    "           [48.8753208, 2.3212033], \n",
    "           [41.391552, 2.1757053],\n",
    "           [48.2208555, 16.3644228],\n",
    "           [48.233592, 16.3434781],\n",
    "           [48.2094054, 16.3512565],\n",
    "           [48.2095525, 16.3492746],\n",
    "           [48.1888183, 16.381591],\n",
    "           [48.1868142, 16.418528],\n",
    "           [41.3927888, 2.1673975],\n",
    "           [48.219573, 16.2834034],\n",
    "           [41.3832425, 2.1607609],\n",
    "           [48.2458909, 16.3397395],\n",
    "           [48.2135906, 16.3777195],\n",
    "           [48.2168032, 16.357717],\n",
    "           [48.220414, 16.3536299]]"
   ]
  },
  {
   "cell_type": "code",
   "execution_count": 58,
   "metadata": {},
   "outputs": [],
   "source": [
    "hotels = hotels.set_index('hotel_address')\n",
    "hotels.update(hotels_null_coords)\n",
    "hotels = hotels.reset_index()"
   ]
  },
  {
   "cell_type": "code",
   "execution_count": 59,
   "metadata": {},
   "outputs": [
    {
     "name": "stdout",
     "output_type": "stream",
     "text": [
      "<class 'pandas.core.frame.DataFrame'>\n",
      "RangeIndex: 515738 entries, 0 to 515737\n",
      "Data columns (total 18 columns):\n",
      " #   Column                                      Non-Null Count   Dtype  \n",
      "---  ------                                      --------------   -----  \n",
      " 0   hotel_address                               515738 non-null  object \n",
      " 1   additional_number_of_scoring                515738 non-null  int64  \n",
      " 2   review_date                                 515738 non-null  object \n",
      " 3   average_score                               515738 non-null  float64\n",
      " 4   hotel_name                                  515738 non-null  object \n",
      " 5   reviewer_nationality                        515738 non-null  object \n",
      " 6   negative_review                             515738 non-null  object \n",
      " 7   review_total_negative_word_counts           515738 non-null  int64  \n",
      " 8   total_number_of_reviews                     515738 non-null  int64  \n",
      " 9   positive_review                             515738 non-null  object \n",
      " 10  review_total_positive_word_counts           515738 non-null  int64  \n",
      " 11  total_number_of_reviews_reviewer_has_given  515738 non-null  int64  \n",
      " 12  tags                                        515738 non-null  object \n",
      " 13  days_since_review                           515738 non-null  object \n",
      " 14  lat                                         515738 non-null  float64\n",
      " 15  lng                                         515738 non-null  float64\n",
      " 16  sample                                      515738 non-null  int64  \n",
      " 17  reviewer_score                              515738 non-null  float64\n",
      "dtypes: float64(4), int64(6), object(8)\n",
      "memory usage: 70.8+ MB\n"
     ]
    }
   ],
   "source": [
    "hotels.info()"
   ]
  },
  {
   "cell_type": "code",
   "execution_count": 60,
   "metadata": {
    "execution": {
     "iopub.execute_input": "2022-02-08T18:44:34.500523Z",
     "iopub.status.busy": "2022-02-08T18:44:34.500073Z",
     "iopub.status.idle": "2022-02-08T18:44:35.43767Z",
     "shell.execute_reply": "2022-02-08T18:44:35.43699Z",
     "shell.execute_reply.started": "2022-02-08T18:44:34.500478Z"
    },
    "trusted": true
   },
   "outputs": [
    {
     "data": {
      "text/plain": [
       "hotel_address                                   1493\n",
       "additional_number_of_scoring                     480\n",
       "review_date                                      731\n",
       "average_score                                     34\n",
       "hotel_name                                      1492\n",
       "reviewer_nationality                             227\n",
       "negative_review                               330011\n",
       "review_total_negative_word_counts                402\n",
       "total_number_of_reviews                         1142\n",
       "positive_review                               412601\n",
       "review_total_positive_word_counts                365\n",
       "total_number_of_reviews_reviewer_has_given       198\n",
       "tags                                           55242\n",
       "days_since_review                                731\n",
       "lat                                             1473\n",
       "lng                                             1473\n",
       "sample                                             2\n",
       "reviewer_score                                    38\n",
       "dtype: int64"
      ]
     },
     "execution_count": 60,
     "metadata": {},
     "output_type": "execute_result"
    }
   ],
   "source": [
    "# Сводка уникальных значений, разбираемся, что у нас будет категориальным признаком\n",
    "hotels.nunique(dropna=False)"
   ]
  },
  {
   "cell_type": "code",
   "execution_count": 61,
   "metadata": {},
   "outputs": [
    {
     "data": {
      "text/plain": [
       "(336, 18)"
      ]
     },
     "execution_count": 61,
     "metadata": {},
     "output_type": "execute_result"
    }
   ],
   "source": [
    "# Ищем дубликаты\n",
    "dupl_col=list(hotels.columns)\n",
    "mask=hotels.duplicated(subset=dupl_col)\n",
    "data_doubles=hotels[mask]\n",
    "data_doubles.shape\n",
    "# В таблице имеется 336 дубликатов. Однако, по условиям задачи удалять строки нельзя, так что пока оставим как есть."
   ]
  },
  {
   "cell_type": "markdown",
   "metadata": {},
   "source": [
    "## 2. Работаем со столбцами"
   ]
  },
  {
   "cell_type": "code",
   "execution_count": 62,
   "metadata": {},
   "outputs": [
    {
     "name": "stdout",
     "output_type": "stream",
     "text": [
      "<class 'pandas.core.frame.DataFrame'>\n",
      "RangeIndex: 515738 entries, 0 to 515737\n",
      "Data columns (total 18 columns):\n",
      " #   Column                                      Non-Null Count   Dtype  \n",
      "---  ------                                      --------------   -----  \n",
      " 0   hotel_address                               515738 non-null  object \n",
      " 1   additional_number_of_scoring                515738 non-null  int64  \n",
      " 2   review_date                                 515738 non-null  object \n",
      " 3   average_score                               515738 non-null  float64\n",
      " 4   hotel_name                                  515738 non-null  object \n",
      " 5   reviewer_nationality                        515738 non-null  object \n",
      " 6   negative_review                             515738 non-null  object \n",
      " 7   review_total_negative_word_counts           515738 non-null  int64  \n",
      " 8   total_number_of_reviews                     515738 non-null  int64  \n",
      " 9   positive_review                             515738 non-null  object \n",
      " 10  review_total_positive_word_counts           515738 non-null  int64  \n",
      " 11  total_number_of_reviews_reviewer_has_given  515738 non-null  int64  \n",
      " 12  tags                                        515738 non-null  object \n",
      " 13  days_since_review                           515738 non-null  object \n",
      " 14  lat                                         515738 non-null  float64\n",
      " 15  lng                                         515738 non-null  float64\n",
      " 16  sample                                      515738 non-null  int64  \n",
      " 17  reviewer_score                              515738 non-null  float64\n",
      "dtypes: float64(4), int64(6), object(8)\n",
      "memory usage: 70.8+ MB\n"
     ]
    }
   ],
   "source": [
    "hotels.info()"
   ]
  },
  {
   "cell_type": "markdown",
   "metadata": {},
   "source": [
    "### hotel_address"
   ]
  },
  {
   "cell_type": "code",
   "execution_count": 63,
   "metadata": {},
   "outputs": [],
   "source": [
    "# Работаем с адресом отеля (страна)\n",
    "import pycountry\n",
    "countries = {c.name for c in pycountry.countries} | {c.official_name for c in pycountry.countries if hasattr(c, \"official_name\")} | {c.alpha_3 for c in pycountry.countries} | {c.alpha_2 for c in pycountry.countries}\n",
    "\n",
    "def extract_country(address):\n",
    "    for country in countries:\n",
    "        if address.endswith(country):\n",
    "            return country\n",
    "    return None\n",
    "\n",
    "# Применяем к колонке\n",
    "hotels[\"country\"] = hotels[\"hotel_address\"].apply(extract_country)"
   ]
  },
  {
   "cell_type": "code",
   "execution_count": 64,
   "metadata": {},
   "outputs": [
    {
     "data": {
      "text/plain": [
       "country\n",
       "United Kingdom    262301\n",
       "Spain              60149\n",
       "France             59928\n",
       "Netherlands        57214\n",
       "Austria            38939\n",
       "Italy              37207\n",
       "Name: count, dtype: int64"
      ]
     },
     "execution_count": 64,
     "metadata": {},
     "output_type": "execute_result"
    }
   ],
   "source": [
    "# Смотрим, что получилось\n",
    "hotels.country.value_counts()\n",
    "# Получилось немного стран, попробуем выделить города"
   ]
  },
  {
   "cell_type": "code",
   "execution_count": 65,
   "metadata": {},
   "outputs": [],
   "source": [
    "# вытаскиваем город из адреса\n",
    "def extract_city(addr):\n",
    "    parts = addr.split()\n",
    "    if parts[-2:] == ['United', 'Kingdom']:\n",
    "        return parts[-5]  # для UK формаат адреса город код код United Kingdom\n",
    "    else:\n",
    "        return parts[-2]  # для всех остальных город перед страной\n",
    "\n",
    "# Создаем признак city\n",
    "hotels[\"city\"] = hotels[\"hotel_address\"].apply(extract_city)\n"
   ]
  },
  {
   "cell_type": "code",
   "execution_count": 66,
   "metadata": {},
   "outputs": [
    {
     "data": {
      "text/plain": [
       "city\n",
       "London       262301\n",
       "Barcelona     60149\n",
       "Paris         59928\n",
       "Amsterdam     57214\n",
       "Vienna        38939\n",
       "Milan         37207\n",
       "Name: count, dtype: int64"
      ]
     },
     "execution_count": 66,
     "metadata": {},
     "output_type": "execute_result"
    }
   ],
   "source": [
    "hotels['city'].value_counts()"
   ]
  },
  {
   "cell_type": "markdown",
   "metadata": {},
   "source": [
    "Пользы нет - в датасете все гостиницы из одной страны находятся в одном городе. Пока не удаляем - используем эти данные для лучшего заполнения координат"
   ]
  },
  {
   "cell_type": "markdown",
   "metadata": {},
   "source": [
    "### Дата ревью"
   ]
  },
  {
   "cell_type": "code",
   "execution_count": 67,
   "metadata": {},
   "outputs": [
    {
     "name": "stderr",
     "output_type": "stream",
     "text": [
      "C:\\Users\\dmytr\\AppData\\Local\\Temp\\ipykernel_22504\\3715416797.py:2: UserWarning: Parsing dates in %m/%d/%Y format when dayfirst=True was specified. Pass `dayfirst=False` or specify a format to silence this warning.\n",
      "  hotels['review_date'] = pd.to_datetime(hotels['review_date'], dayfirst=True, errors='coerce')\n"
     ]
    }
   ],
   "source": [
    "#Преобразуем в datetime\n",
    "hotels['review_date'] = pd.to_datetime(hotels['review_date'], dayfirst=True, errors='coerce')\n",
    "\n",
    "# Создаём признаки год, месяц, день недели и является ли день выходным. Дата будет очевидно не информативным признаком, вместо неё берём день недели\n",
    "# и статус выходного (теория - \"платные\" накрутки чаще происходят в будний день)\n",
    "hotels['year'] = hotels['review_date'].dt.year\n",
    "hotels['month'] = hotels['review_date'].dt.month\n",
    "hotels['dayofweek'] = hotels['review_date'].dt.weekday  # 0 = понедельник, 6 = воскресенье\n",
    "hotels['is_weekend'] = (hotels['dayofweek'] >= 5).astype('int8')\n",
    "hotels[\"quarter\"] = hotels[\"review_date\"].dt.quarter\n",
    "hotels[\"weekofyear\"] = hotels[\"review_date\"].dt.isocalendar().week.astype(\"int16\")"
   ]
  },
  {
   "cell_type": "code",
   "execution_count": 68,
   "metadata": {},
   "outputs": [],
   "source": [
    "#Сезоны\n",
    "def season(m):\n",
    "    return (\"winter\" if m in [12,1,2] else\n",
    "            \"spring\" if m in [3,4,5] else\n",
    "            \"summer\" if m in [6,7,8] else \"autumn\")\n",
    "hotels[\"season\"] = hotels[\"month\"].map(season)\n",
    "# Сразу кодируем через get_dummies\n",
    "hotels = pd.get_dummies(hotels, columns=['season'], drop_first=True)"
   ]
  },
  {
   "cell_type": "code",
   "execution_count": 69,
   "metadata": {},
   "outputs": [
    {
     "data": {
      "text/html": [
       "<div>\n",
       "<style scoped>\n",
       "    .dataframe tbody tr th:only-of-type {\n",
       "        vertical-align: middle;\n",
       "    }\n",
       "\n",
       "    .dataframe tbody tr th {\n",
       "        vertical-align: top;\n",
       "    }\n",
       "\n",
       "    .dataframe thead th {\n",
       "        text-align: right;\n",
       "    }\n",
       "</style>\n",
       "<table border=\"1\" class=\"dataframe\">\n",
       "  <thead>\n",
       "    <tr style=\"text-align: right;\">\n",
       "      <th></th>\n",
       "      <th>year</th>\n",
       "      <th>month</th>\n",
       "      <th>dayofweek</th>\n",
       "      <th>is_weekend</th>\n",
       "    </tr>\n",
       "  </thead>\n",
       "  <tbody>\n",
       "    <tr>\n",
       "      <th>0</th>\n",
       "      <td>2017</td>\n",
       "      <td>7</td>\n",
       "      <td>4</td>\n",
       "      <td>0</td>\n",
       "    </tr>\n",
       "    <tr>\n",
       "      <th>1</th>\n",
       "      <td>2016</td>\n",
       "      <td>12</td>\n",
       "      <td>0</td>\n",
       "      <td>0</td>\n",
       "    </tr>\n",
       "    <tr>\n",
       "      <th>2</th>\n",
       "      <td>2015</td>\n",
       "      <td>11</td>\n",
       "      <td>3</td>\n",
       "      <td>0</td>\n",
       "    </tr>\n",
       "    <tr>\n",
       "      <th>3</th>\n",
       "      <td>2015</td>\n",
       "      <td>10</td>\n",
       "      <td>5</td>\n",
       "      <td>1</td>\n",
       "    </tr>\n",
       "    <tr>\n",
       "      <th>4</th>\n",
       "      <td>2016</td>\n",
       "      <td>5</td>\n",
       "      <td>0</td>\n",
       "      <td>0</td>\n",
       "    </tr>\n",
       "  </tbody>\n",
       "</table>\n",
       "</div>"
      ],
      "text/plain": [
       "   year  month  dayofweek  is_weekend\n",
       "0  2017      7          4           0\n",
       "1  2016     12          0           0\n",
       "2  2015     11          3           0\n",
       "3  2015     10          5           1\n",
       "4  2016      5          0           0"
      ]
     },
     "execution_count": 69,
     "metadata": {},
     "output_type": "execute_result"
    }
   ],
   "source": [
    "# Проверям все ли получилось\n",
    "hotels[['year', 'month', 'dayofweek', 'is_weekend']].head()"
   ]
  },
  {
   "cell_type": "code",
   "execution_count": null,
   "metadata": {},
   "outputs": [],
   "source": []
  },
  {
   "cell_type": "markdown",
   "metadata": {},
   "source": [
    "### hotel_name "
   ]
  },
  {
   "cell_type": "code",
   "execution_count": 70,
   "metadata": {},
   "outputs": [],
   "source": [
    "# сколько всего отзывов у отеля / города\n",
    "hotels[\"hotel_reviews_cnt\"] = hotels[\"hotel_name\"].map(hotels[\"hotel_name\"].value_counts())\n",
    "hotels[\"city_reviews_cnt\"]  = hotels[\"city\"].map(hotels[\"city\"].value_counts())"
   ]
  },
  {
   "cell_type": "code",
   "execution_count": 71,
   "metadata": {},
   "outputs": [
    {
     "data": {
      "text/plain": [
       "count                                         515738\n",
       "unique                                          1492\n",
       "top       Britannia International Hotel Canary Wharf\n",
       "freq                                            4789\n",
       "Name: hotel_name, dtype: object"
      ]
     },
     "execution_count": 71,
     "metadata": {},
     "output_type": "execute_result"
    }
   ],
   "source": [
    "hotels['hotel_name'].describe()"
   ]
  },
  {
   "cell_type": "code",
   "execution_count": 74,
   "metadata": {},
   "outputs": [],
   "source": [
    "#Попробуем закодировать с помощью frequency и targetencoding\n",
    "from sklearn.model_selection import KFold\n",
    "\n",
    "# freq\n",
    "freq = hotels['hotel_name'].value_counts()\n",
    "hotels['hotel_name_freq'] = hotels['hotel_name'].map(freq).astype('int32')\n",
    "\n",
    "#target\n",
    "kf = KFold(n_splits=5, shuffle=True, random_state=42)\n",
    "te = np.zeros(len(hotels))\n",
    "for tr, va in kf.split(hotels):\n",
    "    m = hotels.iloc[tr].groupby('hotel_name')['reviewer_score'].mean()\n",
    "    te[va] = hotels.iloc[va]['hotel_name'].map(m)\n",
    "hotels['hotel_name_te'] = te"
   ]
  },
  {
   "cell_type": "code",
   "execution_count": 75,
   "metadata": {},
   "outputs": [],
   "source": [
    "#Альтернатива - довичное кодирование с помощью category_encoders\n",
    "#import category_encoders as ce\n",
    "#bin_encoder = ce.BinaryEncoder(cols=['hotel_name'])\n",
    "#data_bin=bin_encoder.fit_transform(hotels['hotel_name'])\n",
    "#hotels = pd.concat([hotels, data_bin], axis=1)"
   ]
  },
  {
   "cell_type": "code",
   "execution_count": 76,
   "metadata": {},
   "outputs": [],
   "source": [
    "# Кодируем название отелей через get_dummies - тесты показали наилучший результат\n",
    "#hotels = pd.get_dummies(hotels, columns=['hotel_name'], drop_first=True)"
   ]
  },
  {
   "cell_type": "markdown",
   "metadata": {},
   "source": [
    "### reviewer_nationality"
   ]
  },
  {
   "cell_type": "code",
   "execution_count": 77,
   "metadata": {},
   "outputs": [],
   "source": [
    "# Убираем пробелы в национальности\n",
    "hotels[\"reviewer_nationality\"] = hotels[\"reviewer_nationality\"].str.strip()"
   ]
  },
  {
   "cell_type": "code",
   "execution_count": 78,
   "metadata": {},
   "outputs": [
    {
     "name": "stdout",
     "output_type": "stream",
     "text": [
      "227\n"
     ]
    }
   ],
   "source": [
    "a=hotels['reviewer_nationality'].value_counts()\n",
    "print(len(a))"
   ]
  },
  {
   "cell_type": "code",
   "execution_count": 79,
   "metadata": {},
   "outputs": [],
   "source": [
    "# Делаем признак того, что отзыв оставлен соотечественником (теория - те, кто ездят внутри страны имеют другие требования к отелю)\n",
    "hotels['is_domestic'] = (\n",
    "    hotels['reviewer_nationality'].astype(str).str.strip().str.casefold()\n",
    "    == hotels['country'].astype(str).str.strip().str.casefold()\n",
    ").astype('int8')"
   ]
  },
  {
   "cell_type": "code",
   "execution_count": 80,
   "metadata": {},
   "outputs": [],
   "source": [
    "# Дополнительные признаки - поездка по стране для целей бизнес и поездка по стране для удовольствия\n",
    "hotels[\"domestic_x_business\"] = hotels[\"is_domestic\"] * hotels.get(\"trip_business_trip\", 0)\n",
    "hotels[\"domestic_x_leisure\"]  = hotels[\"is_domestic\"] * hotels.get(\"trip_leisure_trip\", 0)"
   ]
  },
  {
   "cell_type": "code",
   "execution_count": 81,
   "metadata": {},
   "outputs": [],
   "source": [
    "import numpy as np\n",
    "from sklearn.model_selection import KFold\n",
    "\n",
    "# Frequency encoding (просто количество записей по стране)\n",
    "freq = hotels['reviewer_nationality'].value_counts()\n",
    "hotels['reviewer_nationality_freq'] = hotels['reviewer_nationality'].map(freq)\n",
    "\n",
    "# Target encoding с защитой от NaN\n",
    "kf = KFold(n_splits=5, shuffle=True, random_state=42)\n",
    "te = np.zeros(len(hotels))\n",
    "\n",
    "global_mean = hotels['reviewer_score'].mean()\n",
    "\n",
    "for train_idx, val_idx in kf.split(hotels):\n",
    "    means = hotels.iloc[train_idx].groupby('reviewer_nationality')['reviewer_score'].mean()\n",
    "    # map + fillna глобальным средним\n",
    "    te[val_idx] = hotels.iloc[val_idx]['reviewer_nationality'].map(means).fillna(global_mean)\n",
    "\n",
    "hotels['reviewer_nationality_te'] = te"
   ]
  },
  {
   "cell_type": "markdown",
   "metadata": {},
   "source": [
    "### negative_review/positive_review"
   ]
  },
  {
   "cell_type": "code",
   "execution_count": 82,
   "metadata": {},
   "outputs": [
    {
     "name": "stderr",
     "output_type": "stream",
     "text": [
      "[nltk_data] Downloading package vader_lexicon to\n",
      "[nltk_data]     C:\\Users\\dmytr\\AppData\\Roaming\\nltk_data...\n",
      "[nltk_data]   Package vader_lexicon is already up-to-date!\n"
     ]
    }
   ],
   "source": [
    "# Работаем с текстом отрицательного отзыва negative_review через ntlk с полным набором скачанных пакетов\n",
    "import re\n",
    "import nltk\n",
    "nltk.download('vader_lexicon')\n",
    "\n",
    "from nltk.sentiment import SentimentIntensityAnalyzer\n",
    "\n",
    "sia = SentimentIntensityAnalyzer()\n",
    "\n",
    "def clean_text(s: str) -> str:\n",
    "    if not isinstance(s, str): \n",
    "        return \"\"\n",
    "    s = s.strip()\n",
    "    s = re.sub(r\"(https?://\\S+)|(\\S+@\\S+)\", \" \", s)                     # удалим URL и email\n",
    "    s = re.sub(r\"[^A-Za-z0-9\\s\\.\\,\\!\\?\\-']\", \" \", s)                    # оставим только валидные символы\n",
    "    s = re.sub(r\"\\s+\", \" \", s).strip()                                  # уберём лишние пробелы\n",
    "    return s\n",
    "\n",
    "# Очистка текста\n",
    "hotels[\"neg_clean\"] = hotels[\"negative_review\"].map(clean_text)\n",
    "\n",
    "# Признаки\n",
    "hotels[\"neg_len_chars\"] = hotels[\"neg_clean\"].str.len()\n",
    "hotels[\"neg_len_words\"] = hotels[\"neg_clean\"].str.split().str.len()\n",
    "hotels[\"exclam_cnt\"]    = hotels[\"neg_clean\"].str.count(r\"!\")\n",
    "hotels[\"quest_cnt\"]     = hotels[\"neg_clean\"].str.count(r\"\\?\")\n",
    "hotels[\"caps_ratio\"]    = hotels[\"negative_review\"].map(\n",
    "    lambda s: (sum(c.isupper() for c in s) / max(1, len(s))) if isinstance(s, str) else 0.0\n",
    ")\n",
    "hotels[\"neg_vader\"] = hotels[\"neg_clean\"].map(lambda s: sia.polarity_scores(s)[\"compound\"])\n",
    "#hotels[\"is_no_negative\"] = hotels[\"neg_clean\"].str.fullmatch(r\"(?i)no negative\").fillna(False).astype(\"int8\") # если отзыв состоит из фразы \"No Negative\" то он положительный\n"
   ]
  },
  {
   "cell_type": "code",
   "execution_count": 83,
   "metadata": {},
   "outputs": [],
   "source": [
    "# Судя по всему пользователь не мог оставить поле для негативного отзыва пустым, пытаемся найти ситуации, когд негативный отзыв по сути отсутствует\n",
    "\n",
    "# нормализация: нижний регистр, убираем всё кроме букв/цифр/пробелов, схлопываем пробелы\n",
    "def _norm(s: str) -> str:\n",
    "    s = s.lower().strip()\n",
    "    # уберём урлы/почту на всякий случай\n",
    "    s = re.sub(r\"(https?://\\S+)|(\\S+@\\S+)\", \" \", s)\n",
    "    # оставим буквы/цифры/пробелы\n",
    "    s = re.sub(r\"[^a-z0-9\\s]\", \" \", s)\n",
    "    s = re.sub(r\"\\s+\", \" \", s).strip()\n",
    "    return s\n",
    "\n",
    "# строгие фразы (нормализованные)\n",
    "STRICT_SET = {\n",
    "    \"no negative\", \"no negatives\", \"nothing negative\",\n",
    "    \"nothing\", \"nothing really\", \"nothing at all\", \"nothing in particular\",\n",
    "    \"no complaints\",\n",
    "    \"nothing to dislike\", \"nothing to complain about\", \"nothing not to like\",\n",
    "    \"absolutely nothing\",\n",
    "    \"none\", \"nil\", \"na\",  # сюда сойдут и \"n a\"/\"n/a\" после нормализации\n",
    "    \"all good\", \"all was good\", \"nothing all good\",\n",
    "    \"everything\", \"everything was good\", \"everything was great\",\n",
    "    \"everything was perfect\", \"everything was fine\",\n",
    "    \"liked everything\", \"i liked everything\",\n",
    "    \"see above\", \"as above\",\n",
    "    \"no thing\",\n",
    "}\n",
    "\n",
    "# расширенные (нормализованные)\n",
    "EXTENDED_SET = {\n",
    "    \"no\",                  # ровно \"no\", не \"no parking\"\n",
    "    \"leaving\", \"having to leave\",\n",
    "    \"not applicable\",\n",
    "    \"non\",                 # FR \"non\" (если строка только это слово)\n",
    "    \"not much\",\n",
    "    \"cant think of anything\"  # вариант без апострофа\n",
    "}\n",
    "\n",
    "# отдельный шаблон для \"can't think of anything\" с апострофом и вариациями пробелов\n",
    "CANT_THINK_RE = re.compile(r\"\\bcan\\s*t\\s*think\\s*of\\s*anything\\b\")\n",
    "\n",
    "# строки, которые считаем «пустыми» после чистки «декора»\n",
    "ONLY_DECOR_RE = re.compile(r\"^\\s*[\\(\\)\\[\\]\\{\\}\\-\\_\\.\\,\\!\\?\\/\\\\\\|~\\*]+\\s*$\")\n",
    "\n",
    "def is_no_negative_text(s: str, use_extended: bool = True) -> int:\n",
    "    if not isinstance(s, str) or not s.strip():\n",
    "        return 1  # пустая строка → no negative\n",
    "\n",
    "    # если одни скобки/декор — считаем пустым\n",
    "    if ONLY_DECOR_RE.fullmatch(s):\n",
    "        return 1\n",
    "\n",
    "    ns = _norm(s)\n",
    "    if ns == \"\":\n",
    "        return 1\n",
    "\n",
    "    # явные попадания в строгий список\n",
    "    if ns in STRICT_SET:\n",
    "        return 1\n",
    "\n",
    "    # \"can't think of anything\" с любыми апострофами/пробелами\n",
    "    if CANT_THINK_RE.search(ns):\n",
    "        return 1\n",
    "\n",
    "    # расширенные\n",
    "    if use_extended and ns in EXTENDED_SET:\n",
    "        return 1\n",
    "\n",
    "    return 0\n",
    "\n",
    "# Применение к колонке (лучше использовать уже очищенный текст, напр. hotels['neg_clean'])\n",
    "hotels[\"is_no_negative\"] = hotels[\"neg_clean\"].map(lambda x: is_no_negative_text(x, use_extended=True)).astype(\"int8\")\n"
   ]
  },
  {
   "cell_type": "code",
   "execution_count": 84,
   "metadata": {},
   "outputs": [],
   "source": [
    "sia = SentimentIntensityAnalyzer()\n",
    "\n",
    "def clean_text(s: str) -> str:\n",
    "    if not isinstance(s, str): \n",
    "        return \"\"\n",
    "    s = s.strip()\n",
    "    s = re.sub(r\"(https?://\\S+)|(\\S+@\\S+)\", \" \", s)\n",
    "    s = re.sub(r\"[^A-Za-z0-9\\s\\.\\,\\!\\?\\-']\", \" \", s)\n",
    "    s = re.sub(r\"\\s+\", \" \", s).strip()\n",
    "    return s\n",
    "\n",
    "# Очистка текста\n",
    "hotels[\"pos_clean\"] = hotels[\"positive_review\"].map(clean_text)\n",
    "\n",
    "# Признаки\n",
    "hotels[\"pos_len_chars\"] = hotels[\"pos_clean\"].str.len()\n",
    "hotels[\"pos_len_words\"] = hotels[\"pos_clean\"].str.split().str.len()\n",
    "hotels[\"pos_exclam_cnt\"] = hotels[\"pos_clean\"].str.count(r\"!\")\n",
    "hotels[\"pos_quest_cnt\"]  = hotels[\"pos_clean\"].str.count(r\"\\?\")\n",
    "hotels[\"pos_caps_ratio\"] = hotels[\"positive_review\"].map(\n",
    "    lambda s: (sum(c.isupper() for c in s) / max(1, len(s))) if isinstance(s, str) else 0.0\n",
    ")\n",
    "hotels[\"pos_vader\"] = hotels[\"pos_clean\"].map(lambda s: sia.polarity_scores(s)[\"compound\"])\n",
    "hotels[\"is_no_positive\"] = hotels[\"pos_clean\"].str.fullmatch(r\"(?i)no positive\").fillna(False).astype(\"int8\") # если отзыв состоит из фразы \"No Positive\" то он отрицательный"
   ]
  },
  {
   "cell_type": "code",
   "execution_count": 85,
   "metadata": {},
   "outputs": [],
   "source": [
    "# Положительные и отрицательные слова\n",
    "neg_words = (\"dirty\",\"smell\",\"noisy\",\"rude\",\"slow\",\"cold\",\"hot\",\"broken\",\"poor\",\"bad\", 'small', 'expensive', 'worst', 'hate', 'terrible', 'awful', 'disappointing', 'disappointed',)\n",
    "pos_words = (\"clean\",\"friendly\",\"quiet\",\"fast\",\"warm\",\"great\",\"excellent\",\"amazing\",\"good\",\"nice\", 'quite', 'love', 'loved', 'lovely', 'perfect','perfectly',\n",
    "             'quiet','spacious','modern', 'again')\n",
    "\n",
    "def count_any(text, vocab): \n",
    "    s = str(text).lower()\n",
    "    return sum(w in s for w in vocab)\n",
    "\n",
    "hotels[\"neg_kw_cnt\"] = hotels[\"neg_clean\"].map(lambda s: count_any(s, neg_words))\n",
    "hotels[\"pos_kw_cnt\"] = hotels[\"pos_clean\"].map(lambda s: count_any(s, pos_words))"
   ]
  },
  {
   "cell_type": "markdown",
   "metadata": {},
   "source": [
    "### TAGS"
   ]
  },
  {
   "cell_type": "code",
   "execution_count": 86,
   "metadata": {},
   "outputs": [
    {
     "data": {
      "text/plain": [
       "tags\n",
       "[' Leisure trip ', ' Couple ', ' Double Room ', ' Stayed 1 night ', ' Submitted from a mobile device ']                              5101\n",
       "[' Leisure trip ', ' Couple ', ' Standard Double Room ', ' Stayed 1 night ', ' Submitted from a mobile device ']                     4931\n",
       "[' Leisure trip ', ' Couple ', ' Superior Double Room ', ' Stayed 1 night ', ' Submitted from a mobile device ']                     4366\n",
       "[' Leisure trip ', ' Couple ', ' Deluxe Double Room ', ' Stayed 1 night ', ' Submitted from a mobile device ']                       3991\n",
       "[' Leisure trip ', ' Couple ', ' Double Room ', ' Stayed 2 nights ', ' Submitted from a mobile device ']                             3291\n",
       "                                                                                                                                     ... \n",
       "[' Group ', ' Executive Double Room ', ' Stayed 7 nights ']                                                                             1\n",
       "[' Leisure trip ', ' Couple ', ' Room with View ', ' Stayed 7 nights ', ' Submitted from a mobile device ']                             1\n",
       "[' Leisure trip ', ' Solo traveler ', ' Cosy Room ', ' Stayed 4 nights ', ' Submitted from a mobile device ']                           1\n",
       "[' Leisure trip ', ' Family with young children ', ' Double Room City ', ' Stayed 5 nights ', ' Submitted from a mobile device ']       1\n",
       "[' Business trip ', ' Family with older children ', ' Premium Double or Twin Room ', ' Stayed 9 nights ']                               1\n",
       "Name: count, Length: 55242, dtype: int64"
      ]
     },
     "execution_count": 86,
     "metadata": {},
     "output_type": "execute_result"
    }
   ],
   "source": [
    "hotels['tags'].value_counts()"
   ]
  },
  {
   "cell_type": "markdown",
   "metadata": {},
   "source": [
    "Немного поработаем с dtale что бы разобраться, какие в принципе есть теги и отобрали те, которые кажутся наиболее оптимальными"
   ]
  },
  {
   "cell_type": "code",
   "execution_count": 87,
   "metadata": {},
   "outputs": [],
   "source": [
    "# Преобразуем колонку 'tags' из строки в список\n",
    "hotels['tags'] = hotels['tags'].apply(eval)"
   ]
  },
  {
   "cell_type": "code",
   "execution_count": 88,
   "metadata": {},
   "outputs": [],
   "source": [
    "# Функция очистки тегов - убираем пробелы по краям и заменяем пробелы внутри тега на _\n",
    "def clean_tags(tag_list):\n",
    "    return [tag.strip().replace(\" \", \"_\") for tag in tag_list]\n",
    "\n",
    "# Применяем очистку\n",
    "hotels['tags'] = hotels['tags'].apply(clean_tags)\n",
    "\n",
    "# Собираем все теги в один длинный список\n",
    "all_tags = [tag for tag_list in hotels['tags'] for tag in tag_list]"
   ]
  },
  {
   "cell_type": "code",
   "execution_count": 89,
   "metadata": {},
   "outputs": [
    {
     "name": "stdout",
     "output_type": "stream",
     "text": [
      "[('Leisure_trip', 417778), ('Submitted_from_a_mobile_device', 307640), ('Couple', 252294), ('Stayed_1_night', 193645), ('Stayed_2_nights', 133937), ('Solo_traveler', 108545), ('Stayed_3_nights', 95821), ('Business_trip', 82939), ('Group', 65392), ('Family_with_young_children', 61015), ('Stayed_4_nights', 47817), ('Double_Room', 35207), ('Standard_Double_Room', 32248), ('Superior_Double_Room', 31393), ('Family_with_older_children', 26349), ('Deluxe_Double_Room', 24823), ('Double_or_Twin_Room', 22393), ('Stayed_5_nights', 20845), ('Standard_Double_or_Twin_Room', 17483), ('Classic_Double_Room', 16989), ('Superior_Double_or_Twin_Room', 13570), ('2_rooms', 12393), ('Stayed_6_nights', 9776), ('Standard_Twin_Room', 9745), ('Single_Room', 9670), ('Twin_Room', 8321), ('Stayed_7_nights', 7399), ('Executive_Double_Room', 6425), ('Classic_Double_or_Twin_Room', 6107), ('Superior_Twin_Room', 6064), ('Deluxe_Double_or_Twin_Room', 5998), ('Club_Double_Room', 5908), ('Queen_Room', 5472), ('Deluxe_King_Room', 5357), ('Superior_Queen_Room', 4898), ('Standard_Single_Room', 4615), ('Junior_Suite', 4559), ('Triple_Room', 4493), ('Superior_Room', 4417), ('Classic_Room', 4416), ('Superior_King_Room', 4248), ('Standard_Room', 4205), ('Deluxe_Room', 3974), ('Standard_Queen_Room', 3533), ('Double_Guest_Room', 3437), ('Deluxe_Single_Room', 3283), ('Small_Double_Room', 3187), ('Queen_Guest_Room', 3125), ('Deluxe_Twin_Room', 3083), ('Basic_Double_Room', 2851), ('King_Room', 2843), ('Comfort_Double_Room', 2641), ('Executive_King_Room', 2631), ('Small_Queen_Room', 2505), ('Stayed_8_nights', 2502), ('Standard_Double_Room_without_Window', 2424), ('Comfort_Double_or_Twin_Room', 2404), ('Double_or_Twin_Room_1_2_Adults', 2391), ('Classic_Twin_Room', 2360), ('Twin_Guest_Room', 2197), ('Family_Room', 2165), ('Travelers_with_friends', 2143), ('Suite', 1897), ('Superior_King_or_Twin_Room', 1831), ('Deluxe_King_or_Twin_Room', 1650), ('Deluxe_Double', 1634), ('King_Guest_Room', 1630), ('Cosy_Double_Room', 1604), ('Standard_Double_Twin_Room', 1420), ('With_a_pet', 1405), ('Club_Twin_Room', 1401), ('Executive_Double_or_Twin_Room', 1395), ('Classic_King_Room', 1318), ('Standard_Triple_Room', 1300), ('Double_Hilton_Guestroom', 1300), ('Executive_Room', 1293), ('Stayed_9_nights', 1293), ('Double_Room_Non_Smoking', 1257), ('Standard', 1231), ('Economy_Double_Room', 1193), ('Large_Double_Room', 1192), ('Quadruple_Room', 1157), ('Luxury_Double_Room', 1149), ('Superior_Single_Room', 1120), ('Superior_Double_Room_with_Internal_View', 1112), ('Classic_Single_Room', 1090), ('Double_Room_with_Two_Double_Beds', 1087), ('Executive_Twin_Room', 1080), ('Dorsett_Double_Room', 1044), ('Premier_Double_Room', 996), ('Studio', 986), ('Superior_Double_or_Twin_Room_1_2_Adults', 971), ('Twin_Hilton_Guest_Room', 951), ('Family_Room_2_Adults_2_Children', 926), ('Studio_King_Family', 925), ('Compact_Double_Room', 913), ('City_King_or_Twin_Room', 897), ('Stayed_10_nights', 889), ('Standard_Room_with_1_Double_Bed', 879), ('Classic_Queen_Room', 791)]\n"
     ]
    }
   ],
   "source": [
    "from collections import Counter\n",
    "\n",
    "tag_counts = Counter(all_tags)\n",
    "print(tag_counts.most_common(100))"
   ]
  },
  {
   "cell_type": "code",
   "execution_count": 90,
   "metadata": {},
   "outputs": [],
   "source": [
    "import re\n",
    "import ast\n",
    "\n",
    "# На всякий случай: привести колонку к спискам\n",
    "def to_list_safe(x):\n",
    "    if isinstance(x, list):\n",
    "        return x\n",
    "    if isinstance(x, str):\n",
    "        try:\n",
    "            v = ast.literal_eval(x)\n",
    "            return v if isinstance(v, list) else [x]\n",
    "        except:\n",
    "            return [x]\n",
    "    return []  # None и прочее\n",
    "\n",
    "hotels[\"tags\"] = hotels[\"tags\"].apply(to_list_safe)\n",
    "\n",
    "# Чистим пробелы\n",
    "hotels[\"tags\"] = hotels[\"tags\"].apply(lambda tags: [t.strip() for t in tags if isinstance(t, str)])\n",
    "\n",
    "# Поиск подстроки (без учёта регистра)\n",
    "def has_tag(tags, keyword):\n",
    "    kw = keyword.lower()\n",
    "    return int(any(kw in (t or \"\").lower() for t in tags))\n",
    "\n",
    "# Бинарные признаки\n",
    "trip_types = [\"Leisure trip\", \"Business trip\"]\n",
    "companions = [\"Couple\", \"Solo traveler\", \"Family with young children\",\n",
    "              \"Family with older children\", \"Group\"]\n",
    "\n",
    "for t in trip_types:\n",
    "    hotels[f\"trip_{t.replace(' ', '_').lower()}\"] = hotels[\"tags\"].apply(lambda x: has_tag(x, t))\n",
    "\n",
    "for c in companions:\n",
    "    hotels[f\"companion_{c.replace(' ', '_').lower()}\"] = hotels[\"tags\"].apply(lambda x: has_tag(x, c))\n",
    "\n",
    "# Разбор'Stayed X night(s)' через regex\n",
    "stay_re = re.compile(r\"stayed\\s+(\\d+)\\s+night\", re.IGNORECASE)\n",
    "\n",
    "def stay_length(tags):\n",
    "    for t in tags:\n",
    "        if not isinstance(t, str):\n",
    "            continue\n",
    "        m = stay_re.search(t)\n",
    "        if m:\n",
    "            try:\n",
    "                num = int(m.group(1))\n",
    "            except:\n",
    "                continue\n",
    "            if num == 1:\n",
    "                return \"short\"\n",
    "            elif num <= 3:\n",
    "                return \"medium\"\n",
    "            elif num <= 7:\n",
    "                return \"week\"\n",
    "            else:\n",
    "                return \"long\"\n",
    "    return None\n",
    "\n",
    "hotels[\"stay_length\"] = hotels[\"tags\"].apply(stay_length)\n",
    "\n",
    "# Тип номера\n",
    "room_keywords = [\"Suite\", \"Apartment\", \"Studio\", \"Room\"]\n",
    "\n",
    "def room_type(tags):\n",
    "    low = [(t or \"\").lower() for t in tags if isinstance(t, str)]\n",
    "    for kw in room_keywords:\n",
    "        if any(kw.lower() in t for t in low):\n",
    "            return kw\n",
    "    return None\n",
    "\n",
    "hotels[\"room_type\"] = hotels[\"tags\"].apply(room_type)\n",
    "\n",
    "# Признаки удобств\n",
    "def has_kw(tags, kw): \n",
    "    return int(any(kw in t.lower() for t in tags))\n",
    "amenities = [\"breakfast\", \"parking\", \"spa\", \"gym\", \"pool\", \"airport\", \"metro\", \"city_center\"]\n",
    "for kw in amenities:\n",
    "    hotels[f\"tag_{kw}\"] = hotels[\"tags\"].apply(lambda ts: has_kw(ts, kw))\n"
   ]
  },
  {
   "cell_type": "code",
   "execution_count": 91,
   "metadata": {},
   "outputs": [],
   "source": [
    "# Кодируем длину пребывания в отеле и тип номера\n",
    "import category_encoders as ce\n",
    "encoder = ce.OneHotEncoder(cols=[\"stay_length\", \"room_type\"], use_cat_names=True)\n",
    "hotels = encoder.fit_transform(hotels)  "
   ]
  },
  {
   "cell_type": "markdown",
   "metadata": {},
   "source": [
    "### days_since_review"
   ]
  },
  {
   "cell_type": "code",
   "execution_count": 92,
   "metadata": {},
   "outputs": [],
   "source": [
    "# Работаем с days_since_review\n",
    "hotels[\"days_since_review\"] = hotels[\"days_since_review\"].str.extract(r'(\\d+)').astype(int)"
   ]
  },
  {
   "cell_type": "markdown",
   "metadata": {},
   "source": [
    "### Добавляем разные фичи"
   ]
  },
  {
   "cell_type": "code",
   "execution_count": 93,
   "metadata": {},
   "outputs": [],
   "source": [
    "# Расстояние до центра города\n",
    "city_center = {\n",
    "    \"London\": (51.5074, -0.1278),\n",
    "    \"Barcelona\": (41.3851, 2.1734),\n",
    "    \"Paris\": (48.8566, 2.3522),\n",
    "    \"Amsterdam\": (52.3676, 4.9041),\n",
    "    \"Vienna\": (48.2100, 16.3738),\n",
    "    \"Milan\": (45.4642, 9.1900),\n",
    "}\n",
    "\n",
    "def haversine(lat1, lon1, lat2, lon2):\n",
    "    R = 6371.0\n",
    "    p1, p2 = np.radians(lat1), np.radians(lat2)\n",
    "    dphi = np.radians(lat2 - lat1)\n",
    "    dlmb = np.radians(lon2 - lon1)\n",
    "    a = np.sin(dphi/2)**2 + np.cos(p1)*np.cos(p2)*np.sin(dlmb/2)**2\n",
    "    return 2*R*np.arcsin(np.sqrt(a))\n",
    "\n",
    "hotels[\"dist_center_km\"] = hotels.apply(\n",
    "    lambda r: haversine(r[\"lat\"], r[\"lng\"], *city_center.get(r[\"city\"], (r[\"lat\"], r[\"lng\"]))), axis=1\n",
    ")"
   ]
  },
  {
   "cell_type": "markdown",
   "metadata": {},
   "source": [
    "## Кодируем остатки"
   ]
  },
  {
   "cell_type": "code",
   "execution_count": 94,
   "metadata": {},
   "outputs": [
    {
     "name": "stdout",
     "output_type": "stream",
     "text": [
      "<class 'pandas.core.frame.DataFrame'>\n",
      "RangeIndex: 515738 entries, 0 to 515737\n",
      "Data columns (total 78 columns):\n",
      " #   Column                                      Non-Null Count   Dtype         \n",
      "---  ------                                      --------------   -----         \n",
      " 0   hotel_address                               515738 non-null  object        \n",
      " 1   additional_number_of_scoring                515738 non-null  int64         \n",
      " 2   review_date                                 515738 non-null  datetime64[ns]\n",
      " 3   average_score                               515738 non-null  float64       \n",
      " 4   hotel_name                                  515738 non-null  object        \n",
      " 5   reviewer_nationality                        515738 non-null  object        \n",
      " 6   negative_review                             515738 non-null  object        \n",
      " 7   review_total_negative_word_counts           515738 non-null  int64         \n",
      " 8   total_number_of_reviews                     515738 non-null  int64         \n",
      " 9   positive_review                             515738 non-null  object        \n",
      " 10  review_total_positive_word_counts           515738 non-null  int64         \n",
      " 11  total_number_of_reviews_reviewer_has_given  515738 non-null  int64         \n",
      " 12  tags                                        515738 non-null  object        \n",
      " 13  days_since_review                           515738 non-null  int64         \n",
      " 14  lat                                         515738 non-null  float64       \n",
      " 15  lng                                         515738 non-null  float64       \n",
      " 16  sample                                      515738 non-null  int64         \n",
      " 17  reviewer_score                              515738 non-null  float64       \n",
      " 18  country                                     515738 non-null  object        \n",
      " 19  city                                        515738 non-null  object        \n",
      " 20  year                                        515738 non-null  int32         \n",
      " 21  month                                       515738 non-null  int32         \n",
      " 22  dayofweek                                   515738 non-null  int32         \n",
      " 23  is_weekend                                  515738 non-null  int8          \n",
      " 24  quarter                                     515738 non-null  int32         \n",
      " 25  weekofyear                                  515738 non-null  int16         \n",
      " 26  season_spring                               515738 non-null  bool          \n",
      " 27  season_summer                               515738 non-null  bool          \n",
      " 28  season_winter                               515738 non-null  bool          \n",
      " 29  hotel_reviews_cnt                           515738 non-null  int64         \n",
      " 30  city_reviews_cnt                            515738 non-null  int64         \n",
      " 31  hotel_name_freq                             515738 non-null  int32         \n",
      " 32  hotel_name_te                               515738 non-null  float64       \n",
      " 33  is_domestic                                 515738 non-null  int8          \n",
      " 34  domestic_x_business                         515738 non-null  int8          \n",
      " 35  domestic_x_leisure                          515738 non-null  int8          \n",
      " 36  reviewer_nationality_freq                   515738 non-null  int64         \n",
      " 37  reviewer_nationality_te                     515738 non-null  float64       \n",
      " 38  neg_clean                                   515738 non-null  object        \n",
      " 39  neg_len_chars                               515738 non-null  int64         \n",
      " 40  neg_len_words                               515738 non-null  int64         \n",
      " 41  exclam_cnt                                  515738 non-null  int64         \n",
      " 42  quest_cnt                                   515738 non-null  int64         \n",
      " 43  caps_ratio                                  515738 non-null  float64       \n",
      " 44  neg_vader                                   515738 non-null  float64       \n",
      " 45  is_no_negative                              515738 non-null  int8          \n",
      " 46  pos_clean                                   515738 non-null  object        \n",
      " 47  pos_len_chars                               515738 non-null  int64         \n",
      " 48  pos_len_words                               515738 non-null  int64         \n",
      " 49  pos_exclam_cnt                              515738 non-null  int64         \n",
      " 50  pos_quest_cnt                               515738 non-null  int64         \n",
      " 51  pos_caps_ratio                              515738 non-null  float64       \n",
      " 52  pos_vader                                   515738 non-null  float64       \n",
      " 53  is_no_positive                              515738 non-null  int8          \n",
      " 54  neg_kw_cnt                                  515738 non-null  int64         \n",
      " 55  pos_kw_cnt                                  515738 non-null  int64         \n",
      " 56  trip_leisure_trip                           515738 non-null  int64         \n",
      " 57  trip_business_trip                          515738 non-null  int64         \n",
      " 58  companion_couple                            515738 non-null  int64         \n",
      " 59  companion_solo_traveler                     515738 non-null  int64         \n",
      " 60  companion_family_with_young_children        515738 non-null  int64         \n",
      " 61  companion_family_with_older_children        515738 non-null  int64         \n",
      " 62  companion_group                             515738 non-null  int64         \n",
      " 63  stay_length_nan                             515738 non-null  int64         \n",
      " 64  room_type_Room                              515738 non-null  int64         \n",
      " 65  room_type_Suite                             515738 non-null  int64         \n",
      " 66  room_type_Studio                            515738 non-null  int64         \n",
      " 67  room_type_Apartment                         515738 non-null  int64         \n",
      " 68  room_type_nan                               515738 non-null  int64         \n",
      " 69  tag_breakfast                               515738 non-null  int64         \n",
      " 70  tag_parking                                 515738 non-null  int64         \n",
      " 71  tag_spa                                     515738 non-null  int64         \n",
      " 72  tag_gym                                     515738 non-null  int64         \n",
      " 73  tag_pool                                    515738 non-null  int64         \n",
      " 74  tag_airport                                 515738 non-null  int64         \n",
      " 75  tag_metro                                   515738 non-null  int64         \n",
      " 76  tag_city_center                             515738 non-null  int64         \n",
      " 77  dist_center_km                              515738 non-null  float64       \n",
      "dtypes: bool(3), datetime64[ns](1), float64(11), int16(1), int32(5), int64(41), int8(6), object(10)\n",
      "memory usage: 263.1+ MB\n"
     ]
    }
   ],
   "source": [
    "hotels.info()"
   ]
  },
  {
   "cell_type": "code",
   "execution_count": 95,
   "metadata": {},
   "outputs": [],
   "source": [
    "# кодируем страну\n",
    "encoder = ce.OneHotEncoder(cols=[\"country\"], use_cat_names=True)\n",
    "hotels = encoder.fit_transform(hotels)  "
   ]
  },
  {
   "cell_type": "code",
   "execution_count": 96,
   "metadata": {},
   "outputs": [],
   "source": [
    "# кодируем город\n",
    "encoder = ce.OneHotEncoder(cols=[\"city\"], use_cat_names=True)\n",
    "hotels = encoder.fit_transform(hotels)"
   ]
  },
  {
   "cell_type": "markdown",
   "metadata": {},
   "source": [
    "### Дропаем лишнее"
   ]
  },
  {
   "cell_type": "code",
   "execution_count": 97,
   "metadata": {},
   "outputs": [],
   "source": [
    "#Удаляем все колонки с типом object\n",
    "hotels = hotels.drop(columns=[col for col in hotels.columns if hotels[col].dtype == 'object'])"
   ]
  },
  {
   "cell_type": "code",
   "execution_count": 98,
   "metadata": {},
   "outputs": [],
   "source": [
    "# удаляем дату обзора\n",
    "hotels = hotels.drop(columns=['review_date'])"
   ]
  },
  {
   "cell_type": "code",
   "execution_count": 99,
   "metadata": {},
   "outputs": [],
   "source": [
    "# Экономим место\n",
    "\n",
    "# выбираем только int64-колонки\n",
    "int64_cols = hotels.select_dtypes(include=\"int64\").columns\n",
    "\n",
    "# фильтруем из них бинарные (только 0/1)\n",
    "binary_cols = [col for col in int64_cols if hotels[col].dropna().nunique() == 2]\n",
    "\n",
    "# переводим в int8\n",
    "hotels = hotels.astype({col: \"int8\" for col in binary_cols})"
   ]
  },
  {
   "cell_type": "code",
   "execution_count": 100,
   "metadata": {},
   "outputs": [
    {
     "name": "stdout",
     "output_type": "stream",
     "text": [
      "<class 'pandas.core.frame.DataFrame'>\n",
      "RangeIndex: 515738 entries, 0 to 515737\n",
      "Data columns (total 79 columns):\n",
      " #   Column                                      Non-Null Count   Dtype  \n",
      "---  ------                                      --------------   -----  \n",
      " 0   additional_number_of_scoring                515738 non-null  int64  \n",
      " 1   average_score                               515738 non-null  float64\n",
      " 2   review_total_negative_word_counts           515738 non-null  int64  \n",
      " 3   total_number_of_reviews                     515738 non-null  int64  \n",
      " 4   review_total_positive_word_counts           515738 non-null  int64  \n",
      " 5   total_number_of_reviews_reviewer_has_given  515738 non-null  int64  \n",
      " 6   days_since_review                           515738 non-null  int64  \n",
      " 7   lat                                         515738 non-null  float64\n",
      " 8   lng                                         515738 non-null  float64\n",
      " 9   sample                                      515738 non-null  int8   \n",
      " 10  reviewer_score                              515738 non-null  float64\n",
      " 11  country_Italy                               515738 non-null  int8   \n",
      " 12  country_Netherlands                         515738 non-null  int8   \n",
      " 13  country_Spain                               515738 non-null  int8   \n",
      " 14  country_United Kingdom                      515738 non-null  int8   \n",
      " 15  country_France                              515738 non-null  int8   \n",
      " 16  country_Austria                             515738 non-null  int8   \n",
      " 17  city_Milan                                  515738 non-null  int8   \n",
      " 18  city_Amsterdam                              515738 non-null  int8   \n",
      " 19  city_Barcelona                              515738 non-null  int8   \n",
      " 20  city_London                                 515738 non-null  int8   \n",
      " 21  city_Paris                                  515738 non-null  int8   \n",
      " 22  city_Vienna                                 515738 non-null  int8   \n",
      " 23  year                                        515738 non-null  int32  \n",
      " 24  month                                       515738 non-null  int32  \n",
      " 25  dayofweek                                   515738 non-null  int32  \n",
      " 26  is_weekend                                  515738 non-null  int8   \n",
      " 27  quarter                                     515738 non-null  int32  \n",
      " 28  weekofyear                                  515738 non-null  int16  \n",
      " 29  season_spring                               515738 non-null  bool   \n",
      " 30  season_summer                               515738 non-null  bool   \n",
      " 31  season_winter                               515738 non-null  bool   \n",
      " 32  hotel_reviews_cnt                           515738 non-null  int64  \n",
      " 33  city_reviews_cnt                            515738 non-null  int64  \n",
      " 34  hotel_name_freq                             515738 non-null  int32  \n",
      " 35  hotel_name_te                               515738 non-null  float64\n",
      " 36  is_domestic                                 515738 non-null  int8   \n",
      " 37  domestic_x_business                         515738 non-null  int8   \n",
      " 38  domestic_x_leisure                          515738 non-null  int8   \n",
      " 39  reviewer_nationality_freq                   515738 non-null  int64  \n",
      " 40  reviewer_nationality_te                     515738 non-null  float64\n",
      " 41  neg_len_chars                               515738 non-null  int64  \n",
      " 42  neg_len_words                               515738 non-null  int64  \n",
      " 43  exclam_cnt                                  515738 non-null  int64  \n",
      " 44  quest_cnt                                   515738 non-null  int64  \n",
      " 45  caps_ratio                                  515738 non-null  float64\n",
      " 46  neg_vader                                   515738 non-null  float64\n",
      " 47  is_no_negative                              515738 non-null  int8   \n",
      " 48  pos_len_chars                               515738 non-null  int64  \n",
      " 49  pos_len_words                               515738 non-null  int64  \n",
      " 50  pos_exclam_cnt                              515738 non-null  int64  \n",
      " 51  pos_quest_cnt                               515738 non-null  int64  \n",
      " 52  pos_caps_ratio                              515738 non-null  float64\n",
      " 53  pos_vader                                   515738 non-null  float64\n",
      " 54  is_no_positive                              515738 non-null  int8   \n",
      " 55  neg_kw_cnt                                  515738 non-null  int64  \n",
      " 56  pos_kw_cnt                                  515738 non-null  int64  \n",
      " 57  trip_leisure_trip                           515738 non-null  int64  \n",
      " 58  trip_business_trip                          515738 non-null  int64  \n",
      " 59  companion_couple                            515738 non-null  int8   \n",
      " 60  companion_solo_traveler                     515738 non-null  int64  \n",
      " 61  companion_family_with_young_children        515738 non-null  int64  \n",
      " 62  companion_family_with_older_children        515738 non-null  int64  \n",
      " 63  companion_group                             515738 non-null  int8   \n",
      " 64  stay_length_nan                             515738 non-null  int64  \n",
      " 65  room_type_Room                              515738 non-null  int8   \n",
      " 66  room_type_Suite                             515738 non-null  int8   \n",
      " 67  room_type_Studio                            515738 non-null  int8   \n",
      " 68  room_type_Apartment                         515738 non-null  int8   \n",
      " 69  room_type_nan                               515738 non-null  int8   \n",
      " 70  tag_breakfast                               515738 non-null  int8   \n",
      " 71  tag_parking                                 515738 non-null  int8   \n",
      " 72  tag_spa                                     515738 non-null  int8   \n",
      " 73  tag_gym                                     515738 non-null  int64  \n",
      " 74  tag_pool                                    515738 non-null  int8   \n",
      " 75  tag_airport                                 515738 non-null  int8   \n",
      " 76  tag_metro                                   515738 non-null  int8   \n",
      " 77  tag_city_center                             515738 non-null  int64  \n",
      " 78  dist_center_km                              515738 non-null  float64\n",
      "dtypes: bool(3), float64(11), int16(1), int32(5), int64(27), int8(32)\n",
      "memory usage: 177.6 MB\n"
     ]
    }
   ],
   "source": [
    "hotels.info()"
   ]
  },
  {
   "cell_type": "code",
   "execution_count": 101,
   "metadata": {},
   "outputs": [],
   "source": [
    "# Эксперимент - дропаем самые слабые признаки\n",
    "#hotels=hotels.drop(columns=['pos_vader'])"
   ]
  },
  {
   "cell_type": "markdown",
   "metadata": {},
   "source": [
    "# Финализируем"
   ]
  },
  {
   "cell_type": "code",
   "execution_count": 102,
   "metadata": {},
   "outputs": [],
   "source": [
    "# Выводим список мультиколлинеарных признаков\n",
    "# Берем порог 0,75\n",
    "#def high_corr_pairs(df, corr_thr=0.75):\n",
    "   #corr = df.corr(numeric_only=True)  # только числовые колонки\n",
    "   #pairs = []\n",
    "   #for i in range(len(corr.columns)):\n",
    "      #for j in range(i+1, len(corr.columns)):\n",
    "         #if abs(corr.iloc[i, j]) >= corr_thr:\n",
    "               #pairs.append((corr.columns[i], corr.columns[j], corr.iloc[i, j]))\n",
    "   #return pairs\n",
    "\n",
    "\n",
    "#pairs = high_corr_pairs(hotels, corr_thr=0.75)\n",
    "#for a, b, c in pairs:\n",
    "   #print(f\"{a:20} ~ {b:20} corr={c:.3f}\")"
   ]
  },
  {
   "cell_type": "markdown",
   "metadata": {},
   "source": [
    "Как мы и догадывались - города и страны коррелируют 1 к 1. Удаляем страны.\n",
    "Есть сильная корреляция между числом слов и символов. Убираем число символов - считаем, что слова показательнее.\n",
    "убираем число дней после обзора т.к. сильная корреляция с годом\n",
    "Есть сильная зависимость между числом оценок без отзыва и частотой появления имени отеля. Попробуем убрать число дополнительных отзывов, т.к. имя отеля у нас часть кодирования. День недели коррелирует с фактором выходного дня на 0.831 - удаляем день недели."
   ]
  },
  {
   "cell_type": "code",
   "execution_count": 103,
   "metadata": {},
   "outputs": [],
   "source": [
    "hotels=hotels.drop(columns=['additional_number_of_scoring', 'review_total_negative_word_counts','review_total_negative_word_counts','review_total_positive_word_counts',\n",
    "                           'review_total_positive_word_counts','days_since_review', 'country_Italy','country_Netherlands','country_Spain','country_United Kingdom',\n",
    "                           'country_France','country_Austria','neg_len_chars','pos_len_chars', 'dayofweek'])"
   ]
  },
  {
   "cell_type": "code",
   "execution_count": 104,
   "metadata": {
    "execution": {
     "iopub.execute_input": "2022-02-08T18:44:36.492193Z",
     "iopub.status.busy": "2022-02-08T18:44:36.491969Z",
     "iopub.status.idle": "2022-02-08T18:44:36.517355Z",
     "shell.execute_reply": "2022-02-08T18:44:36.516571Z",
     "shell.execute_reply.started": "2022-02-08T18:44:36.492165Z"
    },
    "trusted": true
   },
   "outputs": [
    {
     "name": "stdout",
     "output_type": "stream",
     "text": [
      "<class 'pandas.core.frame.DataFrame'>\n",
      "RangeIndex: 515738 entries, 0 to 515737\n",
      "Data columns (total 66 columns):\n",
      " #   Column                                      Non-Null Count   Dtype  \n",
      "---  ------                                      --------------   -----  \n",
      " 0   average_score                               515738 non-null  float64\n",
      " 1   total_number_of_reviews                     515738 non-null  int64  \n",
      " 2   total_number_of_reviews_reviewer_has_given  515738 non-null  int64  \n",
      " 3   lat                                         515738 non-null  float64\n",
      " 4   lng                                         515738 non-null  float64\n",
      " 5   sample                                      515738 non-null  int8   \n",
      " 6   reviewer_score                              515738 non-null  float64\n",
      " 7   city_Milan                                  515738 non-null  int8   \n",
      " 8   city_Amsterdam                              515738 non-null  int8   \n",
      " 9   city_Barcelona                              515738 non-null  int8   \n",
      " 10  city_London                                 515738 non-null  int8   \n",
      " 11  city_Paris                                  515738 non-null  int8   \n",
      " 12  city_Vienna                                 515738 non-null  int8   \n",
      " 13  year                                        515738 non-null  int32  \n",
      " 14  month                                       515738 non-null  int32  \n",
      " 15  is_weekend                                  515738 non-null  int8   \n",
      " 16  quarter                                     515738 non-null  int32  \n",
      " 17  weekofyear                                  515738 non-null  int16  \n",
      " 18  season_spring                               515738 non-null  bool   \n",
      " 19  season_summer                               515738 non-null  bool   \n",
      " 20  season_winter                               515738 non-null  bool   \n",
      " 21  hotel_reviews_cnt                           515738 non-null  int64  \n",
      " 22  city_reviews_cnt                            515738 non-null  int64  \n",
      " 23  hotel_name_freq                             515738 non-null  int32  \n",
      " 24  hotel_name_te                               515738 non-null  float64\n",
      " 25  is_domestic                                 515738 non-null  int8   \n",
      " 26  domestic_x_business                         515738 non-null  int8   \n",
      " 27  domestic_x_leisure                          515738 non-null  int8   \n",
      " 28  reviewer_nationality_freq                   515738 non-null  int64  \n",
      " 29  reviewer_nationality_te                     515738 non-null  float64\n",
      " 30  neg_len_words                               515738 non-null  int64  \n",
      " 31  exclam_cnt                                  515738 non-null  int64  \n",
      " 32  quest_cnt                                   515738 non-null  int64  \n",
      " 33  caps_ratio                                  515738 non-null  float64\n",
      " 34  neg_vader                                   515738 non-null  float64\n",
      " 35  is_no_negative                              515738 non-null  int8   \n",
      " 36  pos_len_words                               515738 non-null  int64  \n",
      " 37  pos_exclam_cnt                              515738 non-null  int64  \n",
      " 38  pos_quest_cnt                               515738 non-null  int64  \n",
      " 39  pos_caps_ratio                              515738 non-null  float64\n",
      " 40  pos_vader                                   515738 non-null  float64\n",
      " 41  is_no_positive                              515738 non-null  int8   \n",
      " 42  neg_kw_cnt                                  515738 non-null  int64  \n",
      " 43  pos_kw_cnt                                  515738 non-null  int64  \n",
      " 44  trip_leisure_trip                           515738 non-null  int64  \n",
      " 45  trip_business_trip                          515738 non-null  int64  \n",
      " 46  companion_couple                            515738 non-null  int8   \n",
      " 47  companion_solo_traveler                     515738 non-null  int64  \n",
      " 48  companion_family_with_young_children        515738 non-null  int64  \n",
      " 49  companion_family_with_older_children        515738 non-null  int64  \n",
      " 50  companion_group                             515738 non-null  int8   \n",
      " 51  stay_length_nan                             515738 non-null  int64  \n",
      " 52  room_type_Room                              515738 non-null  int8   \n",
      " 53  room_type_Suite                             515738 non-null  int8   \n",
      " 54  room_type_Studio                            515738 non-null  int8   \n",
      " 55  room_type_Apartment                         515738 non-null  int8   \n",
      " 56  room_type_nan                               515738 non-null  int8   \n",
      " 57  tag_breakfast                               515738 non-null  int8   \n",
      " 58  tag_parking                                 515738 non-null  int8   \n",
      " 59  tag_spa                                     515738 non-null  int8   \n",
      " 60  tag_gym                                     515738 non-null  int64  \n",
      " 61  tag_pool                                    515738 non-null  int8   \n",
      " 62  tag_airport                                 515738 non-null  int8   \n",
      " 63  tag_metro                                   515738 non-null  int8   \n",
      " 64  tag_city_center                             515738 non-null  int64  \n",
      " 65  dist_center_km                              515738 non-null  float64\n",
      "dtypes: bool(3), float64(11), int16(1), int32(4), int64(21), int8(26)\n",
      "memory usage: 149.0 MB\n"
     ]
    }
   ],
   "source": [
    "hotels.info()"
   ]
  },
  {
   "cell_type": "code",
   "execution_count": 105,
   "metadata": {
    "execution": {
     "iopub.execute_input": "2022-02-08T18:44:36.519263Z",
     "iopub.status.busy": "2022-02-08T18:44:36.518727Z",
     "iopub.status.idle": "2022-02-08T18:44:36.562679Z",
     "shell.execute_reply": "2022-02-08T18:44:36.562103Z",
     "shell.execute_reply.started": "2022-02-08T18:44:36.519234Z"
    },
    "trusted": true
   },
   "outputs": [],
   "source": [
    "# Теперь выделим тестовую часть\n",
    "train_data = hotels.query('sample == 1').drop(['sample'], axis=1)\n",
    "test_data = hotels.query('sample == 0').drop(['sample'], axis=1)\n",
    "\n",
    "y = train_data.reviewer_score.values            # наш таргет\n",
    "X = train_data.drop(['reviewer_score'], axis=1)"
   ]
  },
  {
   "cell_type": "code",
   "execution_count": 106,
   "metadata": {
    "execution": {
     "iopub.execute_input": "2022-02-08T18:44:36.564406Z",
     "iopub.status.busy": "2022-02-08T18:44:36.563976Z",
     "iopub.status.idle": "2022-02-08T18:44:36.612313Z",
     "shell.execute_reply": "2022-02-08T18:44:36.611682Z",
     "shell.execute_reply.started": "2022-02-08T18:44:36.564379Z"
    },
    "trusted": true
   },
   "outputs": [],
   "source": [
    "# Воспользуемся специальной функцие train_test_split для разбивки тестовых данных\n",
    "# выделим 20% данных на валидацию (параметр test_size)\n",
    "X_train, X_test, y_train, y_test = train_test_split(X, y, test_size=0.2, random_state=RANDOM_SEED)"
   ]
  },
  {
   "cell_type": "code",
   "execution_count": 107,
   "metadata": {
    "execution": {
     "iopub.execute_input": "2022-02-08T18:44:36.614067Z",
     "iopub.status.busy": "2022-02-08T18:44:36.613636Z",
     "iopub.status.idle": "2022-02-08T18:44:36.619417Z",
     "shell.execute_reply": "2022-02-08T18:44:36.618871Z",
     "shell.execute_reply.started": "2022-02-08T18:44:36.614037Z"
    },
    "trusted": true
   },
   "outputs": [
    {
     "data": {
      "text/plain": [
       "((128935, 65), (386803, 65), (386803, 64), (309442, 64), (77361, 64))"
      ]
     },
     "execution_count": 107,
     "metadata": {},
     "output_type": "execute_result"
    }
   ],
   "source": [
    "# проверяем\n",
    "test_data.shape, train_data.shape, X.shape, X_train.shape, X_test.shape"
   ]
  },
  {
   "cell_type": "code",
   "execution_count": 108,
   "metadata": {},
   "outputs": [
    {
     "name": "stdout",
     "output_type": "stream",
     "text": [
      "63\n",
      "0.14553661085665226 GB\n",
      "average_score                                 4125904\n",
      "total_number_of_reviews                       4125904\n",
      "total_number_of_reviews_reviewer_has_given    4125904\n",
      "stay_length_nan                               4125904\n",
      "lat                                           4125904\n",
      "lng                                           4125904\n",
      "reviewer_score                                4125904\n",
      "quest_cnt                                     4125904\n",
      "hotel_name_te                                 4125904\n",
      "city_reviews_cnt                              4125904\n",
      "dtype: int64\n"
     ]
    }
   ],
   "source": [
    "# сколько колонок?\n",
    "print(len(hotels.select_dtypes(\"number\").columns))\n",
    "# общий размер\n",
    "print(hotels.memory_usage(deep=True).sum()/1024**3, \"GB\")\n",
    "# самые прожорливые столбцы\n",
    "print(hotels.memory_usage(deep=True).sort_values(ascending=False).head(10))"
   ]
  },
  {
   "cell_type": "code",
   "execution_count": 110,
   "metadata": {},
   "outputs": [
    {
     "name": "stderr",
     "output_type": "stream",
     "text": [
      "C:\\Users\\dmytr\\AppData\\Local\\Temp\\ipykernel_22504\\4003861402.py:63: SettingWithCopyWarning: \n",
      "A value is trying to be set on a copy of a slice from a DataFrame.\n",
      "Try using .loc[row_indexer,col_indexer] = value instead\n",
      "\n",
      "See the caveats in the documentation: https://pandas.pydata.org/pandas-docs/stable/user_guide/indexing.html#returning-a-view-versus-a-copy\n",
      "  X2[c] = X2[c].astype(\"float32\")\n",
      "C:\\Users\\dmytr\\AppData\\Local\\Temp\\ipykernel_22504\\4003861402.py:63: SettingWithCopyWarning: \n",
      "A value is trying to be set on a copy of a slice from a DataFrame.\n",
      "Try using .loc[row_indexer,col_indexer] = value instead\n",
      "\n",
      "See the caveats in the documentation: https://pandas.pydata.org/pandas-docs/stable/user_guide/indexing.html#returning-a-view-versus-a-copy\n",
      "  X2[c] = X2[c].astype(\"float32\")\n",
      "C:\\Users\\dmytr\\AppData\\Local\\Temp\\ipykernel_22504\\4003861402.py:63: SettingWithCopyWarning: \n",
      "A value is trying to be set on a copy of a slice from a DataFrame.\n",
      "Try using .loc[row_indexer,col_indexer] = value instead\n",
      "\n",
      "See the caveats in the documentation: https://pandas.pydata.org/pandas-docs/stable/user_guide/indexing.html#returning-a-view-versus-a-copy\n",
      "  X2[c] = X2[c].astype(\"float32\")\n",
      "C:\\Users\\dmytr\\AppData\\Local\\Temp\\ipykernel_22504\\4003861402.py:63: SettingWithCopyWarning: \n",
      "A value is trying to be set on a copy of a slice from a DataFrame.\n",
      "Try using .loc[row_indexer,col_indexer] = value instead\n",
      "\n",
      "See the caveats in the documentation: https://pandas.pydata.org/pandas-docs/stable/user_guide/indexing.html#returning-a-view-versus-a-copy\n",
      "  X2[c] = X2[c].astype(\"float32\")\n",
      "C:\\Users\\dmytr\\AppData\\Local\\Temp\\ipykernel_22504\\4003861402.py:63: SettingWithCopyWarning: \n",
      "A value is trying to be set on a copy of a slice from a DataFrame.\n",
      "Try using .loc[row_indexer,col_indexer] = value instead\n",
      "\n",
      "See the caveats in the documentation: https://pandas.pydata.org/pandas-docs/stable/user_guide/indexing.html#returning-a-view-versus-a-copy\n",
      "  X2[c] = X2[c].astype(\"float32\")\n",
      "C:\\Users\\dmytr\\AppData\\Local\\Temp\\ipykernel_22504\\4003861402.py:63: SettingWithCopyWarning: \n",
      "A value is trying to be set on a copy of a slice from a DataFrame.\n",
      "Try using .loc[row_indexer,col_indexer] = value instead\n",
      "\n",
      "See the caveats in the documentation: https://pandas.pydata.org/pandas-docs/stable/user_guide/indexing.html#returning-a-view-versus-a-copy\n",
      "  X2[c] = X2[c].astype(\"float32\")\n",
      "C:\\Users\\dmytr\\AppData\\Local\\Temp\\ipykernel_22504\\4003861402.py:63: SettingWithCopyWarning: \n",
      "A value is trying to be set on a copy of a slice from a DataFrame.\n",
      "Try using .loc[row_indexer,col_indexer] = value instead\n",
      "\n",
      "See the caveats in the documentation: https://pandas.pydata.org/pandas-docs/stable/user_guide/indexing.html#returning-a-view-versus-a-copy\n",
      "  X2[c] = X2[c].astype(\"float32\")\n",
      "C:\\Users\\dmytr\\AppData\\Local\\Temp\\ipykernel_22504\\4003861402.py:63: SettingWithCopyWarning: \n",
      "A value is trying to be set on a copy of a slice from a DataFrame.\n",
      "Try using .loc[row_indexer,col_indexer] = value instead\n",
      "\n",
      "See the caveats in the documentation: https://pandas.pydata.org/pandas-docs/stable/user_guide/indexing.html#returning-a-view-versus-a-copy\n",
      "  X2[c] = X2[c].astype(\"float32\")\n",
      "C:\\Users\\dmytr\\AppData\\Local\\Temp\\ipykernel_22504\\4003861402.py:63: SettingWithCopyWarning: \n",
      "A value is trying to be set on a copy of a slice from a DataFrame.\n",
      "Try using .loc[row_indexer,col_indexer] = value instead\n",
      "\n",
      "See the caveats in the documentation: https://pandas.pydata.org/pandas-docs/stable/user_guide/indexing.html#returning-a-view-versus-a-copy\n",
      "  X2[c] = X2[c].astype(\"float32\")\n",
      "C:\\Users\\dmytr\\AppData\\Local\\Temp\\ipykernel_22504\\4003861402.py:63: SettingWithCopyWarning: \n",
      "A value is trying to be set on a copy of a slice from a DataFrame.\n",
      "Try using .loc[row_indexer,col_indexer] = value instead\n",
      "\n",
      "See the caveats in the documentation: https://pandas.pydata.org/pandas-docs/stable/user_guide/indexing.html#returning-a-view-versus-a-copy\n",
      "  X2[c] = X2[c].astype(\"float32\")\n"
     ]
    },
    {
     "name": "stdout",
     "output_type": "stream",
     "text": [
      "[AFS] dropped_by_corr: 4 | candidates: 44 | final: 44\n",
      "Примеры: ['sample', 'pos_vader', 'is_no_negative', 'neg_len_words', 'average_score', 'pos_len_words', 'neg_vader', 'neg_kw_cnt', 'pos_caps_ratio', 'hotel_name_te', 'reviewer_nationality_te', 'caps_ratio', 'pos_kw_cnt', 'total_number_of_reviews_reviewer_has_given', 'reviewer_nationality_freq']\n"
     ]
    }
   ],
   "source": [
    "# === AUTO FEATURE SELECTION (light RAM): variance -> linear corr-filter -> RF screen -> PI(MAPE, threaded) ===\n",
    "import numpy as np\n",
    "import pandas as pd\n",
    "from sklearn.feature_selection import VarianceThreshold\n",
    "from sklearn.model_selection import GroupKFold, KFold\n",
    "from sklearn.ensemble import RandomForestRegressor\n",
    "from sklearn.inspection import permutation_importance\n",
    "from sklearn.impute import SimpleImputer\n",
    "from sklearn.metrics import make_scorer\n",
    "from joblib import parallel_backend\n",
    "\n",
    "# Настройки\n",
    "TARGET_COL = \"reviewer_score\"\n",
    "GROUP_COL  = \"hotel_name\" if \"hotel_name\" in hotels.columns else None\n",
    "N_SPLITS   = 3           # умеренный CV, чтобы не раздуть RAM\n",
    "N_REPEATS  = 2           # повторы для PI\n",
    "TOPK_SCREEN = 120        # сколько кандидатов после быстрого RF-экрана\n",
    "TOPK_FINAL  = 50         # финальный лимит фич\n",
    "N_JOBS_PI   = 8          # потоки для permutation_importance\n",
    "\n",
    "# 0) только строки с таргетом\n",
    "train_mask = hotels[TARGET_COL].notna()\n",
    "\n",
    "# 1) числовые признаки (без таргета)\n",
    "num_cols = hotels.select_dtypes(include=[np.number]).columns.tolist()\n",
    "if TARGET_COL in num_cols:\n",
    "    num_cols.remove(TARGET_COL)\n",
    "\n",
    "X_all = hotels.loc[train_mask, num_cols].copy()\n",
    "y_all = hotels.loc[train_mask, TARGET_COL].astype(float).copy()\n",
    "groups = hotels.loc[train_mask, GROUP_COL] if GROUP_COL else None\n",
    "\n",
    "# 2) дроп констант/почти констант\n",
    "def drop_low_variance(X, thr=0.0):\n",
    "    sel = VarianceThreshold(threshold=thr)\n",
    "    sel.fit(np.nan_to_num(X.values, copy=True))\n",
    "    kept = X.columns[sel.get_support(indices=True)]\n",
    "    return X[kept]\n",
    "\n",
    "X1 = drop_low_variance(X_all, 0.0)\n",
    "\n",
    "# 3) linear corr-filter (без полной матрицы corr(X)): память O(p), а не O(p^2)\n",
    "def corr_filter_linear(X, thr=0.95):\n",
    "    cols = X.columns.tolist()\n",
    "    keep, dropped = [], set()\n",
    "    for i, c in enumerate(cols):\n",
    "        if c in dropped:\n",
    "            continue\n",
    "        keep.append(c)\n",
    "        tail = [t for t in cols[i+1:] if t not in dropped]\n",
    "        if not tail:\n",
    "            continue\n",
    "        cw = X[tail].corrwith(X[c]).abs()\n",
    "        bad = cw[cw >= thr].index.tolist()\n",
    "        dropped.update(bad)\n",
    "    return X[keep], sorted(list(dropped))\n",
    "\n",
    "X2, dropped_corr = corr_filter_linear(X1, thr=0.95)\n",
    "\n",
    "# 3.1) Даункаст до float32 (в 2 раза экономнее по памяти)\n",
    "for c in X2.columns:\n",
    "    if pd.api.types.is_float_dtype(X2[c]):\n",
    "        X2[c] = X2[c].astype(\"float32\")\n",
    "\n",
    "# 4) двухступенчатый отбор под MAPE\n",
    "imp = SimpleImputer(strategy=\"constant\", fill_value=0.0)\n",
    "\n",
    "# 4.1) быстрый RF-screen (impurity FI) -> кандидаты\n",
    "X2_imp = imp.fit_transform(X2)\n",
    "rf_screen = RandomForestRegressor(n_estimators=200, n_jobs=-1, random_state=42)\n",
    "rf_screen.fit(X2_imp, y_all)\n",
    "fi = pd.Series(rf_screen.feature_importances_, index=X2.columns).sort_values(ascending=False)\n",
    "candidates = fi.head(min(TOPK_SCREEN, len(fi))).index.tolist()\n",
    "X3 = X2[candidates].copy()  # (на всякий случай, если пригодится)\n",
    "\n",
    "# 4.2) Permutation Importance по MAPE только на кандидатах (параллелим потоками)\n",
    "def safe_mape(y_true, y_pred, eps=1e-3):\n",
    "    y_true = np.asarray(y_true, float)\n",
    "    y_pred = np.asarray(y_pred, float)\n",
    "    denom = np.maximum(np.abs(y_true), eps)\n",
    "    return np.mean(np.abs((y_true - y_pred) / denom)) * 100.0\n",
    "\n",
    "mape_scorer = make_scorer(safe_mape, greater_is_better=False)\n",
    "\n",
    "def pi_cv_importance_on_candidates(X, y, cols, groups=None, n_splits=3, n_repeats=2, n_jobs=8, random_state=42):\n",
    "    cv = GroupKFold(n_splits) if groups is not None else KFold(n_splits, shuffle=True, random_state=random_state)\n",
    "    cols = list(cols)\n",
    "    imp_sum = np.zeros(len(cols), dtype=float)\n",
    "\n",
    "    for tr, va in cv.split(X, y, groups):\n",
    "        Xtr = imp.fit_transform(X.iloc[tr][cols]).astype(\"float32\")\n",
    "        Xva = imp.transform(X.iloc[va][cols]).astype(\"float32\")\n",
    "        ytr, yva = y.iloc[tr].values, y.iloc[va].values\n",
    "\n",
    "        est = RandomForestRegressor(n_estimators=300, n_jobs=-1, random_state=random_state)\n",
    "        est.fit(Xtr, ytr)\n",
    "\n",
    "        # Поточный backend -> не форкаем процессы, нет PicklingError\n",
    "        with parallel_backend(\"threading\", n_jobs=n_jobs):\n",
    "            pi = permutation_importance(\n",
    "                est, Xva, yva,\n",
    "                scoring=mape_scorer,\n",
    "                n_repeats=n_repeats,\n",
    "                random_state=random_state,\n",
    "                n_jobs=n_jobs\n",
    "            )\n",
    "        imp_sum += pi.importances_mean\n",
    "\n",
    "    imp_mean = imp_sum / n_splits\n",
    "    df = pd.DataFrame({\"feature\": cols, \"importance\": imp_mean}).sort_values(\"importance\", ascending=False)\n",
    "    total = df[\"importance\"].clip(lower=0).sum()\n",
    "    df[\"importance_norm\"] = df[\"importance\"].clip(lower=0) / (total if total > 0 else 1.0)\n",
    "    df[\"cum_importance\"]  = df[\"importance_norm\"].cumsum()\n",
    "    return df\n",
    "\n",
    "importances_df = pi_cv_importance_on_candidates(\n",
    "    X2, y_all, candidates, groups=groups,\n",
    "    n_splits=N_SPLITS, n_repeats=N_REPEATS, n_jobs=N_JOBS_PI, random_state=42\n",
    ")\n",
    "\n",
    "# 5) финальный набор фич (компактный)\n",
    "selected_features = importances_df.loc[\n",
    "    (importances_df[\"cum_importance\"] <= 0.95) | (importances_df.index < TOPK_FINAL),\n",
    "    \"feature\"\n",
    "].head(TOPK_FINAL).tolist()\n",
    "\n",
    "# 6) матрицы для обучения / инференса\n",
    "X_train = hotels.loc[train_mask, selected_features].copy()\n",
    "X_test  = hotels.loc[~train_mask, selected_features].copy()\n",
    "\n",
    "print(f\"[AFS] dropped_by_corr: {len(dropped_corr)} | candidates: {len(candidates)} | final: {len(selected_features)}\")\n",
    "print(\"Примеры:\", selected_features[:15])\n"
   ]
  },
  {
   "cell_type": "code",
   "execution_count": 114,
   "metadata": {},
   "outputs": [
    {
     "name": "stdout",
     "output_type": "stream",
     "text": [
      "Константы: 14\n",
      "Корреляция: 4 -> ['city_reviews_cnt', 'hotel_name_freq', 'quarter', 'weekofyear']\n",
      "Отсев screen (RF topK): 0 -> []\n",
      "Отсев PI(MAPE): 0 -> []\n",
      "Финальные (kept): 44 -> ['average_score', 'caps_ratio', 'city_Amsterdam', 'city_Barcelona', 'city_London', 'city_Milan', 'city_Paris', 'city_Vienna', 'companion_couple', 'companion_group']\n"
     ]
    },
    {
     "data": {
      "text/plain": [
       "stage\n",
       "dropped_const    14\n",
       "dropped_corr      4\n",
       "kept_final       44\n",
       "dtype: int64"
      ]
     },
     "metadata": {},
     "output_type": "display_data"
    },
    {
     "data": {
      "text/html": [
       "<div>\n",
       "<style scoped>\n",
       "    .dataframe tbody tr th:only-of-type {\n",
       "        vertical-align: middle;\n",
       "    }\n",
       "\n",
       "    .dataframe tbody tr th {\n",
       "        vertical-align: top;\n",
       "    }\n",
       "\n",
       "    .dataframe thead th {\n",
       "        text-align: right;\n",
       "    }\n",
       "</style>\n",
       "<table border=\"1\" class=\"dataframe\">\n",
       "  <thead>\n",
       "    <tr style=\"text-align: right;\">\n",
       "      <th></th>\n",
       "      <th>feature</th>\n",
       "      <th>stage</th>\n",
       "    </tr>\n",
       "  </thead>\n",
       "  <tbody>\n",
       "    <tr>\n",
       "      <th>0</th>\n",
       "      <td>companion_family_with_older_children</td>\n",
       "      <td>dropped_const</td>\n",
       "    </tr>\n",
       "    <tr>\n",
       "      <th>1</th>\n",
       "      <td>companion_family_with_young_children</td>\n",
       "      <td>dropped_const</td>\n",
       "    </tr>\n",
       "    <tr>\n",
       "      <th>2</th>\n",
       "      <td>companion_solo_traveler</td>\n",
       "      <td>dropped_const</td>\n",
       "    </tr>\n",
       "    <tr>\n",
       "      <th>3</th>\n",
       "      <td>domestic_x_business</td>\n",
       "      <td>dropped_const</td>\n",
       "    </tr>\n",
       "    <tr>\n",
       "      <th>4</th>\n",
       "      <td>domestic_x_leisure</td>\n",
       "      <td>dropped_const</td>\n",
       "    </tr>\n",
       "    <tr>\n",
       "      <th>5</th>\n",
       "      <td>exclam_cnt</td>\n",
       "      <td>dropped_const</td>\n",
       "    </tr>\n",
       "    <tr>\n",
       "      <th>6</th>\n",
       "      <td>pos_exclam_cnt</td>\n",
       "      <td>dropped_const</td>\n",
       "    </tr>\n",
       "    <tr>\n",
       "      <th>7</th>\n",
       "      <td>pos_quest_cnt</td>\n",
       "      <td>dropped_const</td>\n",
       "    </tr>\n",
       "    <tr>\n",
       "      <th>8</th>\n",
       "      <td>quest_cnt</td>\n",
       "      <td>dropped_const</td>\n",
       "    </tr>\n",
       "    <tr>\n",
       "      <th>9</th>\n",
       "      <td>stay_length_nan</td>\n",
       "      <td>dropped_const</td>\n",
       "    </tr>\n",
       "    <tr>\n",
       "      <th>10</th>\n",
       "      <td>tag_city_center</td>\n",
       "      <td>dropped_const</td>\n",
       "    </tr>\n",
       "    <tr>\n",
       "      <th>11</th>\n",
       "      <td>tag_gym</td>\n",
       "      <td>dropped_const</td>\n",
       "    </tr>\n",
       "    <tr>\n",
       "      <th>12</th>\n",
       "      <td>trip_business_trip</td>\n",
       "      <td>dropped_const</td>\n",
       "    </tr>\n",
       "    <tr>\n",
       "      <th>13</th>\n",
       "      <td>trip_leisure_trip</td>\n",
       "      <td>dropped_const</td>\n",
       "    </tr>\n",
       "    <tr>\n",
       "      <th>14</th>\n",
       "      <td>city_reviews_cnt</td>\n",
       "      <td>dropped_corr</td>\n",
       "    </tr>\n",
       "    <tr>\n",
       "      <th>15</th>\n",
       "      <td>hotel_name_freq</td>\n",
       "      <td>dropped_corr</td>\n",
       "    </tr>\n",
       "    <tr>\n",
       "      <th>16</th>\n",
       "      <td>quarter</td>\n",
       "      <td>dropped_corr</td>\n",
       "    </tr>\n",
       "    <tr>\n",
       "      <th>17</th>\n",
       "      <td>weekofyear</td>\n",
       "      <td>dropped_corr</td>\n",
       "    </tr>\n",
       "    <tr>\n",
       "      <th>18</th>\n",
       "      <td>average_score</td>\n",
       "      <td>kept_final</td>\n",
       "    </tr>\n",
       "    <tr>\n",
       "      <th>19</th>\n",
       "      <td>caps_ratio</td>\n",
       "      <td>kept_final</td>\n",
       "    </tr>\n",
       "  </tbody>\n",
       "</table>\n",
       "</div>"
      ],
      "text/plain": [
       "                                 feature          stage\n",
       "0   companion_family_with_older_children  dropped_const\n",
       "1   companion_family_with_young_children  dropped_const\n",
       "2                companion_solo_traveler  dropped_const\n",
       "3                    domestic_x_business  dropped_const\n",
       "4                     domestic_x_leisure  dropped_const\n",
       "5                             exclam_cnt  dropped_const\n",
       "6                         pos_exclam_cnt  dropped_const\n",
       "7                          pos_quest_cnt  dropped_const\n",
       "8                              quest_cnt  dropped_const\n",
       "9                        stay_length_nan  dropped_const\n",
       "10                       tag_city_center  dropped_const\n",
       "11                               tag_gym  dropped_const\n",
       "12                    trip_business_trip  dropped_const\n",
       "13                     trip_leisure_trip  dropped_const\n",
       "14                      city_reviews_cnt   dropped_corr\n",
       "15                       hotel_name_freq   dropped_corr\n",
       "16                               quarter   dropped_corr\n",
       "17                            weekofyear   dropped_corr\n",
       "18                         average_score     kept_final\n",
       "19                            caps_ratio     kept_final"
      ]
     },
     "metadata": {},
     "output_type": "display_data"
    }
   ],
   "source": [
    "# --- Итоги отбора: кто и где отвалился/остался ---\n",
    "all_num        = set(X_all.columns)        # все числовые фичи до отбора\n",
    "kept_lv        = set(X1.columns)           # после low-variance\n",
    "kept_corr      = set(X2.columns)           # после corr_filter_linear\n",
    "screen_cand    = set(candidates)           # прошли быстрый RF-screen\n",
    "kept_final     = set(selected_features)    # финальные фичи\n",
    "\n",
    "dropped_const  = sorted(all_num  - kept_lv)          # константы/квазиконстанты\n",
    "# если переменная dropped_corr у тебя уже есть — можно использовать её;\n",
    "# на всякий пересчитаем из X1 -> X2:\n",
    "dropped_corr_2 = sorted(set(X1.columns) - kept_corr)\n",
    "dropped_corr   = dropped_corr if 'dropped_corr' in globals() else dropped_corr_2\n",
    "\n",
    "dropped_screen = sorted(kept_corr   - screen_cand)   # отсеяны на экране (не попали в topK)\n",
    "dropped_pi     = sorted(screen_cand - kept_final)    # отсеяны permutation importance\n",
    "\n",
    "print(f\"Константы: {len(dropped_const)}\")\n",
    "print(f\"Корреляция: {len(dropped_corr)} -> {dropped_corr[:10]}\")\n",
    "print(f\"Отсев screen (RF topK): {len(dropped_screen)} -> {dropped_screen[:10]}\")\n",
    "print(f\"Отсев PI(MAPE): {len(dropped_pi)} -> {dropped_pi[:10]}\")\n",
    "print(f\"Финальные (kept): {len(kept_final)} -> {sorted(list(kept_final))[:10]}\")\n",
    "\n",
    "# аккуратный отчёт по стадиям\n",
    "rows = []\n",
    "rows += [(f, \"dropped_const\")     for f in dropped_const]\n",
    "rows += [(f, \"dropped_corr\")      for f in dropped_corr]\n",
    "rows += [(f, \"dropped_screen\")    for f in dropped_screen]\n",
    "rows += [(f, \"dropped_after_PI\")  for f in dropped_pi]\n",
    "rows += [(f, \"kept_final\")        for f in sorted(kept_final)]\n",
    "\n",
    "feature_selection_report = pd.DataFrame(rows, columns=[\"feature\", \"stage\"])\n",
    "\n",
    "# удобно посмотреть/сохранить:\n",
    "display(feature_selection_report.groupby(\"stage\").size())\n",
    "display(feature_selection_report.head(20))\n",
    "# feature_selection_report.to_csv(\"feature_selection_report.csv\", index=False)"
   ]
  },
  {
   "cell_type": "code",
   "execution_count": 111,
   "metadata": {
    "execution": {
     "iopub.execute_input": "2022-02-08T18:44:36.620931Z",
     "iopub.status.busy": "2022-02-08T18:44:36.620476Z",
     "iopub.status.idle": "2022-02-08T18:44:36.630108Z",
     "shell.execute_reply": "2022-02-08T18:44:36.629422Z",
     "shell.execute_reply.started": "2022-02-08T18:44:36.620894Z"
    },
    "trusted": true
   },
   "outputs": [],
   "source": [
    "# Импортируем необходимые библиотеки:\n",
    "from sklearn.ensemble import RandomForestRegressor # инструмент для создания и обучения модели\n",
    "from sklearn import metrics # инструменты для оценки точности модели"
   ]
  },
  {
   "cell_type": "code",
   "execution_count": 112,
   "metadata": {
    "execution": {
     "iopub.execute_input": "2022-02-08T18:44:36.631625Z",
     "iopub.status.busy": "2022-02-08T18:44:36.631199Z",
     "iopub.status.idle": "2022-02-08T18:44:36.683947Z",
     "shell.execute_reply": "2022-02-08T18:44:36.683132Z",
     "shell.execute_reply.started": "2022-02-08T18:44:36.631597Z"
    },
    "trusted": true
   },
   "outputs": [],
   "source": [
    "# Создаём модель (НАСТРОЙКИ НЕ ТРОГАЕМ)\n",
    "model = RandomForestRegressor(n_estimators=100, verbose=1, n_jobs=-1, random_state=RANDOM_SEED)"
   ]
  },
  {
   "cell_type": "code",
   "execution_count": 113,
   "metadata": {
    "execution": {
     "iopub.execute_input": "2022-02-08T18:44:36.685824Z",
     "iopub.status.busy": "2022-02-08T18:44:36.685163Z",
     "iopub.status.idle": "2022-02-08T18:45:41.406488Z",
     "shell.execute_reply": "2022-02-08T18:45:41.405586Z",
     "shell.execute_reply.started": "2022-02-08T18:44:36.685783Z"
    },
    "trusted": true
   },
   "outputs": [
    {
     "ename": "ValueError",
     "evalue": "Found input variables with inconsistent numbers of samples: [515738, 309442]",
     "output_type": "error",
     "traceback": [
      "\u001b[1;31m---------------------------------------------------------------------------\u001b[0m",
      "\u001b[1;31mValueError\u001b[0m                                Traceback (most recent call last)",
      "Cell \u001b[1;32mIn[113], line 2\u001b[0m\n\u001b[0;32m      1\u001b[0m \u001b[38;5;66;03m# Обучаем модель на тестовом наборе данных\u001b[39;00m\n\u001b[1;32m----> 2\u001b[0m \u001b[43mmodel\u001b[49m\u001b[38;5;241;43m.\u001b[39;49m\u001b[43mfit\u001b[49m\u001b[43m(\u001b[49m\u001b[43mX_train\u001b[49m\u001b[43m,\u001b[49m\u001b[43m \u001b[49m\u001b[43my_train\u001b[49m\u001b[43m)\u001b[49m\n\u001b[0;32m      4\u001b[0m \u001b[38;5;66;03m# Используем обученную модель для предсказания рейтинга ресторанов в тестовой выборке.\u001b[39;00m\n\u001b[0;32m      5\u001b[0m \u001b[38;5;66;03m# Предсказанные значения записываем в переменную y_pred\u001b[39;00m\n\u001b[0;32m      6\u001b[0m y_pred \u001b[38;5;241m=\u001b[39m model\u001b[38;5;241m.\u001b[39mpredict(X_test)\n",
      "File \u001b[1;32mc:\\Users\\dmytr\\AppData\\Local\\Programs\\Python\\Python312\\Lib\\site-packages\\sklearn\\base.py:1365\u001b[0m, in \u001b[0;36m_fit_context.<locals>.decorator.<locals>.wrapper\u001b[1;34m(estimator, *args, **kwargs)\u001b[0m\n\u001b[0;32m   1358\u001b[0m     estimator\u001b[38;5;241m.\u001b[39m_validate_params()\n\u001b[0;32m   1360\u001b[0m \u001b[38;5;28;01mwith\u001b[39;00m config_context(\n\u001b[0;32m   1361\u001b[0m     skip_parameter_validation\u001b[38;5;241m=\u001b[39m(\n\u001b[0;32m   1362\u001b[0m         prefer_skip_nested_validation \u001b[38;5;129;01mor\u001b[39;00m global_skip_validation\n\u001b[0;32m   1363\u001b[0m     )\n\u001b[0;32m   1364\u001b[0m ):\n\u001b[1;32m-> 1365\u001b[0m     \u001b[38;5;28;01mreturn\u001b[39;00m \u001b[43mfit_method\u001b[49m\u001b[43m(\u001b[49m\u001b[43mestimator\u001b[49m\u001b[43m,\u001b[49m\u001b[43m \u001b[49m\u001b[38;5;241;43m*\u001b[39;49m\u001b[43margs\u001b[49m\u001b[43m,\u001b[49m\u001b[43m \u001b[49m\u001b[38;5;241;43m*\u001b[39;49m\u001b[38;5;241;43m*\u001b[39;49m\u001b[43mkwargs\u001b[49m\u001b[43m)\u001b[49m\n",
      "File \u001b[1;32mc:\\Users\\dmytr\\AppData\\Local\\Programs\\Python\\Python312\\Lib\\site-packages\\sklearn\\ensemble\\_forest.py:359\u001b[0m, in \u001b[0;36mBaseForest.fit\u001b[1;34m(self, X, y, sample_weight)\u001b[0m\n\u001b[0;32m    356\u001b[0m \u001b[38;5;28;01mif\u001b[39;00m issparse(y):\n\u001b[0;32m    357\u001b[0m     \u001b[38;5;28;01mraise\u001b[39;00m \u001b[38;5;167;01mValueError\u001b[39;00m(\u001b[38;5;124m\"\u001b[39m\u001b[38;5;124msparse multilabel-indicator for y is not supported.\u001b[39m\u001b[38;5;124m\"\u001b[39m)\n\u001b[1;32m--> 359\u001b[0m X, y \u001b[38;5;241m=\u001b[39m \u001b[43mvalidate_data\u001b[49m\u001b[43m(\u001b[49m\n\u001b[0;32m    360\u001b[0m \u001b[43m    \u001b[49m\u001b[38;5;28;43mself\u001b[39;49m\u001b[43m,\u001b[49m\n\u001b[0;32m    361\u001b[0m \u001b[43m    \u001b[49m\u001b[43mX\u001b[49m\u001b[43m,\u001b[49m\n\u001b[0;32m    362\u001b[0m \u001b[43m    \u001b[49m\u001b[43my\u001b[49m\u001b[43m,\u001b[49m\n\u001b[0;32m    363\u001b[0m \u001b[43m    \u001b[49m\u001b[43mmulti_output\u001b[49m\u001b[38;5;241;43m=\u001b[39;49m\u001b[38;5;28;43;01mTrue\u001b[39;49;00m\u001b[43m,\u001b[49m\n\u001b[0;32m    364\u001b[0m \u001b[43m    \u001b[49m\u001b[43maccept_sparse\u001b[49m\u001b[38;5;241;43m=\u001b[39;49m\u001b[38;5;124;43m\"\u001b[39;49m\u001b[38;5;124;43mcsc\u001b[39;49m\u001b[38;5;124;43m\"\u001b[39;49m\u001b[43m,\u001b[49m\n\u001b[0;32m    365\u001b[0m \u001b[43m    \u001b[49m\u001b[43mdtype\u001b[49m\u001b[38;5;241;43m=\u001b[39;49m\u001b[43mDTYPE\u001b[49m\u001b[43m,\u001b[49m\n\u001b[0;32m    366\u001b[0m \u001b[43m    \u001b[49m\u001b[43mensure_all_finite\u001b[49m\u001b[38;5;241;43m=\u001b[39;49m\u001b[38;5;28;43;01mFalse\u001b[39;49;00m\u001b[43m,\u001b[49m\n\u001b[0;32m    367\u001b[0m \u001b[43m\u001b[49m\u001b[43m)\u001b[49m\n\u001b[0;32m    368\u001b[0m \u001b[38;5;66;03m# _compute_missing_values_in_feature_mask checks if X has missing values and\u001b[39;00m\n\u001b[0;32m    369\u001b[0m \u001b[38;5;66;03m# will raise an error if the underlying tree base estimator can't handle missing\u001b[39;00m\n\u001b[0;32m    370\u001b[0m \u001b[38;5;66;03m# values. Only the criterion is required to determine if the tree supports\u001b[39;00m\n\u001b[0;32m    371\u001b[0m \u001b[38;5;66;03m# missing values.\u001b[39;00m\n\u001b[0;32m    372\u001b[0m estimator \u001b[38;5;241m=\u001b[39m \u001b[38;5;28mtype\u001b[39m(\u001b[38;5;28mself\u001b[39m\u001b[38;5;241m.\u001b[39mestimator)(criterion\u001b[38;5;241m=\u001b[39m\u001b[38;5;28mself\u001b[39m\u001b[38;5;241m.\u001b[39mcriterion)\n",
      "File \u001b[1;32mc:\\Users\\dmytr\\AppData\\Local\\Programs\\Python\\Python312\\Lib\\site-packages\\sklearn\\utils\\validation.py:2971\u001b[0m, in \u001b[0;36mvalidate_data\u001b[1;34m(_estimator, X, y, reset, validate_separately, skip_check_array, **check_params)\u001b[0m\n\u001b[0;32m   2969\u001b[0m         y \u001b[38;5;241m=\u001b[39m check_array(y, input_name\u001b[38;5;241m=\u001b[39m\u001b[38;5;124m\"\u001b[39m\u001b[38;5;124my\u001b[39m\u001b[38;5;124m\"\u001b[39m, \u001b[38;5;241m*\u001b[39m\u001b[38;5;241m*\u001b[39mcheck_y_params)\n\u001b[0;32m   2970\u001b[0m     \u001b[38;5;28;01melse\u001b[39;00m:\n\u001b[1;32m-> 2971\u001b[0m         X, y \u001b[38;5;241m=\u001b[39m \u001b[43mcheck_X_y\u001b[49m\u001b[43m(\u001b[49m\u001b[43mX\u001b[49m\u001b[43m,\u001b[49m\u001b[43m \u001b[49m\u001b[43my\u001b[49m\u001b[43m,\u001b[49m\u001b[43m \u001b[49m\u001b[38;5;241;43m*\u001b[39;49m\u001b[38;5;241;43m*\u001b[39;49m\u001b[43mcheck_params\u001b[49m\u001b[43m)\u001b[49m\n\u001b[0;32m   2972\u001b[0m     out \u001b[38;5;241m=\u001b[39m X, y\n\u001b[0;32m   2974\u001b[0m \u001b[38;5;28;01mif\u001b[39;00m \u001b[38;5;129;01mnot\u001b[39;00m no_val_X \u001b[38;5;129;01mand\u001b[39;00m check_params\u001b[38;5;241m.\u001b[39mget(\u001b[38;5;124m\"\u001b[39m\u001b[38;5;124mensure_2d\u001b[39m\u001b[38;5;124m\"\u001b[39m, \u001b[38;5;28;01mTrue\u001b[39;00m):\n",
      "File \u001b[1;32mc:\\Users\\dmytr\\AppData\\Local\\Programs\\Python\\Python312\\Lib\\site-packages\\sklearn\\utils\\validation.py:1387\u001b[0m, in \u001b[0;36mcheck_X_y\u001b[1;34m(X, y, accept_sparse, accept_large_sparse, dtype, order, copy, force_writeable, force_all_finite, ensure_all_finite, ensure_2d, allow_nd, multi_output, ensure_min_samples, ensure_min_features, y_numeric, estimator)\u001b[0m\n\u001b[0;32m   1368\u001b[0m X \u001b[38;5;241m=\u001b[39m check_array(\n\u001b[0;32m   1369\u001b[0m     X,\n\u001b[0;32m   1370\u001b[0m     accept_sparse\u001b[38;5;241m=\u001b[39maccept_sparse,\n\u001b[1;32m   (...)\u001b[0m\n\u001b[0;32m   1382\u001b[0m     input_name\u001b[38;5;241m=\u001b[39m\u001b[38;5;124m\"\u001b[39m\u001b[38;5;124mX\u001b[39m\u001b[38;5;124m\"\u001b[39m,\n\u001b[0;32m   1383\u001b[0m )\n\u001b[0;32m   1385\u001b[0m y \u001b[38;5;241m=\u001b[39m _check_y(y, multi_output\u001b[38;5;241m=\u001b[39mmulti_output, y_numeric\u001b[38;5;241m=\u001b[39my_numeric, estimator\u001b[38;5;241m=\u001b[39mestimator)\n\u001b[1;32m-> 1387\u001b[0m \u001b[43mcheck_consistent_length\u001b[49m\u001b[43m(\u001b[49m\u001b[43mX\u001b[49m\u001b[43m,\u001b[49m\u001b[43m \u001b[49m\u001b[43my\u001b[49m\u001b[43m)\u001b[49m\n\u001b[0;32m   1389\u001b[0m \u001b[38;5;28;01mreturn\u001b[39;00m X, y\n",
      "File \u001b[1;32mc:\\Users\\dmytr\\AppData\\Local\\Programs\\Python\\Python312\\Lib\\site-packages\\sklearn\\utils\\validation.py:473\u001b[0m, in \u001b[0;36mcheck_consistent_length\u001b[1;34m(*arrays)\u001b[0m\n\u001b[0;32m    471\u001b[0m lengths \u001b[38;5;241m=\u001b[39m [_num_samples(X) \u001b[38;5;28;01mfor\u001b[39;00m X \u001b[38;5;129;01min\u001b[39;00m arrays \u001b[38;5;28;01mif\u001b[39;00m X \u001b[38;5;129;01mis\u001b[39;00m \u001b[38;5;129;01mnot\u001b[39;00m \u001b[38;5;28;01mNone\u001b[39;00m]\n\u001b[0;32m    472\u001b[0m \u001b[38;5;28;01mif\u001b[39;00m \u001b[38;5;28mlen\u001b[39m(\u001b[38;5;28mset\u001b[39m(lengths)) \u001b[38;5;241m>\u001b[39m \u001b[38;5;241m1\u001b[39m:\n\u001b[1;32m--> 473\u001b[0m     \u001b[38;5;28;01mraise\u001b[39;00m \u001b[38;5;167;01mValueError\u001b[39;00m(\n\u001b[0;32m    474\u001b[0m         \u001b[38;5;124m\"\u001b[39m\u001b[38;5;124mFound input variables with inconsistent numbers of samples: \u001b[39m\u001b[38;5;132;01m%r\u001b[39;00m\u001b[38;5;124m\"\u001b[39m\n\u001b[0;32m    475\u001b[0m         \u001b[38;5;241m%\u001b[39m [\u001b[38;5;28mint\u001b[39m(l) \u001b[38;5;28;01mfor\u001b[39;00m l \u001b[38;5;129;01min\u001b[39;00m lengths]\n\u001b[0;32m    476\u001b[0m     )\n",
      "\u001b[1;31mValueError\u001b[0m: Found input variables with inconsistent numbers of samples: [515738, 309442]"
     ]
    }
   ],
   "source": [
    "# Обучаем модель на тестовом наборе данных\n",
    "model.fit(X_train, y_train)\n",
    "\n",
    "# Используем обученную модель для предсказания рейтинга ресторанов в тестовой выборке.\n",
    "# Предсказанные значения записываем в переменную y_pred\n",
    "y_pred = model.predict(X_test)"
   ]
  },
  {
   "cell_type": "code",
   "execution_count": null,
   "metadata": {
    "execution": {
     "iopub.execute_input": "2022-02-08T18:45:41.407913Z",
     "iopub.status.busy": "2022-02-08T18:45:41.407709Z",
     "iopub.status.idle": "2022-02-08T18:45:41.414446Z",
     "shell.execute_reply": "2022-02-08T18:45:41.413947Z",
     "shell.execute_reply.started": "2022-02-08T18:45:41.407883Z"
    },
    "trusted": true
   },
   "outputs": [],
   "source": [
    "# Сравниваем предсказанные значения (y_pred) с реальными (y_test), и смотрим насколько они в среднем отличаются\n",
    "# Метрика называется Mean Absolute Error (MAE) и показывает среднее отклонение предсказанных значений от фактических.\n",
    "print('MAPE:', metrics.mean_absolute_error(y_test, y_pred))"
   ]
  },
  {
   "cell_type": "code",
   "execution_count": null,
   "metadata": {
    "execution": {
     "iopub.execute_input": "2022-02-08T18:45:41.416118Z",
     "iopub.status.busy": "2022-02-08T18:45:41.415495Z",
     "iopub.status.idle": "2022-02-08T18:45:41.864724Z",
     "shell.execute_reply": "2022-02-08T18:45:41.864128Z",
     "shell.execute_reply.started": "2022-02-08T18:45:41.416087Z"
    },
    "trusted": true
   },
   "outputs": [],
   "source": [
    "# в RandomForestRegressor есть возможность вывести самые важные признаки для модели\n",
    "plt.rcParams['figure.figsize'] = (10,10)\n",
    "feat_importances = pd.Series(model.feature_importances_, index=X.columns)\n",
    "feat_importances.nlargest(15).plot(kind='barh')"
   ]
  },
  {
   "cell_type": "code",
   "execution_count": null,
   "metadata": {
    "execution": {
     "iopub.execute_input": "2022-02-08T18:45:41.866062Z",
     "iopub.status.busy": "2022-02-08T18:45:41.86571Z",
     "iopub.status.idle": "2022-02-08T18:45:41.884306Z",
     "shell.execute_reply": "2022-02-08T18:45:41.883577Z",
     "shell.execute_reply.started": "2022-02-08T18:45:41.866035Z"
    },
    "trusted": true
   },
   "outputs": [],
   "source": [
    "test_data.sample(10)"
   ]
  },
  {
   "cell_type": "code",
   "execution_count": null,
   "metadata": {
    "execution": {
     "iopub.execute_input": "2022-02-08T18:45:41.885594Z",
     "iopub.status.busy": "2022-02-08T18:45:41.885388Z",
     "iopub.status.idle": "2022-02-08T18:45:41.892093Z",
     "shell.execute_reply": "2022-02-08T18:45:41.891222Z",
     "shell.execute_reply.started": "2022-02-08T18:45:41.885567Z"
    },
    "trusted": true
   },
   "outputs": [],
   "source": [
    "test_data = test_data.drop(['reviewer_score'], axis=1)"
   ]
  },
  {
   "cell_type": "code",
   "execution_count": null,
   "metadata": {
    "execution": {
     "iopub.execute_input": "2022-02-08T18:45:41.893332Z",
     "iopub.status.busy": "2022-02-08T18:45:41.893146Z",
     "iopub.status.idle": "2022-02-08T18:45:41.909665Z",
     "shell.execute_reply": "2022-02-08T18:45:41.908885Z",
     "shell.execute_reply.started": "2022-02-08T18:45:41.893309Z"
    },
    "trusted": true
   },
   "outputs": [],
   "source": [
    "sample_submission"
   ]
  },
  {
   "cell_type": "code",
   "execution_count": null,
   "metadata": {
    "execution": {
     "iopub.execute_input": "2022-02-08T18:45:41.912958Z",
     "iopub.status.busy": "2022-02-08T18:45:41.911197Z",
     "iopub.status.idle": "2022-02-08T18:45:44.230401Z",
     "shell.execute_reply": "2022-02-08T18:45:44.229808Z",
     "shell.execute_reply.started": "2022-02-08T18:45:41.912914Z"
    },
    "trusted": true
   },
   "outputs": [],
   "source": [
    "predict_submission = model.predict(test_data)"
   ]
  },
  {
   "cell_type": "code",
   "execution_count": null,
   "metadata": {
    "execution": {
     "iopub.execute_input": "2022-02-08T18:45:44.23145Z",
     "iopub.status.busy": "2022-02-08T18:45:44.231245Z",
     "iopub.status.idle": "2022-02-08T18:45:44.237626Z",
     "shell.execute_reply": "2022-02-08T18:45:44.236794Z",
     "shell.execute_reply.started": "2022-02-08T18:45:44.231424Z"
    },
    "trusted": true
   },
   "outputs": [],
   "source": [
    "predict_submission"
   ]
  },
  {
   "cell_type": "code",
   "execution_count": null,
   "metadata": {
    "execution": {
     "iopub.execute_input": "2022-02-08T18:45:44.239657Z",
     "iopub.status.busy": "2022-02-08T18:45:44.23939Z",
     "iopub.status.idle": "2022-02-08T18:45:44.249217Z",
     "shell.execute_reply": "2022-02-08T18:45:44.248289Z",
     "shell.execute_reply.started": "2022-02-08T18:45:44.239621Z"
    },
    "trusted": true
   },
   "outputs": [],
   "source": [
    "list(sample_submission)"
   ]
  },
  {
   "cell_type": "code",
   "execution_count": null,
   "metadata": {
    "execution": {
     "iopub.execute_input": "2022-02-08T18:45:44.250806Z",
     "iopub.status.busy": "2022-02-08T18:45:44.250349Z",
     "iopub.status.idle": "2022-02-08T18:45:44.675802Z",
     "shell.execute_reply": "2022-02-08T18:45:44.675241Z",
     "shell.execute_reply.started": "2022-02-08T18:45:44.250765Z"
    },
    "trusted": true
   },
   "outputs": [],
   "source": [
    "sample_submission['reviewer_score'] = predict_submission\n",
    "sample_submission.to_csv('submission.csv', index=False)\n",
    "sample_submission.head(10)"
   ]
  },
  {
   "cell_type": "code",
   "execution_count": null,
   "metadata": {},
   "outputs": [],
   "source": []
  },
  {
   "cell_type": "code",
   "execution_count": null,
   "metadata": {},
   "outputs": [],
   "source": []
  }
 ],
 "metadata": {
  "kaggle": {
   "accelerator": "none",
   "dataSources": [
    {
     "databundleVersionId": 3207826,
     "sourceId": 34288,
     "sourceType": "competition"
    }
   ],
   "dockerImageVersionId": 30157,
   "isGpuEnabled": false,
   "isInternetEnabled": false,
   "language": "python",
   "sourceType": "notebook"
  },
  "kernelspec": {
   "display_name": "Python 3",
   "language": "python",
   "name": "python3"
  },
  "language_info": {
   "codemirror_mode": {
    "name": "ipython",
    "version": 3
   },
   "file_extension": ".py",
   "mimetype": "text/x-python",
   "name": "python",
   "nbconvert_exporter": "python",
   "pygments_lexer": "ipython3",
   "version": "3.12.7"
  }
 },
 "nbformat": 4,
 "nbformat_minor": 4
}
