{
 "cells": [
  {
   "cell_type": "markdown",
   "metadata": {},
   "source": [
    "## 0. Предварительные действия"
   ]
  },
  {
   "cell_type": "code",
   "execution_count": 1,
   "metadata": {
    "_cell_guid": "b1076dfc-b9ad-4769-8c92-a6c4dae69d19",
    "_uuid": "8f2839f25d086af736a60e9eeb907d3b93b6e0e5",
    "execution": {
     "iopub.execute_input": "2022-02-08T18:44:26.624192Z",
     "iopub.status.busy": "2022-02-08T18:44:26.623896Z",
     "iopub.status.idle": "2022-02-08T18:44:26.639365Z",
     "shell.execute_reply": "2022-02-08T18:44:26.638515Z",
     "shell.execute_reply.started": "2022-02-08T18:44:26.624161Z"
    },
    "trusted": true
   },
   "outputs": [],
   "source": [
    "# This Python 3 environment comes with many helpful analytics libraries installed\n",
    "# It is defined by the kaggle/python Docker image: https://github.com/kaggle/docker-python\n",
    "# For example, here's several helpful packages to load\n",
    "\n",
    "import numpy as np # linear algebra\n",
    "import pandas as pd # data processing, CSV file I/O (e.g. pd.read_csv)\n",
    "\n",
    "# импортируем библиотеки для визуализации\n",
    "import matplotlib.pyplot as plt\n",
    "import seaborn as sns \n",
    "%matplotlib inline\n",
    "\n",
    "# Загружаем специальный удобный инструмент для разделения датасета:\n",
    "from sklearn.model_selection import train_test_split\n",
    "\n",
    "# Input data files are available in the read-only \"../input/\" directory\n",
    "# For example, running this (by clicking run or pressing Shift+Enter) will list all files under the input directory\n",
    "\n",
    "#import os\n",
    "#for dirname, _, filenames in os.walk('/kaggle/input'):\n",
    "    #for filename in filenames:\n",
    "        #print(os.path.join(dirname, filename))\n",
    "\n",
    "# You can write up to 20GB to the current directory (/kaggle/working/) that gets preserved as output when you create a version using \"Save & Run All\" \n",
    "# You can also write temporary files to /kaggle/temp/, but they won't be saved outside of the current session"
   ]
  },
  {
   "cell_type": "code",
   "execution_count": 2,
   "metadata": {},
   "outputs": [
    {
     "name": "stdout",
     "output_type": "stream",
     "text": [
      "Requirement already satisfied: pycountry in c:\\users\\dmytr\\appdata\\local\\programs\\python\\python312\\lib\\site-packages (24.6.1)\n"
     ]
    }
   ],
   "source": [
    "!pip install pycountry"
   ]
  },
  {
   "cell_type": "code",
   "execution_count": 3,
   "metadata": {
    "execution": {
     "iopub.execute_input": "2022-02-08T18:44:26.641479Z",
     "iopub.status.busy": "2022-02-08T18:44:26.640957Z",
     "iopub.status.idle": "2022-02-08T18:44:26.647428Z",
     "shell.execute_reply": "2022-02-08T18:44:26.646685Z",
     "shell.execute_reply.started": "2022-02-08T18:44:26.641433Z"
    },
    "trusted": true
   },
   "outputs": [],
   "source": [
    "# всегда фиксируйте RANDOM_SEED, чтобы ваши эксперименты были воспроизводимы!\n",
    "RANDOM_SEED = 42"
   ]
  },
  {
   "cell_type": "code",
   "execution_count": 4,
   "metadata": {
    "execution": {
     "iopub.execute_input": "2022-02-08T18:44:26.648893Z",
     "iopub.status.busy": "2022-02-08T18:44:26.648317Z",
     "iopub.status.idle": "2022-02-08T18:44:29.65578Z",
     "shell.execute_reply": "2022-02-08T18:44:29.654612Z",
     "shell.execute_reply.started": "2022-02-08T18:44:26.648843Z"
    },
    "trusted": true
   },
   "outputs": [],
   "source": [
    "# зафиксируем версию пакетов, чтобы эксперименты были воспроизводимы:\n",
    "!pip freeze > requirements.txt"
   ]
  },
  {
   "cell_type": "code",
   "execution_count": 5,
   "metadata": {},
   "outputs": [],
   "source": [
    "DATA_DIR = 'D:/Python/IDE/project_3/data'\n",
    "df_train = pd.read_csv(DATA_DIR+'/hotels_train.csv') # датасет для обучения\n",
    "df_test = pd.read_csv(DATA_DIR+'/hotels_test.csv') # датасет для предсказания\n",
    "sample_submission = pd.read_csv(DATA_DIR+'/submission.csv') # самбмишн"
   ]
  },
  {
   "cell_type": "code",
   "execution_count": 6,
   "metadata": {
    "execution": {
     "iopub.execute_input": "2022-02-08T18:44:29.657675Z",
     "iopub.status.busy": "2022-02-08T18:44:29.657411Z",
     "iopub.status.idle": "2022-02-08T18:44:32.947103Z",
     "shell.execute_reply": "2022-02-08T18:44:32.946305Z",
     "shell.execute_reply.started": "2022-02-08T18:44:29.657645Z"
    },
    "trusted": true
   },
   "outputs": [],
   "source": [
    "# Подгрузим наши данные из соревнования\n",
    "\n",
    "#DATA_DIR = '/kaggle/input/sf-booking/'\n",
    "#df_train = pd.read_csv(DATA_DIR+'/hotels_train.csv') # датасет для обучения\n",
    "#df_test = pd.read_csv(DATA_DIR+'hotels_test.csv') # датасет для предсказания\n",
    "#sample_submission = pd.read_csv(DATA_DIR+'/submission.csv') # самбмишн"
   ]
  },
  {
   "cell_type": "code",
   "execution_count": 7,
   "metadata": {
    "execution": {
     "iopub.execute_input": "2022-02-08T18:44:32.949468Z",
     "iopub.status.busy": "2022-02-08T18:44:32.949243Z",
     "iopub.status.idle": "2022-02-08T18:44:33.2946Z",
     "shell.execute_reply": "2022-02-08T18:44:33.293891Z",
     "shell.execute_reply.started": "2022-02-08T18:44:32.949435Z"
    },
    "trusted": true
   },
   "outputs": [
    {
     "name": "stdout",
     "output_type": "stream",
     "text": [
      "<class 'pandas.core.frame.DataFrame'>\n",
      "RangeIndex: 386803 entries, 0 to 386802\n",
      "Data columns (total 17 columns):\n",
      " #   Column                                      Non-Null Count   Dtype  \n",
      "---  ------                                      --------------   -----  \n",
      " 0   hotel_address                               386803 non-null  object \n",
      " 1   additional_number_of_scoring                386803 non-null  int64  \n",
      " 2   review_date                                 386803 non-null  object \n",
      " 3   average_score                               386803 non-null  float64\n",
      " 4   hotel_name                                  386803 non-null  object \n",
      " 5   reviewer_nationality                        386803 non-null  object \n",
      " 6   negative_review                             386803 non-null  object \n",
      " 7   review_total_negative_word_counts           386803 non-null  int64  \n",
      " 8   total_number_of_reviews                     386803 non-null  int64  \n",
      " 9   positive_review                             386803 non-null  object \n",
      " 10  review_total_positive_word_counts           386803 non-null  int64  \n",
      " 11  total_number_of_reviews_reviewer_has_given  386803 non-null  int64  \n",
      " 12  reviewer_score                              386803 non-null  float64\n",
      " 13  tags                                        386803 non-null  object \n",
      " 14  days_since_review                           386803 non-null  object \n",
      " 15  lat                                         384355 non-null  float64\n",
      " 16  lng                                         384355 non-null  float64\n",
      "dtypes: float64(4), int64(5), object(8)\n",
      "memory usage: 50.2+ MB\n"
     ]
    }
   ],
   "source": [
    "df_train.info()"
   ]
  },
  {
   "cell_type": "code",
   "execution_count": 8,
   "metadata": {
    "execution": {
     "iopub.execute_input": "2022-02-08T18:44:33.295877Z",
     "iopub.status.busy": "2022-02-08T18:44:33.295635Z",
     "iopub.status.idle": "2022-02-08T18:44:33.314168Z",
     "shell.execute_reply": "2022-02-08T18:44:33.31346Z",
     "shell.execute_reply.started": "2022-02-08T18:44:33.295852Z"
    },
    "trusted": true
   },
   "outputs": [
    {
     "data": {
      "text/html": [
       "<div>\n",
       "<style scoped>\n",
       "    .dataframe tbody tr th:only-of-type {\n",
       "        vertical-align: middle;\n",
       "    }\n",
       "\n",
       "    .dataframe tbody tr th {\n",
       "        vertical-align: top;\n",
       "    }\n",
       "\n",
       "    .dataframe thead th {\n",
       "        text-align: right;\n",
       "    }\n",
       "</style>\n",
       "<table border=\"1\" class=\"dataframe\">\n",
       "  <thead>\n",
       "    <tr style=\"text-align: right;\">\n",
       "      <th></th>\n",
       "      <th>hotel_address</th>\n",
       "      <th>additional_number_of_scoring</th>\n",
       "      <th>review_date</th>\n",
       "      <th>average_score</th>\n",
       "      <th>hotel_name</th>\n",
       "      <th>reviewer_nationality</th>\n",
       "      <th>negative_review</th>\n",
       "      <th>review_total_negative_word_counts</th>\n",
       "      <th>total_number_of_reviews</th>\n",
       "      <th>positive_review</th>\n",
       "      <th>review_total_positive_word_counts</th>\n",
       "      <th>total_number_of_reviews_reviewer_has_given</th>\n",
       "      <th>reviewer_score</th>\n",
       "      <th>tags</th>\n",
       "      <th>days_since_review</th>\n",
       "      <th>lat</th>\n",
       "      <th>lng</th>\n",
       "    </tr>\n",
       "  </thead>\n",
       "  <tbody>\n",
       "    <tr>\n",
       "      <th>0</th>\n",
       "      <td>Stratton Street Mayfair Westminster Borough Lo...</td>\n",
       "      <td>581</td>\n",
       "      <td>2/19/2016</td>\n",
       "      <td>8.4</td>\n",
       "      <td>The May Fair Hotel</td>\n",
       "      <td>United Kingdom</td>\n",
       "      <td>Leaving</td>\n",
       "      <td>3</td>\n",
       "      <td>1994</td>\n",
       "      <td>Staff were amazing</td>\n",
       "      <td>4</td>\n",
       "      <td>7</td>\n",
       "      <td>10.0</td>\n",
       "      <td>[' Leisure trip ', ' Couple ', ' Studio Suite ...</td>\n",
       "      <td>531 day</td>\n",
       "      <td>51.507894</td>\n",
       "      <td>-0.143671</td>\n",
       "    </tr>\n",
       "    <tr>\n",
       "      <th>1</th>\n",
       "      <td>130 134 Southampton Row Camden London WC1B 5AF...</td>\n",
       "      <td>299</td>\n",
       "      <td>1/12/2017</td>\n",
       "      <td>8.3</td>\n",
       "      <td>Mercure London Bloomsbury Hotel</td>\n",
       "      <td>United Kingdom</td>\n",
       "      <td>poor breakfast</td>\n",
       "      <td>3</td>\n",
       "      <td>1361</td>\n",
       "      <td>location</td>\n",
       "      <td>2</td>\n",
       "      <td>14</td>\n",
       "      <td>6.3</td>\n",
       "      <td>[' Business trip ', ' Couple ', ' Standard Dou...</td>\n",
       "      <td>203 day</td>\n",
       "      <td>51.521009</td>\n",
       "      <td>-0.123097</td>\n",
       "    </tr>\n",
       "  </tbody>\n",
       "</table>\n",
       "</div>"
      ],
      "text/plain": [
       "                                       hotel_address  \\\n",
       "0  Stratton Street Mayfair Westminster Borough Lo...   \n",
       "1  130 134 Southampton Row Camden London WC1B 5AF...   \n",
       "\n",
       "   additional_number_of_scoring review_date  average_score  \\\n",
       "0                           581   2/19/2016            8.4   \n",
       "1                           299   1/12/2017            8.3   \n",
       "\n",
       "                        hotel_name reviewer_nationality  negative_review  \\\n",
       "0               The May Fair Hotel      United Kingdom          Leaving    \n",
       "1  Mercure London Bloomsbury Hotel      United Kingdom    poor breakfast   \n",
       "\n",
       "   review_total_negative_word_counts  total_number_of_reviews  \\\n",
       "0                                  3                     1994   \n",
       "1                                  3                     1361   \n",
       "\n",
       "       positive_review  review_total_positive_word_counts  \\\n",
       "0   Staff were amazing                                  4   \n",
       "1             location                                  2   \n",
       "\n",
       "   total_number_of_reviews_reviewer_has_given  reviewer_score  \\\n",
       "0                                           7            10.0   \n",
       "1                                          14             6.3   \n",
       "\n",
       "                                                tags days_since_review  \\\n",
       "0  [' Leisure trip ', ' Couple ', ' Studio Suite ...           531 day   \n",
       "1  [' Business trip ', ' Couple ', ' Standard Dou...           203 day   \n",
       "\n",
       "         lat       lng  \n",
       "0  51.507894 -0.143671  \n",
       "1  51.521009 -0.123097  "
      ]
     },
     "execution_count": 8,
     "metadata": {},
     "output_type": "execute_result"
    }
   ],
   "source": [
    "df_train.head(2)"
   ]
  },
  {
   "cell_type": "code",
   "execution_count": 9,
   "metadata": {
    "execution": {
     "iopub.execute_input": "2022-02-08T18:44:33.315353Z",
     "iopub.status.busy": "2022-02-08T18:44:33.315169Z",
     "iopub.status.idle": "2022-02-08T18:44:33.437812Z",
     "shell.execute_reply": "2022-02-08T18:44:33.437031Z",
     "shell.execute_reply.started": "2022-02-08T18:44:33.315329Z"
    },
    "trusted": true
   },
   "outputs": [
    {
     "name": "stdout",
     "output_type": "stream",
     "text": [
      "<class 'pandas.core.frame.DataFrame'>\n",
      "RangeIndex: 128935 entries, 0 to 128934\n",
      "Data columns (total 16 columns):\n",
      " #   Column                                      Non-Null Count   Dtype  \n",
      "---  ------                                      --------------   -----  \n",
      " 0   hotel_address                               128935 non-null  object \n",
      " 1   additional_number_of_scoring                128935 non-null  int64  \n",
      " 2   review_date                                 128935 non-null  object \n",
      " 3   average_score                               128935 non-null  float64\n",
      " 4   hotel_name                                  128935 non-null  object \n",
      " 5   reviewer_nationality                        128935 non-null  object \n",
      " 6   negative_review                             128935 non-null  object \n",
      " 7   review_total_negative_word_counts           128935 non-null  int64  \n",
      " 8   total_number_of_reviews                     128935 non-null  int64  \n",
      " 9   positive_review                             128935 non-null  object \n",
      " 10  review_total_positive_word_counts           128935 non-null  int64  \n",
      " 11  total_number_of_reviews_reviewer_has_given  128935 non-null  int64  \n",
      " 12  tags                                        128935 non-null  object \n",
      " 13  days_since_review                           128935 non-null  object \n",
      " 14  lat                                         128115 non-null  float64\n",
      " 15  lng                                         128115 non-null  float64\n",
      "dtypes: float64(3), int64(5), object(8)\n",
      "memory usage: 15.7+ MB\n"
     ]
    }
   ],
   "source": [
    "df_test.info()"
   ]
  },
  {
   "cell_type": "code",
   "execution_count": 10,
   "metadata": {
    "execution": {
     "iopub.execute_input": "2022-02-08T18:44:33.439079Z",
     "iopub.status.busy": "2022-02-08T18:44:33.438878Z",
     "iopub.status.idle": "2022-02-08T18:44:33.455288Z",
     "shell.execute_reply": "2022-02-08T18:44:33.454782Z",
     "shell.execute_reply.started": "2022-02-08T18:44:33.439055Z"
    },
    "trusted": true
   },
   "outputs": [
    {
     "data": {
      "text/html": [
       "<div>\n",
       "<style scoped>\n",
       "    .dataframe tbody tr th:only-of-type {\n",
       "        vertical-align: middle;\n",
       "    }\n",
       "\n",
       "    .dataframe tbody tr th {\n",
       "        vertical-align: top;\n",
       "    }\n",
       "\n",
       "    .dataframe thead th {\n",
       "        text-align: right;\n",
       "    }\n",
       "</style>\n",
       "<table border=\"1\" class=\"dataframe\">\n",
       "  <thead>\n",
       "    <tr style=\"text-align: right;\">\n",
       "      <th></th>\n",
       "      <th>hotel_address</th>\n",
       "      <th>additional_number_of_scoring</th>\n",
       "      <th>review_date</th>\n",
       "      <th>average_score</th>\n",
       "      <th>hotel_name</th>\n",
       "      <th>reviewer_nationality</th>\n",
       "      <th>negative_review</th>\n",
       "      <th>review_total_negative_word_counts</th>\n",
       "      <th>total_number_of_reviews</th>\n",
       "      <th>positive_review</th>\n",
       "      <th>review_total_positive_word_counts</th>\n",
       "      <th>total_number_of_reviews_reviewer_has_given</th>\n",
       "      <th>tags</th>\n",
       "      <th>days_since_review</th>\n",
       "      <th>lat</th>\n",
       "      <th>lng</th>\n",
       "    </tr>\n",
       "  </thead>\n",
       "  <tbody>\n",
       "    <tr>\n",
       "      <th>0</th>\n",
       "      <td>Via Senigallia 6 20161 Milan Italy</td>\n",
       "      <td>904</td>\n",
       "      <td>7/21/2017</td>\n",
       "      <td>8.1</td>\n",
       "      <td>Hotel Da Vinci</td>\n",
       "      <td>United Kingdom</td>\n",
       "      <td>Would have appreciated a shop in the hotel th...</td>\n",
       "      <td>52</td>\n",
       "      <td>16670</td>\n",
       "      <td>Hotel was great clean friendly staff free bre...</td>\n",
       "      <td>62</td>\n",
       "      <td>1</td>\n",
       "      <td>[' Leisure trip ', ' Couple ', ' Double Room '...</td>\n",
       "      <td>13 days</td>\n",
       "      <td>45.533137</td>\n",
       "      <td>9.171102</td>\n",
       "    </tr>\n",
       "    <tr>\n",
       "      <th>1</th>\n",
       "      <td>Arlandaweg 10 Westpoort 1043 EW Amsterdam Neth...</td>\n",
       "      <td>612</td>\n",
       "      <td>12/12/2016</td>\n",
       "      <td>8.6</td>\n",
       "      <td>Urban Lodge Hotel</td>\n",
       "      <td>Belgium</td>\n",
       "      <td>No tissue paper box was present at the room</td>\n",
       "      <td>10</td>\n",
       "      <td>5018</td>\n",
       "      <td>No Positive</td>\n",
       "      <td>0</td>\n",
       "      <td>7</td>\n",
       "      <td>[' Leisure trip ', ' Group ', ' Triple Room ',...</td>\n",
       "      <td>234 day</td>\n",
       "      <td>52.385649</td>\n",
       "      <td>4.834443</td>\n",
       "    </tr>\n",
       "  </tbody>\n",
       "</table>\n",
       "</div>"
      ],
      "text/plain": [
       "                                       hotel_address  \\\n",
       "0                 Via Senigallia 6 20161 Milan Italy   \n",
       "1  Arlandaweg 10 Westpoort 1043 EW Amsterdam Neth...   \n",
       "\n",
       "   additional_number_of_scoring review_date  average_score         hotel_name  \\\n",
       "0                           904   7/21/2017            8.1     Hotel Da Vinci   \n",
       "1                           612  12/12/2016            8.6  Urban Lodge Hotel   \n",
       "\n",
       "  reviewer_nationality                                    negative_review  \\\n",
       "0      United Kingdom    Would have appreciated a shop in the hotel th...   \n",
       "1             Belgium         No tissue paper box was present at the room   \n",
       "\n",
       "   review_total_negative_word_counts  total_number_of_reviews  \\\n",
       "0                                 52                    16670   \n",
       "1                                 10                     5018   \n",
       "\n",
       "                                     positive_review  \\\n",
       "0   Hotel was great clean friendly staff free bre...   \n",
       "1                                        No Positive   \n",
       "\n",
       "   review_total_positive_word_counts  \\\n",
       "0                                 62   \n",
       "1                                  0   \n",
       "\n",
       "   total_number_of_reviews_reviewer_has_given  \\\n",
       "0                                           1   \n",
       "1                                           7   \n",
       "\n",
       "                                                tags days_since_review  \\\n",
       "0  [' Leisure trip ', ' Couple ', ' Double Room '...           13 days   \n",
       "1  [' Leisure trip ', ' Group ', ' Triple Room ',...           234 day   \n",
       "\n",
       "         lat       lng  \n",
       "0  45.533137  9.171102  \n",
       "1  52.385649  4.834443  "
      ]
     },
     "execution_count": 10,
     "metadata": {},
     "output_type": "execute_result"
    }
   ],
   "source": [
    "df_test.head(2)"
   ]
  },
  {
   "cell_type": "code",
   "execution_count": 11,
   "metadata": {
    "execution": {
     "iopub.execute_input": "2022-02-08T18:44:33.456588Z",
     "iopub.status.busy": "2022-02-08T18:44:33.456129Z",
     "iopub.status.idle": "2022-02-08T18:44:33.463126Z",
     "shell.execute_reply": "2022-02-08T18:44:33.462542Z",
     "shell.execute_reply.started": "2022-02-08T18:44:33.456558Z"
    },
    "trusted": true
   },
   "outputs": [
    {
     "data": {
      "text/html": [
       "<div>\n",
       "<style scoped>\n",
       "    .dataframe tbody tr th:only-of-type {\n",
       "        vertical-align: middle;\n",
       "    }\n",
       "\n",
       "    .dataframe tbody tr th {\n",
       "        vertical-align: top;\n",
       "    }\n",
       "\n",
       "    .dataframe thead th {\n",
       "        text-align: right;\n",
       "    }\n",
       "</style>\n",
       "<table border=\"1\" class=\"dataframe\">\n",
       "  <thead>\n",
       "    <tr style=\"text-align: right;\">\n",
       "      <th></th>\n",
       "      <th>reviewer_score</th>\n",
       "      <th>id</th>\n",
       "    </tr>\n",
       "  </thead>\n",
       "  <tbody>\n",
       "    <tr>\n",
       "      <th>0</th>\n",
       "      <td>1</td>\n",
       "      <td>488440</td>\n",
       "    </tr>\n",
       "    <tr>\n",
       "      <th>1</th>\n",
       "      <td>10</td>\n",
       "      <td>274649</td>\n",
       "    </tr>\n",
       "  </tbody>\n",
       "</table>\n",
       "</div>"
      ],
      "text/plain": [
       "   reviewer_score      id\n",
       "0               1  488440\n",
       "1              10  274649"
      ]
     },
     "execution_count": 11,
     "metadata": {},
     "output_type": "execute_result"
    }
   ],
   "source": [
    "sample_submission.head(2)"
   ]
  },
  {
   "cell_type": "code",
   "execution_count": 12,
   "metadata": {
    "execution": {
     "iopub.execute_input": "2022-02-08T18:44:33.464494Z",
     "iopub.status.busy": "2022-02-08T18:44:33.463971Z",
     "iopub.status.idle": "2022-02-08T18:44:33.478817Z",
     "shell.execute_reply": "2022-02-08T18:44:33.478038Z",
     "shell.execute_reply.started": "2022-02-08T18:44:33.464464Z"
    },
    "trusted": true
   },
   "outputs": [
    {
     "name": "stdout",
     "output_type": "stream",
     "text": [
      "<class 'pandas.core.frame.DataFrame'>\n",
      "RangeIndex: 128935 entries, 0 to 128934\n",
      "Data columns (total 2 columns):\n",
      " #   Column          Non-Null Count   Dtype\n",
      "---  ------          --------------   -----\n",
      " 0   reviewer_score  128935 non-null  int64\n",
      " 1   id              128935 non-null  int64\n",
      "dtypes: int64(2)\n",
      "memory usage: 2.0 MB\n"
     ]
    }
   ],
   "source": [
    "sample_submission.info()"
   ]
  },
  {
   "cell_type": "code",
   "execution_count": 13,
   "metadata": {
    "execution": {
     "iopub.execute_input": "2022-02-08T18:44:33.480175Z",
     "iopub.status.busy": "2022-02-08T18:44:33.479691Z",
     "iopub.status.idle": "2022-02-08T18:44:34.013921Z",
     "shell.execute_reply": "2022-02-08T18:44:34.012987Z",
     "shell.execute_reply.started": "2022-02-08T18:44:33.480147Z"
    },
    "trusted": true
   },
   "outputs": [],
   "source": [
    "# ВАЖНО! дря корректной обработки признаков объединяем трейн и тест в один датасет\n",
    "df_train['sample'] = 1 # помечаем где у нас трейн\n",
    "df_test['sample'] = 0 # помечаем где у нас тест\n",
    "df_test['reviewer_score'] = 0 # в тесте у нас нет значения reviewer_score, мы его должны предсказать, по этому пока просто заполняем нулями\n",
    "\n",
    "hotels = pd.concat([df_test, df_train], sort=False).reset_index(drop=True) # объединяем"
   ]
  },
  {
   "cell_type": "code",
   "execution_count": 14,
   "metadata": {
    "execution": {
     "iopub.execute_input": "2022-02-08T18:44:34.015483Z",
     "iopub.status.busy": "2022-02-08T18:44:34.015238Z",
     "iopub.status.idle": "2022-02-08T18:44:34.477711Z",
     "shell.execute_reply": "2022-02-08T18:44:34.476864Z",
     "shell.execute_reply.started": "2022-02-08T18:44:34.015455Z"
    },
    "trusted": true
   },
   "outputs": [
    {
     "name": "stdout",
     "output_type": "stream",
     "text": [
      "<class 'pandas.core.frame.DataFrame'>\n",
      "RangeIndex: 515738 entries, 0 to 515737\n",
      "Data columns (total 18 columns):\n",
      " #   Column                                      Non-Null Count   Dtype  \n",
      "---  ------                                      --------------   -----  \n",
      " 0   hotel_address                               515738 non-null  object \n",
      " 1   additional_number_of_scoring                515738 non-null  int64  \n",
      " 2   review_date                                 515738 non-null  object \n",
      " 3   average_score                               515738 non-null  float64\n",
      " 4   hotel_name                                  515738 non-null  object \n",
      " 5   reviewer_nationality                        515738 non-null  object \n",
      " 6   negative_review                             515738 non-null  object \n",
      " 7   review_total_negative_word_counts           515738 non-null  int64  \n",
      " 8   total_number_of_reviews                     515738 non-null  int64  \n",
      " 9   positive_review                             515738 non-null  object \n",
      " 10  review_total_positive_word_counts           515738 non-null  int64  \n",
      " 11  total_number_of_reviews_reviewer_has_given  515738 non-null  int64  \n",
      " 12  tags                                        515738 non-null  object \n",
      " 13  days_since_review                           515738 non-null  object \n",
      " 14  lat                                         512470 non-null  float64\n",
      " 15  lng                                         512470 non-null  float64\n",
      " 16  sample                                      515738 non-null  int64  \n",
      " 17  reviewer_score                              515738 non-null  float64\n",
      "dtypes: float64(4), int64(6), object(8)\n",
      "memory usage: 70.8+ MB\n"
     ]
    }
   ],
   "source": [
    "hotels.info()"
   ]
  },
  {
   "cell_type": "markdown",
   "metadata": {},
   "source": [
    "## 1. Базовая проверка качества датасета"
   ]
  },
  {
   "cell_type": "code",
   "execution_count": 15,
   "metadata": {},
   "outputs": [
    {
     "name": "stdout",
     "output_type": "stream",
     "text": [
      "lat    0.633655\n",
      "lng    0.633655\n",
      "dtype: float64\n"
     ]
    }
   ],
   "source": [
    "# Ищем выводим колонки с пропуском\n",
    "cols_null_percent = hotels.isnull().mean()*100\n",
    "cols_with_null = cols_null_percent[cols_null_percent > 0].sort_values(ascending=False)\n",
    "print(cols_with_null)"
   ]
  },
  {
   "cell_type": "code",
   "execution_count": 16,
   "metadata": {
    "execution": {
     "iopub.execute_input": "2022-02-08T18:44:34.47925Z",
     "iopub.status.busy": "2022-02-08T18:44:34.47896Z",
     "iopub.status.idle": "2022-02-08T18:44:34.497358Z",
     "shell.execute_reply": "2022-02-08T18:44:34.496728Z",
     "shell.execute_reply.started": "2022-02-08T18:44:34.479202Z"
    },
    "trusted": true
   },
   "outputs": [],
   "source": [
    "# Временно заполняем нулями, но мы ещё вернёмся к этому\n",
    "#hotels['lat'] = hotels['lat'].fillna(0)\n",
    "#hotels['lng'] = hotels['lng'].fillna(0)"
   ]
  },
  {
   "cell_type": "code",
   "execution_count": 17,
   "metadata": {},
   "outputs": [
    {
     "data": {
      "text/plain": [
       "hotel_address\n",
       "Josefst dter Stra e 10 12 08 Josefstadt 1080 Vienna Austria    658\n",
       "Taborstra e 8 A 02 Leopoldstadt 1020 Vienna Austria            563\n",
       "W hringer Stra e 33 35 09 Alsergrund 1090 Vienna Austria       389\n",
       "4 rue de la P pini re 8th arr 75008 Paris France               290\n",
       "Landstra er G rtel 5 03 Landstra e 1030 Vienna Austria         245\n",
       "W hringer Stra e 12 09 Alsergrund 1090 Vienna Austria          223\n",
       "Savoyenstra e 2 16 Ottakring 1160 Vienna Austria               194\n",
       "Sieveringer Stra e 4 19 D bling 1190 Vienna Austria            147\n",
       "Bail n 4 6 Eixample 08010 Barcelona Spain                      146\n",
       "Gr nentorgasse 30 09 Alsergrund 1090 Vienna Austria             93\n",
       "Hasenauerstra e 12 19 D bling 1190 Vienna Austria               61\n",
       "Josefst dter Stra e 22 08 Josefstadt 1080 Vienna Austria        57\n",
       "23 Rue Damr mont 18th arr 75018 Paris France                    55\n",
       "Paragonstra e 1 11 Simmering 1110 Vienna Austria                49\n",
       "20 Rue De La Ga t 14th arr 75014 Paris France                   37\n",
       "Pau Clar s 122 Eixample 08009 Barcelona Spain                   33\n",
       "Sep lveda 180 Eixample 08011 Barcelona Spain                    28\n",
       "Name: count, dtype: int64"
      ]
     },
     "execution_count": 17,
     "metadata": {},
     "output_type": "execute_result"
    }
   ],
   "source": [
    "# Проверим, какие отели имеют пропуски в координатах - отелей мало, можем заполнить вручную погуглив адреса и координаты\n",
    "hotels[hotels['lat'].isnull()]['hotel_address'].value_counts()"
   ]
  },
  {
   "cell_type": "code",
   "execution_count": 18,
   "metadata": {},
   "outputs": [
    {
     "data": {
      "text/plain": [
       "hotel_address\n",
       "Josefst dter Stra e 10 12 08 Josefstadt 1080 Vienna Austria    658\n",
       "Taborstra e 8 A 02 Leopoldstadt 1020 Vienna Austria            563\n",
       "W hringer Stra e 33 35 09 Alsergrund 1090 Vienna Austria       389\n",
       "4 rue de la P pini re 8th arr 75008 Paris France               290\n",
       "Landstra er G rtel 5 03 Landstra e 1030 Vienna Austria         245\n",
       "W hringer Stra e 12 09 Alsergrund 1090 Vienna Austria          223\n",
       "Savoyenstra e 2 16 Ottakring 1160 Vienna Austria               194\n",
       "Sieveringer Stra e 4 19 D bling 1190 Vienna Austria            147\n",
       "Bail n 4 6 Eixample 08010 Barcelona Spain                      146\n",
       "Gr nentorgasse 30 09 Alsergrund 1090 Vienna Austria             93\n",
       "Hasenauerstra e 12 19 D bling 1190 Vienna Austria               61\n",
       "Josefst dter Stra e 22 08 Josefstadt 1080 Vienna Austria        57\n",
       "23 Rue Damr mont 18th arr 75018 Paris France                    55\n",
       "Paragonstra e 1 11 Simmering 1110 Vienna Austria                49\n",
       "20 Rue De La Ga t 14th arr 75014 Paris France                   37\n",
       "Pau Clar s 122 Eixample 08009 Barcelona Spain                   33\n",
       "Sep lveda 180 Eixample 08011 Barcelona Spain                    28\n",
       "Name: count, dtype: int64"
      ]
     },
     "execution_count": 18,
     "metadata": {},
     "output_type": "execute_result"
    }
   ],
   "source": [
    "hotels[hotels['lng'].isnull()]['hotel_address'].value_counts()\n",
    "# Убедились, что пропуски по тем же адресам"
   ]
  },
  {
   "cell_type": "code",
   "execution_count": 19,
   "metadata": {},
   "outputs": [
    {
     "data": {
      "text/html": [
       "<div>\n",
       "<style scoped>\n",
       "    .dataframe tbody tr th:only-of-type {\n",
       "        vertical-align: middle;\n",
       "    }\n",
       "\n",
       "    .dataframe tbody tr th {\n",
       "        vertical-align: top;\n",
       "    }\n",
       "\n",
       "    .dataframe thead th {\n",
       "        text-align: right;\n",
       "    }\n",
       "</style>\n",
       "<table border=\"1\" class=\"dataframe\">\n",
       "  <thead>\n",
       "    <tr style=\"text-align: right;\">\n",
       "      <th></th>\n",
       "      <th></th>\n",
       "      <th>lat</th>\n",
       "      <th>lng</th>\n",
       "    </tr>\n",
       "    <tr>\n",
       "      <th>hotel_address</th>\n",
       "      <th>hotel_name</th>\n",
       "      <th></th>\n",
       "      <th></th>\n",
       "    </tr>\n",
       "  </thead>\n",
       "  <tbody>\n",
       "    <tr>\n",
       "      <th>20 Rue De La Ga t 14th arr 75014 Paris France</th>\n",
       "      <th>Mercure Paris Gare Montparnasse</th>\n",
       "      <td>0</td>\n",
       "      <td>0</td>\n",
       "    </tr>\n",
       "    <tr>\n",
       "      <th>23 Rue Damr mont 18th arr 75018 Paris France</th>\n",
       "      <th>Holiday Inn Paris Montmartre</th>\n",
       "      <td>0</td>\n",
       "      <td>0</td>\n",
       "    </tr>\n",
       "    <tr>\n",
       "      <th>4 rue de la P pini re 8th arr 75008 Paris France</th>\n",
       "      <th>Maison Albar Hotel Paris Op ra Diamond</th>\n",
       "      <td>0</td>\n",
       "      <td>0</td>\n",
       "    </tr>\n",
       "    <tr>\n",
       "      <th>Bail n 4 6 Eixample 08010 Barcelona Spain</th>\n",
       "      <th>NH Collection Barcelona Podium</th>\n",
       "      <td>0</td>\n",
       "      <td>0</td>\n",
       "    </tr>\n",
       "    <tr>\n",
       "      <th>Gr nentorgasse 30 09 Alsergrund 1090 Vienna Austria</th>\n",
       "      <th>City Hotel Deutschmeister</th>\n",
       "      <td>0</td>\n",
       "      <td>0</td>\n",
       "    </tr>\n",
       "    <tr>\n",
       "      <th>Hasenauerstra e 12 19 D bling 1190 Vienna Austria</th>\n",
       "      <th>Hotel Park Villa</th>\n",
       "      <td>0</td>\n",
       "      <td>0</td>\n",
       "    </tr>\n",
       "    <tr>\n",
       "      <th>Josefst dter Stra e 10 12 08 Josefstadt 1080 Vienna Austria</th>\n",
       "      <th>Fleming s Selection Hotel Wien City</th>\n",
       "      <td>0</td>\n",
       "      <td>0</td>\n",
       "    </tr>\n",
       "    <tr>\n",
       "      <th>Josefst dter Stra e 22 08 Josefstadt 1080 Vienna Austria</th>\n",
       "      <th>Cordial Theaterhotel Wien</th>\n",
       "      <td>0</td>\n",
       "      <td>0</td>\n",
       "    </tr>\n",
       "    <tr>\n",
       "      <th>Landstra er G rtel 5 03 Landstra e 1030 Vienna Austria</th>\n",
       "      <th>Hotel Daniel Vienna</th>\n",
       "      <td>0</td>\n",
       "      <td>0</td>\n",
       "    </tr>\n",
       "    <tr>\n",
       "      <th>Paragonstra e 1 11 Simmering 1110 Vienna Austria</th>\n",
       "      <th>Roomz Vienna</th>\n",
       "      <td>0</td>\n",
       "      <td>0</td>\n",
       "    </tr>\n",
       "    <tr>\n",
       "      <th>Pau Clar s 122 Eixample 08009 Barcelona Spain</th>\n",
       "      <th>Renaissance Barcelona Hotel</th>\n",
       "      <td>0</td>\n",
       "      <td>0</td>\n",
       "    </tr>\n",
       "    <tr>\n",
       "      <th>Savoyenstra e 2 16 Ottakring 1160 Vienna Austria</th>\n",
       "      <th>Austria Trend Hotel Schloss Wilhelminenberg Wien</th>\n",
       "      <td>0</td>\n",
       "      <td>0</td>\n",
       "    </tr>\n",
       "    <tr>\n",
       "      <th>Sep lveda 180 Eixample 08011 Barcelona Spain</th>\n",
       "      <th>Hotel Advance</th>\n",
       "      <td>0</td>\n",
       "      <td>0</td>\n",
       "    </tr>\n",
       "    <tr>\n",
       "      <th>Sieveringer Stra e 4 19 D bling 1190 Vienna Austria</th>\n",
       "      <th>Derag Livinghotel Kaiser Franz Joseph Vienna</th>\n",
       "      <td>0</td>\n",
       "      <td>0</td>\n",
       "    </tr>\n",
       "    <tr>\n",
       "      <th>Taborstra e 8 A 02 Leopoldstadt 1020 Vienna Austria</th>\n",
       "      <th>Hotel City Central</th>\n",
       "      <td>0</td>\n",
       "      <td>0</td>\n",
       "    </tr>\n",
       "    <tr>\n",
       "      <th>W hringer Stra e 12 09 Alsergrund 1090 Vienna Austria</th>\n",
       "      <th>Hotel Pension Baron am Schottentor</th>\n",
       "      <td>0</td>\n",
       "      <td>0</td>\n",
       "    </tr>\n",
       "    <tr>\n",
       "      <th>W hringer Stra e 33 35 09 Alsergrund 1090 Vienna Austria</th>\n",
       "      <th>Hotel Atlanta</th>\n",
       "      <td>0</td>\n",
       "      <td>0</td>\n",
       "    </tr>\n",
       "  </tbody>\n",
       "</table>\n",
       "</div>"
      ],
      "text/plain": [
       "                                                                                                     lat  \\\n",
       "hotel_address                                      hotel_name                                              \n",
       "20 Rue De La Ga t 14th arr 75014 Paris France      Mercure Paris Gare Montparnasse                     0   \n",
       "23 Rue Damr mont 18th arr 75018 Paris France       Holiday Inn Paris Montmartre                        0   \n",
       "4 rue de la P pini re 8th arr 75008 Paris France   Maison Albar Hotel Paris Op ra Diamond              0   \n",
       "Bail n 4 6 Eixample 08010 Barcelona Spain          NH Collection Barcelona Podium                      0   \n",
       "Gr nentorgasse 30 09 Alsergrund 1090 Vienna Aus... City Hotel Deutschmeister                           0   \n",
       "Hasenauerstra e 12 19 D bling 1190 Vienna Austria  Hotel Park Villa                                    0   \n",
       "Josefst dter Stra e 10 12 08 Josefstadt 1080 Vi... Fleming s Selection Hotel Wien City                 0   \n",
       "Josefst dter Stra e 22 08 Josefstadt 1080 Vienn... Cordial Theaterhotel Wien                           0   \n",
       "Landstra er G rtel 5 03 Landstra e 1030 Vienna ... Hotel Daniel Vienna                                 0   \n",
       "Paragonstra e 1 11 Simmering 1110 Vienna Austria   Roomz Vienna                                        0   \n",
       "Pau Clar s 122 Eixample 08009 Barcelona Spain      Renaissance Barcelona Hotel                         0   \n",
       "Savoyenstra e 2 16 Ottakring 1160 Vienna Austria   Austria Trend Hotel Schloss Wilhelminenberg Wien    0   \n",
       "Sep lveda 180 Eixample 08011 Barcelona Spain       Hotel Advance                                       0   \n",
       "Sieveringer Stra e 4 19 D bling 1190 Vienna Aus... Derag Livinghotel Kaiser Franz Joseph Vienna        0   \n",
       "Taborstra e 8 A 02 Leopoldstadt 1020 Vienna Aus... Hotel City Central                                  0   \n",
       "W hringer Stra e 12 09 Alsergrund 1090 Vienna A... Hotel Pension Baron am Schottentor                  0   \n",
       "W hringer Stra e 33 35 09 Alsergrund 1090 Vienn... Hotel Atlanta                                       0   \n",
       "\n",
       "                                                                                                     lng  \n",
       "hotel_address                                      hotel_name                                             \n",
       "20 Rue De La Ga t 14th arr 75014 Paris France      Mercure Paris Gare Montparnasse                     0  \n",
       "23 Rue Damr mont 18th arr 75018 Paris France       Holiday Inn Paris Montmartre                        0  \n",
       "4 rue de la P pini re 8th arr 75008 Paris France   Maison Albar Hotel Paris Op ra Diamond              0  \n",
       "Bail n 4 6 Eixample 08010 Barcelona Spain          NH Collection Barcelona Podium                      0  \n",
       "Gr nentorgasse 30 09 Alsergrund 1090 Vienna Aus... City Hotel Deutschmeister                           0  \n",
       "Hasenauerstra e 12 19 D bling 1190 Vienna Austria  Hotel Park Villa                                    0  \n",
       "Josefst dter Stra e 10 12 08 Josefstadt 1080 Vi... Fleming s Selection Hotel Wien City                 0  \n",
       "Josefst dter Stra e 22 08 Josefstadt 1080 Vienn... Cordial Theaterhotel Wien                           0  \n",
       "Landstra er G rtel 5 03 Landstra e 1030 Vienna ... Hotel Daniel Vienna                                 0  \n",
       "Paragonstra e 1 11 Simmering 1110 Vienna Austria   Roomz Vienna                                        0  \n",
       "Pau Clar s 122 Eixample 08009 Barcelona Spain      Renaissance Barcelona Hotel                         0  \n",
       "Savoyenstra e 2 16 Ottakring 1160 Vienna Austria   Austria Trend Hotel Schloss Wilhelminenberg Wien    0  \n",
       "Sep lveda 180 Eixample 08011 Barcelona Spain       Hotel Advance                                       0  \n",
       "Sieveringer Stra e 4 19 D bling 1190 Vienna Aus... Derag Livinghotel Kaiser Franz Joseph Vienna        0  \n",
       "Taborstra e 8 A 02 Leopoldstadt 1020 Vienna Aus... Hotel City Central                                  0  \n",
       "W hringer Stra e 12 09 Alsergrund 1090 Vienna A... Hotel Pension Baron am Schottentor                  0  \n",
       "W hringer Stra e 33 35 09 Alsergrund 1090 Vienn... Hotel Atlanta                                       0  "
      ]
     },
     "execution_count": 19,
     "metadata": {},
     "output_type": "execute_result"
    }
   ],
   "source": [
    "# Формируем таблицу и гуглим координаты\n",
    "name_and_address = hotels[hotels['lat'].isnull()].groupby(['hotel_address', 'hotel_name']).count()[['lat', 'lng']]\n",
    "name_and_address"
   ]
  },
  {
   "cell_type": "code",
   "execution_count": 20,
   "metadata": {},
   "outputs": [
    {
     "data": {
      "text/html": [
       "<div>\n",
       "<style scoped>\n",
       "    .dataframe tbody tr th:only-of-type {\n",
       "        vertical-align: middle;\n",
       "    }\n",
       "\n",
       "    .dataframe tbody tr th {\n",
       "        vertical-align: top;\n",
       "    }\n",
       "\n",
       "    .dataframe thead th {\n",
       "        text-align: right;\n",
       "    }\n",
       "</style>\n",
       "<table border=\"1\" class=\"dataframe\">\n",
       "  <thead>\n",
       "    <tr style=\"text-align: right;\">\n",
       "      <th></th>\n",
       "      <th>lat</th>\n",
       "      <th>lng</th>\n",
       "    </tr>\n",
       "    <tr>\n",
       "      <th>hotel_address</th>\n",
       "      <th></th>\n",
       "      <th></th>\n",
       "    </tr>\n",
       "  </thead>\n",
       "  <tbody>\n",
       "    <tr>\n",
       "      <th>20 Rue De La Ga t 14th arr 75014 Paris France</th>\n",
       "      <td>0</td>\n",
       "      <td>0</td>\n",
       "    </tr>\n",
       "    <tr>\n",
       "      <th>23 Rue Damr mont 18th arr 75018 Paris France</th>\n",
       "      <td>0</td>\n",
       "      <td>0</td>\n",
       "    </tr>\n",
       "    <tr>\n",
       "      <th>4 rue de la P pini re 8th arr 75008 Paris France</th>\n",
       "      <td>0</td>\n",
       "      <td>0</td>\n",
       "    </tr>\n",
       "    <tr>\n",
       "      <th>Bail n 4 6 Eixample 08010 Barcelona Spain</th>\n",
       "      <td>0</td>\n",
       "      <td>0</td>\n",
       "    </tr>\n",
       "    <tr>\n",
       "      <th>Gr nentorgasse 30 09 Alsergrund 1090 Vienna Austria</th>\n",
       "      <td>0</td>\n",
       "      <td>0</td>\n",
       "    </tr>\n",
       "    <tr>\n",
       "      <th>Hasenauerstra e 12 19 D bling 1190 Vienna Austria</th>\n",
       "      <td>0</td>\n",
       "      <td>0</td>\n",
       "    </tr>\n",
       "    <tr>\n",
       "      <th>Josefst dter Stra e 10 12 08 Josefstadt 1080 Vienna Austria</th>\n",
       "      <td>0</td>\n",
       "      <td>0</td>\n",
       "    </tr>\n",
       "    <tr>\n",
       "      <th>Josefst dter Stra e 22 08 Josefstadt 1080 Vienna Austria</th>\n",
       "      <td>0</td>\n",
       "      <td>0</td>\n",
       "    </tr>\n",
       "    <tr>\n",
       "      <th>Landstra er G rtel 5 03 Landstra e 1030 Vienna Austria</th>\n",
       "      <td>0</td>\n",
       "      <td>0</td>\n",
       "    </tr>\n",
       "    <tr>\n",
       "      <th>Paragonstra e 1 11 Simmering 1110 Vienna Austria</th>\n",
       "      <td>0</td>\n",
       "      <td>0</td>\n",
       "    </tr>\n",
       "    <tr>\n",
       "      <th>Pau Clar s 122 Eixample 08009 Barcelona Spain</th>\n",
       "      <td>0</td>\n",
       "      <td>0</td>\n",
       "    </tr>\n",
       "    <tr>\n",
       "      <th>Savoyenstra e 2 16 Ottakring 1160 Vienna Austria</th>\n",
       "      <td>0</td>\n",
       "      <td>0</td>\n",
       "    </tr>\n",
       "    <tr>\n",
       "      <th>Sep lveda 180 Eixample 08011 Barcelona Spain</th>\n",
       "      <td>0</td>\n",
       "      <td>0</td>\n",
       "    </tr>\n",
       "    <tr>\n",
       "      <th>Sieveringer Stra e 4 19 D bling 1190 Vienna Austria</th>\n",
       "      <td>0</td>\n",
       "      <td>0</td>\n",
       "    </tr>\n",
       "    <tr>\n",
       "      <th>Taborstra e 8 A 02 Leopoldstadt 1020 Vienna Austria</th>\n",
       "      <td>0</td>\n",
       "      <td>0</td>\n",
       "    </tr>\n",
       "    <tr>\n",
       "      <th>W hringer Stra e 12 09 Alsergrund 1090 Vienna Austria</th>\n",
       "      <td>0</td>\n",
       "      <td>0</td>\n",
       "    </tr>\n",
       "    <tr>\n",
       "      <th>W hringer Stra e 33 35 09 Alsergrund 1090 Vienna Austria</th>\n",
       "      <td>0</td>\n",
       "      <td>0</td>\n",
       "    </tr>\n",
       "  </tbody>\n",
       "</table>\n",
       "</div>"
      ],
      "text/plain": [
       "                                                    lat  lng\n",
       "hotel_address                                               \n",
       "20 Rue De La Ga t 14th arr 75014 Paris France         0    0\n",
       "23 Rue Damr mont 18th arr 75018 Paris France          0    0\n",
       "4 rue de la P pini re 8th arr 75008 Paris France      0    0\n",
       "Bail n 4 6 Eixample 08010 Barcelona Spain             0    0\n",
       "Gr nentorgasse 30 09 Alsergrund 1090 Vienna Aus...    0    0\n",
       "Hasenauerstra e 12 19 D bling 1190 Vienna Austria     0    0\n",
       "Josefst dter Stra e 10 12 08 Josefstadt 1080 Vi...    0    0\n",
       "Josefst dter Stra e 22 08 Josefstadt 1080 Vienn...    0    0\n",
       "Landstra er G rtel 5 03 Landstra e 1030 Vienna ...    0    0\n",
       "Paragonstra e 1 11 Simmering 1110 Vienna Austria      0    0\n",
       "Pau Clar s 122 Eixample 08009 Barcelona Spain         0    0\n",
       "Savoyenstra e 2 16 Ottakring 1160 Vienna Austria      0    0\n",
       "Sep lveda 180 Eixample 08011 Barcelona Spain          0    0\n",
       "Sieveringer Stra e 4 19 D bling 1190 Vienna Aus...    0    0\n",
       "Taborstra e 8 A 02 Leopoldstadt 1020 Vienna Aus...    0    0\n",
       "W hringer Stra e 12 09 Alsergrund 1090 Vienna A...    0    0\n",
       "W hringer Stra e 33 35 09 Alsergrund 1090 Vienn...    0    0"
      ]
     },
     "execution_count": 20,
     "metadata": {},
     "output_type": "execute_result"
    }
   ],
   "source": [
    "# Будем делать индекс по адресам что бы потом им обновить основной датасет\n",
    "hotels_null_coords = hotels[hotels['lat'].isnull()].groupby(['hotel_address']).count()[['lat', 'lng']]\n",
    "hotels_null_coords"
   ]
  },
  {
   "cell_type": "code",
   "execution_count": 21,
   "metadata": {},
   "outputs": [],
   "source": [
    "hotels_coords = [[48.8399957, 2.3070823], \n",
    "           [48.8889127, 2.3309643], \n",
    "           [48.8753208, 2.3212033], \n",
    "           [41.391552, 2.1757053],\n",
    "           [48.2208555, 16.3644228],\n",
    "           [48.233592, 16.3434781],\n",
    "           [48.2094054, 16.3512565],\n",
    "           [48.2095525, 16.3492746],\n",
    "           [48.1888183, 16.381591],\n",
    "           [48.1868142, 16.418528],\n",
    "           [41.3927888, 2.1673975],\n",
    "           [48.219573, 16.2834034],\n",
    "           [41.3832425, 2.1607609],\n",
    "           [48.2458909, 16.3397395],\n",
    "           [48.2135906, 16.3777195],\n",
    "           [48.2168032, 16.357717],\n",
    "           [48.220414, 16.3536299]]"
   ]
  },
  {
   "cell_type": "code",
   "execution_count": 22,
   "metadata": {},
   "outputs": [],
   "source": [
    "hotels = hotels.set_index('hotel_address')\n",
    "hotels.update(hotels_null_coords)\n",
    "hotels = hotels.reset_index()"
   ]
  },
  {
   "cell_type": "code",
   "execution_count": 23,
   "metadata": {},
   "outputs": [
    {
     "name": "stdout",
     "output_type": "stream",
     "text": [
      "Отелей с несколькими адресами: 1\n"
     ]
    }
   ],
   "source": [
    "# Проверяем есть ли одинаковые названия у отелей\n",
    "multi_addr = hotels.groupby(\"hotel_name\")[\"lat\"].transform(\"nunique\") > 1\n",
    "\n",
    "# нумеруем одинаковые отели\n",
    "addr_rank = hotels.groupby(\"hotel_name\")[\"lat\"] \\\n",
    "                  .transform(lambda s: pd.factorize(s, sort=True)[0] + 1)\n",
    "\n",
    "\n",
    "\n",
    "# формируем уникальные названия: добавляем цифру к названию\n",
    "hotels[\"hotel_name_unique\"] = hotels[\"hotel_name\"].where(\n",
    "    ~multi_addr,\n",
    "    hotels[\"hotel_name\"] + \" #\" + addr_rank.astype(str)\n",
    ")\n",
    "# Даём сводку \n",
    "duplhot = hotels.loc[multi_addr, [\"hotel_name\", \"hotel_address\", \"hotel_name_unique\"]] \\\n",
    "             .drop_duplicates() \\\n",
    "             .sort_values([\"hotel_name\",\"hotel_name_unique\"])\n",
    "print(\"Отелей с несколькими адресами:\", duplhot[\"hotel_name\"].nunique())\n",
    "duplhot\n",
    "#Заменяем\n",
    "hotels[\"hotel_name\"] = hotels[\"hotel_name_unique\"]\n",
    "# удаляем колонку hotels[\"hotel_name_unique\"]\n",
    "hotels=hotels.drop(columns=[\"hotel_name_unique\"])\n"
   ]
  },
  {
   "cell_type": "code",
   "execution_count": 24,
   "metadata": {},
   "outputs": [
    {
     "name": "stdout",
     "output_type": "stream",
     "text": [
      "<class 'pandas.core.frame.DataFrame'>\n",
      "RangeIndex: 515738 entries, 0 to 515737\n",
      "Data columns (total 18 columns):\n",
      " #   Column                                      Non-Null Count   Dtype  \n",
      "---  ------                                      --------------   -----  \n",
      " 0   hotel_address                               515738 non-null  object \n",
      " 1   additional_number_of_scoring                515738 non-null  int64  \n",
      " 2   review_date                                 515738 non-null  object \n",
      " 3   average_score                               515738 non-null  float64\n",
      " 4   hotel_name                                  515738 non-null  object \n",
      " 5   reviewer_nationality                        515738 non-null  object \n",
      " 6   negative_review                             515738 non-null  object \n",
      " 7   review_total_negative_word_counts           515738 non-null  int64  \n",
      " 8   total_number_of_reviews                     515738 non-null  int64  \n",
      " 9   positive_review                             515738 non-null  object \n",
      " 10  review_total_positive_word_counts           515738 non-null  int64  \n",
      " 11  total_number_of_reviews_reviewer_has_given  515738 non-null  int64  \n",
      " 12  tags                                        515738 non-null  object \n",
      " 13  days_since_review                           515738 non-null  object \n",
      " 14  lat                                         515738 non-null  float64\n",
      " 15  lng                                         515738 non-null  float64\n",
      " 16  sample                                      515738 non-null  int64  \n",
      " 17  reviewer_score                              515738 non-null  float64\n",
      "dtypes: float64(4), int64(6), object(8)\n",
      "memory usage: 70.8+ MB\n"
     ]
    }
   ],
   "source": [
    "hotels.info()"
   ]
  },
  {
   "cell_type": "code",
   "execution_count": 25,
   "metadata": {
    "execution": {
     "iopub.execute_input": "2022-02-08T18:44:34.500523Z",
     "iopub.status.busy": "2022-02-08T18:44:34.500073Z",
     "iopub.status.idle": "2022-02-08T18:44:35.43767Z",
     "shell.execute_reply": "2022-02-08T18:44:35.43699Z",
     "shell.execute_reply.started": "2022-02-08T18:44:34.500478Z"
    },
    "trusted": true
   },
   "outputs": [
    {
     "data": {
      "text/plain": [
       "hotel_address                                   1493\n",
       "additional_number_of_scoring                     480\n",
       "review_date                                      731\n",
       "average_score                                     34\n",
       "hotel_name                                      1494\n",
       "reviewer_nationality                             227\n",
       "negative_review                               330011\n",
       "review_total_negative_word_counts                402\n",
       "total_number_of_reviews                         1142\n",
       "positive_review                               412601\n",
       "review_total_positive_word_counts                365\n",
       "total_number_of_reviews_reviewer_has_given       198\n",
       "tags                                           55242\n",
       "days_since_review                                731\n",
       "lat                                             1473\n",
       "lng                                             1473\n",
       "sample                                             2\n",
       "reviewer_score                                    38\n",
       "dtype: int64"
      ]
     },
     "execution_count": 25,
     "metadata": {},
     "output_type": "execute_result"
    }
   ],
   "source": [
    "# Сводка уникальных значений, разбираемся, что у нас будет категориальным признаком\n",
    "hotels.nunique(dropna=False)"
   ]
  },
  {
   "cell_type": "code",
   "execution_count": 26,
   "metadata": {},
   "outputs": [
    {
     "data": {
      "text/plain": [
       "(336, 18)"
      ]
     },
     "execution_count": 26,
     "metadata": {},
     "output_type": "execute_result"
    }
   ],
   "source": [
    "# Ищем дубликаты\n",
    "dupl_col=list(hotels.columns)\n",
    "mask=hotels.duplicated(subset=dupl_col)\n",
    "data_doubles=hotels[mask]\n",
    "data_doubles.shape\n",
    "# В таблице имеется 336 дубликатов. Однако, по условиям задачи удалять строки нельзя, так что пока оставим как есть."
   ]
  },
  {
   "cell_type": "markdown",
   "metadata": {},
   "source": [
    "## 2. Работаем со столбцами"
   ]
  },
  {
   "cell_type": "code",
   "execution_count": 27,
   "metadata": {},
   "outputs": [
    {
     "name": "stdout",
     "output_type": "stream",
     "text": [
      "<class 'pandas.core.frame.DataFrame'>\n",
      "RangeIndex: 515738 entries, 0 to 515737\n",
      "Data columns (total 18 columns):\n",
      " #   Column                                      Non-Null Count   Dtype  \n",
      "---  ------                                      --------------   -----  \n",
      " 0   hotel_address                               515738 non-null  object \n",
      " 1   additional_number_of_scoring                515738 non-null  int64  \n",
      " 2   review_date                                 515738 non-null  object \n",
      " 3   average_score                               515738 non-null  float64\n",
      " 4   hotel_name                                  515738 non-null  object \n",
      " 5   reviewer_nationality                        515738 non-null  object \n",
      " 6   negative_review                             515738 non-null  object \n",
      " 7   review_total_negative_word_counts           515738 non-null  int64  \n",
      " 8   total_number_of_reviews                     515738 non-null  int64  \n",
      " 9   positive_review                             515738 non-null  object \n",
      " 10  review_total_positive_word_counts           515738 non-null  int64  \n",
      " 11  total_number_of_reviews_reviewer_has_given  515738 non-null  int64  \n",
      " 12  tags                                        515738 non-null  object \n",
      " 13  days_since_review                           515738 non-null  object \n",
      " 14  lat                                         515738 non-null  float64\n",
      " 15  lng                                         515738 non-null  float64\n",
      " 16  sample                                      515738 non-null  int64  \n",
      " 17  reviewer_score                              515738 non-null  float64\n",
      "dtypes: float64(4), int64(6), object(8)\n",
      "memory usage: 70.8+ MB\n"
     ]
    }
   ],
   "source": [
    "hotels.info()"
   ]
  },
  {
   "cell_type": "markdown",
   "metadata": {},
   "source": [
    "### hotel_address"
   ]
  },
  {
   "cell_type": "code",
   "execution_count": 28,
   "metadata": {},
   "outputs": [],
   "source": [
    "# Работаем с адресом отеля (страна)\n",
    "import pycountry\n",
    "countries = {c.name for c in pycountry.countries} | {c.official_name for c in pycountry.countries if hasattr(c, \"official_name\")} | {c.alpha_3 for c in pycountry.countries} | {c.alpha_2 for c in pycountry.countries}\n",
    "\n",
    "def extract_country(address):\n",
    "    for country in countries:\n",
    "        if address.endswith(country):\n",
    "            return country\n",
    "    return None\n",
    "\n",
    "# Применяем к колонке\n",
    "hotels[\"country\"] = hotels[\"hotel_address\"].apply(extract_country)"
   ]
  },
  {
   "cell_type": "code",
   "execution_count": 29,
   "metadata": {},
   "outputs": [
    {
     "data": {
      "text/plain": [
       "country\n",
       "United Kingdom    262301\n",
       "Spain              60149\n",
       "France             59928\n",
       "Netherlands        57214\n",
       "Austria            38939\n",
       "Italy              37207\n",
       "Name: count, dtype: int64"
      ]
     },
     "execution_count": 29,
     "metadata": {},
     "output_type": "execute_result"
    }
   ],
   "source": [
    "# Смотрим, что получилось\n",
    "hotels.country.value_counts()\n",
    "# Получилось немного стран, попробуем выделить города"
   ]
  },
  {
   "cell_type": "code",
   "execution_count": 30,
   "metadata": {},
   "outputs": [],
   "source": [
    "# вытаскиваем город из адреса\n",
    "def extract_city(addr):\n",
    "    parts = addr.split()\n",
    "    if parts[-2:] == ['United', 'Kingdom']:\n",
    "        return parts[-5]  # для UK формаат адреса город код код United Kingdom\n",
    "    else:\n",
    "        return parts[-2]  # для всех остальных город перед страной\n",
    "\n",
    "# Создаем признак city\n",
    "hotels[\"city\"] = hotels[\"hotel_address\"].apply(extract_city)\n"
   ]
  },
  {
   "cell_type": "code",
   "execution_count": 31,
   "metadata": {},
   "outputs": [
    {
     "data": {
      "text/plain": [
       "city\n",
       "London       262301\n",
       "Barcelona     60149\n",
       "Paris         59928\n",
       "Amsterdam     57214\n",
       "Vienna        38939\n",
       "Milan         37207\n",
       "Name: count, dtype: int64"
      ]
     },
     "execution_count": 31,
     "metadata": {},
     "output_type": "execute_result"
    }
   ],
   "source": [
    "hotels['city'].value_counts()"
   ]
  },
  {
   "cell_type": "markdown",
   "metadata": {},
   "source": [
    "Пользы нет - в датасете все гостиницы из одной страны находятся в одном городе. Пока не удаляем - используем эти данные для лучшего заполнения координат"
   ]
  },
  {
   "cell_type": "markdown",
   "metadata": {},
   "source": [
    "### Дата ревью"
   ]
  },
  {
   "cell_type": "code",
   "execution_count": 32,
   "metadata": {},
   "outputs": [
    {
     "name": "stderr",
     "output_type": "stream",
     "text": [
      "C:\\Users\\dmytr\\AppData\\Local\\Temp\\ipykernel_2308\\3715416797.py:2: UserWarning: Parsing dates in %m/%d/%Y format when dayfirst=True was specified. Pass `dayfirst=False` or specify a format to silence this warning.\n",
      "  hotels['review_date'] = pd.to_datetime(hotels['review_date'], dayfirst=True, errors='coerce')\n"
     ]
    }
   ],
   "source": [
    "#Преобразуем в datetime\n",
    "hotels['review_date'] = pd.to_datetime(hotels['review_date'], dayfirst=True, errors='coerce')\n",
    "\n",
    "# Создаём признаки год, месяц, день недели и является ли день выходным. Дата будет очевидно не информативным признаком, вместо неё берём день недели\n",
    "# и статус выходного (теория - \"платные\" накрутки чаще происходят в будний день)\n",
    "hotels['year'] = hotels['review_date'].dt.year\n",
    "hotels['month'] = hotels['review_date'].dt.month\n",
    "hotels['dayofweek'] = hotels['review_date'].dt.weekday  # 0 = понедельник, 6 = воскресенье\n",
    "hotels['is_weekend'] = (hotels['dayofweek'] >= 5).astype('int8')\n",
    "hotels[\"quarter\"] = hotels[\"review_date\"].dt.quarter\n",
    "hotels[\"weekofyear\"] = hotels[\"review_date\"].dt.isocalendar().week.astype(\"int16\")"
   ]
  },
  {
   "cell_type": "code",
   "execution_count": 33,
   "metadata": {},
   "outputs": [],
   "source": [
    "#Сезоны\n",
    "def season(m):\n",
    "    return (\"winter\" if m in [12,1,2] else\n",
    "            \"spring\" if m in [3,4,5] else\n",
    "            \"summer\" if m in [6,7,8] else \"autumn\")\n",
    "hotels[\"season\"] = hotels[\"month\"].map(season)\n",
    "# Сразу кодируем через get_dummies\n",
    "hotels = pd.get_dummies(hotels, columns=['season'], drop_first=True)"
   ]
  },
  {
   "cell_type": "code",
   "execution_count": 34,
   "metadata": {},
   "outputs": [
    {
     "data": {
      "text/html": [
       "<div>\n",
       "<style scoped>\n",
       "    .dataframe tbody tr th:only-of-type {\n",
       "        vertical-align: middle;\n",
       "    }\n",
       "\n",
       "    .dataframe tbody tr th {\n",
       "        vertical-align: top;\n",
       "    }\n",
       "\n",
       "    .dataframe thead th {\n",
       "        text-align: right;\n",
       "    }\n",
       "</style>\n",
       "<table border=\"1\" class=\"dataframe\">\n",
       "  <thead>\n",
       "    <tr style=\"text-align: right;\">\n",
       "      <th></th>\n",
       "      <th>year</th>\n",
       "      <th>month</th>\n",
       "      <th>dayofweek</th>\n",
       "      <th>is_weekend</th>\n",
       "    </tr>\n",
       "  </thead>\n",
       "  <tbody>\n",
       "    <tr>\n",
       "      <th>0</th>\n",
       "      <td>2017</td>\n",
       "      <td>7</td>\n",
       "      <td>4</td>\n",
       "      <td>0</td>\n",
       "    </tr>\n",
       "    <tr>\n",
       "      <th>1</th>\n",
       "      <td>2016</td>\n",
       "      <td>12</td>\n",
       "      <td>0</td>\n",
       "      <td>0</td>\n",
       "    </tr>\n",
       "    <tr>\n",
       "      <th>2</th>\n",
       "      <td>2015</td>\n",
       "      <td>11</td>\n",
       "      <td>3</td>\n",
       "      <td>0</td>\n",
       "    </tr>\n",
       "    <tr>\n",
       "      <th>3</th>\n",
       "      <td>2015</td>\n",
       "      <td>10</td>\n",
       "      <td>5</td>\n",
       "      <td>1</td>\n",
       "    </tr>\n",
       "    <tr>\n",
       "      <th>4</th>\n",
       "      <td>2016</td>\n",
       "      <td>5</td>\n",
       "      <td>0</td>\n",
       "      <td>0</td>\n",
       "    </tr>\n",
       "  </tbody>\n",
       "</table>\n",
       "</div>"
      ],
      "text/plain": [
       "   year  month  dayofweek  is_weekend\n",
       "0  2017      7          4           0\n",
       "1  2016     12          0           0\n",
       "2  2015     11          3           0\n",
       "3  2015     10          5           1\n",
       "4  2016      5          0           0"
      ]
     },
     "execution_count": 34,
     "metadata": {},
     "output_type": "execute_result"
    }
   ],
   "source": [
    "# Проверям все ли получилось\n",
    "hotels[['year', 'month', 'dayofweek', 'is_weekend']].head()"
   ]
  },
  {
   "cell_type": "code",
   "execution_count": null,
   "metadata": {},
   "outputs": [],
   "source": []
  },
  {
   "cell_type": "markdown",
   "metadata": {},
   "source": [
    "### hotel_name "
   ]
  },
  {
   "cell_type": "code",
   "execution_count": 35,
   "metadata": {},
   "outputs": [],
   "source": [
    "# сколько всего отзывов у отеля / города\n",
    "hotels[\"hotel_reviews_cnt\"] = hotels[\"hotel_name\"].map(hotels[\"hotel_name\"].value_counts())\n",
    "hotels[\"city_reviews_cnt\"]  = hotels[\"city\"].map(hotels[\"city\"].value_counts())"
   ]
  },
  {
   "cell_type": "code",
   "execution_count": 36,
   "metadata": {},
   "outputs": [
    {
     "data": {
      "text/plain": [
       "count                                         515738\n",
       "unique                                          1494\n",
       "top       Britannia International Hotel Canary Wharf\n",
       "freq                                            4789\n",
       "Name: hotel_name, dtype: object"
      ]
     },
     "execution_count": 36,
     "metadata": {},
     "output_type": "execute_result"
    }
   ],
   "source": [
    "hotels['hotel_name'].describe()"
   ]
  },
  {
   "cell_type": "code",
   "execution_count": 37,
   "metadata": {},
   "outputs": [],
   "source": [
    "# Попробуем закодировать с помощью frequency и targetencoding\n",
    "#from sklearn.model_selection import KFold\n",
    "\n",
    "# freq\n",
    "#freq = hotels['hotel_name'].value_counts()\n",
    "#hotels['hotel_name_freq'] = hotels['hotel_name'].map(freq).astype('int32')\n",
    "\n",
    "# target\n",
    "#kf = KFold(n_splits=5, shuffle=True, random_state=42)\n",
    "#te = np.zeros(len(hotels))\n",
    "#for tr, va in kf.split(hotels):\n",
    "  #  m = hotels.iloc[tr].groupby('hotel_name')['reviewer_score'].mean()\n",
    "   # te[va] = hotels.iloc[va]['hotel_name'].map(m)\n",
    "#hotels['hotel_name_te'] = te"
   ]
  },
  {
   "cell_type": "code",
   "execution_count": 38,
   "metadata": {},
   "outputs": [],
   "source": [
    "#Альтернатива - довичное кодирование с помощью category_encoders\n",
    "#import category_encoders as ce\n",
    "#bin_encoder = ce.BinaryEncoder(cols=['hotel_name'])\n",
    "#data_bin=bin_encoder.fit_transform(hotels['hotel_name'])\n",
    "#hotels = pd.concat([hotels, data_bin], axis=1)"
   ]
  },
  {
   "cell_type": "code",
   "execution_count": 39,
   "metadata": {},
   "outputs": [],
   "source": [
    "# Кодируем название отелей через get_dummies - тесты показали наилучший результат\n",
    "hotels = pd.get_dummies(hotels, columns=['hotel_name'], drop_first=True)"
   ]
  },
  {
   "cell_type": "markdown",
   "metadata": {},
   "source": [
    "### reviewer_nationality"
   ]
  },
  {
   "cell_type": "code",
   "execution_count": 40,
   "metadata": {},
   "outputs": [],
   "source": [
    "# Убираем пробелы в национальности\n",
    "hotels[\"reviewer_nationality\"] = hotels[\"reviewer_nationality\"].str.strip()"
   ]
  },
  {
   "cell_type": "code",
   "execution_count": 41,
   "metadata": {},
   "outputs": [
    {
     "name": "stdout",
     "output_type": "stream",
     "text": [
      "227\n"
     ]
    }
   ],
   "source": [
    "a=hotels['reviewer_nationality'].value_counts()\n",
    "print(len(a))"
   ]
  },
  {
   "cell_type": "code",
   "execution_count": 42,
   "metadata": {},
   "outputs": [],
   "source": [
    "# Делаем признак того, что отзыв оставлен соотечественником (теория - те, кто ездят внутри страны имеют другие требования к отелю)\n",
    "hotels['is_domestic'] = (\n",
    "    hotels['reviewer_nationality'].astype(str).str.strip().str.casefold()\n",
    "    == hotels['country'].astype(str).str.strip().str.casefold()\n",
    ").astype('int8')"
   ]
  },
  {
   "cell_type": "code",
   "execution_count": 43,
   "metadata": {},
   "outputs": [],
   "source": [
    "# Дополнительные признаки - поездка по стране для целей бизнес и поездка по стране для удовольствия\n",
    "hotels[\"domestic_x_business\"] = hotels[\"is_domestic\"] * hotels.get(\"trip_business_trip\", 0)\n",
    "hotels[\"domestic_x_leisure\"]  = hotels[\"is_domestic\"] * hotels.get(\"trip_leisure_trip\", 0)"
   ]
  },
  {
   "cell_type": "code",
   "execution_count": 44,
   "metadata": {},
   "outputs": [],
   "source": [
    "import numpy as np\n",
    "from sklearn.model_selection import KFold\n",
    "\n",
    "# Frequency encoding (просто количество записей по стране)\n",
    "freq = hotels['reviewer_nationality'].value_counts()\n",
    "hotels['reviewer_nationality_freq'] = hotels['reviewer_nationality'].map(freq)\n",
    "\n",
    "# Target encoding с защитой от NaN\n",
    "kf = KFold(n_splits=5, shuffle=True, random_state=42)\n",
    "te = np.zeros(len(hotels))\n",
    "\n",
    "global_mean = hotels['reviewer_score'].mean()\n",
    "\n",
    "for train_idx, val_idx in kf.split(hotels):\n",
    "    means = hotels.iloc[train_idx].groupby('reviewer_nationality')['reviewer_score'].mean()\n",
    "    # map + fillna глобальным средним\n",
    "    te[val_idx] = hotels.iloc[val_idx]['reviewer_nationality'].map(means).fillna(global_mean)\n",
    "\n",
    "hotels['reviewer_nationality_te'] = te"
   ]
  },
  {
   "cell_type": "markdown",
   "metadata": {},
   "source": [
    "### negative_review/positive_review"
   ]
  },
  {
   "cell_type": "code",
   "execution_count": 45,
   "metadata": {},
   "outputs": [
    {
     "name": "stderr",
     "output_type": "stream",
     "text": [
      "[nltk_data] Downloading package vader_lexicon to\n",
      "[nltk_data]     C:\\Users\\dmytr\\AppData\\Roaming\\nltk_data...\n",
      "[nltk_data]   Package vader_lexicon is already up-to-date!\n"
     ]
    }
   ],
   "source": [
    "# Работаем с текстом отрицательного отзыва negative_review через ntlk с полным набором скачанных пакетов\n",
    "import re\n",
    "import nltk\n",
    "nltk.download('vader_lexicon')\n",
    "\n",
    "from nltk.sentiment import SentimentIntensityAnalyzer\n",
    "\n",
    "sia = SentimentIntensityAnalyzer()\n",
    "\n",
    "def clean_text(s: str) -> str:\n",
    "    if not isinstance(s, str): \n",
    "        return \"\"\n",
    "    s = s.strip()\n",
    "    s = re.sub(r\"(https?://\\S+)|(\\S+@\\S+)\", \" \", s)                     # удалим URL и email\n",
    "    s = re.sub(r\"[^A-Za-z0-9\\s\\.\\,\\!\\?\\-']\", \" \", s)                    # оставим только валидные символы\n",
    "    s = re.sub(r\"\\s+\", \" \", s).strip()                                  # уберём лишние пробелы\n",
    "    return s\n",
    "\n",
    "# Очистка текста\n",
    "hotels[\"neg_clean\"] = hotels[\"negative_review\"].map(clean_text)\n",
    "\n",
    "# Признаки\n",
    "hotels[\"neg_len_chars\"] = hotels[\"neg_clean\"].str.len()\n",
    "hotels[\"neg_len_words\"] = hotels[\"neg_clean\"].str.split().str.len()\n",
    "hotels[\"exclam_cnt\"]    = hotels[\"neg_clean\"].str.count(r\"!\")\n",
    "hotels[\"quest_cnt\"]     = hotels[\"neg_clean\"].str.count(r\"\\?\")\n",
    "hotels[\"caps_ratio\"]    = hotels[\"negative_review\"].map(\n",
    "    lambda s: (sum(c.isupper() for c in s) / max(1, len(s))) if isinstance(s, str) else 0.0\n",
    ")\n",
    "hotels[\"neg_vader\"] = hotels[\"neg_clean\"].map(lambda s: sia.polarity_scores(s)[\"compound\"])\n",
    "#hotels[\"is_no_negative\"] = hotels[\"neg_clean\"].str.fullmatch(r\"(?i)no negative\").fillna(False).astype(\"int8\") # если отзыв состоит из фразы \"No Negative\" то он положительный\n"
   ]
  },
  {
   "cell_type": "code",
   "execution_count": 46,
   "metadata": {},
   "outputs": [],
   "source": [
    "# Судя по всему пользователь не мог оставить поле для негативного отзыва пустым, пытаемся найти ситуации, когд негативный отзыв по сути отсутствует\n",
    "\n",
    "# нормализация: нижний регистр, убираем всё кроме букв/цифр/пробелов, схлопываем пробелы\n",
    "def _norm(s: str) -> str:\n",
    "    s = s.lower().strip()\n",
    "    # уберём урлы/почту на всякий случай\n",
    "    s = re.sub(r\"(https?://\\S+)|(\\S+@\\S+)\", \" \", s)\n",
    "    # оставим буквы/цифры/пробелы\n",
    "    s = re.sub(r\"[^a-z0-9\\s]\", \" \", s)\n",
    "    s = re.sub(r\"\\s+\", \" \", s).strip()\n",
    "    return s\n",
    "\n",
    "# строгие фразы (нормализованные)\n",
    "STRICT_SET = {\n",
    "    \"no negative\", \"no negatives\", \"nothing negative\",\n",
    "    \"nothing\", \"nothing really\", \"nothing at all\", \"nothing in particular\",\n",
    "    \"no complaints\",\n",
    "    \"nothing to dislike\", \"nothing to complain about\", \"nothing not to like\",\n",
    "    \"absolutely nothing\",\n",
    "    \"none\", \"nil\", \"na\",  # сюда сойдут и \"n a\"/\"n/a\" после нормализации\n",
    "    \"all good\", \"all was good\", \"nothing all good\",\n",
    "    \"everything\", \"everything was good\", \"everything was great\",\n",
    "    \"everything was perfect\", \"everything was fine\",\n",
    "    \"liked everything\", \"i liked everything\",\n",
    "    \"see above\", \"as above\",\n",
    "    \"no thing\",\n",
    "}\n",
    "\n",
    "# расширенные (нормализованные)\n",
    "EXTENDED_SET = {\n",
    "    \"no\",                  # ровно \"no\", не \"no parking\"\n",
    "    \"leaving\", \"having to leave\",\n",
    "    \"not applicable\",\n",
    "    \"non\",                 # FR \"non\" (если строка только это слово)\n",
    "    \"not much\",\n",
    "    \"cant think of anything\"  # вариант без апострофа\n",
    "}\n",
    "\n",
    "# отдельный шаблон для \"can't think of anything\" с апострофом и вариациями пробелов\n",
    "CANT_THINK_RE = re.compile(r\"\\bcan\\s*t\\s*think\\s*of\\s*anything\\b\")\n",
    "\n",
    "# строки, которые считаем «пустыми» после чистки «декора»\n",
    "ONLY_DECOR_RE = re.compile(r\"^\\s*[\\(\\)\\[\\]\\{\\}\\-\\_\\.\\,\\!\\?\\/\\\\\\|~\\*]+\\s*$\")\n",
    "\n",
    "def is_no_negative_text(s: str, use_extended: bool = True) -> int:\n",
    "    if not isinstance(s, str) or not s.strip():\n",
    "        return 1  # пустая строка → no negative\n",
    "\n",
    "    # если одни скобки/декор — считаем пустым\n",
    "    if ONLY_DECOR_RE.fullmatch(s):\n",
    "        return 1\n",
    "\n",
    "    ns = _norm(s)\n",
    "    if ns == \"\":\n",
    "        return 1\n",
    "\n",
    "    # явные попадания в строгий список\n",
    "    if ns in STRICT_SET:\n",
    "        return 1\n",
    "\n",
    "    # \"can't think of anything\" с любыми апострофами/пробелами\n",
    "    if CANT_THINK_RE.search(ns):\n",
    "        return 1\n",
    "\n",
    "    # расширенные\n",
    "    if use_extended and ns in EXTENDED_SET:\n",
    "        return 1\n",
    "\n",
    "    return 0\n",
    "\n",
    "# Применение к колонке (лучше использовать уже очищенный текст, напр. hotels['neg_clean'])\n",
    "hotels[\"is_no_negative\"] = hotels[\"neg_clean\"].map(lambda x: is_no_negative_text(x, use_extended=True)).astype(\"int8\")\n"
   ]
  },
  {
   "cell_type": "code",
   "execution_count": 47,
   "metadata": {},
   "outputs": [],
   "source": [
    "sia = SentimentIntensityAnalyzer()\n",
    "\n",
    "def clean_text(s: str) -> str:\n",
    "    if not isinstance(s, str): \n",
    "        return \"\"\n",
    "    s = s.strip()\n",
    "    s = re.sub(r\"(https?://\\S+)|(\\S+@\\S+)\", \" \", s)\n",
    "    s = re.sub(r\"[^A-Za-z0-9\\s\\.\\,\\!\\?\\-']\", \" \", s)\n",
    "    s = re.sub(r\"\\s+\", \" \", s).strip()\n",
    "    return s\n",
    "\n",
    "# Очистка текста\n",
    "hotels[\"pos_clean\"] = hotels[\"positive_review\"].map(clean_text)\n",
    "\n",
    "# Признаки\n",
    "hotels[\"pos_len_chars\"] = hotels[\"pos_clean\"].str.len()\n",
    "hotels[\"pos_len_words\"] = hotels[\"pos_clean\"].str.split().str.len()\n",
    "hotels[\"pos_exclam_cnt\"] = hotels[\"pos_clean\"].str.count(r\"!\")\n",
    "hotels[\"pos_quest_cnt\"]  = hotels[\"pos_clean\"].str.count(r\"\\?\")\n",
    "hotels[\"pos_caps_ratio\"] = hotels[\"positive_review\"].map(\n",
    "    lambda s: (sum(c.isupper() for c in s) / max(1, len(s))) if isinstance(s, str) else 0.0\n",
    ")\n",
    "hotels[\"pos_vader\"] = hotels[\"pos_clean\"].map(lambda s: sia.polarity_scores(s)[\"compound\"])\n",
    "hotels[\"is_no_positive\"] = hotels[\"pos_clean\"].str.fullmatch(r\"(?i)no positive\").fillna(False).astype(\"int8\") # если отзыв состоит из фразы \"No Positive\" то он отрицательный"
   ]
  },
  {
   "cell_type": "code",
   "execution_count": 48,
   "metadata": {},
   "outputs": [],
   "source": [
    "# Положительные и отрицательные слова\n",
    "neg_words = (\"dirty\",\"smell\",\"noisy\",\"rude\",\"slow\",\"cold\",\"hot\",\"broken\",\"poor\",\"bad\", 'small', 'expensive', 'worst', 'hate', 'terrible', 'awful', 'disappointing', 'disappointed',)\n",
    "pos_words = (\"clean\",\"friendly\",\"quiet\",\"fast\",\"warm\",\"great\",\"excellent\",\"amazing\",\"good\",\"nice\", 'quite', 'love', 'loved', 'lovely', 'perfect','perfectly',\n",
    "             'quiet','spacious','modern', 'again')\n",
    "\n",
    "def count_any(text, vocab): \n",
    "    s = str(text).lower()\n",
    "    return sum(w in s for w in vocab)\n",
    "\n",
    "hotels[\"neg_kw_cnt\"] = hotels[\"neg_clean\"].map(lambda s: count_any(s, neg_words))\n",
    "hotels[\"pos_kw_cnt\"] = hotels[\"pos_clean\"].map(lambda s: count_any(s, pos_words))"
   ]
  },
  {
   "cell_type": "markdown",
   "metadata": {},
   "source": [
    "### TAGS"
   ]
  },
  {
   "cell_type": "code",
   "execution_count": 49,
   "metadata": {},
   "outputs": [
    {
     "data": {
      "text/plain": [
       "tags\n",
       "[' Leisure trip ', ' Couple ', ' Double Room ', ' Stayed 1 night ', ' Submitted from a mobile device ']                              5101\n",
       "[' Leisure trip ', ' Couple ', ' Standard Double Room ', ' Stayed 1 night ', ' Submitted from a mobile device ']                     4931\n",
       "[' Leisure trip ', ' Couple ', ' Superior Double Room ', ' Stayed 1 night ', ' Submitted from a mobile device ']                     4366\n",
       "[' Leisure trip ', ' Couple ', ' Deluxe Double Room ', ' Stayed 1 night ', ' Submitted from a mobile device ']                       3991\n",
       "[' Leisure trip ', ' Couple ', ' Double Room ', ' Stayed 2 nights ', ' Submitted from a mobile device ']                             3291\n",
       "                                                                                                                                     ... \n",
       "[' Group ', ' Executive Double Room ', ' Stayed 7 nights ']                                                                             1\n",
       "[' Leisure trip ', ' Couple ', ' Room with View ', ' Stayed 7 nights ', ' Submitted from a mobile device ']                             1\n",
       "[' Leisure trip ', ' Solo traveler ', ' Cosy Room ', ' Stayed 4 nights ', ' Submitted from a mobile device ']                           1\n",
       "[' Leisure trip ', ' Family with young children ', ' Double Room City ', ' Stayed 5 nights ', ' Submitted from a mobile device ']       1\n",
       "[' Business trip ', ' Family with older children ', ' Premium Double or Twin Room ', ' Stayed 9 nights ']                               1\n",
       "Name: count, Length: 55242, dtype: int64"
      ]
     },
     "execution_count": 49,
     "metadata": {},
     "output_type": "execute_result"
    }
   ],
   "source": [
    "hotels['tags'].value_counts()"
   ]
  },
  {
   "cell_type": "markdown",
   "metadata": {},
   "source": [
    "Немного поработаем с dtale что бы разобраться, какие в принципе есть теги и отобрали те, которые кажутся наиболее оптимальными"
   ]
  },
  {
   "cell_type": "code",
   "execution_count": 50,
   "metadata": {},
   "outputs": [],
   "source": [
    "# Преобразуем колонку 'tags' из строки в список\n",
    "hotels['tags'] = hotels['tags'].apply(eval)"
   ]
  },
  {
   "cell_type": "code",
   "execution_count": 51,
   "metadata": {},
   "outputs": [],
   "source": [
    "# Функция очистки тегов - убираем пробелы по краям и заменяем пробелы внутри тега на _\n",
    "def clean_tags(tag_list):\n",
    "    return [tag.strip().replace(\" \", \"_\") for tag in tag_list]\n",
    "\n",
    "# Применяем очистку\n",
    "hotels['tags'] = hotels['tags'].apply(clean_tags)\n",
    "\n",
    "# Собираем все теги в один длинный список\n",
    "all_tags = [tag for tag_list in hotels['tags'] for tag in tag_list]"
   ]
  },
  {
   "cell_type": "code",
   "execution_count": 52,
   "metadata": {},
   "outputs": [
    {
     "name": "stdout",
     "output_type": "stream",
     "text": [
      "[('Leisure_trip', 417778), ('Submitted_from_a_mobile_device', 307640), ('Couple', 252294), ('Stayed_1_night', 193645), ('Stayed_2_nights', 133937), ('Solo_traveler', 108545), ('Stayed_3_nights', 95821), ('Business_trip', 82939), ('Group', 65392), ('Family_with_young_children', 61015), ('Stayed_4_nights', 47817), ('Double_Room', 35207), ('Standard_Double_Room', 32248), ('Superior_Double_Room', 31393), ('Family_with_older_children', 26349), ('Deluxe_Double_Room', 24823), ('Double_or_Twin_Room', 22393), ('Stayed_5_nights', 20845), ('Standard_Double_or_Twin_Room', 17483), ('Classic_Double_Room', 16989), ('Superior_Double_or_Twin_Room', 13570), ('2_rooms', 12393), ('Stayed_6_nights', 9776), ('Standard_Twin_Room', 9745), ('Single_Room', 9670), ('Twin_Room', 8321), ('Stayed_7_nights', 7399), ('Executive_Double_Room', 6425), ('Classic_Double_or_Twin_Room', 6107), ('Superior_Twin_Room', 6064), ('Deluxe_Double_or_Twin_Room', 5998), ('Club_Double_Room', 5908), ('Queen_Room', 5472), ('Deluxe_King_Room', 5357), ('Superior_Queen_Room', 4898), ('Standard_Single_Room', 4615), ('Junior_Suite', 4559), ('Triple_Room', 4493), ('Superior_Room', 4417), ('Classic_Room', 4416), ('Superior_King_Room', 4248), ('Standard_Room', 4205), ('Deluxe_Room', 3974), ('Standard_Queen_Room', 3533), ('Double_Guest_Room', 3437), ('Deluxe_Single_Room', 3283), ('Small_Double_Room', 3187), ('Queen_Guest_Room', 3125), ('Deluxe_Twin_Room', 3083), ('Basic_Double_Room', 2851), ('King_Room', 2843), ('Comfort_Double_Room', 2641), ('Executive_King_Room', 2631), ('Small_Queen_Room', 2505), ('Stayed_8_nights', 2502), ('Standard_Double_Room_without_Window', 2424), ('Comfort_Double_or_Twin_Room', 2404), ('Double_or_Twin_Room_1_2_Adults', 2391), ('Classic_Twin_Room', 2360), ('Twin_Guest_Room', 2197), ('Family_Room', 2165), ('Travelers_with_friends', 2143), ('Suite', 1897), ('Superior_King_or_Twin_Room', 1831), ('Deluxe_King_or_Twin_Room', 1650), ('Deluxe_Double', 1634), ('King_Guest_Room', 1630), ('Cosy_Double_Room', 1604), ('Standard_Double_Twin_Room', 1420), ('With_a_pet', 1405), ('Club_Twin_Room', 1401), ('Executive_Double_or_Twin_Room', 1395), ('Classic_King_Room', 1318), ('Standard_Triple_Room', 1300), ('Double_Hilton_Guestroom', 1300), ('Executive_Room', 1293), ('Stayed_9_nights', 1293), ('Double_Room_Non_Smoking', 1257), ('Standard', 1231), ('Economy_Double_Room', 1193), ('Large_Double_Room', 1192), ('Quadruple_Room', 1157), ('Luxury_Double_Room', 1149), ('Superior_Single_Room', 1120), ('Superior_Double_Room_with_Internal_View', 1112), ('Classic_Single_Room', 1090), ('Double_Room_with_Two_Double_Beds', 1087), ('Executive_Twin_Room', 1080), ('Dorsett_Double_Room', 1044), ('Premier_Double_Room', 996), ('Studio', 986), ('Superior_Double_or_Twin_Room_1_2_Adults', 971), ('Twin_Hilton_Guest_Room', 951), ('Family_Room_2_Adults_2_Children', 926), ('Studio_King_Family', 925), ('Compact_Double_Room', 913), ('City_King_or_Twin_Room', 897), ('Stayed_10_nights', 889), ('Standard_Room_with_1_Double_Bed', 879), ('Classic_Queen_Room', 791)]\n"
     ]
    }
   ],
   "source": [
    "from collections import Counter\n",
    "\n",
    "tag_counts = Counter(all_tags)\n",
    "print(tag_counts.most_common(100))"
   ]
  },
  {
   "cell_type": "code",
   "execution_count": 53,
   "metadata": {},
   "outputs": [],
   "source": [
    "import re\n",
    "import ast\n",
    "\n",
    "# На всякий случай: привести колонку к спискам\n",
    "def to_list_safe(x):\n",
    "    if isinstance(x, list):\n",
    "        return x\n",
    "    if isinstance(x, str):\n",
    "        try:\n",
    "            v = ast.literal_eval(x)\n",
    "            return v if isinstance(v, list) else [x]\n",
    "        except:\n",
    "            return [x]\n",
    "    return []  # None и прочее\n",
    "\n",
    "hotels[\"tags\"] = hotels[\"tags\"].apply(to_list_safe)\n",
    "\n",
    "# Чистим пробелы\n",
    "hotels[\"tags\"] = hotels[\"tags\"].apply(lambda tags: [t.strip() for t in tags if isinstance(t, str)])\n",
    "\n",
    "# Поиск подстроки (без учёта регистра)\n",
    "def has_tag(tags, keyword):\n",
    "    kw = keyword.lower()\n",
    "    return int(any(kw in (t or \"\").lower() for t in tags))\n",
    "\n",
    "# Бинарные признаки\n",
    "trip_types = [\"Leisure trip\", \"Business trip\"]\n",
    "companions = [\"Couple\", \"Solo traveler\", \"Family with young children\",\n",
    "              \"Family with older children\", \"Group\"]\n",
    "\n",
    "for t in trip_types:\n",
    "    hotels[f\"trip_{t.replace(' ', '_').lower()}\"] = hotels[\"tags\"].apply(lambda x: has_tag(x, t))\n",
    "\n",
    "for c in companions:\n",
    "    hotels[f\"companion_{c.replace(' ', '_').lower()}\"] = hotels[\"tags\"].apply(lambda x: has_tag(x, c))\n",
    "\n",
    "# Разбор'Stayed X night(s)' через regex\n",
    "stay_re = re.compile(r\"stayed\\s+(\\d+)\\s+night\", re.IGNORECASE)\n",
    "\n",
    "def stay_length(tags):\n",
    "    for t in tags:\n",
    "        if not isinstance(t, str):\n",
    "            continue\n",
    "        m = stay_re.search(t)\n",
    "        if m:\n",
    "            try:\n",
    "                num = int(m.group(1))\n",
    "            except:\n",
    "                continue\n",
    "            if num == 1:\n",
    "                return \"short\"\n",
    "            elif num <= 3:\n",
    "                return \"medium\"\n",
    "            elif num <= 7:\n",
    "                return \"week\"\n",
    "            else:\n",
    "                return \"long\"\n",
    "    return None\n",
    "\n",
    "hotels[\"stay_length\"] = hotels[\"tags\"].apply(stay_length)\n",
    "\n",
    "# Тип номера\n",
    "room_keywords = [\"Suite\", \"Apartment\", \"Studio\", \"Room\"]\n",
    "\n",
    "def room_type(tags):\n",
    "    low = [(t or \"\").lower() for t in tags if isinstance(t, str)]\n",
    "    for kw in room_keywords:\n",
    "        if any(kw.lower() in t for t in low):\n",
    "            return kw\n",
    "    return None\n",
    "\n",
    "hotels[\"room_type\"] = hotels[\"tags\"].apply(room_type)\n",
    "\n",
    "# Признаки удобств\n",
    "def has_kw(tags, kw): \n",
    "    return int(any(kw in t.lower() for t in tags))\n",
    "amenities = [\"breakfast\", \"parking\", \"spa\", \"gym\", \"pool\", \"airport\", \"metro\", \"city_center\"]\n",
    "for kw in amenities:\n",
    "    hotels[f\"tag_{kw}\"] = hotels[\"tags\"].apply(lambda ts: has_kw(ts, kw))\n"
   ]
  },
  {
   "cell_type": "code",
   "execution_count": 54,
   "metadata": {},
   "outputs": [],
   "source": [
    "# Кодируем длину пребывания в отеле и тип номера\n",
    "import category_encoders as ce\n",
    "encoder = ce.OneHotEncoder(cols=[\"stay_length\", \"room_type\"], use_cat_names=True)\n",
    "hotels = encoder.fit_transform(hotels)  "
   ]
  },
  {
   "cell_type": "markdown",
   "metadata": {},
   "source": [
    "### days_since_review"
   ]
  },
  {
   "cell_type": "code",
   "execution_count": 55,
   "metadata": {},
   "outputs": [],
   "source": [
    "# Работаем с days_since_review\n",
    "hotels[\"days_since_review\"] = hotels[\"days_since_review\"].str.extract(r'(\\d+)').astype(int)"
   ]
  },
  {
   "cell_type": "markdown",
   "metadata": {},
   "source": [
    "### Добавляем разные фичи"
   ]
  },
  {
   "cell_type": "code",
   "execution_count": 56,
   "metadata": {},
   "outputs": [],
   "source": [
    "# Расстояние до центра города\n",
    "city_center = {\n",
    "    \"London\": (51.5074, -0.1278),\n",
    "    \"Barcelona\": (41.3851, 2.1734),\n",
    "    \"Paris\": (48.8566, 2.3522),\n",
    "    \"Amsterdam\": (52.3676, 4.9041),\n",
    "    \"Vienna\": (48.2100, 16.3738),\n",
    "    \"Milan\": (45.4642, 9.1900),\n",
    "}\n",
    "\n",
    "def haversine(lat1, lon1, lat2, lon2):\n",
    "    R = 6371.0\n",
    "    p1, p2 = np.radians(lat1), np.radians(lat2)\n",
    "    dphi = np.radians(lat2 - lat1)\n",
    "    dlmb = np.radians(lon2 - lon1)\n",
    "    a = np.sin(dphi/2)**2 + np.cos(p1)*np.cos(p2)*np.sin(dlmb/2)**2\n",
    "    return 2*R*np.arcsin(np.sqrt(a))\n",
    "\n",
    "hotels[\"dist_center_km\"] = hotels.apply(\n",
    "    lambda r: haversine(r[\"lat\"], r[\"lng\"], *city_center.get(r[\"city\"], (r[\"lat\"], r[\"lng\"]))), axis=1\n",
    ")"
   ]
  },
  {
   "cell_type": "markdown",
   "metadata": {},
   "source": [
    "## Кодируем остатки"
   ]
  },
  {
   "cell_type": "code",
   "execution_count": 57,
   "metadata": {},
   "outputs": [
    {
     "name": "stdout",
     "output_type": "stream",
     "text": [
      "<class 'pandas.core.frame.DataFrame'>\n",
      "RangeIndex: 515738 entries, 0 to 515737\n",
      "Columns: 1568 entries, hotel_address to dist_center_km\n",
      "dtypes: bool(1496), datetime64[ns](1), float64(10), int16(1), int32(4), int64(41), int8(6), object(9)\n",
      "memory usage: 987.6+ MB\n"
     ]
    }
   ],
   "source": [
    "hotels.info()"
   ]
  },
  {
   "cell_type": "code",
   "execution_count": 58,
   "metadata": {},
   "outputs": [],
   "source": [
    "# кодируем страну\n",
    "encoder = ce.OneHotEncoder(cols=[\"country\"], use_cat_names=True)\n",
    "hotels = encoder.fit_transform(hotels)  "
   ]
  },
  {
   "cell_type": "code",
   "execution_count": 59,
   "metadata": {},
   "outputs": [],
   "source": [
    "# кодируем город\n",
    "encoder = ce.OneHotEncoder(cols=[\"city\"], use_cat_names=True)\n",
    "hotels = encoder.fit_transform(hotels)"
   ]
  },
  {
   "cell_type": "markdown",
   "metadata": {},
   "source": [
    "### Дропаем лишнее"
   ]
  },
  {
   "cell_type": "code",
   "execution_count": 60,
   "metadata": {},
   "outputs": [],
   "source": [
    "#Удаляем все колонки с типом object\n",
    "hotels = hotels.drop(columns=[col for col in hotels.columns if hotels[col].dtype == 'object'])"
   ]
  },
  {
   "cell_type": "code",
   "execution_count": 61,
   "metadata": {},
   "outputs": [],
   "source": [
    "# удаляем дату обзора\n",
    "hotels = hotels.drop(columns=['review_date'])"
   ]
  },
  {
   "cell_type": "code",
   "execution_count": 62,
   "metadata": {},
   "outputs": [],
   "source": [
    "# Экономим место\n",
    "\n",
    "# выбираем только int64-колонки\n",
    "int64_cols = hotels.select_dtypes(include=\"int64\").columns\n",
    "\n",
    "# фильтруем из них бинарные (только 0/1)\n",
    "binary_cols = [col for col in int64_cols if hotels[col].dropna().nunique() == 2]\n",
    "\n",
    "# переводим в int8\n",
    "hotels = hotels.astype({col: \"int8\" for col in binary_cols})"
   ]
  },
  {
   "cell_type": "code",
   "execution_count": 63,
   "metadata": {},
   "outputs": [
    {
     "name": "stdout",
     "output_type": "stream",
     "text": [
      "<class 'pandas.core.frame.DataFrame'>\n",
      "RangeIndex: 515738 entries, 0 to 515737\n",
      "Columns: 1570 entries, additional_number_of_scoring to dist_center_km\n",
      "dtypes: bool(1496), float64(10), int16(1), int32(4), int64(27), int8(32)\n",
      "memory usage: 906.0 MB\n"
     ]
    }
   ],
   "source": [
    "hotels.info()"
   ]
  },
  {
   "cell_type": "code",
   "execution_count": 64,
   "metadata": {},
   "outputs": [],
   "source": [
    "# Эксперимент - дропаем самые слабые признаки\n",
    "#hotels=hotels.drop(columns=['pos_vader'])"
   ]
  },
  {
   "cell_type": "markdown",
   "metadata": {},
   "source": [
    "# Финализируем"
   ]
  },
  {
   "cell_type": "code",
   "execution_count": 65,
   "metadata": {},
   "outputs": [],
   "source": [
    "# Выводим список мультиколлинеарных признаков\n",
    "# Берем порог 0,75\n",
    "#def high_corr_pairs(df, corr_thr=0.75):\n",
    "   #corr = df.corr(numeric_only=True)  # только числовые колонки\n",
    "   #pairs = []\n",
    "   #for i in range(len(corr.columns)):\n",
    "      #for j in range(i+1, len(corr.columns)):\n",
    "         #if abs(corr.iloc[i, j]) >= corr_thr:\n",
    "               #pairs.append((corr.columns[i], corr.columns[j], corr.iloc[i, j]))\n",
    "   #return pairs\n",
    "\n",
    "\n",
    "#pairs = high_corr_pairs(hotels, corr_thr=0.75)\n",
    "#for a, b, c in pairs:\n",
    "   #print(f\"{a:20} ~ {b:20} corr={c:.3f}\")"
   ]
  },
  {
   "cell_type": "markdown",
   "metadata": {},
   "source": [
    "Как мы и догадывались - города и страны коррелируют 1 к 1. Удаляем страны.\n",
    "Есть сильная корреляция между числом слов и символов. Убираем число символов - считаем, что слова показательнее.\n",
    "убираем число дней после обзора т.к. сильная корреляция с годом\n",
    "Есть сильная зависимость между числом оценок без отзыва и частотой появления имени отеля. Попробуем убрать число дополнительных отзывов, т.к. имя отеля у нас часть кодирования. День недели коррелирует с фактором выходного дня на 0.831 - удаляем день недели."
   ]
  },
  {
   "cell_type": "code",
   "execution_count": 66,
   "metadata": {},
   "outputs": [],
   "source": [
    "hotels=hotels.drop(columns=['additional_number_of_scoring', 'review_total_negative_word_counts','review_total_negative_word_counts','review_total_positive_word_counts',\n",
    "                           'review_total_positive_word_counts','days_since_review', 'country_Italy','country_Netherlands','country_Spain','country_United Kingdom',\n",
    "                           'country_France','country_Austria','neg_len_chars','pos_len_chars', 'dayofweek', 'lng', 'lat'])"
   ]
  },
  {
   "cell_type": "code",
   "execution_count": 67,
   "metadata": {
    "execution": {
     "iopub.execute_input": "2022-02-08T18:44:36.492193Z",
     "iopub.status.busy": "2022-02-08T18:44:36.491969Z",
     "iopub.status.idle": "2022-02-08T18:44:36.517355Z",
     "shell.execute_reply": "2022-02-08T18:44:36.516571Z",
     "shell.execute_reply.started": "2022-02-08T18:44:36.492165Z"
    },
    "trusted": true
   },
   "outputs": [
    {
     "name": "stdout",
     "output_type": "stream",
     "text": [
      "<class 'pandas.core.frame.DataFrame'>\n",
      "RangeIndex: 515738 entries, 0 to 515737\n",
      "Columns: 1555 entries, average_score to dist_center_km\n",
      "dtypes: bool(1496), float64(8), int16(1), int32(3), int64(21), int8(26)\n",
      "memory usage: 869.6 MB\n"
     ]
    }
   ],
   "source": [
    "hotels.info()"
   ]
  },
  {
   "cell_type": "code",
   "execution_count": 68,
   "metadata": {
    "execution": {
     "iopub.execute_input": "2022-02-08T18:44:36.519263Z",
     "iopub.status.busy": "2022-02-08T18:44:36.518727Z",
     "iopub.status.idle": "2022-02-08T18:44:36.562679Z",
     "shell.execute_reply": "2022-02-08T18:44:36.562103Z",
     "shell.execute_reply.started": "2022-02-08T18:44:36.519234Z"
    },
    "trusted": true
   },
   "outputs": [],
   "source": [
    "# Теперь выделим тестовую часть\n",
    "train_data = hotels.query('sample == 1').drop(['sample'], axis=1)\n",
    "test_data = hotels.query('sample == 0').drop(['sample'], axis=1)\n",
    "\n",
    "y = train_data.reviewer_score.values            # наш таргет\n",
    "X = train_data.drop(['reviewer_score'], axis=1)"
   ]
  },
  {
   "cell_type": "code",
   "execution_count": 69,
   "metadata": {
    "execution": {
     "iopub.execute_input": "2022-02-08T18:44:36.564406Z",
     "iopub.status.busy": "2022-02-08T18:44:36.563976Z",
     "iopub.status.idle": "2022-02-08T18:44:36.612313Z",
     "shell.execute_reply": "2022-02-08T18:44:36.611682Z",
     "shell.execute_reply.started": "2022-02-08T18:44:36.564379Z"
    },
    "trusted": true
   },
   "outputs": [],
   "source": [
    "# Воспользуемся специальной функцие train_test_split для разбивки тестовых данных\n",
    "# выделим 20% данных на валидацию (параметр test_size)\n",
    "X_train, X_test, y_train, y_test = train_test_split(X, y, test_size=0.2, random_state=RANDOM_SEED)"
   ]
  },
  {
   "cell_type": "code",
   "execution_count": 70,
   "metadata": {
    "execution": {
     "iopub.execute_input": "2022-02-08T18:44:36.614067Z",
     "iopub.status.busy": "2022-02-08T18:44:36.613636Z",
     "iopub.status.idle": "2022-02-08T18:44:36.619417Z",
     "shell.execute_reply": "2022-02-08T18:44:36.618871Z",
     "shell.execute_reply.started": "2022-02-08T18:44:36.614037Z"
    },
    "trusted": true
   },
   "outputs": [
    {
     "data": {
      "text/plain": [
       "((128935, 1554), (386803, 1554), (386803, 1553), (309442, 1553), (77361, 1553))"
      ]
     },
     "execution_count": 70,
     "metadata": {},
     "output_type": "execute_result"
    }
   ],
   "source": [
    "# проверяем\n",
    "test_data.shape, train_data.shape, X.shape, X_train.shape, X_test.shape"
   ]
  },
  {
   "cell_type": "code",
   "execution_count": 71,
   "metadata": {
    "execution": {
     "iopub.execute_input": "2022-02-08T18:44:36.620931Z",
     "iopub.status.busy": "2022-02-08T18:44:36.620476Z",
     "iopub.status.idle": "2022-02-08T18:44:36.630108Z",
     "shell.execute_reply": "2022-02-08T18:44:36.629422Z",
     "shell.execute_reply.started": "2022-02-08T18:44:36.620894Z"
    },
    "trusted": true
   },
   "outputs": [],
   "source": [
    "# Импортируем необходимые библиотеки:\n",
    "from sklearn.ensemble import RandomForestRegressor # инструмент для создания и обучения модели\n",
    "from sklearn import metrics # инструменты для оценки точности модели"
   ]
  },
  {
   "cell_type": "code",
   "execution_count": 72,
   "metadata": {
    "execution": {
     "iopub.execute_input": "2022-02-08T18:44:36.631625Z",
     "iopub.status.busy": "2022-02-08T18:44:36.631199Z",
     "iopub.status.idle": "2022-02-08T18:44:36.683947Z",
     "shell.execute_reply": "2022-02-08T18:44:36.683132Z",
     "shell.execute_reply.started": "2022-02-08T18:44:36.631597Z"
    },
    "trusted": true
   },
   "outputs": [],
   "source": [
    "# Создаём модель (НАСТРОЙКИ НЕ ТРОГАЕМ)\n",
    "model = RandomForestRegressor(n_estimators=100, verbose=1, n_jobs=-1, random_state=RANDOM_SEED)"
   ]
  },
  {
   "cell_type": "code",
   "execution_count": 73,
   "metadata": {
    "execution": {
     "iopub.execute_input": "2022-02-08T18:44:36.685824Z",
     "iopub.status.busy": "2022-02-08T18:44:36.685163Z",
     "iopub.status.idle": "2022-02-08T18:45:41.406488Z",
     "shell.execute_reply": "2022-02-08T18:45:41.405586Z",
     "shell.execute_reply.started": "2022-02-08T18:44:36.685783Z"
    },
    "trusted": true
   },
   "outputs": [
    {
     "name": "stderr",
     "output_type": "stream",
     "text": [
      "[Parallel(n_jobs=-1)]: Using backend ThreadingBackend with 16 concurrent workers.\n",
      "[Parallel(n_jobs=-1)]: Done  18 tasks      | elapsed:  1.4min\n",
      "[Parallel(n_jobs=-1)]: Done 100 out of 100 | elapsed:  4.8min finished\n",
      "[Parallel(n_jobs=16)]: Using backend ThreadingBackend with 16 concurrent workers.\n",
      "[Parallel(n_jobs=16)]: Done  18 tasks      | elapsed:    0.1s\n",
      "[Parallel(n_jobs=16)]: Done 100 out of 100 | elapsed:    0.6s finished\n"
     ]
    }
   ],
   "source": [
    "# Обучаем модель на тестовом наборе данных\n",
    "model.fit(X_train, y_train)\n",
    "\n",
    "# Используем обученную модель для предсказания рейтинга ресторанов в тестовой выборке.\n",
    "# Предсказанные значения записываем в переменную y_pred\n",
    "y_pred = model.predict(X_test)"
   ]
  },
  {
   "cell_type": "code",
   "execution_count": 74,
   "metadata": {
    "execution": {
     "iopub.execute_input": "2022-02-08T18:45:41.407913Z",
     "iopub.status.busy": "2022-02-08T18:45:41.407709Z",
     "iopub.status.idle": "2022-02-08T18:45:41.414446Z",
     "shell.execute_reply": "2022-02-08T18:45:41.413947Z",
     "shell.execute_reply.started": "2022-02-08T18:45:41.407883Z"
    },
    "trusted": true
   },
   "outputs": [
    {
     "name": "stdout",
     "output_type": "stream",
     "text": [
      "MAPE: 0.8498336672655902\n"
     ]
    }
   ],
   "source": [
    "# Сравниваем предсказанные значения (y_pred) с реальными (y_test), и смотрим насколько они в среднем отличаются\n",
    "# Метрика называется Mean Absolute Error (MAE) и показывает среднее отклонение предсказанных значений от фактических.\n",
    "print('MAPE:', metrics.mean_absolute_error(y_test, y_pred))"
   ]
  },
  {
   "cell_type": "code",
   "execution_count": 75,
   "metadata": {
    "execution": {
     "iopub.execute_input": "2022-02-08T18:45:41.416118Z",
     "iopub.status.busy": "2022-02-08T18:45:41.415495Z",
     "iopub.status.idle": "2022-02-08T18:45:41.864724Z",
     "shell.execute_reply": "2022-02-08T18:45:41.864128Z",
     "shell.execute_reply.started": "2022-02-08T18:45:41.416087Z"
    },
    "trusted": true
   },
   "outputs": [
    {
     "data": {
      "text/plain": [
       "<Axes: >"
      ]
     },
     "execution_count": 75,
     "metadata": {},
     "output_type": "execute_result"
    },
    {
     "data": {
      "image/png": "[encoded data removed]",
      "text/plain": [
       "<Figure size 1000x1000 with 1 Axes>"
      ]
     },
     "metadata": {},
     "output_type": "display_data"
    }
   ],
   "source": [
    "# в RandomForestRegressor есть возможность вывести самые важные признаки для модели\n",
    "plt.rcParams['figure.figsize'] = (10,10)\n",
    "feat_importances = pd.Series(model.feature_importances_, index=X.columns)\n",
    "feat_importances.nlargest(15).plot(kind='barh')"
   ]
  },
  {
   "cell_type": "code",
   "execution_count": 76,
   "metadata": {
    "execution": {
     "iopub.execute_input": "2022-02-08T18:45:41.866062Z",
     "iopub.status.busy": "2022-02-08T18:45:41.86571Z",
     "iopub.status.idle": "2022-02-08T18:45:41.884306Z",
     "shell.execute_reply": "2022-02-08T18:45:41.883577Z",
     "shell.execute_reply.started": "2022-02-08T18:45:41.866035Z"
    },
    "trusted": true
   },
   "outputs": [
    {
     "data": {
      "text/html": [
       "<div>\n",
       "<style scoped>\n",
       "    .dataframe tbody tr th:only-of-type {\n",
       "        vertical-align: middle;\n",
       "    }\n",
       "\n",
       "    .dataframe tbody tr th {\n",
       "        vertical-align: top;\n",
       "    }\n",
       "\n",
       "    .dataframe thead th {\n",
       "        text-align: right;\n",
       "    }\n",
       "</style>\n",
       "<table border=\"1\" class=\"dataframe\">\n",
       "  <thead>\n",
       "    <tr style=\"text-align: right;\">\n",
       "      <th></th>\n",
       "      <th>average_score</th>\n",
       "      <th>total_number_of_reviews</th>\n",
       "      <th>total_number_of_reviews_reviewer_has_given</th>\n",
       "      <th>reviewer_score</th>\n",
       "      <th>city_Milan</th>\n",
       "      <th>city_Amsterdam</th>\n",
       "      <th>city_Barcelona</th>\n",
       "      <th>city_London</th>\n",
       "      <th>city_Paris</th>\n",
       "      <th>city_Vienna</th>\n",
       "      <th>...</th>\n",
       "      <th>room_type_nan</th>\n",
       "      <th>tag_breakfast</th>\n",
       "      <th>tag_parking</th>\n",
       "      <th>tag_spa</th>\n",
       "      <th>tag_gym</th>\n",
       "      <th>tag_pool</th>\n",
       "      <th>tag_airport</th>\n",
       "      <th>tag_metro</th>\n",
       "      <th>tag_city_center</th>\n",
       "      <th>dist_center_km</th>\n",
       "    </tr>\n",
       "  </thead>\n",
       "  <tbody>\n",
       "    <tr>\n",
       "      <th>92361</th>\n",
       "      <td>8.2</td>\n",
       "      <td>967</td>\n",
       "      <td>4</td>\n",
       "      <td>0.0</td>\n",
       "      <td>0</td>\n",
       "      <td>0</td>\n",
       "      <td>0</td>\n",
       "      <td>0</td>\n",
       "      <td>1</td>\n",
       "      <td>0</td>\n",
       "      <td>...</td>\n",
       "      <td>0</td>\n",
       "      <td>0</td>\n",
       "      <td>0</td>\n",
       "      <td>0</td>\n",
       "      <td>0</td>\n",
       "      <td>0</td>\n",
       "      <td>0</td>\n",
       "      <td>0</td>\n",
       "      <td>0</td>\n",
       "      <td>1.193959</td>\n",
       "    </tr>\n",
       "    <tr>\n",
       "      <th>115708</th>\n",
       "      <td>8.5</td>\n",
       "      <td>1831</td>\n",
       "      <td>31</td>\n",
       "      <td>0.0</td>\n",
       "      <td>0</td>\n",
       "      <td>0</td>\n",
       "      <td>0</td>\n",
       "      <td>1</td>\n",
       "      <td>0</td>\n",
       "      <td>0</td>\n",
       "      <td>...</td>\n",
       "      <td>0</td>\n",
       "      <td>0</td>\n",
       "      <td>0</td>\n",
       "      <td>0</td>\n",
       "      <td>0</td>\n",
       "      <td>0</td>\n",
       "      <td>0</td>\n",
       "      <td>0</td>\n",
       "      <td>0</td>\n",
       "      <td>4.959248</td>\n",
       "    </tr>\n",
       "    <tr>\n",
       "      <th>5262</th>\n",
       "      <td>8.5</td>\n",
       "      <td>378</td>\n",
       "      <td>3</td>\n",
       "      <td>0.0</td>\n",
       "      <td>0</td>\n",
       "      <td>0</td>\n",
       "      <td>0</td>\n",
       "      <td>0</td>\n",
       "      <td>1</td>\n",
       "      <td>0</td>\n",
       "      <td>...</td>\n",
       "      <td>0</td>\n",
       "      <td>0</td>\n",
       "      <td>0</td>\n",
       "      <td>0</td>\n",
       "      <td>0</td>\n",
       "      <td>0</td>\n",
       "      <td>0</td>\n",
       "      <td>0</td>\n",
       "      <td>0</td>\n",
       "      <td>4.805696</td>\n",
       "    </tr>\n",
       "    <tr>\n",
       "      <th>37466</th>\n",
       "      <td>8.5</td>\n",
       "      <td>4559</td>\n",
       "      <td>3</td>\n",
       "      <td>0.0</td>\n",
       "      <td>0</td>\n",
       "      <td>0</td>\n",
       "      <td>1</td>\n",
       "      <td>0</td>\n",
       "      <td>0</td>\n",
       "      <td>0</td>\n",
       "      <td>...</td>\n",
       "      <td>0</td>\n",
       "      <td>0</td>\n",
       "      <td>0</td>\n",
       "      <td>0</td>\n",
       "      <td>0</td>\n",
       "      <td>0</td>\n",
       "      <td>0</td>\n",
       "      <td>0</td>\n",
       "      <td>0</td>\n",
       "      <td>1.682643</td>\n",
       "    </tr>\n",
       "    <tr>\n",
       "      <th>9617</th>\n",
       "      <td>7.5</td>\n",
       "      <td>1774</td>\n",
       "      <td>18</td>\n",
       "      <td>0.0</td>\n",
       "      <td>1</td>\n",
       "      <td>0</td>\n",
       "      <td>0</td>\n",
       "      <td>0</td>\n",
       "      <td>0</td>\n",
       "      <td>0</td>\n",
       "      <td>...</td>\n",
       "      <td>0</td>\n",
       "      <td>0</td>\n",
       "      <td>0</td>\n",
       "      <td>0</td>\n",
       "      <td>0</td>\n",
       "      <td>0</td>\n",
       "      <td>0</td>\n",
       "      <td>0</td>\n",
       "      <td>0</td>\n",
       "      <td>0.706415</td>\n",
       "    </tr>\n",
       "    <tr>\n",
       "      <th>31426</th>\n",
       "      <td>9.5</td>\n",
       "      <td>319</td>\n",
       "      <td>2</td>\n",
       "      <td>0.0</td>\n",
       "      <td>0</td>\n",
       "      <td>0</td>\n",
       "      <td>0</td>\n",
       "      <td>1</td>\n",
       "      <td>0</td>\n",
       "      <td>0</td>\n",
       "      <td>...</td>\n",
       "      <td>0</td>\n",
       "      <td>0</td>\n",
       "      <td>0</td>\n",
       "      <td>0</td>\n",
       "      <td>0</td>\n",
       "      <td>0</td>\n",
       "      <td>0</td>\n",
       "      <td>0</td>\n",
       "      <td>0</td>\n",
       "      <td>1.318505</td>\n",
       "    </tr>\n",
       "    <tr>\n",
       "      <th>7724</th>\n",
       "      <td>7.8</td>\n",
       "      <td>2387</td>\n",
       "      <td>7</td>\n",
       "      <td>0.0</td>\n",
       "      <td>1</td>\n",
       "      <td>0</td>\n",
       "      <td>0</td>\n",
       "      <td>0</td>\n",
       "      <td>0</td>\n",
       "      <td>0</td>\n",
       "      <td>...</td>\n",
       "      <td>0</td>\n",
       "      <td>0</td>\n",
       "      <td>0</td>\n",
       "      <td>0</td>\n",
       "      <td>0</td>\n",
       "      <td>0</td>\n",
       "      <td>0</td>\n",
       "      <td>0</td>\n",
       "      <td>0</td>\n",
       "      <td>0.412030</td>\n",
       "    </tr>\n",
       "    <tr>\n",
       "      <th>46027</th>\n",
       "      <td>8.1</td>\n",
       "      <td>6373</td>\n",
       "      <td>1</td>\n",
       "      <td>0.0</td>\n",
       "      <td>0</td>\n",
       "      <td>0</td>\n",
       "      <td>0</td>\n",
       "      <td>0</td>\n",
       "      <td>0</td>\n",
       "      <td>1</td>\n",
       "      <td>...</td>\n",
       "      <td>0</td>\n",
       "      <td>0</td>\n",
       "      <td>0</td>\n",
       "      <td>0</td>\n",
       "      <td>0</td>\n",
       "      <td>0</td>\n",
       "      <td>0</td>\n",
       "      <td>0</td>\n",
       "      <td>0</td>\n",
       "      <td>3.018814</td>\n",
       "    </tr>\n",
       "    <tr>\n",
       "      <th>88051</th>\n",
       "      <td>7.8</td>\n",
       "      <td>570</td>\n",
       "      <td>35</td>\n",
       "      <td>0.0</td>\n",
       "      <td>0</td>\n",
       "      <td>0</td>\n",
       "      <td>0</td>\n",
       "      <td>0</td>\n",
       "      <td>1</td>\n",
       "      <td>0</td>\n",
       "      <td>...</td>\n",
       "      <td>0</td>\n",
       "      <td>0</td>\n",
       "      <td>0</td>\n",
       "      <td>0</td>\n",
       "      <td>0</td>\n",
       "      <td>0</td>\n",
       "      <td>0</td>\n",
       "      <td>0</td>\n",
       "      <td>0</td>\n",
       "      <td>1.834525</td>\n",
       "    </tr>\n",
       "    <tr>\n",
       "      <th>98747</th>\n",
       "      <td>8.5</td>\n",
       "      <td>126</td>\n",
       "      <td>4</td>\n",
       "      <td>0.0</td>\n",
       "      <td>0</td>\n",
       "      <td>0</td>\n",
       "      <td>0</td>\n",
       "      <td>0</td>\n",
       "      <td>1</td>\n",
       "      <td>0</td>\n",
       "      <td>...</td>\n",
       "      <td>0</td>\n",
       "      <td>0</td>\n",
       "      <td>0</td>\n",
       "      <td>0</td>\n",
       "      <td>0</td>\n",
       "      <td>0</td>\n",
       "      <td>0</td>\n",
       "      <td>0</td>\n",
       "      <td>0</td>\n",
       "      <td>1.786572</td>\n",
       "    </tr>\n",
       "  </tbody>\n",
       "</table>\n",
       "<p>10 rows × 1554 columns</p>\n",
       "</div>"
      ],
      "text/plain": [
       "        average_score  total_number_of_reviews  \\\n",
       "92361             8.2                      967   \n",
       "115708            8.5                     1831   \n",
       "5262              8.5                      378   \n",
       "37466             8.5                     4559   \n",
       "9617              7.5                     1774   \n",
       "31426             9.5                      319   \n",
       "7724              7.8                     2387   \n",
       "46027             8.1                     6373   \n",
       "88051             7.8                      570   \n",
       "98747             8.5                      126   \n",
       "\n",
       "        total_number_of_reviews_reviewer_has_given  reviewer_score  \\\n",
       "92361                                            4             0.0   \n",
       "115708                                          31             0.0   \n",
       "5262                                             3             0.0   \n",
       "37466                                            3             0.0   \n",
       "9617                                            18             0.0   \n",
       "31426                                            2             0.0   \n",
       "7724                                             7             0.0   \n",
       "46027                                            1             0.0   \n",
       "88051                                           35             0.0   \n",
       "98747                                            4             0.0   \n",
       "\n",
       "        city_Milan  city_Amsterdam  city_Barcelona  city_London  city_Paris  \\\n",
       "92361            0               0               0            0           1   \n",
       "115708           0               0               0            1           0   \n",
       "5262             0               0               0            0           1   \n",
       "37466            0               0               1            0           0   \n",
       "9617             1               0               0            0           0   \n",
       "31426            0               0               0            1           0   \n",
       "7724             1               0               0            0           0   \n",
       "46027            0               0               0            0           0   \n",
       "88051            0               0               0            0           1   \n",
       "98747            0               0               0            0           1   \n",
       "\n",
       "        city_Vienna  ...  room_type_nan  tag_breakfast  tag_parking  tag_spa  \\\n",
       "92361             0  ...              0              0            0        0   \n",
       "115708            0  ...              0              0            0        0   \n",
       "5262              0  ...              0              0            0        0   \n",
       "37466             0  ...              0              0            0        0   \n",
       "9617              0  ...              0              0            0        0   \n",
       "31426             0  ...              0              0            0        0   \n",
       "7724              0  ...              0              0            0        0   \n",
       "46027             1  ...              0              0            0        0   \n",
       "88051             0  ...              0              0            0        0   \n",
       "98747             0  ...              0              0            0        0   \n",
       "\n",
       "        tag_gym  tag_pool  tag_airport  tag_metro  tag_city_center  \\\n",
       "92361         0         0            0          0                0   \n",
       "115708        0         0            0          0                0   \n",
       "5262          0         0            0          0                0   \n",
       "37466         0         0            0          0                0   \n",
       "9617          0         0            0          0                0   \n",
       "31426         0         0            0          0                0   \n",
       "7724          0         0            0          0                0   \n",
       "46027         0         0            0          0                0   \n",
       "88051         0         0            0          0                0   \n",
       "98747         0         0            0          0                0   \n",
       "\n",
       "        dist_center_km  \n",
       "92361         1.193959  \n",
       "115708        4.959248  \n",
       "5262          4.805696  \n",
       "37466         1.682643  \n",
       "9617          0.706415  \n",
       "31426         1.318505  \n",
       "7724          0.412030  \n",
       "46027         3.018814  \n",
       "88051         1.834525  \n",
       "98747         1.786572  \n",
       "\n",
       "[10 rows x 1554 columns]"
      ]
     },
     "execution_count": 76,
     "metadata": {},
     "output_type": "execute_result"
    }
   ],
   "source": [
    "test_data.sample(10)"
   ]
  },
  {
   "cell_type": "code",
   "execution_count": 77,
   "metadata": {
    "execution": {
     "iopub.execute_input": "2022-02-08T18:45:41.885594Z",
     "iopub.status.busy": "2022-02-08T18:45:41.885388Z",
     "iopub.status.idle": "2022-02-08T18:45:41.892093Z",
     "shell.execute_reply": "2022-02-08T18:45:41.891222Z",
     "shell.execute_reply.started": "2022-02-08T18:45:41.885567Z"
    },
    "trusted": true
   },
   "outputs": [],
   "source": [
    "test_data = test_data.drop(['reviewer_score'], axis=1)"
   ]
  },
  {
   "cell_type": "code",
   "execution_count": 78,
   "metadata": {
    "execution": {
     "iopub.execute_input": "2022-02-08T18:45:41.893332Z",
     "iopub.status.busy": "2022-02-08T18:45:41.893146Z",
     "iopub.status.idle": "2022-02-08T18:45:41.909665Z",
     "shell.execute_reply": "2022-02-08T18:45:41.908885Z",
     "shell.execute_reply.started": "2022-02-08T18:45:41.893309Z"
    },
    "trusted": true
   },
   "outputs": [
    {
     "data": {
      "text/html": [
       "<div>\n",
       "<style scoped>\n",
       "    .dataframe tbody tr th:only-of-type {\n",
       "        vertical-align: middle;\n",
       "    }\n",
       "\n",
       "    .dataframe tbody tr th {\n",
       "        vertical-align: top;\n",
       "    }\n",
       "\n",
       "    .dataframe thead th {\n",
       "        text-align: right;\n",
       "    }\n",
       "</style>\n",
       "<table border=\"1\" class=\"dataframe\">\n",
       "  <thead>\n",
       "    <tr style=\"text-align: right;\">\n",
       "      <th></th>\n",
       "      <th>reviewer_score</th>\n",
       "      <th>id</th>\n",
       "    </tr>\n",
       "  </thead>\n",
       "  <tbody>\n",
       "    <tr>\n",
       "      <th>0</th>\n",
       "      <td>1</td>\n",
       "      <td>488440</td>\n",
       "    </tr>\n",
       "    <tr>\n",
       "      <th>1</th>\n",
       "      <td>10</td>\n",
       "      <td>274649</td>\n",
       "    </tr>\n",
       "    <tr>\n",
       "      <th>2</th>\n",
       "      <td>3</td>\n",
       "      <td>374688</td>\n",
       "    </tr>\n",
       "    <tr>\n",
       "      <th>3</th>\n",
       "      <td>10</td>\n",
       "      <td>404352</td>\n",
       "    </tr>\n",
       "    <tr>\n",
       "      <th>4</th>\n",
       "      <td>9</td>\n",
       "      <td>451596</td>\n",
       "    </tr>\n",
       "    <tr>\n",
       "      <th>...</th>\n",
       "      <td>...</td>\n",
       "      <td>...</td>\n",
       "    </tr>\n",
       "    <tr>\n",
       "      <th>128930</th>\n",
       "      <td>7</td>\n",
       "      <td>495812</td>\n",
       "    </tr>\n",
       "    <tr>\n",
       "      <th>128931</th>\n",
       "      <td>1</td>\n",
       "      <td>315577</td>\n",
       "    </tr>\n",
       "    <tr>\n",
       "      <th>128932</th>\n",
       "      <td>3</td>\n",
       "      <td>511968</td>\n",
       "    </tr>\n",
       "    <tr>\n",
       "      <th>128933</th>\n",
       "      <td>6</td>\n",
       "      <td>303386</td>\n",
       "    </tr>\n",
       "    <tr>\n",
       "      <th>128934</th>\n",
       "      <td>5</td>\n",
       "      <td>103157</td>\n",
       "    </tr>\n",
       "  </tbody>\n",
       "</table>\n",
       "<p>128935 rows × 2 columns</p>\n",
       "</div>"
      ],
      "text/plain": [
       "        reviewer_score      id\n",
       "0                    1  488440\n",
       "1                   10  274649\n",
       "2                    3  374688\n",
       "3                   10  404352\n",
       "4                    9  451596\n",
       "...                ...     ...\n",
       "128930               7  495812\n",
       "128931               1  315577\n",
       "128932               3  511968\n",
       "128933               6  303386\n",
       "128934               5  103157\n",
       "\n",
       "[128935 rows x 2 columns]"
      ]
     },
     "execution_count": 78,
     "metadata": {},
     "output_type": "execute_result"
    }
   ],
   "source": [
    "sample_submission"
   ]
  },
  {
   "cell_type": "code",
   "execution_count": 79,
   "metadata": {
    "execution": {
     "iopub.execute_input": "2022-02-08T18:45:41.912958Z",
     "iopub.status.busy": "2022-02-08T18:45:41.911197Z",
     "iopub.status.idle": "2022-02-08T18:45:44.230401Z",
     "shell.execute_reply": "2022-02-08T18:45:44.229808Z",
     "shell.execute_reply.started": "2022-02-08T18:45:41.912914Z"
    },
    "trusted": true
   },
   "outputs": [
    {
     "name": "stderr",
     "output_type": "stream",
     "text": [
      "[Parallel(n_jobs=16)]: Using backend ThreadingBackend with 16 concurrent workers.\n",
      "[Parallel(n_jobs=16)]: Done  18 tasks      | elapsed:    0.2s\n",
      "[Parallel(n_jobs=16)]: Done 100 out of 100 | elapsed:    1.0s finished\n"
     ]
    }
   ],
   "source": [
    "predict_submission = model.predict(test_data)"
   ]
  },
  {
   "cell_type": "code",
   "execution_count": 80,
   "metadata": {
    "execution": {
     "iopub.execute_input": "2022-02-08T18:45:44.23145Z",
     "iopub.status.busy": "2022-02-08T18:45:44.231245Z",
     "iopub.status.idle": "2022-02-08T18:45:44.237626Z",
     "shell.execute_reply": "2022-02-08T18:45:44.236794Z",
     "shell.execute_reply.started": "2022-02-08T18:45:44.231424Z"
    },
    "trusted": true
   },
   "outputs": [
    {
     "data": {
      "text/plain": [
       "array([8.775, 7.365, 8.337, ..., 8.596, 9.659, 7.216])"
      ]
     },
     "execution_count": 80,
     "metadata": {},
     "output_type": "execute_result"
    }
   ],
   "source": [
    "predict_submission"
   ]
  },
  {
   "cell_type": "code",
   "execution_count": 81,
   "metadata": {
    "execution": {
     "iopub.execute_input": "2022-02-08T18:45:44.239657Z",
     "iopub.status.busy": "2022-02-08T18:45:44.23939Z",
     "iopub.status.idle": "2022-02-08T18:45:44.249217Z",
     "shell.execute_reply": "2022-02-08T18:45:44.248289Z",
     "shell.execute_reply.started": "2022-02-08T18:45:44.239621Z"
    },
    "trusted": true
   },
   "outputs": [
    {
     "data": {
      "text/plain": [
       "['reviewer_score', 'id']"
      ]
     },
     "execution_count": 81,
     "metadata": {},
     "output_type": "execute_result"
    }
   ],
   "source": [
    "list(sample_submission)"
   ]
  },
  {
   "cell_type": "code",
   "execution_count": 82,
   "metadata": {
    "execution": {
     "iopub.execute_input": "2022-02-08T18:45:44.250806Z",
     "iopub.status.busy": "2022-02-08T18:45:44.250349Z",
     "iopub.status.idle": "2022-02-08T18:45:44.675802Z",
     "shell.execute_reply": "2022-02-08T18:45:44.675241Z",
     "shell.execute_reply.started": "2022-02-08T18:45:44.250765Z"
    },
    "trusted": true
   },
   "outputs": [
    {
     "data": {
      "text/html": [
       "<div>\n",
       "<style scoped>\n",
       "    .dataframe tbody tr th:only-of-type {\n",
       "        vertical-align: middle;\n",
       "    }\n",
       "\n",
       "    .dataframe tbody tr th {\n",
       "        vertical-align: top;\n",
       "    }\n",
       "\n",
       "    .dataframe thead th {\n",
       "        text-align: right;\n",
       "    }\n",
       "</style>\n",
       "<table border=\"1\" class=\"dataframe\">\n",
       "  <thead>\n",
       "    <tr style=\"text-align: right;\">\n",
       "      <th></th>\n",
       "      <th>reviewer_score</th>\n",
       "      <th>id</th>\n",
       "    </tr>\n",
       "  </thead>\n",
       "  <tbody>\n",
       "    <tr>\n",
       "      <th>0</th>\n",
       "      <td>8.775</td>\n",
       "      <td>488440</td>\n",
       "    </tr>\n",
       "    <tr>\n",
       "      <th>1</th>\n",
       "      <td>7.365</td>\n",
       "      <td>274649</td>\n",
       "    </tr>\n",
       "    <tr>\n",
       "      <th>2</th>\n",
       "      <td>8.337</td>\n",
       "      <td>374688</td>\n",
       "    </tr>\n",
       "    <tr>\n",
       "      <th>3</th>\n",
       "      <td>9.687</td>\n",
       "      <td>404352</td>\n",
       "    </tr>\n",
       "    <tr>\n",
       "      <th>4</th>\n",
       "      <td>9.636</td>\n",
       "      <td>451596</td>\n",
       "    </tr>\n",
       "    <tr>\n",
       "      <th>5</th>\n",
       "      <td>8.551</td>\n",
       "      <td>302161</td>\n",
       "    </tr>\n",
       "    <tr>\n",
       "      <th>6</th>\n",
       "      <td>7.948</td>\n",
       "      <td>317079</td>\n",
       "    </tr>\n",
       "    <tr>\n",
       "      <th>7</th>\n",
       "      <td>7.613</td>\n",
       "      <td>13963</td>\n",
       "    </tr>\n",
       "    <tr>\n",
       "      <th>8</th>\n",
       "      <td>8.511</td>\n",
       "      <td>159785</td>\n",
       "    </tr>\n",
       "    <tr>\n",
       "      <th>9</th>\n",
       "      <td>7.768</td>\n",
       "      <td>195089</td>\n",
       "    </tr>\n",
       "  </tbody>\n",
       "</table>\n",
       "</div>"
      ],
      "text/plain": [
       "   reviewer_score      id\n",
       "0           8.775  488440\n",
       "1           7.365  274649\n",
       "2           8.337  374688\n",
       "3           9.687  404352\n",
       "4           9.636  451596\n",
       "5           8.551  302161\n",
       "6           7.948  317079\n",
       "7           7.613   13963\n",
       "8           8.511  159785\n",
       "9           7.768  195089"
      ]
     },
     "execution_count": 82,
     "metadata": {},
     "output_type": "execute_result"
    }
   ],
   "source": [
    "sample_submission['reviewer_score'] = predict_submission\n",
    "sample_submission.to_csv('submission.csv', index=False)\n",
    "sample_submission.head(10)"
   ]
  },
  {
   "cell_type": "code",
   "execution_count": null,
   "metadata": {},
   "outputs": [],
   "source": []
  },
  {
   "cell_type": "code",
   "execution_count": null,
   "metadata": {},
   "outputs": [],
   "source": []
  }
 ],
 "metadata": {
  "kaggle": {
   "accelerator": "none",
   "dataSources": [
    {
     "databundleVersionId": 3207826,
     "sourceId": 34288,
     "sourceType": "competition"
    }
   ],
   "dockerImageVersionId": 30157,
   "isGpuEnabled": false,
   "isInternetEnabled": false,
   "language": "python",
   "sourceType": "notebook"
  },
  "kernelspec": {
   "display_name": "Python 3",
   "language": "python",
   "name": "python3"
  },
  "language_info": {
   "codemirror_mode": {
    "name": "ipython",
    "version": 3
   },
   "file_extension": ".py",
   "mimetype": "text/x-python",
   "name": "python",
   "nbconvert_exporter": "python",
   "pygments_lexer": "ipython3",
   "version": "3.12.7"
  }
 },
 "nbformat": 4,
 "nbformat_minor": 4
}
