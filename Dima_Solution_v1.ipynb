{
 "cells": [
  {
   "cell_type": "markdown",
   "metadata": {},
   "source": [
    "## 0. Предварительные действия"
   ]
  },
  {
   "cell_type": "code",
   "execution_count": 1,
   "metadata": {
    "_cell_guid": "b1076dfc-b9ad-4769-8c92-a6c4dae69d19",
    "_uuid": "8f2839f25d086af736a60e9eeb907d3b93b6e0e5",
    "execution": {
     "iopub.execute_input": "2022-02-08T18:44:26.624192Z",
     "iopub.status.busy": "2022-02-08T18:44:26.623896Z",
     "iopub.status.idle": "2022-02-08T18:44:26.639365Z",
     "shell.execute_reply": "2022-02-08T18:44:26.638515Z",
     "shell.execute_reply.started": "2022-02-08T18:44:26.624161Z"
    },
    "trusted": true
   },
   "outputs": [],
   "source": [
    "# This Python 3 environment comes with many helpful analytics libraries installed\n",
    "# It is defined by the kaggle/python Docker image: https://github.com/kaggle/docker-python\n",
    "# For example, here's several helpful packages to load\n",
    "\n",
    "import numpy as np # linear algebra\n",
    "import pandas as pd # data processing, CSV file I/O (e.g. pd.read_csv)\n",
    "\n",
    "# импортируем библиотеки для визуализации\n",
    "import matplotlib.pyplot as plt\n",
    "import seaborn as sns \n",
    "%matplotlib inline\n",
    "\n",
    "# Загружаем специальный удобный инструмент для разделения датасета:\n",
    "from sklearn.model_selection import train_test_split\n",
    "\n",
    "# Input data files are available in the read-only \"../input/\" directory\n",
    "# For example, running this (by clicking run or pressing Shift+Enter) will list all files under the input directory\n",
    "\n",
    "#import os\n",
    "#for dirname, _, filenames in os.walk('/kaggle/input'):\n",
    "    #for filename in filenames:\n",
    "        #print(os.path.join(dirname, filename))\n",
    "\n",
    "# You can write up to 20GB to the current directory (/kaggle/working/) that gets preserved as output when you create a version using \"Save & Run All\" \n",
    "# You can also write temporary files to /kaggle/temp/, but they won't be saved outside of the current session"
   ]
  },
  {
   "cell_type": "code",
   "execution_count": 2,
   "metadata": {
    "execution": {
     "iopub.execute_input": "2022-02-08T18:44:26.641479Z",
     "iopub.status.busy": "2022-02-08T18:44:26.640957Z",
     "iopub.status.idle": "2022-02-08T18:44:26.647428Z",
     "shell.execute_reply": "2022-02-08T18:44:26.646685Z",
     "shell.execute_reply.started": "2022-02-08T18:44:26.641433Z"
    },
    "trusted": true
   },
   "outputs": [],
   "source": [
    "# всегда фиксируйте RANDOM_SEED, чтобы ваши эксперименты были воспроизводимы!\n",
    "RANDOM_SEED = 42"
   ]
  },
  {
   "cell_type": "code",
   "execution_count": 3,
   "metadata": {
    "execution": {
     "iopub.execute_input": "2022-02-08T18:44:26.648893Z",
     "iopub.status.busy": "2022-02-08T18:44:26.648317Z",
     "iopub.status.idle": "2022-02-08T18:44:29.65578Z",
     "shell.execute_reply": "2022-02-08T18:44:29.654612Z",
     "shell.execute_reply.started": "2022-02-08T18:44:26.648843Z"
    },
    "trusted": true
   },
   "outputs": [],
   "source": [
    "# зафиксируем версию пакетов, чтобы эксперименты были воспроизводимы:\n",
    "!pip freeze > requirements.txt"
   ]
  },
  {
   "cell_type": "code",
   "execution_count": 4,
   "metadata": {},
   "outputs": [],
   "source": [
    "DATA_DIR = 'D:/Python/IDE/project_3/data'\n",
    "df_train = pd.read_csv(DATA_DIR+'/hotels_train.csv') # датасет для обучения\n",
    "df_test = pd.read_csv(DATA_DIR+'/hotels_test.csv') # датасет для предсказания\n",
    "sample_submission = pd.read_csv(DATA_DIR+'/submission.csv') # самбмишн"
   ]
  },
  {
   "cell_type": "code",
   "execution_count": 5,
   "metadata": {
    "execution": {
     "iopub.execute_input": "2022-02-08T18:44:29.657675Z",
     "iopub.status.busy": "2022-02-08T18:44:29.657411Z",
     "iopub.status.idle": "2022-02-08T18:44:32.947103Z",
     "shell.execute_reply": "2022-02-08T18:44:32.946305Z",
     "shell.execute_reply.started": "2022-02-08T18:44:29.657645Z"
    },
    "trusted": true
   },
   "outputs": [],
   "source": [
    "# Подгрузим наши данные из соревнования\n",
    "\n",
    "#DATA_DIR = '/kaggle/input/sf-booking/'\n",
    "#df_train = pd.read_csv(DATA_DIR+'/hotels_train.csv') # датасет для обучения\n",
    "#df_test = pd.read_csv(DATA_DIR+'hotels_test.csv') # датасет для предсказания\n",
    "#sample_submission = pd.read_csv(DATA_DIR+'/submission.csv') # самбмишн"
   ]
  },
  {
   "cell_type": "code",
   "execution_count": 6,
   "metadata": {
    "execution": {
     "iopub.execute_input": "2022-02-08T18:44:32.949468Z",
     "iopub.status.busy": "2022-02-08T18:44:32.949243Z",
     "iopub.status.idle": "2022-02-08T18:44:33.2946Z",
     "shell.execute_reply": "2022-02-08T18:44:33.293891Z",
     "shell.execute_reply.started": "2022-02-08T18:44:32.949435Z"
    },
    "trusted": true
   },
   "outputs": [
    {
     "name": "stdout",
     "output_type": "stream",
     "text": [
      "<class 'pandas.core.frame.DataFrame'>\n",
      "RangeIndex: 386803 entries, 0 to 386802\n",
      "Data columns (total 17 columns):\n",
      " #   Column                                      Non-Null Count   Dtype  \n",
      "---  ------                                      --------------   -----  \n",
      " 0   hotel_address                               386803 non-null  object \n",
      " 1   additional_number_of_scoring                386803 non-null  int64  \n",
      " 2   review_date                                 386803 non-null  object \n",
      " 3   average_score                               386803 non-null  float64\n",
      " 4   hotel_name                                  386803 non-null  object \n",
      " 5   reviewer_nationality                        386803 non-null  object \n",
      " 6   negative_review                             386803 non-null  object \n",
      " 7   review_total_negative_word_counts           386803 non-null  int64  \n",
      " 8   total_number_of_reviews                     386803 non-null  int64  \n",
      " 9   positive_review                             386803 non-null  object \n",
      " 10  review_total_positive_word_counts           386803 non-null  int64  \n",
      " 11  total_number_of_reviews_reviewer_has_given  386803 non-null  int64  \n",
      " 12  reviewer_score                              386803 non-null  float64\n",
      " 13  tags                                        386803 non-null  object \n",
      " 14  days_since_review                           386803 non-null  object \n",
      " 15  lat                                         384355 non-null  float64\n",
      " 16  lng                                         384355 non-null  float64\n",
      "dtypes: float64(4), int64(5), object(8)\n",
      "memory usage: 50.2+ MB\n"
     ]
    }
   ],
   "source": [
    "df_train.info()"
   ]
  },
  {
   "cell_type": "code",
   "execution_count": 7,
   "metadata": {
    "execution": {
     "iopub.execute_input": "2022-02-08T18:44:33.295877Z",
     "iopub.status.busy": "2022-02-08T18:44:33.295635Z",
     "iopub.status.idle": "2022-02-08T18:44:33.314168Z",
     "shell.execute_reply": "2022-02-08T18:44:33.31346Z",
     "shell.execute_reply.started": "2022-02-08T18:44:33.295852Z"
    },
    "trusted": true
   },
   "outputs": [
    {
     "data": {
      "text/html": [
       "<div>\n",
       "<style scoped>\n",
       "    .dataframe tbody tr th:only-of-type {\n",
       "        vertical-align: middle;\n",
       "    }\n",
       "\n",
       "    .dataframe tbody tr th {\n",
       "        vertical-align: top;\n",
       "    }\n",
       "\n",
       "    .dataframe thead th {\n",
       "        text-align: right;\n",
       "    }\n",
       "</style>\n",
       "<table border=\"1\" class=\"dataframe\">\n",
       "  <thead>\n",
       "    <tr style=\"text-align: right;\">\n",
       "      <th></th>\n",
       "      <th>hotel_address</th>\n",
       "      <th>additional_number_of_scoring</th>\n",
       "      <th>review_date</th>\n",
       "      <th>average_score</th>\n",
       "      <th>hotel_name</th>\n",
       "      <th>reviewer_nationality</th>\n",
       "      <th>negative_review</th>\n",
       "      <th>review_total_negative_word_counts</th>\n",
       "      <th>total_number_of_reviews</th>\n",
       "      <th>positive_review</th>\n",
       "      <th>review_total_positive_word_counts</th>\n",
       "      <th>total_number_of_reviews_reviewer_has_given</th>\n",
       "      <th>reviewer_score</th>\n",
       "      <th>tags</th>\n",
       "      <th>days_since_review</th>\n",
       "      <th>lat</th>\n",
       "      <th>lng</th>\n",
       "    </tr>\n",
       "  </thead>\n",
       "  <tbody>\n",
       "    <tr>\n",
       "      <th>0</th>\n",
       "      <td>Stratton Street Mayfair Westminster Borough Lo...</td>\n",
       "      <td>581</td>\n",
       "      <td>2/19/2016</td>\n",
       "      <td>8.4</td>\n",
       "      <td>The May Fair Hotel</td>\n",
       "      <td>United Kingdom</td>\n",
       "      <td>Leaving</td>\n",
       "      <td>3</td>\n",
       "      <td>1994</td>\n",
       "      <td>Staff were amazing</td>\n",
       "      <td>4</td>\n",
       "      <td>7</td>\n",
       "      <td>10.0</td>\n",
       "      <td>[' Leisure trip ', ' Couple ', ' Studio Suite ...</td>\n",
       "      <td>531 day</td>\n",
       "      <td>51.507894</td>\n",
       "      <td>-0.143671</td>\n",
       "    </tr>\n",
       "    <tr>\n",
       "      <th>1</th>\n",
       "      <td>130 134 Southampton Row Camden London WC1B 5AF...</td>\n",
       "      <td>299</td>\n",
       "      <td>1/12/2017</td>\n",
       "      <td>8.3</td>\n",
       "      <td>Mercure London Bloomsbury Hotel</td>\n",
       "      <td>United Kingdom</td>\n",
       "      <td>poor breakfast</td>\n",
       "      <td>3</td>\n",
       "      <td>1361</td>\n",
       "      <td>location</td>\n",
       "      <td>2</td>\n",
       "      <td>14</td>\n",
       "      <td>6.3</td>\n",
       "      <td>[' Business trip ', ' Couple ', ' Standard Dou...</td>\n",
       "      <td>203 day</td>\n",
       "      <td>51.521009</td>\n",
       "      <td>-0.123097</td>\n",
       "    </tr>\n",
       "  </tbody>\n",
       "</table>\n",
       "</div>"
      ],
      "text/plain": [
       "                                       hotel_address  \\\n",
       "0  Stratton Street Mayfair Westminster Borough Lo...   \n",
       "1  130 134 Southampton Row Camden London WC1B 5AF...   \n",
       "\n",
       "   additional_number_of_scoring review_date  average_score  \\\n",
       "0                           581   2/19/2016            8.4   \n",
       "1                           299   1/12/2017            8.3   \n",
       "\n",
       "                        hotel_name reviewer_nationality  negative_review  \\\n",
       "0               The May Fair Hotel      United Kingdom          Leaving    \n",
       "1  Mercure London Bloomsbury Hotel      United Kingdom    poor breakfast   \n",
       "\n",
       "   review_total_negative_word_counts  total_number_of_reviews  \\\n",
       "0                                  3                     1994   \n",
       "1                                  3                     1361   \n",
       "\n",
       "       positive_review  review_total_positive_word_counts  \\\n",
       "0   Staff were amazing                                  4   \n",
       "1             location                                  2   \n",
       "\n",
       "   total_number_of_reviews_reviewer_has_given  reviewer_score  \\\n",
       "0                                           7            10.0   \n",
       "1                                          14             6.3   \n",
       "\n",
       "                                                tags days_since_review  \\\n",
       "0  [' Leisure trip ', ' Couple ', ' Studio Suite ...           531 day   \n",
       "1  [' Business trip ', ' Couple ', ' Standard Dou...           203 day   \n",
       "\n",
       "         lat       lng  \n",
       "0  51.507894 -0.143671  \n",
       "1  51.521009 -0.123097  "
      ]
     },
     "execution_count": 7,
     "metadata": {},
     "output_type": "execute_result"
    }
   ],
   "source": [
    "df_train.head(2)"
   ]
  },
  {
   "cell_type": "code",
   "execution_count": 8,
   "metadata": {
    "execution": {
     "iopub.execute_input": "2022-02-08T18:44:33.315353Z",
     "iopub.status.busy": "2022-02-08T18:44:33.315169Z",
     "iopub.status.idle": "2022-02-08T18:44:33.437812Z",
     "shell.execute_reply": "2022-02-08T18:44:33.437031Z",
     "shell.execute_reply.started": "2022-02-08T18:44:33.315329Z"
    },
    "trusted": true
   },
   "outputs": [
    {
     "name": "stdout",
     "output_type": "stream",
     "text": [
      "<class 'pandas.core.frame.DataFrame'>\n",
      "RangeIndex: 128935 entries, 0 to 128934\n",
      "Data columns (total 16 columns):\n",
      " #   Column                                      Non-Null Count   Dtype  \n",
      "---  ------                                      --------------   -----  \n",
      " 0   hotel_address                               128935 non-null  object \n",
      " 1   additional_number_of_scoring                128935 non-null  int64  \n",
      " 2   review_date                                 128935 non-null  object \n",
      " 3   average_score                               128935 non-null  float64\n",
      " 4   hotel_name                                  128935 non-null  object \n",
      " 5   reviewer_nationality                        128935 non-null  object \n",
      " 6   negative_review                             128935 non-null  object \n",
      " 7   review_total_negative_word_counts           128935 non-null  int64  \n",
      " 8   total_number_of_reviews                     128935 non-null  int64  \n",
      " 9   positive_review                             128935 non-null  object \n",
      " 10  review_total_positive_word_counts           128935 non-null  int64  \n",
      " 11  total_number_of_reviews_reviewer_has_given  128935 non-null  int64  \n",
      " 12  tags                                        128935 non-null  object \n",
      " 13  days_since_review                           128935 non-null  object \n",
      " 14  lat                                         128115 non-null  float64\n",
      " 15  lng                                         128115 non-null  float64\n",
      "dtypes: float64(3), int64(5), object(8)\n",
      "memory usage: 15.7+ MB\n"
     ]
    }
   ],
   "source": [
    "df_test.info()"
   ]
  },
  {
   "cell_type": "code",
   "execution_count": 9,
   "metadata": {
    "execution": {
     "iopub.execute_input": "2022-02-08T18:44:33.439079Z",
     "iopub.status.busy": "2022-02-08T18:44:33.438878Z",
     "iopub.status.idle": "2022-02-08T18:44:33.455288Z",
     "shell.execute_reply": "2022-02-08T18:44:33.454782Z",
     "shell.execute_reply.started": "2022-02-08T18:44:33.439055Z"
    },
    "trusted": true
   },
   "outputs": [
    {
     "data": {
      "text/html": [
       "<div>\n",
       "<style scoped>\n",
       "    .dataframe tbody tr th:only-of-type {\n",
       "        vertical-align: middle;\n",
       "    }\n",
       "\n",
       "    .dataframe tbody tr th {\n",
       "        vertical-align: top;\n",
       "    }\n",
       "\n",
       "    .dataframe thead th {\n",
       "        text-align: right;\n",
       "    }\n",
       "</style>\n",
       "<table border=\"1\" class=\"dataframe\">\n",
       "  <thead>\n",
       "    <tr style=\"text-align: right;\">\n",
       "      <th></th>\n",
       "      <th>hotel_address</th>\n",
       "      <th>additional_number_of_scoring</th>\n",
       "      <th>review_date</th>\n",
       "      <th>average_score</th>\n",
       "      <th>hotel_name</th>\n",
       "      <th>reviewer_nationality</th>\n",
       "      <th>negative_review</th>\n",
       "      <th>review_total_negative_word_counts</th>\n",
       "      <th>total_number_of_reviews</th>\n",
       "      <th>positive_review</th>\n",
       "      <th>review_total_positive_word_counts</th>\n",
       "      <th>total_number_of_reviews_reviewer_has_given</th>\n",
       "      <th>tags</th>\n",
       "      <th>days_since_review</th>\n",
       "      <th>lat</th>\n",
       "      <th>lng</th>\n",
       "    </tr>\n",
       "  </thead>\n",
       "  <tbody>\n",
       "    <tr>\n",
       "      <th>0</th>\n",
       "      <td>Via Senigallia 6 20161 Milan Italy</td>\n",
       "      <td>904</td>\n",
       "      <td>7/21/2017</td>\n",
       "      <td>8.1</td>\n",
       "      <td>Hotel Da Vinci</td>\n",
       "      <td>United Kingdom</td>\n",
       "      <td>Would have appreciated a shop in the hotel th...</td>\n",
       "      <td>52</td>\n",
       "      <td>16670</td>\n",
       "      <td>Hotel was great clean friendly staff free bre...</td>\n",
       "      <td>62</td>\n",
       "      <td>1</td>\n",
       "      <td>[' Leisure trip ', ' Couple ', ' Double Room '...</td>\n",
       "      <td>13 days</td>\n",
       "      <td>45.533137</td>\n",
       "      <td>9.171102</td>\n",
       "    </tr>\n",
       "    <tr>\n",
       "      <th>1</th>\n",
       "      <td>Arlandaweg 10 Westpoort 1043 EW Amsterdam Neth...</td>\n",
       "      <td>612</td>\n",
       "      <td>12/12/2016</td>\n",
       "      <td>8.6</td>\n",
       "      <td>Urban Lodge Hotel</td>\n",
       "      <td>Belgium</td>\n",
       "      <td>No tissue paper box was present at the room</td>\n",
       "      <td>10</td>\n",
       "      <td>5018</td>\n",
       "      <td>No Positive</td>\n",
       "      <td>0</td>\n",
       "      <td>7</td>\n",
       "      <td>[' Leisure trip ', ' Group ', ' Triple Room ',...</td>\n",
       "      <td>234 day</td>\n",
       "      <td>52.385649</td>\n",
       "      <td>4.834443</td>\n",
       "    </tr>\n",
       "  </tbody>\n",
       "</table>\n",
       "</div>"
      ],
      "text/plain": [
       "                                       hotel_address  \\\n",
       "0                 Via Senigallia 6 20161 Milan Italy   \n",
       "1  Arlandaweg 10 Westpoort 1043 EW Amsterdam Neth...   \n",
       "\n",
       "   additional_number_of_scoring review_date  average_score         hotel_name  \\\n",
       "0                           904   7/21/2017            8.1     Hotel Da Vinci   \n",
       "1                           612  12/12/2016            8.6  Urban Lodge Hotel   \n",
       "\n",
       "  reviewer_nationality                                    negative_review  \\\n",
       "0      United Kingdom    Would have appreciated a shop in the hotel th...   \n",
       "1             Belgium         No tissue paper box was present at the room   \n",
       "\n",
       "   review_total_negative_word_counts  total_number_of_reviews  \\\n",
       "0                                 52                    16670   \n",
       "1                                 10                     5018   \n",
       "\n",
       "                                     positive_review  \\\n",
       "0   Hotel was great clean friendly staff free bre...   \n",
       "1                                        No Positive   \n",
       "\n",
       "   review_total_positive_word_counts  \\\n",
       "0                                 62   \n",
       "1                                  0   \n",
       "\n",
       "   total_number_of_reviews_reviewer_has_given  \\\n",
       "0                                           1   \n",
       "1                                           7   \n",
       "\n",
       "                                                tags days_since_review  \\\n",
       "0  [' Leisure trip ', ' Couple ', ' Double Room '...           13 days   \n",
       "1  [' Leisure trip ', ' Group ', ' Triple Room ',...           234 day   \n",
       "\n",
       "         lat       lng  \n",
       "0  45.533137  9.171102  \n",
       "1  52.385649  4.834443  "
      ]
     },
     "execution_count": 9,
     "metadata": {},
     "output_type": "execute_result"
    }
   ],
   "source": [
    "df_test.head(2)"
   ]
  },
  {
   "cell_type": "code",
   "execution_count": 10,
   "metadata": {
    "execution": {
     "iopub.execute_input": "2022-02-08T18:44:33.456588Z",
     "iopub.status.busy": "2022-02-08T18:44:33.456129Z",
     "iopub.status.idle": "2022-02-08T18:44:33.463126Z",
     "shell.execute_reply": "2022-02-08T18:44:33.462542Z",
     "shell.execute_reply.started": "2022-02-08T18:44:33.456558Z"
    },
    "trusted": true
   },
   "outputs": [
    {
     "data": {
      "text/html": [
       "<div>\n",
       "<style scoped>\n",
       "    .dataframe tbody tr th:only-of-type {\n",
       "        vertical-align: middle;\n",
       "    }\n",
       "\n",
       "    .dataframe tbody tr th {\n",
       "        vertical-align: top;\n",
       "    }\n",
       "\n",
       "    .dataframe thead th {\n",
       "        text-align: right;\n",
       "    }\n",
       "</style>\n",
       "<table border=\"1\" class=\"dataframe\">\n",
       "  <thead>\n",
       "    <tr style=\"text-align: right;\">\n",
       "      <th></th>\n",
       "      <th>reviewer_score</th>\n",
       "      <th>id</th>\n",
       "    </tr>\n",
       "  </thead>\n",
       "  <tbody>\n",
       "    <tr>\n",
       "      <th>0</th>\n",
       "      <td>1</td>\n",
       "      <td>488440</td>\n",
       "    </tr>\n",
       "    <tr>\n",
       "      <th>1</th>\n",
       "      <td>10</td>\n",
       "      <td>274649</td>\n",
       "    </tr>\n",
       "  </tbody>\n",
       "</table>\n",
       "</div>"
      ],
      "text/plain": [
       "   reviewer_score      id\n",
       "0               1  488440\n",
       "1              10  274649"
      ]
     },
     "execution_count": 10,
     "metadata": {},
     "output_type": "execute_result"
    }
   ],
   "source": [
    "sample_submission.head(2)"
   ]
  },
  {
   "cell_type": "code",
   "execution_count": 11,
   "metadata": {
    "execution": {
     "iopub.execute_input": "2022-02-08T18:44:33.464494Z",
     "iopub.status.busy": "2022-02-08T18:44:33.463971Z",
     "iopub.status.idle": "2022-02-08T18:44:33.478817Z",
     "shell.execute_reply": "2022-02-08T18:44:33.478038Z",
     "shell.execute_reply.started": "2022-02-08T18:44:33.464464Z"
    },
    "trusted": true
   },
   "outputs": [
    {
     "name": "stdout",
     "output_type": "stream",
     "text": [
      "<class 'pandas.core.frame.DataFrame'>\n",
      "RangeIndex: 128935 entries, 0 to 128934\n",
      "Data columns (total 2 columns):\n",
      " #   Column          Non-Null Count   Dtype\n",
      "---  ------          --------------   -----\n",
      " 0   reviewer_score  128935 non-null  int64\n",
      " 1   id              128935 non-null  int64\n",
      "dtypes: int64(2)\n",
      "memory usage: 2.0 MB\n"
     ]
    }
   ],
   "source": [
    "sample_submission.info()"
   ]
  },
  {
   "cell_type": "code",
   "execution_count": 12,
   "metadata": {
    "execution": {
     "iopub.execute_input": "2022-02-08T18:44:33.480175Z",
     "iopub.status.busy": "2022-02-08T18:44:33.479691Z",
     "iopub.status.idle": "2022-02-08T18:44:34.013921Z",
     "shell.execute_reply": "2022-02-08T18:44:34.012987Z",
     "shell.execute_reply.started": "2022-02-08T18:44:33.480147Z"
    },
    "trusted": true
   },
   "outputs": [],
   "source": [
    "# ВАЖНО! дря корректной обработки признаков объединяем трейн и тест в один датасет\n",
    "df_train['sample'] = 1 # помечаем где у нас трейн\n",
    "df_test['sample'] = 0 # помечаем где у нас тест\n",
    "df_test['reviewer_score'] = 0 # в тесте у нас нет значения reviewer_score, мы его должны предсказать, по этому пока просто заполняем нулями\n",
    "\n",
    "hotels = pd.concat([df_test, df_train], sort=False).reset_index(drop=True) # объединяем"
   ]
  },
  {
   "cell_type": "code",
   "execution_count": 13,
   "metadata": {
    "execution": {
     "iopub.execute_input": "2022-02-08T18:44:34.015483Z",
     "iopub.status.busy": "2022-02-08T18:44:34.015238Z",
     "iopub.status.idle": "2022-02-08T18:44:34.477711Z",
     "shell.execute_reply": "2022-02-08T18:44:34.476864Z",
     "shell.execute_reply.started": "2022-02-08T18:44:34.015455Z"
    },
    "trusted": true
   },
   "outputs": [
    {
     "name": "stdout",
     "output_type": "stream",
     "text": [
      "<class 'pandas.core.frame.DataFrame'>\n",
      "RangeIndex: 515738 entries, 0 to 515737\n",
      "Data columns (total 18 columns):\n",
      " #   Column                                      Non-Null Count   Dtype  \n",
      "---  ------                                      --------------   -----  \n",
      " 0   hotel_address                               515738 non-null  object \n",
      " 1   additional_number_of_scoring                515738 non-null  int64  \n",
      " 2   review_date                                 515738 non-null  object \n",
      " 3   average_score                               515738 non-null  float64\n",
      " 4   hotel_name                                  515738 non-null  object \n",
      " 5   reviewer_nationality                        515738 non-null  object \n",
      " 6   negative_review                             515738 non-null  object \n",
      " 7   review_total_negative_word_counts           515738 non-null  int64  \n",
      " 8   total_number_of_reviews                     515738 non-null  int64  \n",
      " 9   positive_review                             515738 non-null  object \n",
      " 10  review_total_positive_word_counts           515738 non-null  int64  \n",
      " 11  total_number_of_reviews_reviewer_has_given  515738 non-null  int64  \n",
      " 12  tags                                        515738 non-null  object \n",
      " 13  days_since_review                           515738 non-null  object \n",
      " 14  lat                                         512470 non-null  float64\n",
      " 15  lng                                         512470 non-null  float64\n",
      " 16  sample                                      515738 non-null  int64  \n",
      " 17  reviewer_score                              515738 non-null  float64\n",
      "dtypes: float64(4), int64(6), object(8)\n",
      "memory usage: 70.8+ MB\n"
     ]
    }
   ],
   "source": [
    "hotels.info()"
   ]
  },
  {
   "cell_type": "markdown",
   "metadata": {},
   "source": [
    "## 1. Базовая проверка качества датасета"
   ]
  },
  {
   "cell_type": "code",
   "execution_count": 15,
   "metadata": {},
   "outputs": [
    {
     "name": "stdout",
     "output_type": "stream",
     "text": [
      "lat    0.633655\n",
      "lng    0.633655\n",
      "dtype: float64\n"
     ]
    }
   ],
   "source": [
    "# Ищем выводим колонки с пропуском\n",
    "cols_null_percent = hotels.isnull().mean()*100\n",
    "cols_with_null = cols_null_percent[cols_null_percent > 0].sort_values(ascending=False)\n",
    "print(cols_with_null)"
   ]
  },
  {
   "cell_type": "code",
   "execution_count": 16,
   "metadata": {
    "execution": {
     "iopub.execute_input": "2022-02-08T18:44:34.47925Z",
     "iopub.status.busy": "2022-02-08T18:44:34.47896Z",
     "iopub.status.idle": "2022-02-08T18:44:34.497358Z",
     "shell.execute_reply": "2022-02-08T18:44:34.496728Z",
     "shell.execute_reply.started": "2022-02-08T18:44:34.479202Z"
    },
    "trusted": true
   },
   "outputs": [],
   "source": [
    "# Временно заполняем нулями, но мы ещё вернёмся к этому\n",
    "hotels['lat'] = hotels['lat'].fillna(0)\n",
    "hotels['lng'] = hotels['lng'].fillna(0)"
   ]
  },
  {
   "cell_type": "code",
   "execution_count": 17,
   "metadata": {
    "execution": {
     "iopub.execute_input": "2022-02-08T18:44:34.500523Z",
     "iopub.status.busy": "2022-02-08T18:44:34.500073Z",
     "iopub.status.idle": "2022-02-08T18:44:35.43767Z",
     "shell.execute_reply": "2022-02-08T18:44:35.43699Z",
     "shell.execute_reply.started": "2022-02-08T18:44:34.500478Z"
    },
    "trusted": true
   },
   "outputs": [
    {
     "data": {
      "text/plain": [
       "hotel_address                                   1493\n",
       "additional_number_of_scoring                     480\n",
       "review_date                                      731\n",
       "average_score                                     34\n",
       "hotel_name                                      1492\n",
       "reviewer_nationality                             227\n",
       "negative_review                               330011\n",
       "review_total_negative_word_counts                402\n",
       "total_number_of_reviews                         1142\n",
       "positive_review                               412601\n",
       "review_total_positive_word_counts                365\n",
       "total_number_of_reviews_reviewer_has_given       198\n",
       "tags                                           55242\n",
       "days_since_review                                731\n",
       "lat                                             1473\n",
       "lng                                             1473\n",
       "sample                                             2\n",
       "reviewer_score                                    38\n",
       "dtype: int64"
      ]
     },
     "execution_count": 17,
     "metadata": {},
     "output_type": "execute_result"
    }
   ],
   "source": [
    "# Сводка уникальных значений, разбираемся, что у нас будет категориальным признаком\n",
    "hotels.nunique(dropna=False)"
   ]
  },
  {
   "cell_type": "code",
   "execution_count": 18,
   "metadata": {},
   "outputs": [
    {
     "data": {
      "text/plain": [
       "(336, 18)"
      ]
     },
     "execution_count": 18,
     "metadata": {},
     "output_type": "execute_result"
    }
   ],
   "source": [
    "# Ищем дубликаты\n",
    "dupl_col=list(hotels.columns)\n",
    "mask=hotels.duplicated(subset=dupl_col)\n",
    "data_doubles=hotels[mask]\n",
    "data_doubles.shape\n",
    "# В таблице имеется 336 дубликатов. Однако, по условиям задачи удалять строки нельзя, так что пока оставим как есть."
   ]
  },
  {
   "cell_type": "markdown",
   "metadata": {},
   "source": [
    "## 2. Работаем со столбцами"
   ]
  },
  {
   "cell_type": "code",
   "execution_count": 19,
   "metadata": {},
   "outputs": [
    {
     "name": "stdout",
     "output_type": "stream",
     "text": [
      "<class 'pandas.core.frame.DataFrame'>\n",
      "RangeIndex: 515738 entries, 0 to 515737\n",
      "Data columns (total 18 columns):\n",
      " #   Column                                      Non-Null Count   Dtype  \n",
      "---  ------                                      --------------   -----  \n",
      " 0   hotel_address                               515738 non-null  object \n",
      " 1   additional_number_of_scoring                515738 non-null  int64  \n",
      " 2   review_date                                 515738 non-null  object \n",
      " 3   average_score                               515738 non-null  float64\n",
      " 4   hotel_name                                  515738 non-null  object \n",
      " 5   reviewer_nationality                        515738 non-null  object \n",
      " 6   negative_review                             515738 non-null  object \n",
      " 7   review_total_negative_word_counts           515738 non-null  int64  \n",
      " 8   total_number_of_reviews                     515738 non-null  int64  \n",
      " 9   positive_review                             515738 non-null  object \n",
      " 10  review_total_positive_word_counts           515738 non-null  int64  \n",
      " 11  total_number_of_reviews_reviewer_has_given  515738 non-null  int64  \n",
      " 12  tags                                        515738 non-null  object \n",
      " 13  days_since_review                           515738 non-null  object \n",
      " 14  lat                                         515738 non-null  float64\n",
      " 15  lng                                         515738 non-null  float64\n",
      " 16  sample                                      515738 non-null  int64  \n",
      " 17  reviewer_score                              515738 non-null  float64\n",
      "dtypes: float64(4), int64(6), object(8)\n",
      "memory usage: 70.8+ MB\n"
     ]
    }
   ],
   "source": [
    "hotels.info()"
   ]
  },
  {
   "cell_type": "markdown",
   "metadata": {},
   "source": [
    "### hotel_address"
   ]
  },
  {
   "cell_type": "code",
   "execution_count": 20,
   "metadata": {},
   "outputs": [],
   "source": [
    "# Работаем с адресом отеля (страна)\n",
    "import pycountry\n",
    "countries = {c.name for c in pycountry.countries} | {c.official_name for c in pycountry.countries if hasattr(c, \"official_name\")} | {c.alpha_3 for c in pycountry.countries} | {c.alpha_2 for c in pycountry.countries}\n",
    "\n",
    "def extract_country(address):\n",
    "    for country in countries:\n",
    "        if address.endswith(country):\n",
    "            return country\n",
    "    return None\n",
    "\n",
    "# Применяем к колонке\n",
    "hotels[\"country\"] = hotels[\"hotel_address\"].apply(extract_country)"
   ]
  },
  {
   "cell_type": "code",
   "execution_count": 21,
   "metadata": {},
   "outputs": [
    {
     "data": {
      "text/plain": [
       "country\n",
       "United Kingdom    262301\n",
       "Spain              60149\n",
       "France             59928\n",
       "Netherlands        57214\n",
       "Austria            38939\n",
       "Italy              37207\n",
       "Name: count, dtype: int64"
      ]
     },
     "execution_count": 21,
     "metadata": {},
     "output_type": "execute_result"
    }
   ],
   "source": [
    "# Смотрим, что получилось\n",
    "hotels.country.value_counts()\n",
    "# Получилось немного стран, попробуем выделить города"
   ]
  },
  {
   "cell_type": "code",
   "execution_count": 22,
   "metadata": {},
   "outputs": [],
   "source": [
    "# вытаскиваем город из адреса\n",
    "def extract_city(addr):\n",
    "    parts = addr.split()\n",
    "    if parts[-2:] == ['United', 'Kingdom']:\n",
    "        return parts[-5]  # для UK формаат адреса город код код United Kingdom\n",
    "    else:\n",
    "        return parts[-2]  # для всех остальных город перед страной\n",
    "\n",
    "# Создаем признак city\n",
    "hotels[\"city\"] = hotels[\"hotel_address\"].apply(extract_city)\n"
   ]
  },
  {
   "cell_type": "code",
   "execution_count": 23,
   "metadata": {},
   "outputs": [
    {
     "data": {
      "text/plain": [
       "city\n",
       "London       262301\n",
       "Barcelona     60149\n",
       "Paris         59928\n",
       "Amsterdam     57214\n",
       "Vienna        38939\n",
       "Milan         37207\n",
       "Name: count, dtype: int64"
      ]
     },
     "execution_count": 23,
     "metadata": {},
     "output_type": "execute_result"
    }
   ],
   "source": [
    "hotels['city'].value_counts()"
   ]
  },
  {
   "cell_type": "markdown",
   "metadata": {},
   "source": [
    "Пользы нет - в датасете все гостиницы из одной страны находятся в одном городе. Пока не удаляем - используем эти данные для лучшего заполнения координат"
   ]
  },
  {
   "cell_type": "markdown",
   "metadata": {},
   "source": [
    "### Дата ревью"
   ]
  },
  {
   "cell_type": "code",
   "execution_count": 24,
   "metadata": {},
   "outputs": [
    {
     "name": "stderr",
     "output_type": "stream",
     "text": [
      "C:\\Users\\dmytr\\AppData\\Local\\Temp\\ipykernel_1224\\1987000826.py:2: UserWarning:\n",
      "\n",
      "Parsing dates in %m/%d/%Y format when dayfirst=True was specified. Pass `dayfirst=False` or specify a format to silence this warning.\n",
      "\n"
     ]
    }
   ],
   "source": [
    "#Преобразуем в datetime\n",
    "hotels['review_date'] = pd.to_datetime(hotels['review_date'], dayfirst=True, errors='coerce')\n",
    "\n",
    "# Создаём признаки год, месяц, день недели и является ли день выходным. Дата будет очевидно не информативным признаком, вместо неё берём день недели\n",
    "# и статус выходного (теория - \"платные\" накрутки чаще происходят в будний день)\n",
    "hotels['year'] = hotels['review_date'].dt.year\n",
    "hotels['month'] = hotels['review_date'].dt.month\n",
    "hotels['dayofweek'] = hotels['review_date'].dt.weekday  # 0 = понедельник, 6 = воскресенье\n",
    "hotels['is_weekend'] = (hotels['dayofweek'] >= 5).astype('int8')\n"
   ]
  },
  {
   "cell_type": "code",
   "execution_count": 25,
   "metadata": {},
   "outputs": [
    {
     "data": {
      "text/html": [
       "<div>\n",
       "<style scoped>\n",
       "    .dataframe tbody tr th:only-of-type {\n",
       "        vertical-align: middle;\n",
       "    }\n",
       "\n",
       "    .dataframe tbody tr th {\n",
       "        vertical-align: top;\n",
       "    }\n",
       "\n",
       "    .dataframe thead th {\n",
       "        text-align: right;\n",
       "    }\n",
       "</style>\n",
       "<table border=\"1\" class=\"dataframe\">\n",
       "  <thead>\n",
       "    <tr style=\"text-align: right;\">\n",
       "      <th></th>\n",
       "      <th>year</th>\n",
       "      <th>month</th>\n",
       "      <th>dayofweek</th>\n",
       "      <th>is_weekend</th>\n",
       "    </tr>\n",
       "  </thead>\n",
       "  <tbody>\n",
       "    <tr>\n",
       "      <th>0</th>\n",
       "      <td>2017</td>\n",
       "      <td>7</td>\n",
       "      <td>4</td>\n",
       "      <td>0</td>\n",
       "    </tr>\n",
       "    <tr>\n",
       "      <th>1</th>\n",
       "      <td>2016</td>\n",
       "      <td>12</td>\n",
       "      <td>0</td>\n",
       "      <td>0</td>\n",
       "    </tr>\n",
       "    <tr>\n",
       "      <th>2</th>\n",
       "      <td>2015</td>\n",
       "      <td>11</td>\n",
       "      <td>3</td>\n",
       "      <td>0</td>\n",
       "    </tr>\n",
       "    <tr>\n",
       "      <th>3</th>\n",
       "      <td>2015</td>\n",
       "      <td>10</td>\n",
       "      <td>5</td>\n",
       "      <td>1</td>\n",
       "    </tr>\n",
       "    <tr>\n",
       "      <th>4</th>\n",
       "      <td>2016</td>\n",
       "      <td>5</td>\n",
       "      <td>0</td>\n",
       "      <td>0</td>\n",
       "    </tr>\n",
       "  </tbody>\n",
       "</table>\n",
       "</div>"
      ],
      "text/plain": [
       "   year  month  dayofweek  is_weekend\n",
       "0  2017      7          4           0\n",
       "1  2016     12          0           0\n",
       "2  2015     11          3           0\n",
       "3  2015     10          5           1\n",
       "4  2016      5          0           0"
      ]
     },
     "execution_count": 25,
     "metadata": {},
     "output_type": "execute_result"
    }
   ],
   "source": [
    "# Проверям все ли получилось\n",
    "hotels[['year', 'month', 'dayofweek', 'is_weekend']].head()"
   ]
  },
  {
   "cell_type": "code",
   "execution_count": null,
   "metadata": {},
   "outputs": [],
   "source": []
  },
  {
   "cell_type": "markdown",
   "metadata": {},
   "source": [
    "### hotel_name "
   ]
  },
  {
   "cell_type": "code",
   "execution_count": 26,
   "metadata": {},
   "outputs": [
    {
     "data": {
      "text/plain": [
       "count                                         515738\n",
       "unique                                          1492\n",
       "top       Britannia International Hotel Canary Wharf\n",
       "freq                                            4789\n",
       "Name: hotel_name, dtype: object"
      ]
     },
     "execution_count": 26,
     "metadata": {},
     "output_type": "execute_result"
    }
   ],
   "source": [
    "hotels['hotel_name'].describe()"
   ]
  },
  {
   "cell_type": "code",
   "execution_count": 27,
   "metadata": {},
   "outputs": [],
   "source": [
    "# Попробуем закодировать с помощью frequency и targetencoding\n",
    "from sklearn.model_selection import KFold\n",
    "\n",
    "# freq\n",
    "freq = hotels['hotel_name'].value_counts()\n",
    "hotels['hotel_name_freq'] = hotels['hotel_name'].map(freq).astype('int32')\n",
    "\n",
    "# target\n",
    "kf = KFold(n_splits=5, shuffle=True, random_state=42)\n",
    "te = np.zeros(len(hotels))\n",
    "for tr, va in kf.split(hotels):\n",
    "    m = hotels.iloc[tr].groupby('hotel_name')['reviewer_score'].mean()\n",
    "    te[va] = hotels.iloc[va]['hotel_name'].map(m)\n",
    "hotels['hotel_name_te'] = te"
   ]
  },
  {
   "cell_type": "code",
   "execution_count": 28,
   "metadata": {},
   "outputs": [],
   "source": [
    "# Альтернатива - довичное кодирование с помощью category_encoders\n",
    "#import category_encoders as ce\n",
    "#bin_encoder = ce.BinaryEncoder(cols=['hotel_name'])\n",
    "#data_bin=bin_encoder.fit_transform(hotels['hotel_name'])\n",
    "#hotels = pd.concat([hotels, data_bin], axis=1)"
   ]
  },
  {
   "cell_type": "markdown",
   "metadata": {},
   "source": [
    "### reviewer_nationality"
   ]
  },
  {
   "cell_type": "code",
   "execution_count": 29,
   "metadata": {},
   "outputs": [],
   "source": [
    "# Убираем пробелы в национальности\n",
    "hotels[\"reviewer_nationality\"] = hotels[\"reviewer_nationality\"].str.strip()"
   ]
  },
  {
   "cell_type": "code",
   "execution_count": 30,
   "metadata": {},
   "outputs": [
    {
     "name": "stdout",
     "output_type": "stream",
     "text": [
      "227\n"
     ]
    }
   ],
   "source": [
    "a=hotels['reviewer_nationality'].value_counts()\n",
    "print(len(a))"
   ]
  },
  {
   "cell_type": "code",
   "execution_count": 31,
   "metadata": {},
   "outputs": [],
   "source": [
    "import numpy as np\n",
    "from sklearn.model_selection import KFold\n",
    "\n",
    "# Frequency encoding (просто количество записей по стране)\n",
    "freq = hotels['reviewer_nationality'].value_counts()\n",
    "hotels['reviewer_nationality_freq'] = hotels['reviewer_nationality'].map(freq)\n",
    "\n",
    "# Target encoding с защитой от NaN\n",
    "kf = KFold(n_splits=5, shuffle=True, random_state=42)\n",
    "te = np.zeros(len(hotels))\n",
    "\n",
    "global_mean = hotels['reviewer_score'].mean()\n",
    "\n",
    "for train_idx, val_idx in kf.split(hotels):\n",
    "    means = hotels.iloc[train_idx].groupby('reviewer_nationality')['reviewer_score'].mean()\n",
    "    # map + fillna глобальным средним\n",
    "    te[val_idx] = hotels.iloc[val_idx]['reviewer_nationality'].map(means).fillna(global_mean)\n",
    "\n",
    "hotels['reviewer_nationality_te'] = te"
   ]
  },
  {
   "cell_type": "markdown",
   "metadata": {},
   "source": [
    "### negative_review/positive_review"
   ]
  },
  {
   "cell_type": "code",
   "execution_count": 32,
   "metadata": {},
   "outputs": [
    {
     "name": "stderr",
     "output_type": "stream",
     "text": [
      "[nltk_data] Downloading package vader_lexicon to\n",
      "[nltk_data]     C:\\Users\\dmytr\\AppData\\Roaming\\nltk_data...\n",
      "[nltk_data]   Package vader_lexicon is already up-to-date!\n"
     ]
    }
   ],
   "source": [
    "# Работаем с текстом отрицательного отзыва negative_review через ntlk с полным набором скачанных пакетов\n",
    "import re\n",
    "import nltk\n",
    "nltk.download('vader_lexicon')\n",
    "\n",
    "from nltk.sentiment import SentimentIntensityAnalyzer\n",
    "\n",
    "sia = SentimentIntensityAnalyzer()\n",
    "\n",
    "def clean_text(s: str) -> str:\n",
    "    if not isinstance(s, str): \n",
    "        return \"\"\n",
    "    s = s.strip()\n",
    "    s = re.sub(r\"(https?://\\S+)|(\\S+@\\S+)\", \" \", s)                     # удалим URL и email\n",
    "    s = re.sub(r\"[^A-Za-z0-9\\s\\.\\,\\!\\?\\-']\", \" \", s)                    # оставим только валидные символы\n",
    "    s = re.sub(r\"\\s+\", \" \", s).strip()                                  # уберём лишние пробелы\n",
    "    return s\n",
    "\n",
    "# Очистка текста\n",
    "hotels[\"neg_clean\"] = hotels[\"negative_review\"].map(clean_text)\n",
    "\n",
    "# Признаки\n",
    "hotels[\"neg_len_chars\"] = hotels[\"neg_clean\"].str.len()\n",
    "hotels[\"neg_len_words\"] = hotels[\"neg_clean\"].str.split().str.len()\n",
    "hotels[\"exclam_cnt\"]    = hotels[\"neg_clean\"].str.count(r\"!\")\n",
    "hotels[\"quest_cnt\"]     = hotels[\"neg_clean\"].str.count(r\"\\?\")\n",
    "hotels[\"caps_ratio\"]    = hotels[\"negative_review\"].map(\n",
    "    lambda s: (sum(c.isupper() for c in s) / max(1, len(s))) if isinstance(s, str) else 0.0\n",
    ")\n",
    "hotels[\"neg_vader\"] = hotels[\"neg_clean\"].map(lambda s: sia.polarity_scores(s)[\"compound\"])\n",
    "hotels[\"is_no_negative\"] = hotels[\"neg_clean\"].str.fullmatch(r\"(?i)no negative\").fillna(False).astype(\"int8\") # если отзыв состоит из фразы \"No Negative\" то он положительный\n"
   ]
  },
  {
   "cell_type": "code",
   "execution_count": 33,
   "metadata": {},
   "outputs": [],
   "source": [
    "sia = SentimentIntensityAnalyzer()\n",
    "\n",
    "def clean_text(s: str) -> str:\n",
    "    if not isinstance(s, str): \n",
    "        return \"\"\n",
    "    s = s.strip()\n",
    "    s = re.sub(r\"(https?://\\S+)|(\\S+@\\S+)\", \" \", s)\n",
    "    s = re.sub(r\"[^A-Za-z0-9\\s\\.\\,\\!\\?\\-']\", \" \", s)\n",
    "    s = re.sub(r\"\\s+\", \" \", s).strip()\n",
    "    return s\n",
    "\n",
    "# Очистка текста\n",
    "hotels[\"pos_clean\"] = hotels[\"positive_review\"].map(clean_text)\n",
    "\n",
    "# Признаки\n",
    "hotels[\"pos_len_chars\"] = hotels[\"pos_clean\"].str.len()\n",
    "hotels[\"pos_len_words\"] = hotels[\"pos_clean\"].str.split().str.len()\n",
    "hotels[\"pos_exclam_cnt\"] = hotels[\"pos_clean\"].str.count(r\"!\")\n",
    "hotels[\"pos_quest_cnt\"]  = hotels[\"pos_clean\"].str.count(r\"\\?\")\n",
    "hotels[\"pos_caps_ratio\"] = hotels[\"positive_review\"].map(\n",
    "    lambda s: (sum(c.isupper() for c in s) / max(1, len(s))) if isinstance(s, str) else 0.0\n",
    ")\n",
    "hotels[\"pos_vader\"] = hotels[\"pos_clean\"].map(lambda s: sia.polarity_scores(s)[\"compound\"])\n",
    "hotels[\"is_no_positive\"] = hotels[\"pos_clean\"].str.fullmatch(r\"(?i)no positive\").fillna(False).astype(\"int8\") # если отзыв состоит из фразы \"No Positive\" то он отрицательный"
   ]
  },
  {
   "cell_type": "markdown",
   "metadata": {},
   "source": [
    "### TAGS"
   ]
  },
  {
   "cell_type": "code",
   "execution_count": 34,
   "metadata": {},
   "outputs": [
    {
     "data": {
      "text/plain": [
       "tags\n",
       "[' Leisure trip ', ' Couple ', ' Double Room ', ' Stayed 1 night ', ' Submitted from a mobile device ']                              5101\n",
       "[' Leisure trip ', ' Couple ', ' Standard Double Room ', ' Stayed 1 night ', ' Submitted from a mobile device ']                     4931\n",
       "[' Leisure trip ', ' Couple ', ' Superior Double Room ', ' Stayed 1 night ', ' Submitted from a mobile device ']                     4366\n",
       "[' Leisure trip ', ' Couple ', ' Deluxe Double Room ', ' Stayed 1 night ', ' Submitted from a mobile device ']                       3991\n",
       "[' Leisure trip ', ' Couple ', ' Double Room ', ' Stayed 2 nights ', ' Submitted from a mobile device ']                             3291\n",
       "                                                                                                                                     ... \n",
       "[' Group ', ' Executive Double Room ', ' Stayed 7 nights ']                                                                             1\n",
       "[' Leisure trip ', ' Couple ', ' Room with View ', ' Stayed 7 nights ', ' Submitted from a mobile device ']                             1\n",
       "[' Leisure trip ', ' Solo traveler ', ' Cosy Room ', ' Stayed 4 nights ', ' Submitted from a mobile device ']                           1\n",
       "[' Leisure trip ', ' Family with young children ', ' Double Room City ', ' Stayed 5 nights ', ' Submitted from a mobile device ']       1\n",
       "[' Business trip ', ' Family with older children ', ' Premium Double or Twin Room ', ' Stayed 9 nights ']                               1\n",
       "Name: count, Length: 55242, dtype: int64"
      ]
     },
     "execution_count": 34,
     "metadata": {},
     "output_type": "execute_result"
    }
   ],
   "source": [
    "hotels['tags'].value_counts()"
   ]
  },
  {
   "cell_type": "markdown",
   "metadata": {},
   "source": [
    "Немного поработаем с dtale что бы разобраться, какие в принципе есть теги и отобрали те, которые кажутся наиболее оптимальными"
   ]
  },
  {
   "cell_type": "code",
   "execution_count": 35,
   "metadata": {},
   "outputs": [],
   "source": [
    "# Преобразуем колонку 'tags' из строки в список\n",
    "hotels['tags'] = hotels['tags'].apply(eval)"
   ]
  },
  {
   "cell_type": "code",
   "execution_count": 36,
   "metadata": {},
   "outputs": [],
   "source": [
    "# Функция очистки тегов - убираем пробелы по краям и заменяем пробелы внутри тега на _\n",
    "def clean_tags(tag_list):\n",
    "    return [tag.strip().replace(\" \", \"_\") for tag in tag_list]\n",
    "\n",
    "# Применяем очистку\n",
    "hotels['tags'] = hotels['tags'].apply(clean_tags)\n",
    "\n",
    "# Собираем все теги в один длинный список\n",
    "all_tags = [tag for tag_list in hotels['tags'] for tag in tag_list]"
   ]
  },
  {
   "cell_type": "code",
   "execution_count": 37,
   "metadata": {},
   "outputs": [
    {
     "name": "stdout",
     "output_type": "stream",
     "text": [
      "[('Leisure_trip', 417778), ('Submitted_from_a_mobile_device', 307640), ('Couple', 252294), ('Stayed_1_night', 193645), ('Stayed_2_nights', 133937), ('Solo_traveler', 108545), ('Stayed_3_nights', 95821), ('Business_trip', 82939), ('Group', 65392), ('Family_with_young_children', 61015), ('Stayed_4_nights', 47817), ('Double_Room', 35207), ('Standard_Double_Room', 32248), ('Superior_Double_Room', 31393), ('Family_with_older_children', 26349), ('Deluxe_Double_Room', 24823), ('Double_or_Twin_Room', 22393), ('Stayed_5_nights', 20845), ('Standard_Double_or_Twin_Room', 17483), ('Classic_Double_Room', 16989), ('Superior_Double_or_Twin_Room', 13570), ('2_rooms', 12393), ('Stayed_6_nights', 9776), ('Standard_Twin_Room', 9745), ('Single_Room', 9670), ('Twin_Room', 8321), ('Stayed_7_nights', 7399), ('Executive_Double_Room', 6425), ('Classic_Double_or_Twin_Room', 6107), ('Superior_Twin_Room', 6064), ('Deluxe_Double_or_Twin_Room', 5998), ('Club_Double_Room', 5908), ('Queen_Room', 5472), ('Deluxe_King_Room', 5357), ('Superior_Queen_Room', 4898), ('Standard_Single_Room', 4615), ('Junior_Suite', 4559), ('Triple_Room', 4493), ('Superior_Room', 4417), ('Classic_Room', 4416), ('Superior_King_Room', 4248), ('Standard_Room', 4205), ('Deluxe_Room', 3974), ('Standard_Queen_Room', 3533), ('Double_Guest_Room', 3437), ('Deluxe_Single_Room', 3283), ('Small_Double_Room', 3187), ('Queen_Guest_Room', 3125), ('Deluxe_Twin_Room', 3083), ('Basic_Double_Room', 2851), ('King_Room', 2843), ('Comfort_Double_Room', 2641), ('Executive_King_Room', 2631), ('Small_Queen_Room', 2505), ('Stayed_8_nights', 2502), ('Standard_Double_Room_without_Window', 2424), ('Comfort_Double_or_Twin_Room', 2404), ('Double_or_Twin_Room_1_2_Adults', 2391), ('Classic_Twin_Room', 2360), ('Twin_Guest_Room', 2197), ('Family_Room', 2165), ('Travelers_with_friends', 2143), ('Suite', 1897), ('Superior_King_or_Twin_Room', 1831), ('Deluxe_King_or_Twin_Room', 1650), ('Deluxe_Double', 1634), ('King_Guest_Room', 1630), ('Cosy_Double_Room', 1604), ('Standard_Double_Twin_Room', 1420), ('With_a_pet', 1405), ('Club_Twin_Room', 1401), ('Executive_Double_or_Twin_Room', 1395), ('Classic_King_Room', 1318), ('Standard_Triple_Room', 1300), ('Double_Hilton_Guestroom', 1300), ('Executive_Room', 1293), ('Stayed_9_nights', 1293), ('Double_Room_Non_Smoking', 1257), ('Standard', 1231), ('Economy_Double_Room', 1193), ('Large_Double_Room', 1192), ('Quadruple_Room', 1157), ('Luxury_Double_Room', 1149), ('Superior_Single_Room', 1120), ('Superior_Double_Room_with_Internal_View', 1112), ('Classic_Single_Room', 1090), ('Double_Room_with_Two_Double_Beds', 1087), ('Executive_Twin_Room', 1080), ('Dorsett_Double_Room', 1044), ('Premier_Double_Room', 996), ('Studio', 986), ('Superior_Double_or_Twin_Room_1_2_Adults', 971), ('Twin_Hilton_Guest_Room', 951), ('Family_Room_2_Adults_2_Children', 926), ('Studio_King_Family', 925), ('Compact_Double_Room', 913), ('City_King_or_Twin_Room', 897), ('Stayed_10_nights', 889), ('Standard_Room_with_1_Double_Bed', 879), ('Classic_Queen_Room', 791)]\n"
     ]
    }
   ],
   "source": [
    "from collections import Counter\n",
    "\n",
    "tag_counts = Counter(all_tags)\n",
    "print(tag_counts.most_common(100))"
   ]
  },
  {
   "cell_type": "code",
   "execution_count": 38,
   "metadata": {},
   "outputs": [],
   "source": [
    "import re\n",
    "import ast\n",
    "\n",
    "# На всякий случай: привести колонку к спискам\n",
    "def to_list_safe(x):\n",
    "    if isinstance(x, list):\n",
    "        return x\n",
    "    if isinstance(x, str):\n",
    "        try:\n",
    "            v = ast.literal_eval(x)\n",
    "            return v if isinstance(v, list) else [x]\n",
    "        except:\n",
    "            return [x]\n",
    "    return []  # None и прочее\n",
    "\n",
    "hotels[\"tags\"] = hotels[\"tags\"].apply(to_list_safe)\n",
    "\n",
    "# Чистим пробелы\n",
    "hotels[\"tags\"] = hotels[\"tags\"].apply(lambda tags: [t.strip() for t in tags if isinstance(t, str)])\n",
    "\n",
    "# Поиск подстроки (без учёта регистра)\n",
    "def has_tag(tags, keyword):\n",
    "    kw = keyword.lower()\n",
    "    return int(any(kw in (t or \"\").lower() for t in tags))\n",
    "\n",
    "# Бинарные признаки\n",
    "trip_types = [\"Leisure trip\", \"Business trip\"]\n",
    "companions = [\"Couple\", \"Solo traveler\", \"Family with young children\",\n",
    "              \"Family with older children\", \"Group\"]\n",
    "\n",
    "for t in trip_types:\n",
    "    hotels[f\"trip_{t.replace(' ', '_').lower()}\"] = hotels[\"tags\"].apply(lambda x: has_tag(x, t))\n",
    "\n",
    "for c in companions:\n",
    "    hotels[f\"companion_{c.replace(' ', '_').lower()}\"] = hotels[\"tags\"].apply(lambda x: has_tag(x, c))\n",
    "\n",
    "# Разбор'Stayed X night(s)' через regex\n",
    "stay_re = re.compile(r\"stayed\\s+(\\d+)\\s+night\", re.IGNORECASE)\n",
    "\n",
    "def stay_length(tags):\n",
    "    for t in tags:\n",
    "        if not isinstance(t, str):\n",
    "            continue\n",
    "        m = stay_re.search(t)\n",
    "        if m:\n",
    "            try:\n",
    "                num = int(m.group(1))\n",
    "            except:\n",
    "                continue\n",
    "            if num == 1:\n",
    "                return \"short\"\n",
    "            elif num <= 3:\n",
    "                return \"medium\"\n",
    "            elif num <= 7:\n",
    "                return \"week\"\n",
    "            else:\n",
    "                return \"long\"\n",
    "    return None\n",
    "\n",
    "hotels[\"stay_length\"] = hotels[\"tags\"].apply(stay_length)\n",
    "\n",
    "# Тип номера\n",
    "room_keywords = [\"Suite\", \"Apartment\", \"Studio\", \"Room\"]\n",
    "\n",
    "def room_type(tags):\n",
    "    low = [(t or \"\").lower() for t in tags if isinstance(t, str)]\n",
    "    for kw in room_keywords:\n",
    "        if any(kw.lower() in t for t in low):\n",
    "            return kw\n",
    "    return None\n",
    "\n",
    "hotels[\"room_type\"] = hotels[\"tags\"].apply(room_type)\n"
   ]
  },
  {
   "cell_type": "code",
   "execution_count": 39,
   "metadata": {},
   "outputs": [],
   "source": [
    "# Кодируем длину пребывания в отеле и тип номера\n",
    "import category_encoders as ce\n",
    "encoder = ce.OneHotEncoder(cols=[\"stay_length\", \"room_type\"], use_cat_names=True)\n",
    "hotels = encoder.fit_transform(hotels)  "
   ]
  },
  {
   "cell_type": "markdown",
   "metadata": {},
   "source": [
    "### days_since_review"
   ]
  },
  {
   "cell_type": "code",
   "execution_count": 40,
   "metadata": {},
   "outputs": [],
   "source": [
    "# Работаем с days_since_review\n",
    "hotels[\"days_since_review\"] = hotels[\"days_since_review\"].str.extract(r'(\\d+)').astype(int)"
   ]
  },
  {
   "cell_type": "markdown",
   "metadata": {},
   "source": [
    "## Попробуем что-то сделать с координатами"
   ]
  },
  {
   "cell_type": "code",
   "execution_count": 41,
   "metadata": {},
   "outputs": [],
   "source": [
    "# Попробуем простой способ - если координаты не известны - ставим координаты центра города\n",
    "# если будет плохо - попробуем геокодером, но он очень медленно будет работать в бесплатной версии\n",
    "# справочник\n",
    "city_coords = {\n",
    "    \"London\":     (51.5074, -0.1278),\n",
    "    \"Barcelona\":  (41.3851, 2.1734),\n",
    "    \"Paris\":      (48.8566, 2.3522),\n",
    "    \"Amsterdam\":  (52.3676, 4.9041),\n",
    "    \"Vienna\":     (48.2100, 16.3738),\n",
    "    \"Milan\":      (45.4642, 9.1900)\n",
    "}\n",
    "\n",
    "def fill_coords(row):\n",
    "    if row[\"lat\"] == 0 and row[\"lng\"] == 0:   # если координаты \"пустые\"\n",
    "        return city_coords.get(row[\"city\"], (row[\"lat\"], row[\"lng\"]))\n",
    "    return (row[\"lat\"], row[\"lng\"])\n",
    "\n",
    "# применяем построчно\n",
    "hotels[[\"lat\", \"lng\"]] = hotels.apply(fill_coords, axis=1, result_type=\"expand\")"
   ]
  },
  {
   "cell_type": "markdown",
   "metadata": {},
   "source": [
    "## Кодируем остатки"
   ]
  },
  {
   "cell_type": "code",
   "execution_count": 42,
   "metadata": {},
   "outputs": [
    {
     "name": "stdout",
     "output_type": "stream",
     "text": [
      "<class 'pandas.core.frame.DataFrame'>\n",
      "RangeIndex: 515738 entries, 0 to 515737\n",
      "Data columns (total 57 columns):\n",
      " #   Column                                      Non-Null Count   Dtype         \n",
      "---  ------                                      --------------   -----         \n",
      " 0   hotel_address                               515738 non-null  object        \n",
      " 1   additional_number_of_scoring                515738 non-null  int64         \n",
      " 2   review_date                                 515738 non-null  datetime64[ns]\n",
      " 3   average_score                               515738 non-null  float64       \n",
      " 4   hotel_name                                  515738 non-null  object        \n",
      " 5   reviewer_nationality                        515738 non-null  object        \n",
      " 6   negative_review                             515738 non-null  object        \n",
      " 7   review_total_negative_word_counts           515738 non-null  int64         \n",
      " 8   total_number_of_reviews                     515738 non-null  int64         \n",
      " 9   positive_review                             515738 non-null  object        \n",
      " 10  review_total_positive_word_counts           515738 non-null  int64         \n",
      " 11  total_number_of_reviews_reviewer_has_given  515738 non-null  int64         \n",
      " 12  tags                                        515738 non-null  object        \n",
      " 13  days_since_review                           515738 non-null  int64         \n",
      " 14  lat                                         515738 non-null  float64       \n",
      " 15  lng                                         515738 non-null  float64       \n",
      " 16  sample                                      515738 non-null  int64         \n",
      " 17  reviewer_score                              515738 non-null  float64       \n",
      " 18  country                                     515738 non-null  object        \n",
      " 19  city                                        515738 non-null  object        \n",
      " 20  year                                        515738 non-null  int32         \n",
      " 21  month                                       515738 non-null  int32         \n",
      " 22  dayofweek                                   515738 non-null  int32         \n",
      " 23  is_weekend                                  515738 non-null  int8          \n",
      " 24  hotel_name_freq                             515738 non-null  int32         \n",
      " 25  hotel_name_te                               515738 non-null  float64       \n",
      " 26  reviewer_nationality_freq                   515738 non-null  int64         \n",
      " 27  reviewer_nationality_te                     515738 non-null  float64       \n",
      " 28  neg_clean                                   515738 non-null  object        \n",
      " 29  neg_len_chars                               515738 non-null  int64         \n",
      " 30  neg_len_words                               515738 non-null  int64         \n",
      " 31  exclam_cnt                                  515738 non-null  int64         \n",
      " 32  quest_cnt                                   515738 non-null  int64         \n",
      " 33  caps_ratio                                  515738 non-null  float64       \n",
      " 34  neg_vader                                   515738 non-null  float64       \n",
      " 35  is_no_negative                              515738 non-null  int8          \n",
      " 36  pos_clean                                   515738 non-null  object        \n",
      " 37  pos_len_chars                               515738 non-null  int64         \n",
      " 38  pos_len_words                               515738 non-null  int64         \n",
      " 39  pos_exclam_cnt                              515738 non-null  int64         \n",
      " 40  pos_quest_cnt                               515738 non-null  int64         \n",
      " 41  pos_caps_ratio                              515738 non-null  float64       \n",
      " 42  pos_vader                                   515738 non-null  float64       \n",
      " 43  is_no_positive                              515738 non-null  int8          \n",
      " 44  trip_leisure_trip                           515738 non-null  int64         \n",
      " 45  trip_business_trip                          515738 non-null  int64         \n",
      " 46  companion_couple                            515738 non-null  int64         \n",
      " 47  companion_solo_traveler                     515738 non-null  int64         \n",
      " 48  companion_family_with_young_children        515738 non-null  int64         \n",
      " 49  companion_family_with_older_children        515738 non-null  int64         \n",
      " 50  companion_group                             515738 non-null  int64         \n",
      " 51  stay_length_nan                             515738 non-null  int64         \n",
      " 52  room_type_Room                              515738 non-null  int64         \n",
      " 53  room_type_Suite                             515738 non-null  int64         \n",
      " 54  room_type_Studio                            515738 non-null  int64         \n",
      " 55  room_type_Apartment                         515738 non-null  int64         \n",
      " 56  room_type_nan                               515738 non-null  int64         \n",
      "dtypes: datetime64[ns](1), float64(10), int32(4), int64(29), int8(3), object(10)\n",
      "memory usage: 206.1+ MB\n"
     ]
    }
   ],
   "source": [
    "hotels.info()"
   ]
  },
  {
   "cell_type": "code",
   "execution_count": 43,
   "metadata": {},
   "outputs": [],
   "source": [
    "# кодируем страну\n",
    "encoder = ce.OneHotEncoder(cols=[\"country\"], use_cat_names=True)\n",
    "hotels = encoder.fit_transform(hotels)  "
   ]
  },
  {
   "cell_type": "code",
   "execution_count": 44,
   "metadata": {},
   "outputs": [],
   "source": [
    "# кодируем город\n",
    "encoder = ce.OneHotEncoder(cols=[\"city\"], use_cat_names=True)\n",
    "hotels = encoder.fit_transform(hotels)"
   ]
  },
  {
   "cell_type": "markdown",
   "metadata": {},
   "source": [
    "### Дропаем лишнее"
   ]
  },
  {
   "cell_type": "code",
   "execution_count": 45,
   "metadata": {},
   "outputs": [],
   "source": [
    "#Удаляем все колонки с типом object\n",
    "hotels = hotels.drop(columns=[col for col in hotels.columns if hotels[col].dtype == 'object'])"
   ]
  },
  {
   "cell_type": "code",
   "execution_count": 46,
   "metadata": {},
   "outputs": [],
   "source": [
    "# удаляем дату обзора\n",
    "hotels = hotels.drop(columns=['review_date'])"
   ]
  },
  {
   "cell_type": "code",
   "execution_count": 47,
   "metadata": {},
   "outputs": [],
   "source": [
    "# Экономим место\n",
    "\n",
    "# выбираем только int64-колонки\n",
    "int64_cols = hotels.select_dtypes(include=\"int64\").columns\n",
    "\n",
    "# фильтруем из них бинарные (только 0/1)\n",
    "binary_cols = [col for col in int64_cols if hotels[col].dropna().nunique() == 2]\n",
    "\n",
    "# переводим в int8\n",
    "hotels = hotels.astype({col: \"int8\" for col in binary_cols})"
   ]
  },
  {
   "cell_type": "code",
   "execution_count": 48,
   "metadata": {},
   "outputs": [
    {
     "name": "stdout",
     "output_type": "stream",
     "text": [
      "<class 'pandas.core.frame.DataFrame'>\n",
      "RangeIndex: 515738 entries, 0 to 515737\n",
      "Data columns (total 58 columns):\n",
      " #   Column                                      Non-Null Count   Dtype  \n",
      "---  ------                                      --------------   -----  \n",
      " 0   additional_number_of_scoring                515738 non-null  int64  \n",
      " 1   average_score                               515738 non-null  float64\n",
      " 2   review_total_negative_word_counts           515738 non-null  int64  \n",
      " 3   total_number_of_reviews                     515738 non-null  int64  \n",
      " 4   review_total_positive_word_counts           515738 non-null  int64  \n",
      " 5   total_number_of_reviews_reviewer_has_given  515738 non-null  int64  \n",
      " 6   days_since_review                           515738 non-null  int64  \n",
      " 7   lat                                         515738 non-null  float64\n",
      " 8   lng                                         515738 non-null  float64\n",
      " 9   sample                                      515738 non-null  int8   \n",
      " 10  reviewer_score                              515738 non-null  float64\n",
      " 11  country_Italy                               515738 non-null  int8   \n",
      " 12  country_Netherlands                         515738 non-null  int8   \n",
      " 13  country_Spain                               515738 non-null  int8   \n",
      " 14  country_United Kingdom                      515738 non-null  int8   \n",
      " 15  country_France                              515738 non-null  int8   \n",
      " 16  country_Austria                             515738 non-null  int8   \n",
      " 17  city_Milan                                  515738 non-null  int8   \n",
      " 18  city_Amsterdam                              515738 non-null  int8   \n",
      " 19  city_Barcelona                              515738 non-null  int8   \n",
      " 20  city_London                                 515738 non-null  int8   \n",
      " 21  city_Paris                                  515738 non-null  int8   \n",
      " 22  city_Vienna                                 515738 non-null  int8   \n",
      " 23  year                                        515738 non-null  int32  \n",
      " 24  month                                       515738 non-null  int32  \n",
      " 25  dayofweek                                   515738 non-null  int32  \n",
      " 26  is_weekend                                  515738 non-null  int8   \n",
      " 27  hotel_name_freq                             515738 non-null  int32  \n",
      " 28  hotel_name_te                               515738 non-null  float64\n",
      " 29  reviewer_nationality_freq                   515738 non-null  int64  \n",
      " 30  reviewer_nationality_te                     515738 non-null  float64\n",
      " 31  neg_len_chars                               515738 non-null  int64  \n",
      " 32  neg_len_words                               515738 non-null  int64  \n",
      " 33  exclam_cnt                                  515738 non-null  int64  \n",
      " 34  quest_cnt                                   515738 non-null  int64  \n",
      " 35  caps_ratio                                  515738 non-null  float64\n",
      " 36  neg_vader                                   515738 non-null  float64\n",
      " 37  is_no_negative                              515738 non-null  int8   \n",
      " 38  pos_len_chars                               515738 non-null  int64  \n",
      " 39  pos_len_words                               515738 non-null  int64  \n",
      " 40  pos_exclam_cnt                              515738 non-null  int64  \n",
      " 41  pos_quest_cnt                               515738 non-null  int64  \n",
      " 42  pos_caps_ratio                              515738 non-null  float64\n",
      " 43  pos_vader                                   515738 non-null  float64\n",
      " 44  is_no_positive                              515738 non-null  int8   \n",
      " 45  trip_leisure_trip                           515738 non-null  int64  \n",
      " 46  trip_business_trip                          515738 non-null  int64  \n",
      " 47  companion_couple                            515738 non-null  int8   \n",
      " 48  companion_solo_traveler                     515738 non-null  int64  \n",
      " 49  companion_family_with_young_children        515738 non-null  int64  \n",
      " 50  companion_family_with_older_children        515738 non-null  int64  \n",
      " 51  companion_group                             515738 non-null  int8   \n",
      " 52  stay_length_nan                             515738 non-null  int64  \n",
      " 53  room_type_Room                              515738 non-null  int8   \n",
      " 54  room_type_Suite                             515738 non-null  int8   \n",
      " 55  room_type_Studio                            515738 non-null  int8   \n",
      " 56  room_type_Apartment                         515738 non-null  int8   \n",
      " 57  room_type_nan                               515738 non-null  int8   \n",
      "dtypes: float64(10), int32(4), int64(21), int8(23)\n",
      "memory usage: 141.2 MB\n"
     ]
    }
   ],
   "source": [
    "hotels.info()"
   ]
  },
  {
   "cell_type": "markdown",
   "metadata": {},
   "source": [
    "# Финализируем"
   ]
  },
  {
   "cell_type": "code",
   "execution_count": 49,
   "metadata": {},
   "outputs": [
    {
     "name": "stdout",
     "output_type": "stream",
     "text": [
      "additional_number_of_scoring ~ hotel_name_freq      corr=0.984\n",
      "review_total_negative_word_counts ~ neg_len_chars        corr=0.996\n",
      "review_total_negative_word_counts ~ neg_len_words        corr=0.999\n",
      "review_total_positive_word_counts ~ pos_len_chars        corr=0.995\n",
      "review_total_positive_word_counts ~ pos_len_words        corr=0.999\n",
      "days_since_review    ~ year                 corr=-0.917\n",
      "sample               ~ reviewer_score       corr=0.932\n",
      "country_Italy        ~ city_Milan           corr=1.000\n",
      "country_Netherlands  ~ city_Amsterdam       corr=1.000\n",
      "country_Spain        ~ city_Barcelona       corr=1.000\n",
      "country_United Kingdom ~ city_London          corr=1.000\n",
      "country_France       ~ city_Paris           corr=1.000\n",
      "country_Austria      ~ city_Vienna          corr=1.000\n",
      "neg_len_chars        ~ neg_len_words        corr=0.997\n",
      "pos_len_chars        ~ pos_len_words        corr=0.995\n"
     ]
    }
   ],
   "source": [
    "# Выводим список мультиколлинеарных признаков\n",
    "# Берем порог 0,9\n",
    "def high_corr_pairs(df, corr_thr=0.9):\n",
    "    corr = df.corr(numeric_only=True)  # только числовые колонки\n",
    "    pairs = []\n",
    "    for i in range(len(corr.columns)):\n",
    "        for j in range(i+1, len(corr.columns)):\n",
    "            if abs(corr.iloc[i, j]) >= corr_thr:\n",
    "                pairs.append((corr.columns[i], corr.columns[j], corr.iloc[i, j]))\n",
    "    return pairs\n",
    "\n",
    "# пример вызова\n",
    "pairs = high_corr_pairs(hotels, corr_thr=0.9)\n",
    "for a, b, c in pairs:\n",
    "    print(f\"{a:20} ~ {b:20} corr={c:.3f}\")"
   ]
  },
  {
   "cell_type": "markdown",
   "metadata": {},
   "source": [
    "Как мы и догадывались - города и страны коррелируют 1 к 1. Удаляем страны.\n",
    "Есть сильная корреляция между числом слов и символов. Убираем число символов - считаем, что слова показательнее.\n",
    "убираем число дней после обзора т.к. сильная корреляция с годом\n",
    "Есть сильная зависимость между числом оценок без отзыва и частотой появления имени отеля. Попробуем убрать число дополнительных отзывов, т.к. имя отеля у нас часть кодирования "
   ]
  },
  {
   "cell_type": "code",
   "execution_count": 50,
   "metadata": {},
   "outputs": [],
   "source": [
    "hotels=hotels.drop(columns=['additional_number_of_scoring', 'review_total_negative_word_counts','review_total_negative_word_counts','review_total_positive_word_counts',\n",
    "                           'review_total_positive_word_counts','days_since_review', 'country_Italy','country_Netherlands','country_Spain','country_United Kingdom',\n",
    "                           'country_France','country_Austria','neg_len_chars','pos_len_chars'])"
   ]
  },
  {
   "cell_type": "code",
   "execution_count": 51,
   "metadata": {
    "execution": {
     "iopub.execute_input": "2022-02-08T18:44:36.492193Z",
     "iopub.status.busy": "2022-02-08T18:44:36.491969Z",
     "iopub.status.idle": "2022-02-08T18:44:36.517355Z",
     "shell.execute_reply": "2022-02-08T18:44:36.516571Z",
     "shell.execute_reply.started": "2022-02-08T18:44:36.492165Z"
    },
    "trusted": true
   },
   "outputs": [
    {
     "name": "stdout",
     "output_type": "stream",
     "text": [
      "<class 'pandas.core.frame.DataFrame'>\n",
      "RangeIndex: 515738 entries, 0 to 515737\n",
      "Data columns (total 46 columns):\n",
      " #   Column                                      Non-Null Count   Dtype  \n",
      "---  ------                                      --------------   -----  \n",
      " 0   average_score                               515738 non-null  float64\n",
      " 1   total_number_of_reviews                     515738 non-null  int64  \n",
      " 2   total_number_of_reviews_reviewer_has_given  515738 non-null  int64  \n",
      " 3   lat                                         515738 non-null  float64\n",
      " 4   lng                                         515738 non-null  float64\n",
      " 5   sample                                      515738 non-null  int8   \n",
      " 6   reviewer_score                              515738 non-null  float64\n",
      " 7   city_Milan                                  515738 non-null  int8   \n",
      " 8   city_Amsterdam                              515738 non-null  int8   \n",
      " 9   city_Barcelona                              515738 non-null  int8   \n",
      " 10  city_London                                 515738 non-null  int8   \n",
      " 11  city_Paris                                  515738 non-null  int8   \n",
      " 12  city_Vienna                                 515738 non-null  int8   \n",
      " 13  year                                        515738 non-null  int32  \n",
      " 14  month                                       515738 non-null  int32  \n",
      " 15  dayofweek                                   515738 non-null  int32  \n",
      " 16  is_weekend                                  515738 non-null  int8   \n",
      " 17  hotel_name_freq                             515738 non-null  int32  \n",
      " 18  hotel_name_te                               515738 non-null  float64\n",
      " 19  reviewer_nationality_freq                   515738 non-null  int64  \n",
      " 20  reviewer_nationality_te                     515738 non-null  float64\n",
      " 21  neg_len_words                               515738 non-null  int64  \n",
      " 22  exclam_cnt                                  515738 non-null  int64  \n",
      " 23  quest_cnt                                   515738 non-null  int64  \n",
      " 24  caps_ratio                                  515738 non-null  float64\n",
      " 25  neg_vader                                   515738 non-null  float64\n",
      " 26  is_no_negative                              515738 non-null  int8   \n",
      " 27  pos_len_words                               515738 non-null  int64  \n",
      " 28  pos_exclam_cnt                              515738 non-null  int64  \n",
      " 29  pos_quest_cnt                               515738 non-null  int64  \n",
      " 30  pos_caps_ratio                              515738 non-null  float64\n",
      " 31  pos_vader                                   515738 non-null  float64\n",
      " 32  is_no_positive                              515738 non-null  int8   \n",
      " 33  trip_leisure_trip                           515738 non-null  int64  \n",
      " 34  trip_business_trip                          515738 non-null  int64  \n",
      " 35  companion_couple                            515738 non-null  int8   \n",
      " 36  companion_solo_traveler                     515738 non-null  int64  \n",
      " 37  companion_family_with_young_children        515738 non-null  int64  \n",
      " 38  companion_family_with_older_children        515738 non-null  int64  \n",
      " 39  companion_group                             515738 non-null  int8   \n",
      " 40  stay_length_nan                             515738 non-null  int64  \n",
      " 41  room_type_Room                              515738 non-null  int8   \n",
      " 42  room_type_Suite                             515738 non-null  int8   \n",
      " 43  room_type_Studio                            515738 non-null  int8   \n",
      " 44  room_type_Apartment                         515738 non-null  int8   \n",
      " 45  room_type_nan                               515738 non-null  int8   \n",
      "dtypes: float64(10), int32(4), int64(15), int8(17)\n",
      "memory usage: 114.6 MB\n"
     ]
    }
   ],
   "source": [
    "hotels.info()"
   ]
  },
  {
   "cell_type": "code",
   "execution_count": 52,
   "metadata": {
    "execution": {
     "iopub.execute_input": "2022-02-08T18:44:36.519263Z",
     "iopub.status.busy": "2022-02-08T18:44:36.518727Z",
     "iopub.status.idle": "2022-02-08T18:44:36.562679Z",
     "shell.execute_reply": "2022-02-08T18:44:36.562103Z",
     "shell.execute_reply.started": "2022-02-08T18:44:36.519234Z"
    },
    "trusted": true
   },
   "outputs": [],
   "source": [
    "# Теперь выделим тестовую часть\n",
    "train_data = hotels.query('sample == 1').drop(['sample'], axis=1)\n",
    "test_data = hotels.query('sample == 0').drop(['sample'], axis=1)\n",
    "\n",
    "y = train_data.reviewer_score.values            # наш таргет\n",
    "X = train_data.drop(['reviewer_score'], axis=1)"
   ]
  },
  {
   "cell_type": "code",
   "execution_count": 53,
   "metadata": {
    "execution": {
     "iopub.execute_input": "2022-02-08T18:44:36.564406Z",
     "iopub.status.busy": "2022-02-08T18:44:36.563976Z",
     "iopub.status.idle": "2022-02-08T18:44:36.612313Z",
     "shell.execute_reply": "2022-02-08T18:44:36.611682Z",
     "shell.execute_reply.started": "2022-02-08T18:44:36.564379Z"
    },
    "trusted": true
   },
   "outputs": [],
   "source": [
    "# Воспользуемся специальной функцие train_test_split для разбивки тестовых данных\n",
    "# выделим 20% данных на валидацию (параметр test_size)\n",
    "X_train, X_test, y_train, y_test = train_test_split(X, y, test_size=0.2, random_state=RANDOM_SEED)"
   ]
  },
  {
   "cell_type": "code",
   "execution_count": 54,
   "metadata": {
    "execution": {
     "iopub.execute_input": "2022-02-08T18:44:36.614067Z",
     "iopub.status.busy": "2022-02-08T18:44:36.613636Z",
     "iopub.status.idle": "2022-02-08T18:44:36.619417Z",
     "shell.execute_reply": "2022-02-08T18:44:36.618871Z",
     "shell.execute_reply.started": "2022-02-08T18:44:36.614037Z"
    },
    "trusted": true
   },
   "outputs": [
    {
     "data": {
      "text/plain": [
       "((128935, 45), (386803, 45), (386803, 44), (309442, 44), (77361, 44))"
      ]
     },
     "execution_count": 54,
     "metadata": {},
     "output_type": "execute_result"
    }
   ],
   "source": [
    "# проверяем\n",
    "test_data.shape, train_data.shape, X.shape, X_train.shape, X_test.shape"
   ]
  },
  {
   "cell_type": "code",
   "execution_count": 55,
   "metadata": {
    "execution": {
     "iopub.execute_input": "2022-02-08T18:44:36.620931Z",
     "iopub.status.busy": "2022-02-08T18:44:36.620476Z",
     "iopub.status.idle": "2022-02-08T18:44:36.630108Z",
     "shell.execute_reply": "2022-02-08T18:44:36.629422Z",
     "shell.execute_reply.started": "2022-02-08T18:44:36.620894Z"
    },
    "trusted": true
   },
   "outputs": [],
   "source": [
    "# Импортируем необходимые библиотеки:\n",
    "from sklearn.ensemble import RandomForestRegressor # инструмент для создания и обучения модели\n",
    "from sklearn import metrics # инструменты для оценки точности модели"
   ]
  },
  {
   "cell_type": "code",
   "execution_count": 56,
   "metadata": {
    "execution": {
     "iopub.execute_input": "2022-02-08T18:44:36.631625Z",
     "iopub.status.busy": "2022-02-08T18:44:36.631199Z",
     "iopub.status.idle": "2022-02-08T18:44:36.683947Z",
     "shell.execute_reply": "2022-02-08T18:44:36.683132Z",
     "shell.execute_reply.started": "2022-02-08T18:44:36.631597Z"
    },
    "trusted": true
   },
   "outputs": [],
   "source": [
    "# Создаём модель (НАСТРОЙКИ НЕ ТРОГАЕМ)\n",
    "model = RandomForestRegressor(n_estimators=100, verbose=1, n_jobs=-1, random_state=RANDOM_SEED)"
   ]
  },
  {
   "cell_type": "code",
   "execution_count": 57,
   "metadata": {
    "execution": {
     "iopub.execute_input": "2022-02-08T18:44:36.685824Z",
     "iopub.status.busy": "2022-02-08T18:44:36.685163Z",
     "iopub.status.idle": "2022-02-08T18:45:41.406488Z",
     "shell.execute_reply": "2022-02-08T18:45:41.405586Z",
     "shell.execute_reply.started": "2022-02-08T18:44:36.685783Z"
    },
    "trusted": true
   },
   "outputs": [
    {
     "name": "stderr",
     "output_type": "stream",
     "text": [
      "[Parallel(n_jobs=-1)]: Using backend ThreadingBackend with 16 concurrent workers.\n",
      "[Parallel(n_jobs=-1)]: Done  18 tasks      | elapsed:   10.3s\n",
      "[Parallel(n_jobs=-1)]: Done 100 out of 100 | elapsed:   36.8s finished\n",
      "[Parallel(n_jobs=16)]: Using backend ThreadingBackend with 16 concurrent workers.\n",
      "[Parallel(n_jobs=16)]: Done  18 tasks      | elapsed:    0.0s\n",
      "[Parallel(n_jobs=16)]: Done 100 out of 100 | elapsed:    0.4s finished\n"
     ]
    }
   ],
   "source": [
    "# Обучаем модель на тестовом наборе данных\n",
    "model.fit(X_train, y_train)\n",
    "\n",
    "# Используем обученную модель для предсказания рейтинга ресторанов в тестовой выборке.\n",
    "# Предсказанные значения записываем в переменную y_pred\n",
    "y_pred = model.predict(X_test)"
   ]
  },
  {
   "cell_type": "code",
   "execution_count": 58,
   "metadata": {
    "execution": {
     "iopub.execute_input": "2022-02-08T18:45:41.407913Z",
     "iopub.status.busy": "2022-02-08T18:45:41.407709Z",
     "iopub.status.idle": "2022-02-08T18:45:41.414446Z",
     "shell.execute_reply": "2022-02-08T18:45:41.413947Z",
     "shell.execute_reply.started": "2022-02-08T18:45:41.407883Z"
    },
    "trusted": true
   },
   "outputs": [
    {
     "name": "stdout",
     "output_type": "stream",
     "text": [
      "MAPE: 0.8703685351792243\n"
     ]
    }
   ],
   "source": [
    "# Сравниваем предсказанные значения (y_pred) с реальными (y_test), и смотрим насколько они в среднем отличаются\n",
    "# Метрика называется Mean Absolute Error (MAE) и показывает среднее отклонение предсказанных значений от фактических.\n",
    "print('MAPE:', metrics.mean_absolute_error(y_test, y_pred))"
   ]
  },
  {
   "cell_type": "code",
   "execution_count": 59,
   "metadata": {
    "execution": {
     "iopub.execute_input": "2022-02-08T18:45:41.416118Z",
     "iopub.status.busy": "2022-02-08T18:45:41.415495Z",
     "iopub.status.idle": "2022-02-08T18:45:41.864724Z",
     "shell.execute_reply": "2022-02-08T18:45:41.864128Z",
     "shell.execute_reply.started": "2022-02-08T18:45:41.416087Z"
    },
    "trusted": true
   },
   "outputs": [
    {
     "data": {
      "text/plain": [
       "<Axes: >"
      ]
     },
     "execution_count": 59,
     "metadata": {},
     "output_type": "execute_result"
    },
    {
     "data": {
      "image/png": "[encoded data removed]",
      "text/plain": [
       "<Figure size 1000x1000 with 1 Axes>"
      ]
     },
     "metadata": {},
     "output_type": "display_data"
    }
   ],
   "source": [
    "# в RandomForestRegressor есть возможность вывести самые важные признаки для модели\n",
    "plt.rcParams['figure.figsize'] = (10,10)\n",
    "feat_importances = pd.Series(model.feature_importances_, index=X.columns)\n",
    "feat_importances.nlargest(15).plot(kind='barh')"
   ]
  },
  {
   "cell_type": "code",
   "execution_count": 60,
   "metadata": {
    "execution": {
     "iopub.execute_input": "2022-02-08T18:45:41.866062Z",
     "iopub.status.busy": "2022-02-08T18:45:41.86571Z",
     "iopub.status.idle": "2022-02-08T18:45:41.884306Z",
     "shell.execute_reply": "2022-02-08T18:45:41.883577Z",
     "shell.execute_reply.started": "2022-02-08T18:45:41.866035Z"
    },
    "trusted": true
   },
   "outputs": [
    {
     "data": {
      "text/html": [
       "<div>\n",
       "<style scoped>\n",
       "    .dataframe tbody tr th:only-of-type {\n",
       "        vertical-align: middle;\n",
       "    }\n",
       "\n",
       "    .dataframe tbody tr th {\n",
       "        vertical-align: top;\n",
       "    }\n",
       "\n",
       "    .dataframe thead th {\n",
       "        text-align: right;\n",
       "    }\n",
       "</style>\n",
       "<table border=\"1\" class=\"dataframe\">\n",
       "  <thead>\n",
       "    <tr style=\"text-align: right;\">\n",
       "      <th></th>\n",
       "      <th>average_score</th>\n",
       "      <th>total_number_of_reviews</th>\n",
       "      <th>total_number_of_reviews_reviewer_has_given</th>\n",
       "      <th>lat</th>\n",
       "      <th>lng</th>\n",
       "      <th>reviewer_score</th>\n",
       "      <th>city_Milan</th>\n",
       "      <th>city_Amsterdam</th>\n",
       "      <th>city_Barcelona</th>\n",
       "      <th>city_London</th>\n",
       "      <th>...</th>\n",
       "      <th>companion_solo_traveler</th>\n",
       "      <th>companion_family_with_young_children</th>\n",
       "      <th>companion_family_with_older_children</th>\n",
       "      <th>companion_group</th>\n",
       "      <th>stay_length_nan</th>\n",
       "      <th>room_type_Room</th>\n",
       "      <th>room_type_Suite</th>\n",
       "      <th>room_type_Studio</th>\n",
       "      <th>room_type_Apartment</th>\n",
       "      <th>room_type_nan</th>\n",
       "    </tr>\n",
       "  </thead>\n",
       "  <tbody>\n",
       "    <tr>\n",
       "      <th>96014</th>\n",
       "      <td>8.3</td>\n",
       "      <td>3469</td>\n",
       "      <td>9</td>\n",
       "      <td>51.559095</td>\n",
       "      <td>-0.284704</td>\n",
       "      <td>0.0</td>\n",
       "      <td>0</td>\n",
       "      <td>0</td>\n",
       "      <td>0</td>\n",
       "      <td>1</td>\n",
       "      <td>...</td>\n",
       "      <td>0</td>\n",
       "      <td>0</td>\n",
       "      <td>0</td>\n",
       "      <td>1</td>\n",
       "      <td>1</td>\n",
       "      <td>1</td>\n",
       "      <td>0</td>\n",
       "      <td>0</td>\n",
       "      <td>0</td>\n",
       "      <td>0</td>\n",
       "    </tr>\n",
       "    <tr>\n",
       "      <th>10939</th>\n",
       "      <td>9.0</td>\n",
       "      <td>2298</td>\n",
       "      <td>14</td>\n",
       "      <td>51.512196</td>\n",
       "      <td>-0.131838</td>\n",
       "      <td>0.0</td>\n",
       "      <td>0</td>\n",
       "      <td>0</td>\n",
       "      <td>0</td>\n",
       "      <td>1</td>\n",
       "      <td>...</td>\n",
       "      <td>0</td>\n",
       "      <td>0</td>\n",
       "      <td>0</td>\n",
       "      <td>0</td>\n",
       "      <td>1</td>\n",
       "      <td>1</td>\n",
       "      <td>0</td>\n",
       "      <td>0</td>\n",
       "      <td>0</td>\n",
       "      <td>0</td>\n",
       "    </tr>\n",
       "    <tr>\n",
       "      <th>38278</th>\n",
       "      <td>8.8</td>\n",
       "      <td>2768</td>\n",
       "      <td>1</td>\n",
       "      <td>51.508354</td>\n",
       "      <td>0.019886</td>\n",
       "      <td>0.0</td>\n",
       "      <td>0</td>\n",
       "      <td>0</td>\n",
       "      <td>0</td>\n",
       "      <td>1</td>\n",
       "      <td>...</td>\n",
       "      <td>0</td>\n",
       "      <td>0</td>\n",
       "      <td>0</td>\n",
       "      <td>0</td>\n",
       "      <td>1</td>\n",
       "      <td>1</td>\n",
       "      <td>0</td>\n",
       "      <td>0</td>\n",
       "      <td>0</td>\n",
       "      <td>0</td>\n",
       "    </tr>\n",
       "    <tr>\n",
       "      <th>56633</th>\n",
       "      <td>8.0</td>\n",
       "      <td>1069</td>\n",
       "      <td>5</td>\n",
       "      <td>51.505454</td>\n",
       "      <td>-0.226222</td>\n",
       "      <td>0.0</td>\n",
       "      <td>0</td>\n",
       "      <td>0</td>\n",
       "      <td>0</td>\n",
       "      <td>1</td>\n",
       "      <td>...</td>\n",
       "      <td>0</td>\n",
       "      <td>0</td>\n",
       "      <td>0</td>\n",
       "      <td>0</td>\n",
       "      <td>1</td>\n",
       "      <td>1</td>\n",
       "      <td>0</td>\n",
       "      <td>0</td>\n",
       "      <td>0</td>\n",
       "      <td>0</td>\n",
       "    </tr>\n",
       "    <tr>\n",
       "      <th>97234</th>\n",
       "      <td>8.5</td>\n",
       "      <td>2279</td>\n",
       "      <td>4</td>\n",
       "      <td>48.204465</td>\n",
       "      <td>16.370240</td>\n",
       "      <td>0.0</td>\n",
       "      <td>0</td>\n",
       "      <td>0</td>\n",
       "      <td>0</td>\n",
       "      <td>0</td>\n",
       "      <td>...</td>\n",
       "      <td>0</td>\n",
       "      <td>0</td>\n",
       "      <td>0</td>\n",
       "      <td>0</td>\n",
       "      <td>1</td>\n",
       "      <td>1</td>\n",
       "      <td>0</td>\n",
       "      <td>0</td>\n",
       "      <td>0</td>\n",
       "      <td>0</td>\n",
       "    </tr>\n",
       "    <tr>\n",
       "      <th>107074</th>\n",
       "      <td>7.5</td>\n",
       "      <td>1774</td>\n",
       "      <td>8</td>\n",
       "      <td>45.458078</td>\n",
       "      <td>9.192421</td>\n",
       "      <td>0.0</td>\n",
       "      <td>1</td>\n",
       "      <td>0</td>\n",
       "      <td>0</td>\n",
       "      <td>0</td>\n",
       "      <td>...</td>\n",
       "      <td>0</td>\n",
       "      <td>0</td>\n",
       "      <td>0</td>\n",
       "      <td>0</td>\n",
       "      <td>1</td>\n",
       "      <td>1</td>\n",
       "      <td>0</td>\n",
       "      <td>0</td>\n",
       "      <td>0</td>\n",
       "      <td>0</td>\n",
       "    </tr>\n",
       "    <tr>\n",
       "      <th>85627</th>\n",
       "      <td>9.3</td>\n",
       "      <td>174</td>\n",
       "      <td>3</td>\n",
       "      <td>48.863714</td>\n",
       "      <td>2.293476</td>\n",
       "      <td>0.0</td>\n",
       "      <td>0</td>\n",
       "      <td>0</td>\n",
       "      <td>0</td>\n",
       "      <td>0</td>\n",
       "      <td>...</td>\n",
       "      <td>0</td>\n",
       "      <td>0</td>\n",
       "      <td>0</td>\n",
       "      <td>0</td>\n",
       "      <td>1</td>\n",
       "      <td>1</td>\n",
       "      <td>0</td>\n",
       "      <td>0</td>\n",
       "      <td>0</td>\n",
       "      <td>0</td>\n",
       "    </tr>\n",
       "    <tr>\n",
       "      <th>56861</th>\n",
       "      <td>8.2</td>\n",
       "      <td>879</td>\n",
       "      <td>10</td>\n",
       "      <td>51.494851</td>\n",
       "      <td>-0.194554</td>\n",
       "      <td>0.0</td>\n",
       "      <td>0</td>\n",
       "      <td>0</td>\n",
       "      <td>0</td>\n",
       "      <td>1</td>\n",
       "      <td>...</td>\n",
       "      <td>0</td>\n",
       "      <td>0</td>\n",
       "      <td>0</td>\n",
       "      <td>0</td>\n",
       "      <td>1</td>\n",
       "      <td>1</td>\n",
       "      <td>0</td>\n",
       "      <td>0</td>\n",
       "      <td>0</td>\n",
       "      <td>0</td>\n",
       "    </tr>\n",
       "    <tr>\n",
       "      <th>33372</th>\n",
       "      <td>8.8</td>\n",
       "      <td>1693</td>\n",
       "      <td>1</td>\n",
       "      <td>41.392018</td>\n",
       "      <td>2.157066</td>\n",
       "      <td>0.0</td>\n",
       "      <td>0</td>\n",
       "      <td>0</td>\n",
       "      <td>1</td>\n",
       "      <td>0</td>\n",
       "      <td>...</td>\n",
       "      <td>0</td>\n",
       "      <td>0</td>\n",
       "      <td>0</td>\n",
       "      <td>0</td>\n",
       "      <td>1</td>\n",
       "      <td>1</td>\n",
       "      <td>0</td>\n",
       "      <td>0</td>\n",
       "      <td>0</td>\n",
       "      <td>0</td>\n",
       "    </tr>\n",
       "    <tr>\n",
       "      <th>32839</th>\n",
       "      <td>9.1</td>\n",
       "      <td>3611</td>\n",
       "      <td>1</td>\n",
       "      <td>51.508404</td>\n",
       "      <td>-0.106799</td>\n",
       "      <td>0.0</td>\n",
       "      <td>0</td>\n",
       "      <td>0</td>\n",
       "      <td>0</td>\n",
       "      <td>1</td>\n",
       "      <td>...</td>\n",
       "      <td>0</td>\n",
       "      <td>0</td>\n",
       "      <td>0</td>\n",
       "      <td>0</td>\n",
       "      <td>1</td>\n",
       "      <td>0</td>\n",
       "      <td>0</td>\n",
       "      <td>0</td>\n",
       "      <td>0</td>\n",
       "      <td>1</td>\n",
       "    </tr>\n",
       "  </tbody>\n",
       "</table>\n",
       "<p>10 rows × 45 columns</p>\n",
       "</div>"
      ],
      "text/plain": [
       "        average_score  total_number_of_reviews  \\\n",
       "96014             8.3                     3469   \n",
       "10939             9.0                     2298   \n",
       "38278             8.8                     2768   \n",
       "56633             8.0                     1069   \n",
       "97234             8.5                     2279   \n",
       "107074            7.5                     1774   \n",
       "85627             9.3                      174   \n",
       "56861             8.2                      879   \n",
       "33372             8.8                     1693   \n",
       "32839             9.1                     3611   \n",
       "\n",
       "        total_number_of_reviews_reviewer_has_given        lat        lng  \\\n",
       "96014                                            9  51.559095  -0.284704   \n",
       "10939                                           14  51.512196  -0.131838   \n",
       "38278                                            1  51.508354   0.019886   \n",
       "56633                                            5  51.505454  -0.226222   \n",
       "97234                                            4  48.204465  16.370240   \n",
       "107074                                           8  45.458078   9.192421   \n",
       "85627                                            3  48.863714   2.293476   \n",
       "56861                                           10  51.494851  -0.194554   \n",
       "33372                                            1  41.392018   2.157066   \n",
       "32839                                            1  51.508404  -0.106799   \n",
       "\n",
       "        reviewer_score  city_Milan  city_Amsterdam  city_Barcelona  \\\n",
       "96014              0.0           0               0               0   \n",
       "10939              0.0           0               0               0   \n",
       "38278              0.0           0               0               0   \n",
       "56633              0.0           0               0               0   \n",
       "97234              0.0           0               0               0   \n",
       "107074             0.0           1               0               0   \n",
       "85627              0.0           0               0               0   \n",
       "56861              0.0           0               0               0   \n",
       "33372              0.0           0               0               1   \n",
       "32839              0.0           0               0               0   \n",
       "\n",
       "        city_London  ...  companion_solo_traveler  \\\n",
       "96014             1  ...                        0   \n",
       "10939             1  ...                        0   \n",
       "38278             1  ...                        0   \n",
       "56633             1  ...                        0   \n",
       "97234             0  ...                        0   \n",
       "107074            0  ...                        0   \n",
       "85627             0  ...                        0   \n",
       "56861             1  ...                        0   \n",
       "33372             0  ...                        0   \n",
       "32839             1  ...                        0   \n",
       "\n",
       "        companion_family_with_young_children  \\\n",
       "96014                                      0   \n",
       "10939                                      0   \n",
       "38278                                      0   \n",
       "56633                                      0   \n",
       "97234                                      0   \n",
       "107074                                     0   \n",
       "85627                                      0   \n",
       "56861                                      0   \n",
       "33372                                      0   \n",
       "32839                                      0   \n",
       "\n",
       "        companion_family_with_older_children  companion_group  \\\n",
       "96014                                      0                1   \n",
       "10939                                      0                0   \n",
       "38278                                      0                0   \n",
       "56633                                      0                0   \n",
       "97234                                      0                0   \n",
       "107074                                     0                0   \n",
       "85627                                      0                0   \n",
       "56861                                      0                0   \n",
       "33372                                      0                0   \n",
       "32839                                      0                0   \n",
       "\n",
       "        stay_length_nan  room_type_Room  room_type_Suite  room_type_Studio  \\\n",
       "96014                 1               1                0                 0   \n",
       "10939                 1               1                0                 0   \n",
       "38278                 1               1                0                 0   \n",
       "56633                 1               1                0                 0   \n",
       "97234                 1               1                0                 0   \n",
       "107074                1               1                0                 0   \n",
       "85627                 1               1                0                 0   \n",
       "56861                 1               1                0                 0   \n",
       "33372                 1               1                0                 0   \n",
       "32839                 1               0                0                 0   \n",
       "\n",
       "        room_type_Apartment  room_type_nan  \n",
       "96014                     0              0  \n",
       "10939                     0              0  \n",
       "38278                     0              0  \n",
       "56633                     0              0  \n",
       "97234                     0              0  \n",
       "107074                    0              0  \n",
       "85627                     0              0  \n",
       "56861                     0              0  \n",
       "33372                     0              0  \n",
       "32839                     0              1  \n",
       "\n",
       "[10 rows x 45 columns]"
      ]
     },
     "execution_count": 60,
     "metadata": {},
     "output_type": "execute_result"
    }
   ],
   "source": [
    "test_data.sample(10)"
   ]
  },
  {
   "cell_type": "code",
   "execution_count": 61,
   "metadata": {
    "execution": {
     "iopub.execute_input": "2022-02-08T18:45:41.885594Z",
     "iopub.status.busy": "2022-02-08T18:45:41.885388Z",
     "iopub.status.idle": "2022-02-08T18:45:41.892093Z",
     "shell.execute_reply": "2022-02-08T18:45:41.891222Z",
     "shell.execute_reply.started": "2022-02-08T18:45:41.885567Z"
    },
    "trusted": true
   },
   "outputs": [],
   "source": [
    "test_data = test_data.drop(['reviewer_score'], axis=1)"
   ]
  },
  {
   "cell_type": "code",
   "execution_count": 62,
   "metadata": {
    "execution": {
     "iopub.execute_input": "2022-02-08T18:45:41.893332Z",
     "iopub.status.busy": "2022-02-08T18:45:41.893146Z",
     "iopub.status.idle": "2022-02-08T18:45:41.909665Z",
     "shell.execute_reply": "2022-02-08T18:45:41.908885Z",
     "shell.execute_reply.started": "2022-02-08T18:45:41.893309Z"
    },
    "trusted": true
   },
   "outputs": [
    {
     "data": {
      "text/html": [
       "<div>\n",
       "<style scoped>\n",
       "    .dataframe tbody tr th:only-of-type {\n",
       "        vertical-align: middle;\n",
       "    }\n",
       "\n",
       "    .dataframe tbody tr th {\n",
       "        vertical-align: top;\n",
       "    }\n",
       "\n",
       "    .dataframe thead th {\n",
       "        text-align: right;\n",
       "    }\n",
       "</style>\n",
       "<table border=\"1\" class=\"dataframe\">\n",
       "  <thead>\n",
       "    <tr style=\"text-align: right;\">\n",
       "      <th></th>\n",
       "      <th>reviewer_score</th>\n",
       "      <th>id</th>\n",
       "    </tr>\n",
       "  </thead>\n",
       "  <tbody>\n",
       "    <tr>\n",
       "      <th>0</th>\n",
       "      <td>1</td>\n",
       "      <td>488440</td>\n",
       "    </tr>\n",
       "    <tr>\n",
       "      <th>1</th>\n",
       "      <td>10</td>\n",
       "      <td>274649</td>\n",
       "    </tr>\n",
       "    <tr>\n",
       "      <th>2</th>\n",
       "      <td>3</td>\n",
       "      <td>374688</td>\n",
       "    </tr>\n",
       "    <tr>\n",
       "      <th>3</th>\n",
       "      <td>10</td>\n",
       "      <td>404352</td>\n",
       "    </tr>\n",
       "    <tr>\n",
       "      <th>4</th>\n",
       "      <td>9</td>\n",
       "      <td>451596</td>\n",
       "    </tr>\n",
       "    <tr>\n",
       "      <th>...</th>\n",
       "      <td>...</td>\n",
       "      <td>...</td>\n",
       "    </tr>\n",
       "    <tr>\n",
       "      <th>128930</th>\n",
       "      <td>7</td>\n",
       "      <td>495812</td>\n",
       "    </tr>\n",
       "    <tr>\n",
       "      <th>128931</th>\n",
       "      <td>1</td>\n",
       "      <td>315577</td>\n",
       "    </tr>\n",
       "    <tr>\n",
       "      <th>128932</th>\n",
       "      <td>3</td>\n",
       "      <td>511968</td>\n",
       "    </tr>\n",
       "    <tr>\n",
       "      <th>128933</th>\n",
       "      <td>6</td>\n",
       "      <td>303386</td>\n",
       "    </tr>\n",
       "    <tr>\n",
       "      <th>128934</th>\n",
       "      <td>5</td>\n",
       "      <td>103157</td>\n",
       "    </tr>\n",
       "  </tbody>\n",
       "</table>\n",
       "<p>128935 rows × 2 columns</p>\n",
       "</div>"
      ],
      "text/plain": [
       "        reviewer_score      id\n",
       "0                    1  488440\n",
       "1                   10  274649\n",
       "2                    3  374688\n",
       "3                   10  404352\n",
       "4                    9  451596\n",
       "...                ...     ...\n",
       "128930               7  495812\n",
       "128931               1  315577\n",
       "128932               3  511968\n",
       "128933               6  303386\n",
       "128934               5  103157\n",
       "\n",
       "[128935 rows x 2 columns]"
      ]
     },
     "execution_count": 62,
     "metadata": {},
     "output_type": "execute_result"
    }
   ],
   "source": [
    "sample_submission"
   ]
  },
  {
   "cell_type": "code",
   "execution_count": 63,
   "metadata": {
    "execution": {
     "iopub.execute_input": "2022-02-08T18:45:41.912958Z",
     "iopub.status.busy": "2022-02-08T18:45:41.911197Z",
     "iopub.status.idle": "2022-02-08T18:45:44.230401Z",
     "shell.execute_reply": "2022-02-08T18:45:44.229808Z",
     "shell.execute_reply.started": "2022-02-08T18:45:41.912914Z"
    },
    "trusted": true
   },
   "outputs": [
    {
     "name": "stderr",
     "output_type": "stream",
     "text": [
      "[Parallel(n_jobs=16)]: Using backend ThreadingBackend with 16 concurrent workers.\n",
      "[Parallel(n_jobs=16)]: Done  18 tasks      | elapsed:    0.2s\n",
      "[Parallel(n_jobs=16)]: Done 100 out of 100 | elapsed:    0.9s finished\n"
     ]
    }
   ],
   "source": [
    "predict_submission = model.predict(test_data)"
   ]
  },
  {
   "cell_type": "code",
   "execution_count": 64,
   "metadata": {
    "execution": {
     "iopub.execute_input": "2022-02-08T18:45:44.23145Z",
     "iopub.status.busy": "2022-02-08T18:45:44.231245Z",
     "iopub.status.idle": "2022-02-08T18:45:44.237626Z",
     "shell.execute_reply": "2022-02-08T18:45:44.236794Z",
     "shell.execute_reply.started": "2022-02-08T18:45:44.231424Z"
    },
    "trusted": true
   },
   "outputs": [
    {
     "data": {
      "text/plain": [
       "array([8.831, 7.173, 9.26 , ..., 7.883, 9.592, 7.278])"
      ]
     },
     "execution_count": 64,
     "metadata": {},
     "output_type": "execute_result"
    }
   ],
   "source": [
    "predict_submission"
   ]
  },
  {
   "cell_type": "code",
   "execution_count": 65,
   "metadata": {
    "execution": {
     "iopub.execute_input": "2022-02-08T18:45:44.239657Z",
     "iopub.status.busy": "2022-02-08T18:45:44.23939Z",
     "iopub.status.idle": "2022-02-08T18:45:44.249217Z",
     "shell.execute_reply": "2022-02-08T18:45:44.248289Z",
     "shell.execute_reply.started": "2022-02-08T18:45:44.239621Z"
    },
    "trusted": true
   },
   "outputs": [
    {
     "data": {
      "text/plain": [
       "['reviewer_score', 'id']"
      ]
     },
     "execution_count": 65,
     "metadata": {},
     "output_type": "execute_result"
    }
   ],
   "source": [
    "list(sample_submission)"
   ]
  },
  {
   "cell_type": "code",
   "execution_count": 66,
   "metadata": {
    "execution": {
     "iopub.execute_input": "2022-02-08T18:45:44.250806Z",
     "iopub.status.busy": "2022-02-08T18:45:44.250349Z",
     "iopub.status.idle": "2022-02-08T18:45:44.675802Z",
     "shell.execute_reply": "2022-02-08T18:45:44.675241Z",
     "shell.execute_reply.started": "2022-02-08T18:45:44.250765Z"
    },
    "trusted": true
   },
   "outputs": [
    {
     "data": {
      "text/html": [
       "<div>\n",
       "<style scoped>\n",
       "    .dataframe tbody tr th:only-of-type {\n",
       "        vertical-align: middle;\n",
       "    }\n",
       "\n",
       "    .dataframe tbody tr th {\n",
       "        vertical-align: top;\n",
       "    }\n",
       "\n",
       "    .dataframe thead th {\n",
       "        text-align: right;\n",
       "    }\n",
       "</style>\n",
       "<table border=\"1\" class=\"dataframe\">\n",
       "  <thead>\n",
       "    <tr style=\"text-align: right;\">\n",
       "      <th></th>\n",
       "      <th>reviewer_score</th>\n",
       "      <th>id</th>\n",
       "    </tr>\n",
       "  </thead>\n",
       "  <tbody>\n",
       "    <tr>\n",
       "      <th>0</th>\n",
       "      <td>8.831</td>\n",
       "      <td>488440</td>\n",
       "    </tr>\n",
       "    <tr>\n",
       "      <th>1</th>\n",
       "      <td>7.173</td>\n",
       "      <td>274649</td>\n",
       "    </tr>\n",
       "    <tr>\n",
       "      <th>2</th>\n",
       "      <td>9.260</td>\n",
       "      <td>374688</td>\n",
       "    </tr>\n",
       "    <tr>\n",
       "      <th>3</th>\n",
       "      <td>9.744</td>\n",
       "      <td>404352</td>\n",
       "    </tr>\n",
       "    <tr>\n",
       "      <th>4</th>\n",
       "      <td>9.548</td>\n",
       "      <td>451596</td>\n",
       "    </tr>\n",
       "    <tr>\n",
       "      <th>5</th>\n",
       "      <td>8.782</td>\n",
       "      <td>302161</td>\n",
       "    </tr>\n",
       "    <tr>\n",
       "      <th>6</th>\n",
       "      <td>7.920</td>\n",
       "      <td>317079</td>\n",
       "    </tr>\n",
       "    <tr>\n",
       "      <th>7</th>\n",
       "      <td>7.188</td>\n",
       "      <td>13963</td>\n",
       "    </tr>\n",
       "    <tr>\n",
       "      <th>8</th>\n",
       "      <td>8.788</td>\n",
       "      <td>159785</td>\n",
       "    </tr>\n",
       "    <tr>\n",
       "      <th>9</th>\n",
       "      <td>7.764</td>\n",
       "      <td>195089</td>\n",
       "    </tr>\n",
       "  </tbody>\n",
       "</table>\n",
       "</div>"
      ],
      "text/plain": [
       "   reviewer_score      id\n",
       "0           8.831  488440\n",
       "1           7.173  274649\n",
       "2           9.260  374688\n",
       "3           9.744  404352\n",
       "4           9.548  451596\n",
       "5           8.782  302161\n",
       "6           7.920  317079\n",
       "7           7.188   13963\n",
       "8           8.788  159785\n",
       "9           7.764  195089"
      ]
     },
     "execution_count": 66,
     "metadata": {},
     "output_type": "execute_result"
    }
   ],
   "source": [
    "sample_submission['reviewer_score'] = predict_submission\n",
    "sample_submission.to_csv('submission.csv', index=False)\n",
    "sample_submission.head(10)"
   ]
  },
  {
   "cell_type": "code",
   "execution_count": null,
   "metadata": {},
   "outputs": [],
   "source": []
  },
  {
   "cell_type": "code",
   "execution_count": null,
   "metadata": {},
   "outputs": [],
   "source": []
  }
 ],
 "metadata": {
  "kaggle": {
   "accelerator": "none",
   "dataSources": [
    {
     "databundleVersionId": 3207826,
     "sourceId": 34288,
     "sourceType": "competition"
    }
   ],
   "dockerImageVersionId": 30157,
   "isGpuEnabled": false,
   "isInternetEnabled": false,
   "language": "python",
   "sourceType": "notebook"
  },
  "kernelspec": {
   "display_name": "Python 3",
   "language": "python",
   "name": "python3"
  },
  "language_info": {
   "codemirror_mode": {
    "name": "ipython",
    "version": 3
   },
   "file_extension": ".py",
   "mimetype": "text/x-python",
   "name": "python",
   "nbconvert_exporter": "python",
   "pygments_lexer": "ipython3",
   "version": "3.12.7"
  }
 },
 "nbformat": 4,
 "nbformat_minor": 4
}
